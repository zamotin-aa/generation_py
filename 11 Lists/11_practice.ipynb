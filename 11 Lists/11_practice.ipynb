{
 "cells": [
  {
   "cell_type": "code",
   "execution_count": null,
   "metadata": {},
   "outputs": [],
   "source": [
    "mylist = []  # пустой список\n",
    "mylist = list()  # тоже пустой список"
   ]
  },
  {
   "cell_type": "code",
   "execution_count": 1,
   "metadata": {},
   "outputs": [
    {
     "name": "stdout",
     "output_type": "stream",
     "text": [
      "[2, 4, 6, 8, 10]\n",
      "['Python', 'C#', 'C++', 'Java']\n"
     ]
    }
   ],
   "source": [
    "numbers = [2, 4, 6, 8, 10]\n",
    "languages = ['Python', 'C#', 'C++', 'Java']\n",
    "print(numbers)\n",
    "print(languages)"
   ]
  },
  {
   "cell_type": "code",
   "execution_count": 2,
   "metadata": {},
   "outputs": [
    {
     "name": "stdout",
     "output_type": "stream",
     "text": [
      "[0, 1, 2, 3, 4]\n"
     ]
    }
   ],
   "source": [
    "numbers = list(range(5))\n",
    "print(numbers)"
   ]
  },
  {
   "cell_type": "code",
   "execution_count": null,
   "metadata": {},
   "outputs": [],
   "source": [
    "even_numbers = list(range(0, 10, 2))  # список содержит четные числа 0, 2, 4, 6, 8\n",
    "odd_numbers = list(range(1, 10, 2))  # список содержит нечетные числа 1, 3, 5, 7, 9"
   ]
  },
  {
   "cell_type": "code",
   "execution_count": 3,
   "metadata": {},
   "outputs": [
    {
     "name": "stdout",
     "output_type": "stream",
     "text": [
      "['a', 'b', 'c', 'd', 'e']\n"
     ]
    }
   ],
   "source": [
    "s = 'abcde'\n",
    "chars = list(s)  # список содержит символы 'a', 'b', 'c', 'd', 'e'\n",
    "print(chars)"
   ]
  },
  {
   "cell_type": "code",
   "execution_count": 4,
   "metadata": {},
   "outputs": [
    {
     "name": "stdout",
     "output_type": "stream",
     "text": [
      "[0, 1, 3, 14, 2, 7, 9, 8, 10]\n"
     ]
    }
   ],
   "source": [
    "numbers = [0, 1, 3, 14, 2, 7, 9, 8, 10]\n",
    "print(numbers)"
   ]
  },
  {
   "cell_type": "code",
   "execution_count": 5,
   "metadata": {},
   "outputs": [
    {
     "name": "stdout",
     "output_type": "stream",
     "text": [
      "['Michael', 'John', 'Freddie']\n"
     ]
    }
   ],
   "source": [
    "names = ['Michael', 'John', 'Freddie']\n",
    "print(names)"
   ]
  },
  {
   "cell_type": "code",
   "execution_count": 7,
   "metadata": {},
   "outputs": [
    {
     "name": "stdout",
     "output_type": "stream",
     "text": [
      "[1, 2, 3, 4, 5, 6, 7]\n"
     ]
    }
   ],
   "source": [
    "n = int(input())\n",
    "numbers = list(range(1, n+1))\n",
    "print(numbers)"
   ]
  },
  {
   "cell_type": "code",
   "execution_count": 9,
   "metadata": {},
   "outputs": [
    {
     "name": "stdout",
     "output_type": "stream",
     "text": [
      "['a', 'b', 'c', 'd', 'e']\n"
     ]
    }
   ],
   "source": [
    "n = int(input())\n",
    "abc = ['a', 'b', 'c', 'd', 'e', 'f', 'g', 'h', 'i', 'j', 'k', 'l', 'm', 'n', 'o', 'p', 'q', 'r', 's', 't', 'u', 'v', 'w', 'x', 'y', 'z']\n",
    "print(abc[:n])"
   ]
  },
  {
   "cell_type": "code",
   "execution_count": 10,
   "metadata": {},
   "outputs": [
    {
     "name": "stdout",
     "output_type": "stream",
     "text": [
      "5\n",
      "4\n",
      "3\n"
     ]
    }
   ],
   "source": [
    "# Длиной списка называется количество его элементов. \n",
    "# Для того, чтобы посчитать длину списка мы используем встроенную функцию len() (от слова length – длина).\n",
    "\n",
    "# Следующий программный код:\n",
    "\n",
    "numbers = [2, 4, 6, 8, 10]\n",
    "languages = ['Python', 'C#', 'C++', 'Java']\n",
    "\n",
    "print(len(numbers))      # выводим длину списка numbers\n",
    "print(len(languages))    # выводим длину списка languages\n",
    "\n",
    "print(len(['apple', 'banana', 'cherry']))   # выводим длину списка, состоящего из 3 элементов"
   ]
  },
  {
   "cell_type": "code",
   "execution_count": 11,
   "metadata": {},
   "outputs": [
    {
     "name": "stdout",
     "output_type": "stream",
     "text": [
      "Список numbers содержит число 2\n"
     ]
    }
   ],
   "source": [
    "# Оператор in позволяет проверить, содержит ли список некоторый элемент.\n",
    "\n",
    "# Рассмотрим следующий код:\n",
    "\n",
    "numbers = [2, 4, 6, 8, 10]\n",
    "\n",
    "if 2 in numbers:\n",
    "    print('Список numbers содержит число 2')\n",
    "else:\n",
    "    print('Список numbers не содержит число 2')"
   ]
  },
  {
   "cell_type": "code",
   "execution_count": 12,
   "metadata": {},
   "outputs": [
    {
     "name": "stdout",
     "output_type": "stream",
     "text": [
      "['apple', 'apricot', 'банан', 'вишня', 'киви', 'lemon', 'mango']\n"
     ]
    }
   ],
   "source": [
    "fruits = ['apple', 'apricot', 'banana', 'cherry', 'kiwi', 'lemon', 'mango']\n",
    "fruits[2:5] = ['банан', 'вишня', 'киви']\n",
    "\n",
    "print(fruits)"
   ]
  },
  {
   "cell_type": "code",
   "execution_count": 13,
   "metadata": {},
   "outputs": [
    {
     "name": "stdout",
     "output_type": "stream",
     "text": [
      "[1, 2, 3, 4, 5, 6, 7, 8]\n",
      "[7, 8, 7, 8, 7, 8]\n",
      "[0, 0, 0, 0, 0, 0, 0, 0, 0, 0]\n"
     ]
    }
   ],
   "source": [
    "print([1, 2, 3, 4] + [5, 6, 7, 8])\n",
    "print([7, 8] * 3)\n",
    "print([0] * 10)"
   ]
  },
  {
   "cell_type": "code",
   "execution_count": 14,
   "metadata": {},
   "outputs": [
    {
     "name": "stdout",
     "output_type": "stream",
     "text": [
      "[1, 2, 3, 4, 7, 8]\n",
      "[7, 8, 7, 8, 7, 8, 7, 8, 7, 8]\n"
     ]
    }
   ],
   "source": [
    "\n",
    "a = [1, 2, 3, 4]\n",
    "b = [7, 8]\n",
    "a += b   # добавляем к списку a список b\n",
    "b *= 5   # повторяем список b 5 раз \n",
    "\n",
    "print(a)\n",
    "print(b)"
   ]
  },
  {
   "cell_type": "code",
   "execution_count": 15,
   "metadata": {},
   "outputs": [
    {
     "name": "stdout",
     "output_type": "stream",
     "text": [
      "Сумма всех элементов списка = 55\n"
     ]
    }
   ],
   "source": [
    "# Встроенная функция sum() принимает в качестве параметра список чисел и вычисляет сумму его элементов.\n",
    "\n",
    "\n",
    "numbers = [1, 2, 3, 4, 5, 6, 7, 8, 9, 10]\n",
    "print('Сумма всех элементов списка =', sum(numbers))"
   ]
  },
  {
   "cell_type": "code",
   "execution_count": 16,
   "metadata": {},
   "outputs": [
    {
     "name": "stdout",
     "output_type": "stream",
     "text": [
      "Минимальный элемент = -7\n",
      "Максимальный элемент = 3333\n"
     ]
    }
   ],
   "source": [
    "# Встроенные функции min() и max() принимают в качестве параметра список и находят минимальный и максимальный элементы соответственно.\n",
    "\n",
    "\n",
    "\n",
    "numbers = [3, 4, 10, 3333, 12, -7, -5, 4]\n",
    "print('Минимальный элемент =', min(numbers))\n",
    "print('Максимальный элемент =', max(numbers))"
   ]
  },
  {
   "cell_type": "code",
   "execution_count": 17,
   "metadata": {},
   "outputs": [
    {
     "name": "stdout",
     "output_type": "stream",
     "text": [
      "[1, 101, 3, 4, 5, 6, 7]\n"
     ]
    }
   ],
   "source": [
    "numbers = [1, 2, 3, 4, 5, 6, 7]\n",
    "numbers[1] = 101     # изменяем 2 элемент (по индексу 1) списка\n",
    "print(numbers)"
   ]
  },
  {
   "cell_type": "code",
   "execution_count": 18,
   "metadata": {},
   "outputs": [
    {
     "name": "stdout",
     "output_type": "stream",
     "text": [
      "[3, 5, 7, 11, 13]\n"
     ]
    }
   ],
   "source": [
    "primes = [2, 3, 5, 7, 11, 13, 17, 19, 23, 29, 31, 37, 41, 43, 47, 53, 59, 61, 67, 71]\n",
    "\n",
    "print(primes[1:6])"
   ]
  },
  {
   "cell_type": "code",
   "execution_count": 20,
   "metadata": {},
   "outputs": [
    {
     "name": "stdout",
     "output_type": "stream",
     "text": [
      "['Red', 'Orange', 'Yellow', 'Зеленый', 'Blue', 'Indigo', 'Фиолетовый']\n"
     ]
    }
   ],
   "source": [
    "rainbow = ['Red', 'Orange', 'Yellow', 'Green', 'Blue', 'Indigo', 'Violet']\n",
    "rainbow[3] = 'Зеленый'\n",
    "rainbow[6] = 'Фиолетовый'\n",
    "\n",
    "print(rainbow)"
   ]
  },
  {
   "cell_type": "code",
   "execution_count": 21,
   "metadata": {},
   "outputs": [
    {
     "name": "stdout",
     "output_type": "stream",
     "text": [
      "['Lahnda', 'Japanese', 'Russian', 'Portuguese', 'Bengali', 'Arabic', 'Hindi', 'English', 'Spanish', 'Chinese']\n"
     ]
    }
   ],
   "source": [
    "languages = ['Chinese', 'Spanish', 'English', 'Hindi', 'Arabic', 'Bengali', 'Portuguese', 'Russian', 'Japanese', 'Lahnda']\n",
    "\n",
    "print(languages[::-1])"
   ]
  },
  {
   "cell_type": "code",
   "execution_count": 22,
   "metadata": {},
   "outputs": [
    {
     "name": "stdout",
     "output_type": "stream",
     "text": [
      "[1, 2, 3, 1, 2, 3, 6, 6, 6, 6, 6, 6, 6, 6, 6, 7, 8, 9, 10, 11, 12, 13]\n"
     ]
    }
   ],
   "source": [
    "numbers1 = [1, 2, 3]*2\n",
    "numbers2 = [6]*9\n",
    "numbers3 = [7, 8, 9, 10, 11, 12, 13]\n",
    "\n",
    "print(numbers1+numbers2+numbers3)"
   ]
  },
  {
   "cell_type": "code",
   "execution_count": 23,
   "metadata": {},
   "outputs": [
    {
     "name": "stdout",
     "output_type": "stream",
     "text": [
      "[1, 1, 2, 3, 5, 8, 13, 21, 34]\n"
     ]
    }
   ],
   "source": [
    "# Для добавления нового элемента в конец списка используется метод append().\n",
    "\n",
    "\n",
    "numbers = [1, 1, 2, 3, 5, 8, 13]  # создаем список\n",
    "\n",
    "numbers.append(21)  # добавляем число 21 в конец списка\n",
    "numbers.append(34)  # добавляем число 34 в конец списка\n",
    "\n",
    "print(numbers)"
   ]
  },
  {
   "cell_type": "code",
   "execution_count": 24,
   "metadata": {},
   "outputs": [
    {
     "name": "stdout",
     "output_type": "stream",
     "text": [
      "[1, 2, 3]\n"
     ]
    }
   ],
   "source": [
    "numbers = []  # создаем пустой список\n",
    "\n",
    "numbers.append(1)\n",
    "numbers.append(2)\n",
    "numbers.append(3)\n",
    "\n",
    "print(numbers)"
   ]
  },
  {
   "cell_type": "code",
   "execution_count": 25,
   "metadata": {},
   "outputs": [
    {
     "name": "stdout",
     "output_type": "stream",
     "text": [
      "[0, 2, 4, 6, 8, 10, 1, 3, 5, 7]\n"
     ]
    }
   ],
   "source": [
    "# Можно также расширить список другим списком путем вызова метода extend().\n",
    "\n",
    "\n",
    "\n",
    "numbers = [0, 2, 4, 6, 8, 10]\n",
    "odds = [1, 3, 5, 7]\n",
    "\n",
    "numbers.extend(odds)\n",
    "print(numbers)"
   ]
  },
  {
   "cell_type": "code",
   "execution_count": 26,
   "metadata": {},
   "outputs": [
    {
     "name": "stdout",
     "output_type": "stream",
     "text": [
      "['iq option', 'stepik', 'beegeek', 'python']\n",
      "['iq option', 'stepik', 'beegeek', 'p', 'y', 't', 'h', 'o', 'n']\n"
     ]
    }
   ],
   "source": [
    "# Отличие между методами append() и extend() проявляется при добавлении строки к списку.\n",
    "\n",
    "\n",
    "\n",
    "words1 = ['iq option', 'stepik', 'beegeek']\n",
    "words2 = ['iq option', 'stepik', 'beegeek']\n",
    "\n",
    "words1.append('python')\n",
    "words2.extend('python')\n",
    "\n",
    "print(words1)\n",
    "print(words2)\n",
    "\n",
    "# Метод append() добавляет строку 'python' целиком к списку, а метод extend() \n",
    "# разбивает строку 'python' на  символы 'p', 'y', 't', 'h', 'o', 'n' \n",
    "# и их добавляет в качестве элементов списка. "
   ]
  },
  {
   "cell_type": "code",
   "execution_count": 27,
   "metadata": {},
   "outputs": [
    {
     "name": "stdout",
     "output_type": "stream",
     "text": [
      "[1, 2, 3, 4, 5, 7, 8, 9]\n"
     ]
    }
   ],
   "source": [
    "# С помощью оператора del можно удалять элементы списка по определенному индексу.\n",
    "\n",
    "\n",
    "\n",
    "numbers = [1, 2, 3, 4, 5, 6, 7, 8, 9]\n",
    "del numbers[5]    # удаляем элемент имеющий индекс 5\n",
    "\n",
    "print(numbers)"
   ]
  },
  {
   "cell_type": "code",
   "execution_count": 28,
   "metadata": {},
   "outputs": [
    {
     "name": "stdout",
     "output_type": "stream",
     "text": [
      "[1, 2, 8, 9]\n"
     ]
    }
   ],
   "source": [
    "numbers = [1, 2, 3, 4, 5, 6, 7, 8, 9]\n",
    "del numbers[2:7]    # удаляем элементы с 2 по 6 включительно\n",
    "\n",
    "print(numbers)"
   ]
  },
  {
   "cell_type": "code",
   "execution_count": 29,
   "metadata": {},
   "outputs": [
    {
     "name": "stdout",
     "output_type": "stream",
     "text": [
      "[2, 4, 6, 8]\n"
     ]
    }
   ],
   "source": [
    "numbers = [1, 2, 3, 4, 5, 6, 7, 8, 9]\n",
    "del numbers[::2]\n",
    "\n",
    "print(numbers)"
   ]
  },
  {
   "cell_type": "code",
   "execution_count": 30,
   "metadata": {},
   "outputs": [
    {
     "name": "stdout",
     "output_type": "stream",
     "text": [
      "[4, 2, 8, 6, 5, 7, 1]\n"
     ]
    }
   ],
   "source": [
    "numbers = [4, 2, 8, 6, 5]\n",
    "numbers.append(7)\n",
    "numbers.append(1)\n",
    "print(numbers)"
   ]
  },
  {
   "cell_type": "code",
   "execution_count": 31,
   "metadata": {},
   "outputs": [
    {
     "name": "stdout",
     "output_type": "stream",
     "text": [
      "[4, 2, 1, 2, 3, 7, 17, 777]\n"
     ]
    }
   ],
   "source": [
    "numbers = [4, 2]\n",
    "numbers.extend([1, 2, 3])\n",
    "numbers.extend([7, 17, 777])\n",
    "print(numbers)"
   ]
  },
  {
   "cell_type": "code",
   "execution_count": 32,
   "metadata": {},
   "outputs": [
    {
     "name": "stdout",
     "output_type": "stream",
     "text": [
      "['red', 'orange', 'green', 'blue', 'purple', 'brown']\n"
     ]
    }
   ],
   "source": []
  },
  {
   "cell_type": "code",
   "execution_count": 39,
   "metadata": {},
   "outputs": [
    {
     "name": "stdout",
     "output_type": "stream",
     "text": [
      "50\n",
      "5\n",
      "[5, 7, 6, 16, 14, 2, 1, 15, 1, 9, 14, 10, 2, 1, 12, 6, 5, 14, 12, 2, 8, 14, 6, 0, 0, 12, 10, 10, 11, 1, 5, 8, 10, 10, 16, 8, 0, 1, 16, 4, 5, 12, 16, 11, 4, 10, 14, 3, 6, 2]\n",
      "NO\n",
      "[6, 3, 14, 10, 4, 11, 16, 12, 5, 4, 16, 1, 0, 8, 16, 10, 10, 8, 5, 1, 11, 10, 10, 12, 0, 0, 6, 14, 8, 2, 12, 14, 5, 6, 12, 1, 2, 10, 14, 9, 1, 15, 1, 2, 14, 16, 6, 7]\n"
     ]
    }
   ],
   "source": [
    "# Дополните приведенный код, чтобы он:\n",
    "\n",
    "# Вывел длину списка;\n",
    "# Вывел последний элемент списка;\n",
    "# Вывел список в обратном порядке (вспоминаем срезы);\n",
    "# Вывел YES, если список содержит числа 5 и 17, и NO в противном случае;\n",
    "# Вывел список с удаленными первым и последним элементами.\n",
    "# Примечание. Каждый вывод осуществлять с новой строки.\n",
    "\n",
    "numbers = [2, 6, 3, 14, 10, 4, 11, 16, 12, 5, 4, 16, 1, 0, 8, 16, 10, 10, 8, 5, 1, 11, 10, 10, 12, 0, 0, 6, 14, 8, 2, 12, 14, 5, 6, 12, 1, 2, 10, 14, 9, 1, 15, 1, 2, 14, 16, 6, 7, 5]\n",
    "print(len(numbers)) # Вывел длину списка;\n",
    "print(numbers[-1]) # Вывел последний элемент списка;\n",
    "print(numbers[::-1]) # Вывел список в обратном порядке (вспоминаем срезы);\n",
    "if 5 and 17 in numbers: #Вывел YES, если список содержит числа 5 и 17, и NO в противном случае;\n",
    "    print('YES')\n",
    "else:\n",
    "    print('NO')\n",
    "print(numbers[1:-1])# Вывел список с удаленными первым и последним элементами. "
   ]
  },
  {
   "cell_type": "code",
   "execution_count": 40,
   "metadata": {},
   "outputs": [
    {
     "name": "stdout",
     "output_type": "stream",
     "text": [
      "['fgsdfg', 'sdfgsdfg', 'sdfgsdf', 'hjkhjk', 'werwe']\n"
     ]
    }
   ],
   "source": [
    "# На вход программе подается натуральное число n, а затем n строк. \n",
    "# Напишите программу, которая создает из указанных строк список и выводит его.\n",
    "\n",
    "n = int(input())\n",
    "mylist = []\n",
    "for i in range(n):\n",
    "    k = str(input())\n",
    "    mylist.append(k)\n",
    "print(mylist)\n",
    "    \n",
    "    \n",
    "\n"
   ]
  },
  {
   "cell_type": "code",
   "execution_count": 45,
   "metadata": {},
   "outputs": [
    {
     "name": "stdout",
     "output_type": "stream",
     "text": [
      "['a', 'bb', 'ccc', 'dddd', 'eeeee', 'ffffff', 'ggggggg', 'hhhhhhhh', 'iiiiiiiii', 'jjjjjjjjjj', 'kkkkkkkkkkk', 'llllllllllll', 'mmmmmmmmmmmmm', 'nnnnnnnnnnnnnn', 'ooooooooooooooo', 'pppppppppppppppp', 'qqqqqqqqqqqqqqqqq', 'rrrrrrrrrrrrrrrrrr', 'sssssssssssssssssss', 'tttttttttttttttttttt', 'uuuuuuuuuuuuuuuuuuuuu', 'vvvvvvvvvvvvvvvvvvvvvv', 'wwwwwwwwwwwwwwwwwwwwwww', 'xxxxxxxxxxxxxxxxxxxxxxxx', 'yyyyyyyyyyyyyyyyyyyyyyyyy', 'zzzzzzzzzzzzzzzzzzzzzzzzzz']\n"
     ]
    }
   ],
   "source": [
    "# Напишите программу, выводящую следующий список:\n",
    "\n",
    "# ['a', 'bb', 'ccc', 'dddd', 'eeeee', 'ffffff', ...]\n",
    "# Формат выходных данных\n",
    "# Программа должна вывести указанный список.\n",
    "\n",
    "# Примечание. Последний элемент списка состоит из 26 символов z.\n",
    "\n",
    "abc = ['a', 'b', 'c', 'd', 'e', 'f', 'g', 'h', 'i', 'j', 'k', 'l', 'm', 'n', 'o', 'p', 'q', 'r', 's', 't', 'u', 'v', 'w', 'x', 'y', 'z']\n",
    "mylist = []\n",
    "for i in range(len(abc)):\n",
    "    mylist.append(abc[i]*(i+1))\n",
    "print(mylist)"
   ]
  },
  {
   "cell_type": "code",
   "execution_count": 46,
   "metadata": {},
   "outputs": [
    {
     "name": "stdout",
     "output_type": "stream",
     "text": [
      "[1728, 175616, 157464, 614125, 328509, 103823]\n"
     ]
    }
   ],
   "source": [
    "# На вход программе подается натуральное число n, а затем n целых чисел. \n",
    "# Напишите программу, которая создает из указанных чисел список их кубов.\n",
    "\n",
    "n = int(input())\n",
    "mylist = []\n",
    "for i in range(n):\n",
    "    k = int(input())\n",
    "    mylist.append(k*k*k)\n",
    "print(mylist)"
   ]
  },
  {
   "cell_type": "code",
   "execution_count": 51,
   "metadata": {},
   "outputs": [
    {
     "name": "stdout",
     "output_type": "stream",
     "text": [
      "[1, 3, 9, 27]\n"
     ]
    }
   ],
   "source": [
    "n = int(input())\n",
    "mylist = []\n",
    "for i in range(1, n+1):\n",
    "    if n%i == 0:\n",
    "        mylist.append(i)\n",
    "print(mylist)"
   ]
  },
  {
   "cell_type": "code",
   "execution_count": 2,
   "metadata": {},
   "outputs": [
    {
     "name": "stdout",
     "output_type": "stream",
     "text": [
      "[1, 2, 3, 4, 5]\n",
      "[3, 5, 7, 9]\n"
     ]
    }
   ],
   "source": [
    "# На вход программе подается натуральное число\n",
    "# n целых чисел. Напишите программу, которая создает из указанных чисел список, состоящий из сумм соседних чисел\n",
    "\n",
    "# 1.вводим n чисел, через int\n",
    "# 2. Создаем два списка,  напр. sp1, sp2\n",
    "# 3. Создаем for, граница (n)\n",
    "# 4. в нем вводим число, напр. х, через int и добавляем в первый список с помощью append \n",
    "# 5. А теперь самое главное: создаем еще один FOR, ГРАНИЦЫ   (len(sp1) - 1) и создаем мы его БЕЗ ОТСТУПОВ!\n",
    "# 6. под ним во второй список (с помощью append) добавляем (sp1[i] + sp1 [i + 1]) - во втором for я так же брала i\n",
    "# 7. print второй список (без отступов)\n",
    "\n",
    "n = int(input())\n",
    "mylist1 = []\n",
    "mylist2 = []\n",
    "for i in range(n):\n",
    "    k = int(input())\n",
    "    mylist1.append(k)\n",
    "# print(mylist1)\n",
    "\n",
    "for i in range(len(mylist1)-1):\n",
    "        k = mylist1[i]+mylist1[i+1]\n",
    "        mylist2.append(k)\n",
    "print(mylist2)"
   ]
  },
  {
   "cell_type": "code",
   "execution_count": 5,
   "metadata": {},
   "outputs": [
    {
     "name": "stdout",
     "output_type": "stream",
     "text": [
      "[1, 3, 4, 5, 6, 7]\n"
     ]
    }
   ],
   "source": [
    "# На вход программе подается натуральное число n целых чисел. \n",
    "# Напишите программу, которая создает из указанных чисел список, затем удаляет все \n",
    "# элементы стоящие по нечетным индексам, а затем выводит полученный список.\n",
    "\n",
    "\n",
    "n = int(input())\n",
    "mylist1 = []\n",
    "for i in range(n):\n",
    "    k = int(input())\n",
    "    mylist1.append(k)\n",
    "del mylist1[1::2] #удалить все нечетные индексы\n",
    "print(mylist1)\n",
    "\n"
   ]
  },
  {
   "cell_type": "code",
   "execution_count": 18,
   "metadata": {},
   "outputs": [
    {
     "name": "stdout",
     "output_type": "stream",
     "text": [
      "['y', 'ttt', 'uu', 'fhfgh', 'ttryrty']\n",
      "tuht\n"
     ]
    }
   ],
   "source": [
    "# На вход программе подается натуральное число n строк, а затем число k. \n",
    "# Напишите программу, которая выводит k-ую букву из введенных строк на одной строке без пробелов.\n",
    "\n",
    "n = int(input())\n",
    "# k = int(input())\n",
    "mylist1 = []\n",
    "mylist2 = []\n",
    "sum = \"\"\n",
    "for i in range(n):\n",
    "    k1 = str(input())\n",
    "    mylist1.append(k1)\n",
    "# print(mylist1)\n",
    "\n",
    "k = int(input())\n",
    "\n",
    "for i in range(n):\n",
    "    if len(mylist1[i]) >= k:\n",
    "       temp = mylist1[i]\n",
    "       sum = sum + temp[k-1]\n",
    "\n",
    "print(sum)"
   ]
  },
  {
   "cell_type": "code",
   "execution_count": 20,
   "metadata": {},
   "outputs": [
    {
     "name": "stdout",
     "output_type": "stream",
     "text": [
      "['sdsdffsd', 'fhgf', 'srr', 'fghfg', 'erw']\n",
      "['s', 'd', 's', 'd', 'f', 'f', 's', 'd', 'f', 'h', 'g', 'f', 's', 'r', 'r', 'f', 'g', 'h', 'f', 'g', 'e', 'r', 'w']\n"
     ]
    }
   ],
   "source": [
    "# На вход программе подается натуральное число n а затем n строк. \n",
    "# Напишите программу, которая создает список из символов всех строк, а затем выводит его.\n",
    "\n",
    "n = int(input())\n",
    "# k = int(input())\n",
    "mylist1 = []\n",
    "mylist2 = []\n",
    "# sum = \"\"\n",
    "for i in range(n):\n",
    "    k1 = str(input())\n",
    "    mylist1.append(k1)\n",
    "# print(mylist1)\n",
    "\n",
    "for i in range(n):\n",
    "    temp = mylist1[i]\n",
    "    for j in range(len(mylist1[i])):\n",
    "        mylist2.append(temp[j])\n",
    "print(mylist2)\n",
    "            \n"
   ]
  },
  {
   "cell_type": "code",
   "execution_count": 1,
   "metadata": {},
   "outputs": [
    {
     "name": "stdout",
     "output_type": "stream",
     "text": [
      "0\n",
      "1\n",
      "2\n",
      "3\n",
      "4\n",
      "5\n",
      "6\n",
      "7\n",
      "8\n",
      "9\n",
      "10\n"
     ]
    }
   ],
   "source": [
    "numbers = [0, 1, 2, 3, 4, 5, 6, 7, 8, 9, 10]\n",
    "\n",
    "for i in range(len(numbers)):\n",
    "    print(numbers[i])"
   ]
  },
  {
   "cell_type": "code",
   "execution_count": 2,
   "metadata": {},
   "outputs": [
    {
     "name": "stdout",
     "output_type": "stream",
     "text": [
      "0\n",
      "1\n",
      "2\n",
      "3\n",
      "4\n",
      "5\n",
      "6\n",
      "7\n",
      "8\n",
      "9\n",
      "10\n"
     ]
    }
   ],
   "source": [
    "numbers = [0, 1, 2, 3, 4, 5, 6, 7, 8, 9, 10]\n",
    "\n",
    "for num in numbers:\n",
    "    print(num)"
   ]
  },
  {
   "cell_type": "code",
   "execution_count": 3,
   "metadata": {},
   "outputs": [
    {
     "name": "stdout",
     "output_type": "stream",
     "text": [
      "0 1 2 3 4 5 6 7 8 9 10\n"
     ]
    }
   ],
   "source": [
    "numbers = [0, 1, 2, 3, 4, 5, 6, 7, 8, 9, 10]\n",
    "\n",
    "print(*numbers)"
   ]
  },
  {
   "cell_type": "code",
   "execution_count": 4,
   "metadata": {},
   "outputs": [
    {
     "name": "stdout",
     "output_type": "stream",
     "text": [
      "0\n",
      "1\n",
      "2\n",
      "3\n",
      "4\n",
      "5\n",
      "6\n",
      "7\n",
      "8\n",
      "9\n",
      "10\n"
     ]
    }
   ],
   "source": [
    "numbers = [0, 1, 2, 3, 4, 5, 6, 7, 8, 9, 10]\n",
    "\n",
    "print(*numbers, sep='\\n')"
   ]
  },
  {
   "cell_type": "code",
   "execution_count": 5,
   "metadata": {},
   "outputs": [
    {
     "name": "stdout",
     "output_type": "stream",
     "text": [
      "P y t h o n\n",
      "\n",
      "P\n",
      "y\n",
      "t\n",
      "h\n",
      "o\n",
      "n\n"
     ]
    }
   ],
   "source": [
    "s = 'Python'\n",
    "\n",
    "print(*s)\n",
    "print()\n",
    "print(*s, sep='\\n')"
   ]
  },
  {
   "cell_type": "code",
   "execution_count": 8,
   "metadata": {},
   "outputs": [
    {
     "name": "stdout",
     "output_type": "stream",
     "text": [
      "82649673\n"
     ]
    }
   ],
   "source": [
    "numbers = [1, 78, 23, -65, 99, 9089, 34, -32, 0, -67, 1, 11, 111]\n",
    "sum = 0\n",
    "for i in range(len(numbers)):\n",
    "    sum = sum + numbers[i]**2\n",
    "print(sum)"
   ]
  },
  {
   "cell_type": "code",
   "execution_count": 13,
   "metadata": {},
   "outputs": [
    {
     "name": "stdout",
     "output_type": "stream",
     "text": [
      "5\n",
      "4\n",
      "5\n",
      "6\n",
      "\n",
      "36\n",
      "25\n",
      "36\n",
      "49\n"
     ]
    }
   ],
   "source": [
    "n = int(input())\n",
    "mylist1 = []\n",
    "for i in range(n):\n",
    "    k1 = int(input())\n",
    "    mylist1.append(k1*k1 + 2*k1 + 1)\n",
    "    print(k1, sep='\\n')\n",
    "print()\n",
    "print(*mylist1, sep='\\n')"
   ]
  },
  {
   "cell_type": "code",
   "execution_count": null,
   "metadata": {},
   "outputs": [],
   "source": [
    "n = int(input())\n",
    "mylist1 = []\n",
    "for i in range(n):\n",
    "    k1 = int(input())\n",
    "    mylist1.append(k1)\n",
    "mylist1.remove(max(mylist1))\n",
    "mylist1.remove(min(mylist1))\n",
    "print(*mylist1, sep='\\n')"
   ]
  },
  {
   "cell_type": "code",
   "execution_count": 14,
   "metadata": {},
   "outputs": [],
   "source": [
    "n = int(input())\n",
    "mylist1 = []\n",
    "for i in range(n):\n",
    "    k1 = str(input())\n",
    "    if k1 not in mylist1:\n",
    "        mylist1.append(k1)\n",
    "print(*mylist1, sep='\\n')"
   ]
  },
  {
   "cell_type": "code",
   "execution_count": 16,
   "metadata": {},
   "outputs": [
    {
     "name": "stdout",
     "output_type": "stream",
     "text": [
      "sdf\n",
      "sdf\n",
      "sdf\n",
      "fghfgh\n",
      "ghj\n",
      "sdf\n",
      "sdf\n",
      "sdf\n",
      "fghfgh\n",
      "ghj\n",
      "sdf\n",
      "sdf\n",
      "sdf\n",
      "fghfgh\n",
      "ghj\n",
      "sdf\n",
      "sdf\n",
      "sdf\n",
      "fghfgh\n",
      "ghj\n",
      "sdf\n",
      "sdf\n",
      "sdf\n",
      "fghfgh\n",
      "ghj\n"
     ]
    }
   ],
   "source": [
    "n = int(input())\n",
    "mylist1 = []\n",
    "for i in range(n):\n",
    "    k1 = str(input())\n",
    "    mylist1.append(k1)\n",
    "search = str(input())\n",
    "for i in range(n):\n",
    "    if search.lower() in mylist1[i].lower():\n",
    "        print(mylist1[i], sep='\\n')"
   ]
  },
  {
   "cell_type": "code",
   "execution_count": null,
   "metadata": {},
   "outputs": [],
   "source": [
    "# На вход программе подается натуральное число n, затем n строк, затем число \n",
    "# k — количество поисковых запросов, затем k строк — поисковые запросы. \n",
    "# Напишите программу, которая выводит все введенные строки, в которых встречаются одновременно все поисковые запросы.\n",
    "\n",
    "# Формат выходных данных\n",
    "# Программа должна вывести все введенные строки, в которых встречаются все поисковые запросы.\n",
    "\n",
    "# Примечание. Поиск не должен быть чувствителен к регистру символов.\n",
    "\n",
    "n = int(input())\n",
    "mylist1 = []\n",
    "for i in range(n):\n",
    "    k1 = str(input())\n",
    "    mylist1.append(k1)\n",
    "k = int(input())\n",
    "mylist2 = []\n",
    "for i in range(k):\n",
    "    k1 = str(input())\n",
    "    mylist2.append(k1)\n",
    "\n",
    "mylist3 = []\n",
    "\n",
    "for i in range(n):\n",
    "    count = 0\n",
    "    for j in range(k):\n",
    "        if mylist2[j].lower() in mylist1[i].lower():\n",
    "            count +=1\n",
    "    if count == len(mylist2):\n",
    "        k1 = mylist1[i]\n",
    "        mylist3.append(k1)\n",
    "print(*mylist3, sep='\\n')"
   ]
  },
  {
   "cell_type": "code",
   "execution_count": null,
   "metadata": {},
   "outputs": [],
   "source": [
    "n = int(input())\n",
    "mylist1 = []\n",
    "mylist2 = []\n",
    "mylist3 = []\n",
    "for i in range(n):\n",
    "    k1 = int(input())\n",
    "    if (k1<0):\n",
    "        mylist1.append(k1)\n",
    "    elif k1==0:\n",
    "        mylist2.append(k1)\n",
    "    else:\n",
    "        mylist3.append(k1)\n",
    "print(*mylist1, sep='\\n')\n",
    "print(*mylist2, sep='\\n')\n",
    "print(*mylist3, sep='\\n')\n"
   ]
  },
  {
   "cell_type": "code",
   "execution_count": null,
   "metadata": {},
   "outputs": [],
   "source": [
    "# Методы строк"
   ]
  },
  {
   "cell_type": "code",
   "execution_count": 17,
   "metadata": {},
   "outputs": [
    {
     "name": "stdout",
     "output_type": "stream",
     "text": [
      "['Python', 'is', 'the', 'most', 'powerful', 'language']\n"
     ]
    }
   ],
   "source": [
    "# Метод split() разбивает строку на слова, используя в качестве разделителя последовательность пробельных символов.\n",
    "\n",
    "s = 'Python is the most powerful language'\n",
    "words = s.split()\n",
    "print(words)"
   ]
  },
  {
   "cell_type": "code",
   "execution_count": 18,
   "metadata": {},
   "outputs": [],
   "source": [
    "numbers = input().split()\n"
   ]
  },
  {
   "cell_type": "code",
   "execution_count": 19,
   "metadata": {},
   "outputs": [
    {
     "name": "stdout",
     "output_type": "stream",
     "text": [
      "['192', '168', '1', '24']\n"
     ]
    }
   ],
   "source": [
    "ip = '192.168.1.24'\n",
    "numbers = ip.split('.')  # указываем явно разделитель\n",
    "print(numbers)"
   ]
  },
  {
   "cell_type": "code",
   "execution_count": 20,
   "metadata": {},
   "outputs": [
    {
     "name": "stdout",
     "output_type": "stream",
     "text": [
      "Python is the most powerful language\n"
     ]
    }
   ],
   "source": [
    "# Метод join() собирает строку из элементов списка, используя в качестве разделителя строку, к которой применяется метод.\n",
    "\n",
    "words = ['Python', 'is', 'the', 'most', 'powerful', 'language']\n",
    "s = ' '.join(words)\n",
    "print(s)"
   ]
  },
  {
   "cell_type": "code",
   "execution_count": 21,
   "metadata": {},
   "outputs": [
    {
     "name": "stdout",
     "output_type": "stream",
     "text": [
      "Мы*учим*язык*Python\n",
      "Мы-учим-язык-Python\n",
      "Мы?учим?язык?Python\n",
      "Мы!учим!язык!Python\n",
      "Мы*****учим*****язык*****Python\n",
      "МыabcучимabcязыкabcPython\n",
      "Мы123учим123язык123Python\n"
     ]
    }
   ],
   "source": [
    "words = ['Мы', 'учим', 'язык', 'Python']\n",
    "print('*'.join(words))\n",
    "print('-'.join(words))\n",
    "print('?'.join(words))\n",
    "print('!'.join(words))\n",
    "print('*****'.join(words))\n",
    "print('abc'.join(words))\n",
    "print('123'.join(words))"
   ]
  },
  {
   "cell_type": "code",
   "execution_count": 22,
   "metadata": {},
   "outputs": [
    {
     "name": "stdout",
     "output_type": "stream",
     "text": [
      "['Python', 'is', 'the', 'most', 'powerful', 'language']\n",
      "['Python', '', '', '', 'is', '', '', 'the', '', 'most', '', 'powerful', '', 'language']\n"
     ]
    }
   ],
   "source": [
    "s = 'Python    is   the  most  powerful  language'\n",
    "words1 = s.split()\n",
    "words2 = s.split(' ')\n",
    "print(words1)\n",
    "print(words2)"
   ]
  },
  {
   "cell_type": "code",
   "execution_count": 23,
   "metadata": {},
   "outputs": [
    {
     "name": "stdout",
     "output_type": "stream",
     "text": [
      "B**E**E**G**E**E**K\n"
     ]
    }
   ],
   "source": [
    "s = 'BEEGEEK'\n",
    "chars = list(s)\n",
    "s = '**'.join(chars)\n",
    "print(s)"
   ]
  },
  {
   "cell_type": "code",
   "execution_count": 26,
   "metadata": {},
   "outputs": [
    {
     "name": "stdout",
     "output_type": "stream",
     "text": [
      "Python\n",
      "is\n",
      "the\n",
      "most\n",
      "powerful\n",
      "languag\n"
     ]
    }
   ],
   "source": [
    "s = str(input())\n",
    "words = s.split()\n",
    "print(*words, sep='\\n')"
   ]
  },
  {
   "cell_type": "code",
   "execution_count": 39,
   "metadata": {},
   "outputs": [
    {
     "name": "stdout",
     "output_type": "stream",
     "text": [
      "s.=.s.w.=.s.f.=.[.f.w.i.w.p.e."
     ]
    }
   ],
   "source": [
    "s = str(input())\n",
    "words = s.split()\n",
    "first_chars = [word[0] for word in words]\n",
    "print(*first_chars, sep='.', end='.')"
   ]
  },
  {
   "cell_type": "code",
   "execution_count": null,
   "metadata": {},
   "outputs": [],
   "source": [
    "s = str(input())\n",
    "words = s.split('\\\\')  # указываем явно разделитель\n",
    "print(*words, sep='\\n')"
   ]
  },
  {
   "cell_type": "code",
   "execution_count": 41,
   "metadata": {},
   "outputs": [
    {
     "name": "stdout",
     "output_type": "stream",
     "text": [
      "*\n",
      "**\n",
      "***\n",
      "****\n",
      "*****\n"
     ]
    }
   ],
   "source": [
    "s = str(input()).split()\n",
    "for i in range(len(s)):\n",
    "    k = int(s[i])\n",
    "    print('*'*k, sep='\\n')\n",
    "\n"
   ]
  },
  {
   "cell_type": "code",
   "execution_count": 44,
   "metadata": {},
   "outputs": [
    {
     "name": "stdout",
     "output_type": "stream",
     "text": [
      "['192', '168', '0', '3']\n"
     ]
    }
   ],
   "source": [
    "s = str(input())\n",
    "words = s.split('.')  # указываем явно разделитель\n",
    "count = 1\n",
    "for i in range(len(words)):\n",
    "    if int(words[i]) >= 0 and int(words[i])<=255:\n",
    "        count *=1\n",
    "    else:\n",
    "        count*=0\n",
    "if count == 0:\n",
    "    print('НЕТ')\n",
    "else:\n",
    "    print('ДА')\n",
    "    "
   ]
  },
  {
   "cell_type": "code",
   "execution_count": null,
   "metadata": {},
   "outputs": [],
   "source": [
    "s = str(input())\n",
    "sepa = str(input())\n",
    "print(sepa.join(s))"
   ]
  },
  {
   "cell_type": "code",
   "execution_count": null,
   "metadata": {},
   "outputs": [],
   "source": [
    "# Внешний для i в диапазоне(длина(список_введённых_цифр))\n",
    "\n",
    "#   Внутренний для j в диапазоне(i+1, длина(список_введённых_цифр))\n",
    "\n",
    "#     Если список_введённых_цифрх[i] == список_введённых_цифр[j]:\n",
    "\n",
    "#         счётчик +1.\n",
    "\n",
    "s = str(input()).split()\n",
    "count = 0\n",
    "for i in range(len(s)):\n",
    "    for j in range(i+1, len(s)):\n",
    "        if s[i] == s[j]:\n",
    "            count+=1\n",
    "print(count)"
   ]
  },
  {
   "cell_type": "code",
   "execution_count": 45,
   "metadata": {},
   "outputs": [
    {
     "name": "stdout",
     "output_type": "stream",
     "text": [
      "['Gvido', 'Roman', 'Timur']\n",
      "['Anders', 'Gvido', 'Roman', 'Timur']\n",
      "['Anders', 'Gvido', 'Roman', 'Josef', 'Timur']\n"
     ]
    }
   ],
   "source": [
    "# Метод insert() позволяет вставлять значение в список в заданной позиции. В него передается два аргумента:\n",
    "# index: индекс, задающий место вставки значения;\n",
    "# value: значение, которое требуется вставить.\n",
    "# Когда значение вставляется в список, список расширяется в размере, \n",
    "# чтобы разместить новое значение. Значение, которое ранее находилось в заданной индексной позиции, \n",
    "# и все элементы после него сдвигаются на одну позицию к концу списка.\n",
    "\n",
    "names = ['Gvido', 'Roman' , 'Timur']\n",
    "print(names)\n",
    "names.insert(0, 'Anders')\n",
    "print(names)\n",
    "names.insert(3, 'Josef')\n",
    "print(names)"
   ]
  },
  {
   "cell_type": "code",
   "execution_count": 46,
   "metadata": {},
   "outputs": [
    {
     "name": "stdout",
     "output_type": "stream",
     "text": [
      "2\n"
     ]
    }
   ],
   "source": [
    "# Метод index() возвращает индекс первого элемента, значение которого равняется переданному \n",
    "# в метод значению. Таким образом, в метод передается один параметр:\n",
    "\n",
    "# value: значение, индекс которого требуется найти.\n",
    "# Если элемент в списке не найден, то во время выполнения происходит ошибка.\n",
    "\n",
    "names = ['Gvido', 'Roman' , 'Timur']\n",
    "position = names.index('Timur')\n",
    "print(position)"
   ]
  },
  {
   "cell_type": "code",
   "execution_count": 47,
   "metadata": {},
   "outputs": [
    {
     "name": "stdout",
     "output_type": "stream",
     "text": [
      "Такого значения нет в списке\n"
     ]
    }
   ],
   "source": [
    "names = ['Gvido', 'Roman' , 'Timur']\n",
    "if 'Anders' in names:\n",
    "    position = names.index('Anders')\n",
    "    print(position)\n",
    "else:\n",
    "    print('Такого значения нет в списке')\n",
    "    "
   ]
  },
  {
   "cell_type": "code",
   "execution_count": 48,
   "metadata": {},
   "outputs": [
    {
     "name": "stdout",
     "output_type": "stream",
     "text": [
      "['Рис', 'Курица', 'Рыба', 'Брокколи', 'Рис']\n",
      "['Курица', 'Рыба', 'Брокколи', 'Рис']\n"
     ]
    }
   ],
   "source": [
    "# Метод remove() удаляет первый элемент, значение которого равняется переданному в \n",
    "# метод значению. В метод передается один параметр:\n",
    "\n",
    "# value: значение, которое требуется удалить.\n",
    "# Метод уменьшает размер списка на один элемент. \n",
    "# Все элементы после удаленного элемента смещаются на одну позицию к началу списка. \n",
    "# Если элемент в списке не найден, то во время выполнения происходит ошибка.\n",
    "\n",
    "food = ['Рис', 'Курица', 'Рыба', 'Брокколи', 'Рис']\n",
    "print(food)\n",
    "food.remove('Рис')\n",
    "print(food)"
   ]
  },
  {
   "cell_type": "code",
   "execution_count": 49,
   "metadata": {},
   "outputs": [
    {
     "name": "stdout",
     "output_type": "stream",
     "text": [
      "Roman\n",
      "['Gvido', 'Timur']\n"
     ]
    }
   ],
   "source": [
    "# Метод pop() удаляет элемент по указанному индексу и возвращает его. \n",
    "# В метод pop() передается один необязательный аргумент:\n",
    "\n",
    "# index: индекс элемента, который требуется удалить.\n",
    "# Если индекс не указан, то метод удаляет и возвращает последний элемент списка. \n",
    "# Если список пуст или указан индекс за пределами диапазона, то во время выполнения происходит ошибка.\n",
    "\n",
    "\n",
    "\n",
    "names = ['Gvido', 'Roman' , 'Timur']\n",
    "item = names.pop(1)\n",
    "print(item)\n",
    "print(names)"
   ]
  },
  {
   "cell_type": "code",
   "execution_count": 50,
   "metadata": {},
   "outputs": [
    {
     "name": "stdout",
     "output_type": "stream",
     "text": [
      "3\n",
      "1\n",
      "0\n"
     ]
    }
   ],
   "source": [
    "# Метод count() возвращает количество элементов в списке, значения которых равны переданному в метод значению. \n",
    "\n",
    "# Таким образом, в метод передается один параметр:\n",
    "\n",
    "# value: значение, количество элементов, равных которому,  нужно посчитать.\n",
    "# Если значение в списке не найдено, то метод возвращает 0.\n",
    "\n",
    "names = ['Timur', 'Gvido', 'Roman', 'Timur', 'Anders', 'Timur']\n",
    "cnt1 = names.count('Timur')\n",
    "cnt2 = names.count('Gvido')\n",
    "cnt3 = names.count('Josef')\n",
    "\n",
    "print(cnt1)\n",
    "print(cnt2)\n",
    "print(cnt3)"
   ]
  },
  {
   "cell_type": "code",
   "execution_count": 51,
   "metadata": {},
   "outputs": [
    {
     "name": "stdout",
     "output_type": "stream",
     "text": [
      "['Timur', 'Roman', 'Gvido']\n"
     ]
    }
   ],
   "source": [
    "# Метод reverse() инвертирует порядок следования значений в списке, то есть меняет его на противоположный.\n",
    "\n",
    "names = ['Gvido', 'Roman' , 'Timur']\n",
    "names.reverse()\n",
    "print(names)\n",
    "\n",
    "# Существует большая разница между вызовом метода names.reverse() и использованием среза names[::-1]. \n",
    "# Метод reverse() меняет порядок элементов на обратный в текущем списке, \n",
    "# а срез создает копию списка, в котором элементы следуют в обратном порядке."
   ]
  },
  {
   "cell_type": "code",
   "execution_count": 52,
   "metadata": {},
   "outputs": [
    {
     "name": "stdout",
     "output_type": "stream",
     "text": [
      "[]\n"
     ]
    }
   ],
   "source": [
    "# Метод clear() удаляет все элементы из списка.\n",
    "\n",
    "\n",
    "\n",
    "names = ['Gvido', 'Roman' , 'Timur']\n",
    "names.clear()\n",
    "print(names)"
   ]
  },
  {
   "cell_type": "code",
   "execution_count": 53,
   "metadata": {},
   "outputs": [
    {
     "name": "stdout",
     "output_type": "stream",
     "text": [
      "['Gvido', 'Roman', 'Timur']\n",
      "['Gvido', 'Roman', 'Timur']\n"
     ]
    }
   ],
   "source": [
    "# Метод copy() создает поверхностную копию списка.\n",
    "\n",
    "\n",
    "\n",
    "names = ['Gvido', 'Roman' , 'Timur']\n",
    "names_copy = names.copy()              # создаем поверхностную копию списка names\n",
    "\n",
    "print(names)\n",
    "print(names_copy)"
   ]
  },
  {
   "cell_type": "code",
   "execution_count": 54,
   "metadata": {},
   "outputs": [],
   "source": [
    "names = ['Gvido', 'Roman' , 'Timur']\n",
    "names_copy1 = list(names)             # создаем поверхностную копию с помощью функции list()\n",
    "names_copy2 = names[:]                # создаем поверхностную копию с помощью среза от начала до конца"
   ]
  },
  {
   "cell_type": "code",
   "execution_count": null,
   "metadata": {},
   "outputs": [],
   "source": [
    "# Примечание. Существует большая разница в работе строковых и списочных методов. \n",
    "# Строковые методы не изменяют содержимого объекта к которому они применяются, \n",
    "# а возвращают новое значение. \n",
    "# Списочные методы, напротив, меняют содержимое объекта к которому применяются."
   ]
  },
  {
   "cell_type": "code",
   "execution_count": 55,
   "metadata": {},
   "outputs": [
    {
     "name": "stdout",
     "output_type": "stream",
     "text": [
      "['Violet', 'Orange', 'Purple', 'Red', 'Blue', 'Green']\n"
     ]
    }
   ],
   "source": [
    "colors = ['Orange']\n",
    "colors.append('Red')\n",
    "colors.append('Blue')\n",
    "colors.append('Green')\n",
    "colors.insert(0, 'Violet')\n",
    "colors.insert(2, 'Purple')\n",
    "\n",
    "print(colors)"
   ]
  },
  {
   "cell_type": "code",
   "execution_count": 56,
   "metadata": {},
   "outputs": [
    {
     "name": "stdout",
     "output_type": "stream",
     "text": [
      "['Red', 'Blue', 'Black']\n"
     ]
    }
   ],
   "source": [
    "colors = ['Red', 'Blue', 'Green', 'Black', 'White']\n",
    "del colors[-1]\n",
    "colors.remove('Green')\n",
    "\n",
    "print(colors)"
   ]
  },
  {
   "cell_type": "code",
   "execution_count": 63,
   "metadata": {},
   "outputs": [
    {
     "name": "stdout",
     "output_type": "stream",
     "text": [
      "[17, 10, 11, 25, 4, 5, 6, 17, 10, 11, 4, 5, 6]\n"
     ]
    }
   ],
   "source": [
    "# Заменил второй элемент списка на 17;\n",
    "# Добавил числа 4, 5 и 6 в конец списка;\n",
    "# Удалил первый элемент списка;\n",
    "# Удвоил список;\n",
    "# Вставил число 25 по индексу 3;\n",
    "# Вывел список, с помощью функции print()\n",
    "\n",
    "numbers = [8, 9, 10, 11]\n",
    "numbers[1] = 17\n",
    "numbers.append(4)\n",
    "numbers.append(5)\n",
    "numbers.append(6)\n",
    "numbers.pop(0)\n",
    "numbers = numbers*2\n",
    "numbers.insert(3, 25)\n",
    "\n",
    "\n",
    "print(numbers)"
   ]
  },
  {
   "cell_type": "code",
   "execution_count": 84,
   "metadata": {},
   "outputs": [
    {
     "name": "stdout",
     "output_type": "stream",
     "text": [
      "10 9 8 7 6 5 4 3 2 1\n"
     ]
    }
   ],
   "source": [
    "# На вход программе подается строка текста, содержащая различные натуральные числа. \n",
    "# Из данной строки формируется список чисел. \n",
    "# Напишите программу, которая меняет местами минимальный и максимальный элемент этого списка.\n",
    "\n",
    "s = str(input()).split()\n",
    "s = [int(i) for i in s]\n",
    "\n",
    "min_value = min(s)\n",
    "max_value = max(s)\n",
    "\n",
    "position_max = s.index(max_value)\n",
    "position_min = s.index(min_value)\n",
    "\n",
    "s[position_max],s[position_min] = s[position_min],s[position_max]\n",
    "\n",
    "\n",
    "print(*s, sep=' ')\n",
    "# print(min_value)\n",
    "# print(max_value)\n",
    "# print(position_min)\n",
    "# print(position_max)\n",
    "\n",
    "# ['3', '4', '5', '2', '1']\n",
    "\n"
   ]
  },
  {
   "cell_type": "code",
   "execution_count": 96,
   "metadata": {},
   "outputs": [
    {
     "name": "stdout",
     "output_type": "stream",
     "text": [
      "Общее количество артиклей: 0\n"
     ]
    }
   ],
   "source": [
    "s = str(input()).lower().split()\n",
    "\n",
    "cnt1 = s.count('a')\n",
    "cnt1 = cnt1 + s.count('an')\n",
    "cnt1 = cnt1 + s.count('the')\n",
    "\n",
    "print(\"Общее количество артиклей: \" + str(cnt1))\n"
   ]
  },
  {
   "cell_type": "code",
   "execution_count": 111,
   "metadata": {},
   "outputs": [
    {
     "name": "stdout",
     "output_type": "stream",
     "text": [
      "12\n"
     ]
    }
   ],
   "source": [
    "s = str(input())\n",
    "number1 = int(s.replace('#', \"\"))\n",
    "\n",
    "mylist1 = []\n",
    "for i in range(number1):\n",
    "    k1 = str(input())\n",
    "    if \"#\" in k1:\n",
    "        k1 = k1[:k1.index(\"#\")]\n",
    "        print(k1.rstrip())\n",
    "    else:\n",
    "        print(k1.rstrip())\n",
    "#     mylist1.append(k1)\n",
    "\n",
    "\n",
    "# print(number1)"
   ]
  },
  {
   "cell_type": "code",
   "execution_count": 112,
   "metadata": {},
   "outputs": [
    {
     "name": "stdout",
     "output_type": "stream",
     "text": [
      "Отсортированный список: [-67, -3, -2, 0, 1, 6, 7, 8, 9, 12, 34, 45, 99, 1000]\n"
     ]
    }
   ],
   "source": [
    "# В Python списки имеют встроенный метод sort(), который сортирует элементы списка по возрастанию или убыванию.\n",
    "\n",
    "\n",
    "\n",
    "a = [1, 7, -3, 9, 0, -67, 34, 12, 45, 1000, 6,  8, -2, 99]\n",
    "a.sort()\n",
    "print('Отсортированный список:', a)"
   ]
  },
  {
   "cell_type": "code",
   "execution_count": 113,
   "metadata": {},
   "outputs": [
    {
     "name": "stdout",
     "output_type": "stream",
     "text": [
      "Отсортированный список: [1000, 99, 45, 34, 12, 9, 8, 7, 6, 1, 0, -2, -3, -67]\n"
     ]
    }
   ],
   "source": [
    "a = [1, 7, -3, 9, 0, -67, 34, 12, 45, 1000, 6,  8, -2, 99]\n",
    "a.sort(reverse=True)  # сортируем по убыванию\n",
    "print('Отсортированный список:', a)"
   ]
  },
  {
   "cell_type": "code",
   "execution_count": 114,
   "metadata": {},
   "outputs": [
    {
     "name": "stdout",
     "output_type": "stream",
     "text": [
      "Отсортированный список: ['альфа', 'бета', 'гамма', 'дельта']\n"
     ]
    }
   ],
   "source": [
    "a = ['бета', 'альфа', 'дельта', 'гамма']\n",
    "a.sort()\n",
    "print('Отсортированный список:', a)"
   ]
  },
  {
   "cell_type": "code",
   "execution_count": 115,
   "metadata": {},
   "outputs": [
    {
     "name": "stdout",
     "output_type": "stream",
     "text": [
      "[10, 8, 6, 5, 4, 4, 3, 2, 1]\n"
     ]
    }
   ],
   "source": [
    "numbers = [4, 2, 8, 6, 5, 3, 10, 4, 100, 1, -7]\n",
    "numbers.sort()\n",
    "del numbers[0]\n",
    "del numbers[-1]\n",
    "numbers.sort(reverse=True)\n",
    "print(numbers)"
   ]
  },
  {
   "cell_type": "code",
   "execution_count": 126,
   "metadata": {},
   "outputs": [
    {
     "name": "stdout",
     "output_type": "stream",
     "text": [
      "1 2 3 4 5 8 \n",
      "8 5 4 3 2 1 "
     ]
    }
   ],
   "source": [
    "s = str(input()).split()\n",
    "s = [int(i) for i in s]\n",
    "s.sort()\n",
    "print(*s, end=' ')\n",
    "print()\n",
    "s.sort(reverse=True)\n",
    "print(*s, end=' ')"
   ]
  },
  {
   "cell_type": "code",
   "execution_count": null,
   "metadata": {},
   "outputs": [],
   "source": [
    "# Аннотация. Списочные выражения. Создание списков без явного использования циклов и вызова списочного метода append()."
   ]
  },
  {
   "cell_type": "code",
   "execution_count": null,
   "metadata": {},
   "outputs": [],
   "source": [
    "# Для того, чтобы создать список состоящий из \n",
    "# 10 нулей мы можем использовать следующий код:\n",
    "\n",
    "zeros = []\n",
    "for i in range(10):\n",
    "    zeros.append(0)"
   ]
  },
  {
   "cell_type": "code",
   "execution_count": null,
   "metadata": {},
   "outputs": [],
   "source": [
    "# Например, для создания списка целых чисел от \n",
    "# 0\n",
    "# 0 до \n",
    "# 9\n",
    "# 9, мы вынуждены писать такой код:\n",
    "\n",
    "numbers = []\n",
    "for i in range(10):\n",
    "    numbers.append(i)"
   ]
  },
  {
   "cell_type": "code",
   "execution_count": null,
   "metadata": {},
   "outputs": [],
   "source": [
    "# В Python есть механизм для создания списков из неповторяющихся элементов. \n",
    "# Такой механизм называется — списочное выражение (list comprehension).\n",
    "numbers = [i for i in range(10)]\n",
    "\n",
    "# Общий вид списочного выражения следующий:\n",
    "\n",
    "# [выражение for переменная in последовательность]\n",
    "\n",
    "# где переменная — имя некоторой переменной, последовательность — последовательность значений, \n",
    "# которые она принимает (список, строка или объект, полученный при помощи функции range), \n",
    "# выражение — некоторое выражение, как правило, зависящее от использованной в \n",
    "# списочном выражении переменной, которым будут заполнены элементы списка."
   ]
  },
  {
   "cell_type": "code",
   "execution_count": null,
   "metadata": {},
   "outputs": [],
   "source": [
    "Примеры использования списочных выражений\n",
    "\n",
    "# 1. Создать список, заполненный 10 нулями можно и при помощи списочного выражения:\n",
    "\n",
    "zeros = [0 for i in range(10)]\n",
    "\n",
    "# 2. Создать список, заполненный квадратами целых чисел от 0 до 9 можно так:\n",
    "\n",
    "squares = [i ** 2 for i in range(10)]\n",
    "\n",
    "# 3. Создать список, заполненный кубами целых чисел от 10 до 20 можно так:\n",
    "\n",
    "cubes = [i ** 3 for i in range(10, 21)]\n",
    "\n",
    "# 4. Создать список, заполненный символами строки:\n",
    "\n",
    "chars = [c for c in 'abcdefg']\n",
    "print(chars)"
   ]
  },
  {
   "cell_type": "code",
   "execution_count": null,
   "metadata": {},
   "outputs": [],
   "source": [
    "# При решении многих задач из предыдущих уроков мы считывали начальные данные (строки, числа) \n",
    "# и заполняли ими список. С помощью списочных выражений процесс заполнения списка можно заметно сократить.\n",
    "\n",
    "# Например, если сначала вводится число n – количество строк, а затем сами строки, то создать список можно так:\n",
    "\n",
    "n = int(input())\n",
    "lines = [input() for _ in range(n)]\n",
    "\n",
    "\n",
    "# Можно опустить описание переменной n:\n",
    "\n",
    "lines = [input() for _ in range(int(input()))]\n",
    "\n",
    "\n",
    "# Если требуется считать список чисел, то необходимо добавить преобразование типов:\n",
    "\n",
    "numbers = [int(input()) for _ in range(int(input()))]"
   ]
  },
  {
   "cell_type": "code",
   "execution_count": null,
   "metadata": {},
   "outputs": [],
   "source": [
    "# В списочных выражениях можно использовать условный оператор. \n",
    "# Например, если требуется создать список четных чисел от 0 до 20, \n",
    "# то мы можем написать такой код:\n",
    "\n",
    "evens = [i for i in range(21) if i % 2 == 0]"
   ]
  },
  {
   "cell_type": "code",
   "execution_count": null,
   "metadata": {},
   "outputs": [],
   "source": [
    "# В списочном выражении можно использовать вложенные циклы.\n",
    "\n",
    "# Следующий программный код:\n",
    "\n",
    "numbers = [i * j for i in range(1, 5) for j in range(2)]\n",
    "print(numbers)\n",
    "# выведет список:\n",
    "\n",
    "[0, 1, 0, 2, 0, 3, 0, 4]\n",
    "# Такой код равнозначен следующему:\n",
    "numbers = []\n",
    "\n",
    "for i in range(1, 5):\n",
    "    for j in range(2):\n",
    "        numbers.append(i * j)\n",
    "print(numbers)"
   ]
  },
  {
   "cell_type": "code",
   "execution_count": null,
   "metadata": {},
   "outputs": [],
   "source": [
    "Пусть word = 'Hello', numbers = [1, 14, 5, 9, 12], words = ['one', 'two', 'three', 'four', 'five', 'six'].\n",
    "\n",
    "# Списочное выражение\tРезультирующий список\n",
    "[0 for i in range(10)]\t[0, 0, 0, 0, 0, 0, 0, 0, 0, 0]\n",
    "[i ** 2 for i in range(1, 8)]\t[1, 4, 9, 16, 25, 36, 49]\n",
    "[i * 10 for i in numbers]\t[10, 140, 50, 90, 120]\n",
    "[c * 2 for c in word]\t['HH', 'ee', 'll', 'll', 'oo']\n",
    "[m[0] for m in words]\t['o', 't', 't', 'f', 'f', 's']\n",
    "[i for i in numbers if i < 10]\t[1, 5, 9]\n",
    "[m[0] for m in words if len(m) == 3]\t['o', 't', 's']"
   ]
  },
  {
   "cell_type": "code",
   "execution_count": 5,
   "metadata": {},
   "outputs": [
    {
     "name": "stdout",
     "output_type": "stream",
     "text": [
      "['alse', 'rue', 'one', 'nd', 'ith', 's', 'ssert', 'reak', 'lass', 'ontinue', 'ef', 'el', 'lif', 'lse', 'xcept', 'inally', 'ry', 'or', 'rom', 'lobal', 'f', 'mport', 'n', 's', 'ambda', 'onlocal', 'ot', 'r', 'ass', 'aise', 'eturn', 'hile', 'ield']\n"
     ]
    }
   ],
   "source": [
    "keywords = ['False', 'True', 'None', 'and', 'with', 'as', 'assert', 'break', 'class', 'continue', 'def', 'del', 'elif', 'else', 'except', 'finally', 'try', 'for', 'from', 'global', 'if', 'import', 'in', 'is', 'lambda', 'nonlocal', 'not', 'or', 'pass', 'raise', 'return', 'while', 'yield']\n",
    "\n",
    "new_keywords = [m[1:] for m in keywords]\n",
    "\n",
    "print(new_keywords)"
   ]
  },
  {
   "cell_type": "code",
   "execution_count": 8,
   "metadata": {},
   "outputs": [
    {
     "name": "stdout",
     "output_type": "stream",
     "text": [
      "[5, 4, 4, 3, 4, 2, 6, 5, 5, 8, 3, 3, 4, 4, 6, 7, 3, 3, 4, 6, 2, 6, 2, 2, 6, 8, 3, 2, 4, 5, 6, 5, 5]\n"
     ]
    }
   ],
   "source": [
    "keywords = ['False', 'True', 'None', 'and', 'with', 'as', 'assert', 'break', 'class', 'continue', 'def', 'del', 'elif', 'else', 'except', 'finally', 'try', 'for', 'from', 'global', 'if', 'import', 'in', 'is', 'lambda', 'nonlocal', 'not', 'or', 'pass', 'raise', 'return', 'while', 'yield']\n",
    "\n",
    "lengths = [len(m) for m in keywords]\n",
    "\n",
    "print(lengths)"
   ]
  },
  {
   "cell_type": "code",
   "execution_count": 9,
   "metadata": {},
   "outputs": [
    {
     "name": "stdout",
     "output_type": "stream",
     "text": [
      "['False', 'assert', 'break', 'class', 'continue', 'except', 'finally', 'global', 'import', 'lambda', 'nonlocal', 'raise', 'return', 'while', 'yield']\n"
     ]
    }
   ],
   "source": [
    "keywords = ['False', 'True', 'None', 'and', 'with', 'as', 'assert', 'break', 'class', 'continue', 'def', 'del', 'elif', 'else', 'except', 'finally', 'try', 'for', 'from', 'global', 'if', 'import', 'in', 'is', 'lambda', 'nonlocal', 'not', 'or', 'pass', 'raise', 'return', 'while', 'yield']\n",
    "\n",
    "new_keywords = [m for m in keywords if len(m)>=5]\n",
    "\n",
    "print(new_keywords)"
   ]
  },
  {
   "cell_type": "code",
   "execution_count": 10,
   "metadata": {},
   "outputs": [
    {
     "name": "stdout",
     "output_type": "stream",
     "text": [
      "[101, 111, 121, 131, 141, 151, 161, 171, 181, 191, 202, 212, 222, 232, 242, 252, 262, 272, 282, 292, 303, 313, 323, 333, 343, 353, 363, 373, 383, 393, 404, 414, 424, 434, 444, 454, 464, 474, 484, 494, 505, 515, 525, 535, 545, 555, 565, 575, 585, 595, 606, 616, 626, 636, 646, 656, 666, 676, 686, 696, 707, 717, 727, 737, 747, 757, 767, 777, 787, 797, 808, 818, 828, 838, 848, 858, 868, 878, 888, 898, 909, 919, 929, 939, 949, 959, 969, 979, 989, 999]\n"
     ]
    }
   ],
   "source": [
    "# Дополните приведенный код, используя списочное выражение, так чтобы получить список всех чисел-палиндромов от 100 1000\n",
    "\n",
    "palindromes =  [i for i in range(100, 1000) if str(i) == str(i)[::-1]]\n",
    "\n",
    "print(palindromes)"
   ]
  },
  {
   "cell_type": "code",
   "execution_count": 14,
   "metadata": {},
   "outputs": [
    {
     "name": "stdout",
     "output_type": "stream",
     "text": [
      "1\n",
      "4\n",
      "9\n",
      "16\n"
     ]
    }
   ],
   "source": [
    "n = int(input())\n",
    "numbers = [i*i for i in range(1,n)]\n",
    "print(*numbers, sep='\\n')"
   ]
  },
  {
   "cell_type": "code",
   "execution_count": 16,
   "metadata": {},
   "outputs": [
    {
     "name": "stdout",
     "output_type": "stream",
     "text": [
      "[-8, -125, 0]\n"
     ]
    }
   ],
   "source": [
    "# На вход программе подается строка текста, содержащая целые числа. \n",
    "# Напишите программу, использующую списочное выражение, которая выведет кубы указанных чисел также на одной строке.\n",
    "\n",
    "# Формат входных данных\n",
    "# На вход программе подается строка текста, содержащая целые числа, разделенные символом пробела.\n",
    "\n",
    "# Формат выходных данных\n",
    "# Программа должна вывести текст в соответствии с условием задачи.\n",
    "\n",
    "# Примечание 1. Для вывода элементов списка используйте цикл for.\n",
    "\n",
    "# Примечание 2. Используйте метод split().\n",
    "\n",
    "s = str(input()).split()\n",
    "s = [int(i)**3 for i in s]\n",
    "print(*s)"
   ]
  },
  {
   "cell_type": "code",
   "execution_count": 19,
   "metadata": {},
   "outputs": [
    {
     "name": "stdout",
     "output_type": "stream",
     "text": [
      "Умей\n",
      "ценить\n",
      "того\n",
      "кто\n",
      "без\n",
      "тебя\n",
      "не\n",
      "может\n"
     ]
    }
   ],
   "source": [
    "# На вход программе подается строка текста, содержащая слова. \n",
    "# Напишите программу, которая выводит слова введенной строки в столбик.\n",
    "\n",
    "print(*str(input()).split(), sep='\\n')"
   ]
  },
  {
   "cell_type": "code",
   "execution_count": 5,
   "metadata": {},
   "outputs": [
    {
     "name": "stdout",
     "output_type": "stream",
     "text": [
      "31415\n"
     ]
    }
   ],
   "source": [
    "# На вход программе подается строка текста. Напишите программу, использующую списочное выражение, \n",
    "# которая выводит все цифровые символы данной строки.\n",
    "\n",
    "print(*[i for i in list(str(input())) if i.isdigit()], sep='')\n"
   ]
  },
  {
   "cell_type": "code",
   "execution_count": 10,
   "metadata": {},
   "outputs": [
    {
     "name": "stdout",
     "output_type": "stream",
     "text": [
      "16 36\n"
     ]
    }
   ],
   "source": [
    "# На вход программе подается строка текста, содержащая целые числа. \n",
    "# Напишите программу, использующую списочное выражение, которая выводит не оканчивающиеся на цифру \n",
    "# 4 квадраты четных чисел.\n",
    "\n",
    "# Формат входных данных\n",
    "# На вход программе подается строка текста, содержащая целые числа, разделенные символом пробела.\n",
    "\n",
    "# Формат выходных данных\n",
    "# Программа должна вывести текст в соответствии с условием задачи.\n",
    "\n",
    "# Примечание 1. Программу можно написать в одну строку кода.\n",
    "\n",
    "# Примечание 2. На цифру 4 не должны оканчиваться именно квадраты чисел, а не сами числа.\n",
    "\n",
    "\n",
    "\n",
    "print(*[int(i)**2 for i in str(input()).split() if str(int(i)**2)[-1] != '4' and int(i)%2==0])\n"
   ]
  },
  {
   "cell_type": "code",
   "execution_count": 12,
   "metadata": {},
   "outputs": [
    {
     "name": "stdout",
     "output_type": "stream",
     "text": [
      "Отсортированный список: [-67, -3, -2, 0, 1, 6, 7, 8, 9, 12, 34, 45, 99, 1000]\n"
     ]
    }
   ],
   "source": [
    "# Сортировка пузырьком\n",
    "\n",
    "a = [1, 7, -3, 9, 0, -67, 34, 12, 45, 1000, 6,  8, -2, 99]\n",
    "n = len(a)\n",
    "\n",
    "for i in range(n - 1):\n",
    "    for j in range(n - i - 1):\n",
    "        if a[j] > a[j + 1]:                  # если порядок элементов пары неправильный\n",
    "            a[j], a[j + 1] = a[j + 1], a[j]  # меняем элементы пары местами \n",
    "\n",
    "print('Отсортированный список:', a)"
   ]
  },
  {
   "cell_type": "code",
   "execution_count": 13,
   "metadata": {},
   "outputs": [
    {
     "name": "stdout",
     "output_type": "stream",
     "text": [
      "[-97, -96, -95, -94, -91, -84, -84, -84, -83, -79, -78, -78, -78, -76, -76, -75, -74, -74, -73, -71, -71, -71, -68, -68, -66, -65, -62, -61, -58, -56, -55, -55, -51, -47, -41, -40, -37, -32, -29, -27, -26, -26, -24, -20, -19, -17, -17, -16, -16, -13, -11, -9, -8, -6, 0, 1, 7, 7, 11, 14, 16, 17, 17, 21, 21, 24, 25, 32, 36, 38, 38, 39, 44, 44, 47, 48, 50, 52, 56, 58, 63, 67, 69, 70, 75, 78, 79, 79, 88, 88, 88, 91, 92, 93, 93, 94, 96, 96, 97, 98]\n"
     ]
    }
   ],
   "source": [
    "a = [17, 24, 91, 96, 67, -27, 79, -71, -71, 58, 48, 88, 88, -16, -78, 96, -76, 56, 92, 1, 32, -17, 36, 88, -61, -97, -37, -84, 50, 47, 94, -6, 52, -76, 93, 14, -32, 98, -65, -16, -9, -68, -20, -40, -71, 93, -91, 44, 25, 79, 97, 0, -94, 7, -47, -96, -55, -58, -78, -78, -79, 75, 44, -56, -41, 38, 16, 70, 17, -17, -24, -83, -74, -73, 11, -26, 63, -75, -19, -13, -51, -74, 21, -8, 21, -68, -66, -84, -95, 78, 69, -29, 39, 38, -55, 7, -11, -26, -62, -84]\n",
    "\n",
    "n = len(a)\n",
    "\n",
    "for i in range(n - 1):\n",
    "    for j in range(n - i - 1):\n",
    "        if a[j] > a[j + 1]:\n",
    "            a[j], a[j + 1] = a[j + 1], a[j]\n",
    "\n",
    "print(a)"
   ]
  },
  {
   "cell_type": "code",
   "execution_count": 14,
   "metadata": {},
   "outputs": [
    {
     "name": "stdout",
     "output_type": "stream",
     "text": [
      "[-97, -96, -94, -94, -79, -77, -72, -72, -71, -71, -67, -67, -64, -64, -63, -62, -62, -61, -60, -58, -56, -52, -48, -47, -42, -41, -39, -36, -32, -31, -30, -26, -24, -23, -22, -21, -19, -16, -16, -14, -10, -8, -5, -3, -1, 0, 2, 2, 3, 3, 5, 9, 9, 14, 20, 22, 27, 32, 32, 35, 35, 39, 39, 41, 41, 43, 48, 53, 57, 57, 58, 59, 59, 59, 60, 60, 61, 62, 63, 63, 64, 66, 71, 72, 76, 78, 78, 80, 82, 84, 87, 87, 89, 90, 92, 92, 93, 94, 96, 98]\n"
     ]
    }
   ],
   "source": [
    "a = [78, -32, 5, 39, 58, -5, -63, 57, 72, 9, 53, -1, 63, -97, -21, -94, -47, 57, -8, 60, -23, -72, -22, -79, 90, 96, -41, -71, -48, 84, 89, -96, 41, -16, 94, -60, -64, -39, 60, -14, -62, -19, -3, 32, 98, 14, 43, 3, -56, 71, -71, -67, 80, 27, 92, 92, -64, 0, -77, 2, -26, 41, 3, -31, 48, 39, 20, -30, 35, 32, -58, 2, 63, 64, 66, 62, 82, -62, 9, -52, 35, -61, 87, 78, 93, -42, 87, -72, -10, -36, 61, -16, 59, 59, 22, -24, -67, 76, -94, 59]\n",
    "\n",
    "n = len(a)\n",
    "\n",
    "for i in range(n):\n",
    "        min_idx = i\n",
    "        for j in range(i + 1, n):\n",
    "            if a[min_idx] > a[j]:\n",
    "                min_idx = j\n",
    "        a[i], a[min_idx] = a[min_idx], a[i]\n",
    "        \n",
    "print(a)"
   ]
  },
  {
   "cell_type": "code",
   "execution_count": 15,
   "metadata": {},
   "outputs": [
    {
     "name": "stdout",
     "output_type": "stream",
     "text": [
      "Отсортированный список: [-67, -3, -2, 0, 1, 6, 7, 8, 9, 12, 34, 45, 99, 1000]\n"
     ]
    }
   ],
   "source": [
    "# Следующий программный код реализует алгоритм сортировки простыми вставками:\n",
    "\n",
    "a = [1, 7, -3, 9, 0, -67, 34, 12, 45, 1000, 6,  8, -2, 99]\n",
    "n = len(a)\n",
    "\n",
    "for i in range(1, n): \n",
    "    elem = a[i]  # первый элемент из неотсортированной части списка\n",
    "    j = i\n",
    "    while j >= 1 and a[j - 1] > elem: \n",
    "        a[j] = a[j - 1]\n",
    "        j -= 1\n",
    "    a[j] = elem\n",
    "\n",
    "\n",
    "print('Отсортированный список:', a)"
   ]
  },
  {
   "cell_type": "code",
   "execution_count": 16,
   "metadata": {},
   "outputs": [
    {
     "name": "stdout",
     "output_type": "stream",
     "text": [
      "[1, 2, 99, 4, 5]\n"
     ]
    }
   ],
   "source": [
    "numbers = [1, 2, 3, 4, 5]\n",
    "numbers[2] = 99\n",
    "print(numbers)"
   ]
  },
  {
   "cell_type": "code",
   "execution_count": 17,
   "metadata": {},
   "outputs": [
    {
     "name": "stdout",
     "output_type": "stream",
     "text": [
      "[0, 1, 2]\n"
     ]
    }
   ],
   "source": [
    "numbers = list(range(3))\n",
    "print(numbers)"
   ]
  },
  {
   "cell_type": "code",
   "execution_count": 18,
   "metadata": {},
   "outputs": [
    {
     "name": "stdout",
     "output_type": "stream",
     "text": [
      "[10, 10, 10, 10, 10]\n"
     ]
    }
   ],
   "source": [
    "numbers = [10] * 5\n",
    "print(numbers)"
   ]
  },
  {
   "cell_type": "code",
   "execution_count": 19,
   "metadata": {},
   "outputs": [
    {
     "name": "stdout",
     "output_type": "stream",
     "text": [
      "1*3*5*7*9*"
     ]
    }
   ],
   "source": [
    "numbers = list(range(1, 10, 2))\n",
    "for i in numbers:\n",
    "    print(i, end='*')"
   ]
  },
  {
   "cell_type": "code",
   "execution_count": 20,
   "metadata": {},
   "outputs": [
    {
     "name": "stdout",
     "output_type": "stream",
     "text": [
      "4\n"
     ]
    }
   ],
   "source": [
    "numbers = [1, 2, 3, 4, 5]\n",
    "print(numbers[-2])"
   ]
  },
  {
   "cell_type": "code",
   "execution_count": 21,
   "metadata": {},
   "outputs": [
    {
     "name": "stdout",
     "output_type": "stream",
     "text": [
      "[1, 2, 3, 10, 20, 30]\n"
     ]
    }
   ],
   "source": [
    "numbers1 = [1, 2, 3]\n",
    "numbers2 = [10, 20, 30]\n",
    "numbers3 = numbers1 + numbers2\n",
    "print(numbers3)"
   ]
  },
  {
   "cell_type": "code",
   "execution_count": 22,
   "metadata": {},
   "outputs": [
    {
     "name": "stdout",
     "output_type": "stream",
     "text": [
      "[2, 3]\n"
     ]
    }
   ],
   "source": [
    "numbers = [1, 2, 3, 4, 5]\n",
    "my_list = numbers[1:3]\n",
    "print(my_list)"
   ]
  },
  {
   "cell_type": "code",
   "execution_count": 23,
   "metadata": {},
   "outputs": [
    {
     "name": "stdout",
     "output_type": "stream",
     "text": [
      "[2, 3, 4, 5]\n"
     ]
    }
   ],
   "source": [
    "numbers = [1, 2, 3, 4, 5]\n",
    "my_list = numbers[1:]\n",
    "print(my_list)"
   ]
  },
  {
   "cell_type": "code",
   "execution_count": 24,
   "metadata": {},
   "outputs": [
    {
     "name": "stdout",
     "output_type": "stream",
     "text": [
      "[1, 2, 3, 4]\n"
     ]
    }
   ],
   "source": [
    "numbers = [1, 2, 3, 4, 5]\n",
    "my_list = numbers[:-1]\n",
    "print(my_list)"
   ]
  },
  {
   "cell_type": "code",
   "execution_count": 25,
   "metadata": {},
   "outputs": [
    {
     "name": "stdout",
     "output_type": "stream",
     "text": [
      "[1, 2, 3, 4, 5]\n"
     ]
    }
   ],
   "source": [
    "numbers = [1, 2, 3, 4, 5]\n",
    "my_list = numbers[:]\n",
    "print(my_list)"
   ]
  },
  {
   "cell_type": "code",
   "execution_count": 26,
   "metadata": {},
   "outputs": [
    {
     "name": "stdout",
     "output_type": "stream",
     "text": [
      "Ceмья Джасмин: ['Джим', 'Джилл', 'Джон', 'Джасмин']\n"
     ]
    }
   ],
   "source": [
    "names = ['Джим', 'Джилл', 'Джон', 'Джасмин']\n",
    "if 'Джасмин' not in names:\n",
    "    print ('Не могу найти Джасмин.')\n",
    "else:\n",
    "    print('Ceмья Джасмин: ', end='')\n",
    "    print(names)"
   ]
  },
  {
   "cell_type": "code",
   "execution_count": 32,
   "metadata": {},
   "outputs": [
    {
     "name": "stdout",
     "output_type": "stream",
     "text": [
      "[2, 4, 6]\n"
     ]
    }
   ],
   "source": [
    "# На вход программе подается четное число n,n≥2. Напишите программу, которая выводит список четных чисел\n",
    "# [2, 4, 6, ..., n]\n",
    "\n",
    "n = int(input())\n",
    "numbers = [i for i in range(1,n+1) if i%2==0]\n",
    "print(numbers)"
   ]
  },
  {
   "cell_type": "code",
   "execution_count": 34,
   "metadata": {},
   "outputs": [
    {
     "name": "stdout",
     "output_type": "stream",
     "text": [
      "18 18 18 18 18\n"
     ]
    }
   ],
   "source": [
    "# На вход программе подаются две строки текста, содержащие целые числа. \n",
    "# Из данных строк формируются списки чисел L и M. \n",
    "# Напишите программу, которая создает третий список, элементами которого \n",
    "# являются суммы соответствующих элементов списков L и M. \n",
    "# Далее программа должна вывести каждый элемент полученного списка на одной строке через 1 пробел.\n",
    "\n",
    "# Формат входных данных\n",
    "# На вход программе подаются две строки текста, содержащие целые числа, разделенные символом пробела.\n",
    "\n",
    "# Формат выходных данных\n",
    "# Программа должна вывести текст в соответствии с условием задачи.\n",
    "\n",
    "# Примечание. Количество чисел в обеих строках одинаковое.\n",
    "\n",
    "L = str(input()).split()\n",
    "M = str(input()).split()\n",
    "\n",
    "L = [int(i) for i in L]\n",
    "M = [int(i) for i in M]\n",
    "\n",
    "sum = []\n",
    "\n",
    "for i in range(len(L)):\n",
    "    sum.append(L[i] + M[i])\n",
    "print(*sum)\n",
    "\n"
   ]
  },
  {
   "cell_type": "code",
   "execution_count": 40,
   "metadata": {},
   "outputs": [
    {
     "name": "stdout",
     "output_type": "stream",
     "text": [
      "2+5+11+33+55=106\n"
     ]
    }
   ],
   "source": [
    "# На вход программе подается строка текста, содержащая натуральные числа. \n",
    "# Напишите программу, которая вставляет между каждым числом знак +, а затем вычисляет сумму полученных чисел.\n",
    "\n",
    "# Формат входных данных\n",
    "# На вход программе подается строка текста, содержащая натуральные числа, разделенные символом пробела.\n",
    "\n",
    "# Формат выходных данных\n",
    "# Программа должна вывести текст в соответствии с условием задачи.\n",
    "\n",
    "# Примечание. Строковый метод join() работает только со списком строк.\n",
    "\n",
    "s = str(input()).split()\n",
    "sum = 0\n",
    "for i in range(len(s)):\n",
    "    sum = sum + int(s[i])\n",
    "\n",
    "print('+'.join(s) + \"=\" + str(sum))"
   ]
  },
  {
   "cell_type": "code",
   "execution_count": 41,
   "metadata": {},
   "outputs": [
    {
     "name": "stdout",
     "output_type": "stream",
     "text": [
      "7\n"
     ]
    }
   ],
   "source": [
    "# На вход программе подается строка текста. \n",
    "# Напишите программу, использующую списочное выражение, которая находит длину самого длинного слова.\n",
    "\n",
    "s = str(input()).split()\n",
    "lengths = [len(m) for m in s]\n",
    "maxx = max(lengths)\n",
    "print(maxx)\n"
   ]
  },
  {
   "cell_type": "code",
   "execution_count": 48,
   "metadata": {},
   "outputs": [
    {
     "name": "stdout",
     "output_type": "stream",
     "text": [
      "роспалпки очтипки сювки очьнки\n"
     ]
    }
   ],
   "source": [
    "# На вход программе подается строка текста. \n",
    "# Напишите программу, использующую списочное выражение, которая преобразует \n",
    "# каждое слово введенного текста в \"молодежный жаргон\" по следующему правилу: \n",
    "\n",
    "# первая буква каждого слова удаляется и ставится в конец слова; \n",
    "# затем в конец слова добавляется слог \"ки\".\n",
    "\n",
    "s = str(input()).split()\n",
    "new1_s = [m[1:] for m in s]\n",
    "new2_s = [m[0] for m in s]\n",
    "new_s = []\n",
    "\n",
    "for i in range(len(s)):\n",
    "    new_s.append(new1_s[i]+ new2_s[i]+ 'ки')\n",
    "\n",
    "# print(new1_s)\n",
    "# print(new2_s)\n",
    "print(*new_s)"
   ]
  },
  {
   "cell_type": "code",
   "execution_count": 68,
   "metadata": {},
   "outputs": [
    {
     "name": "stdout",
     "output_type": "stream",
     "text": [
      "YES\n",
      "5820\n",
      "447\n",
      "301\n",
      "['7', '301', '447', '5820']\n"
     ]
    }
   ],
   "source": [
    "# На вход программе подается строка текста. \n",
    "# Напишите программу, которая определяет, является ли введенная строка корректным телефонным номером. \n",
    "# Строка текста является корректным телефонным номером, если она имеет формат:\n",
    "\n",
    "# abc-def-hijk или\n",
    "# 7-abc-def-hijk,\n",
    "\n",
    "# где a, b, c, d, e, f, h, i, j, k – цифры от 0 до 9.\n",
    "# Формат выходных данных\n",
    "# Программа должна вывести «YES», если строка является корректным телефонным номером и «NO» в противном случае.\n",
    "\n",
    "# Примечание. Телефонный номер должен содержать только цифры и символ -, а количество цифр в каждой группе должно быть правильным.\n",
    "\n",
    "s = str(input()).split('-')\n",
    "if(len(s))==3 or (len(s)==4 and s[0]=='7'):\n",
    "    \n",
    "        if(len(s[-1])==4 and len(s[-2])==3 and len(s[-3])==3):\n",
    "            \n",
    "            s1 = [i for i in list(s) if i.isdigit()]\n",
    "            \n",
    "            if len(s)==len(s1):\n",
    "                \n",
    "                print('YES')\n",
    "                \n",
    "            else:\n",
    "                print('NO')\n",
    "        else:\n",
    "            print('NO')\n",
    "else:\n",
    "    print('NO')\n",
    "    \n",
    "print(s[-1])\n",
    "print(s[-2])\n",
    "print(s[-3])\n",
    "print(s1)\n"
   ]
  }
 ],
 "metadata": {
  "kernelspec": {
   "display_name": "Python 3",
   "language": "python",
   "name": "python3"
  },
  "language_info": {
   "codemirror_mode": {
    "name": "ipython",
    "version": 3
   },
   "file_extension": ".py",
   "mimetype": "text/x-python",
   "name": "python",
   "nbconvert_exporter": "python",
   "pygments_lexer": "ipython3",
   "version": "3.11.4"
  },
  "orig_nbformat": 4
 },
 "nbformat": 4,
 "nbformat_minor": 2
}
