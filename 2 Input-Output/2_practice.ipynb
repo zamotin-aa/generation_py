{
 "cells": [
  {
   "cell_type": "code",
   "execution_count": 6,
   "metadata": {},
   "outputs": [
    {
     "name": "stdout",
     "output_type": "stream",
     "text": [
      "В тексте есть \"двойные\" кавычки\n",
      "\n",
      "1 2\n",
      "В тексте есть 'одинарные' кавычки\n",
      "Здравствуй, мир!\n",
      "4 8 15 16 23 42\n"
     ]
    }
   ],
   "source": [
    "print('В тексте есть \"двойные\" кавычки')\n",
    "print()\n",
    "print('1', '2')\n",
    "print(\"В тексте есть 'одинарные' кавычки\")\n",
    "print(\"Здравствуй, мир!\")\n",
    "print('4', '8', '15', '16', '23', '42') "
   ]
  },
  {
   "cell_type": "code",
   "execution_count": 7,
   "metadata": {},
   "outputs": [
    {
     "name": "stdout",
     "output_type": "stream",
     "text": [
      "4\n",
      "8\n",
      "15\n",
      "16\n",
      "23\n",
      "42\n"
     ]
    }
   ],
   "source": [
    "print('4') \n",
    "print('8')\n",
    "print('15') \n",
    "print('16') \n",
    "print('23') \n",
    "print('42') "
   ]
  },
  {
   "cell_type": "code",
   "execution_count": 8,
   "metadata": {},
   "outputs": [
    {
     "name": "stdout",
     "output_type": "stream",
     "text": [
      "*\n",
      "**\n",
      "***\n",
      "****\n",
      "*****\n",
      "******\n"
     ]
    }
   ],
   "source": [
    "print('*') \n",
    "print('**')\n",
    "print('***') \n",
    "print('****') \n",
    "print('*****') \n",
    "print('******') \n",
    "print('*******') "
   ]
  },
  {
   "cell_type": "code",
   "execution_count": 9,
   "metadata": {},
   "outputs": [
    {
     "name": "stdout",
     "output_type": "stream",
     "text": [
      "Как тебя зовут?\n",
      "Привет, Gttt\n"
     ]
    }
   ],
   "source": [
    "print('Как тебя зовут?')\n",
    "name = input()\n",
    "print('Привет,', name)"
   ]
  },
  {
   "cell_type": "code",
   "execution_count": 10,
   "metadata": {},
   "outputs": [
    {
     "name": "stdout",
     "output_type": "stream",
     "text": [
      "ббавав  - чемпион!\n"
     ]
    }
   ],
   "source": [
    "comma = input()\n",
    "print(comma,  \"- чемпион!\")"
   ]
  },
  {
   "cell_type": "code",
   "execution_count": 11,
   "metadata": {},
   "outputs": [
    {
     "name": "stdout",
     "output_type": "stream",
     "text": [
      "3\n",
      "5\n",
      "1\n"
     ]
    }
   ],
   "source": [
    "name1 = input()\n",
    "name2 = input()\n",
    "name3 = input()\n",
    "print(name1)\n",
    "print(name2)\n",
    "print(name3)"
   ]
  },
  {
   "cell_type": "code",
   "execution_count": 12,
   "metadata": {},
   "outputs": [
    {
     "name": "stdout",
     "output_type": "stream",
     "text": [
      "a*b*c\n",
      "d**e**f\n"
     ]
    }
   ],
   "source": [
    "print('a', 'b', 'c', sep='*')\n",
    "print('d', 'e', 'f', sep='**')"
   ]
  },
  {
   "cell_type": "code",
   "execution_count": 13,
   "metadata": {},
   "outputs": [
    {
     "name": "stdout",
     "output_type": "stream",
     "text": [
      "a b c@d e f@@"
     ]
    }
   ],
   "source": [
    "print('a', 'b', 'c', end='@')\n",
    "print('d', 'e', 'f', end='@@')"
   ]
  },
  {
   "cell_type": "code",
   "execution_count": 14,
   "metadata": {},
   "outputs": [
    {
     "name": "stdout",
     "output_type": "stream",
     "text": [
      "a*b*cfinishd**e**f^__^g+h+i%j-k-l#m/n/o!"
     ]
    }
   ],
   "source": [
    "print('a', 'b', 'c', sep='*', end='finish')\n",
    "print('d', 'e', 'f', sep='**', end='^__^')\n",
    "print('g', 'h', 'i', sep='+', end='%')\n",
    "print('j', 'k', 'l', sep='-', end='#')\n",
    "print('m', 'n', 'o', sep='/', end='!')"
   ]
  },
  {
   "cell_type": "code",
   "execution_count": 15,
   "metadata": {},
   "outputs": [
    {
     "name": "stdout",
     "output_type": "stream",
     "text": [
      "Mercury*Venus!Mars**Jupiter?"
     ]
    }
   ],
   "source": [
    "print('Mercury', 'Venus', sep='*', end='!')\n",
    "print('Mars', 'Jupiter', sep='**', end='?')"
   ]
  },
  {
   "cell_type": "code",
   "execution_count": 16,
   "metadata": {},
   "outputs": [
    {
     "name": "stdout",
     "output_type": "stream",
     "text": [
      "a*b*c\n",
      "d**e**fg+h+i%j-k-l\n",
      "m/n/o!p1q1r%s&t&u\n",
      "v%w%x\n",
      "y/z!"
     ]
    }
   ],
   "source": [
    "print('a', 'b', 'c', sep='*')\n",
    "print('d', 'e', 'f', sep='**', end='')\n",
    "print('g', 'h', 'i', sep='+', end='%')\n",
    "print('j', 'k', 'l', sep='-', end='\\n')\n",
    "print('m', 'n', 'o', sep='/', end='!')\n",
    "print('p', 'q', 'r', sep='1', end='%')\n",
    "print('s', 't', 'u', sep='&', end='\\n')\n",
    "print('v', 'w', 'x', sep='%')\n",
    "print('y', 'z', sep='/', end='!')"
   ]
  },
  {
   "cell_type": "code",
   "execution_count": 17,
   "metadata": {},
   "outputs": [
    {
     "name": "stdout",
     "output_type": "stream",
     "text": [
      "I***like***python\n"
     ]
    }
   ],
   "source": [
    "print('I', 'like', 'Python', sep='***')"
   ]
  },
  {
   "cell_type": "code",
   "execution_count": 18,
   "metadata": {},
   "outputs": [
    {
     "name": "stdout",
     "output_type": "stream",
     "text": [
      "1g2g3\n"
     ]
    }
   ],
   "source": [
    "delim = input()\n",
    "name1 = input()\n",
    "name2 = input()\n",
    "name3 = input()\n",
    "print(name1, name2, name3, sep=delim)"
   ]
  },
  {
   "cell_type": "code",
   "execution_count": 22,
   "metadata": {},
   "outputs": [
    {
     "name": "stdout",
     "output_type": "stream",
     "text": [
      "Привет, Тирион!\n"
     ]
    }
   ],
   "source": [
    "name = input()\n",
    "print('Привет, ', name, '!', sep=\"\")"
   ]
  },
  {
   "cell_type": "code",
   "execution_count": 23,
   "metadata": {},
   "outputs": [
    {
     "name": "stdout",
     "output_type": "stream",
     "text": [
      "Pascal\n"
     ]
    }
   ],
   "source": [
    "language = 'Python'\n",
    "language = 'Pascal'\n",
    "print(language)"
   ]
  },
  {
   "cell_type": "code",
   "execution_count": 25,
   "metadata": {},
   "outputs": [
    {
     "name": "stdout",
     "output_type": "stream",
     "text": [
      "Python\n"
     ]
    }
   ],
   "source": [
    "s1 = 'C++'\n",
    "s2 = 'Python'\n",
    "s3 = 'Java'\n",
    "s3 = s2\n",
    "s1 = s3\n",
    "print(s3)"
   ]
  },
  {
   "cell_type": "code",
   "execution_count": 26,
   "metadata": {},
   "outputs": [
    {
     "name": "stdout",
     "output_type": "stream",
     "text": [
      "Python+C#=awesome\n"
     ]
    }
   ],
   "source": [
    "# print('Java')\n",
    "# print('Ruby')\n",
    "# print('Scala')\n",
    "print('Python', end='+')  # print('C++')\n",
    "# print('GO')\n",
    "print('C#', end='=')  # print('C')\n",
    "print('awesome')\n",
    "# finish\n"
   ]
  },
  {
   "cell_type": "code",
   "execution_count": 27,
   "metadata": {},
   "outputs": [
    {
     "name": "stdout",
     "output_type": "stream",
     "text": [
      "-50\n"
     ]
    }
   ],
   "source": [
    "s = 0\n",
    "k = 30\n",
    "d = k - 5\n",
    "k = 2 * d\n",
    "s = k - 100\n",
    "print(s)"
   ]
  },
  {
   "cell_type": "code",
   "execution_count": 28,
   "metadata": {},
   "outputs": [
    {
     "name": "stdout",
     "output_type": "stream",
     "text": [
      "20\n"
     ]
    }
   ],
   "source": [
    "x = 3 \n",
    "y = 4 \n",
    "z = x + y \n",
    "z = z + 1 \n",
    "x = y \n",
    "y = 5\n",
    "x = z + y + 7\n",
    "print(x)"
   ]
  },
  {
   "cell_type": "code",
   "execution_count": 29,
   "metadata": {},
   "outputs": [
    {
     "name": "stdout",
     "output_type": "stream",
     "text": [
      "4 a\n"
     ]
    }
   ],
   "source": [
    "a = 4\n",
    "print(a, 'a')"
   ]
  },
  {
   "cell_type": "code",
   "execution_count": 31,
   "metadata": {},
   "outputs": [
    {
     "name": "stdout",
     "output_type": "stream",
     "text": [
      "5\n",
      "6\n",
      "7\n"
     ]
    }
   ],
   "source": [
    "a = int(input())\n",
    "print(a, a+1, a+2, sep=\"\\n\")\n"
   ]
  },
  {
   "cell_type": "code",
   "execution_count": 32,
   "metadata": {},
   "outputs": [
    {
     "name": "stdout",
     "output_type": "stream",
     "text": [
      "10\n"
     ]
    }
   ],
   "source": [
    "a = int(input())\n",
    "b = int(input())\n",
    "c = int(input())\n",
    "print(a+b+c)"
   ]
  },
  {
   "cell_type": "code",
   "execution_count": 34,
   "metadata": {},
   "outputs": [
    {
     "name": "stdout",
     "output_type": "stream",
     "text": [
      "Объем =  125\n",
      "Площадь поверхности =  150\n"
     ]
    }
   ],
   "source": [
    "a = int(input())\n",
    "print(\"Объем =\", a*a*a)\n",
    "print(\"Площадь полной поверхности =\", 6*a*a)"
   ]
  },
  {
   "cell_type": "code",
   "execution_count": 35,
   "metadata": {},
   "outputs": [
    {
     "name": "stdout",
     "output_type": "stream",
     "text": [
      "237\n"
     ]
    }
   ],
   "source": [
    "a = int(input())\n",
    "b = int(input())\n",
    "print(3*(a+b)*(a+b)*(a+b)+275*b*b-127*a-41)"
   ]
  },
  {
   "cell_type": "code",
   "execution_count": 37,
   "metadata": {},
   "outputs": [
    {
     "name": "stdout",
     "output_type": "stream",
     "text": [
      "Следующее за числом 20 число: 21\n",
      "Для числа 20 предыдущее число: 19\n"
     ]
    }
   ],
   "source": [
    "#Следующее за числом 20 число: 21\n",
    "#Для числа 20 предыдущее число: 19\n",
    "\n",
    "a = int(input())\n",
    "print('Следующее за числом', a, 'число:', a+1)\n",
    "print('Для числа', a, 'предыдущее число:', a-1)"
   ]
  },
  {
   "cell_type": "code",
   "execution_count": 38,
   "metadata": {},
   "outputs": [
    {
     "name": "stdout",
     "output_type": "stream",
     "text": [
      "48\n"
     ]
    }
   ],
   "source": [
    "a = int(input())\n",
    "b = int(input())\n",
    "c = int(input())\n",
    "d = int(input())\n",
    "print(3*(a+b+c+d))"
   ]
  },
  {
   "cell_type": "code",
   "execution_count": 41,
   "metadata": {},
   "outputs": [
    {
     "name": "stdout",
     "output_type": "stream",
     "text": [
      "2 + 3 = 5\n",
      "2 - 3 = -1\n",
      "2 * 3 = 6\n"
     ]
    }
   ],
   "source": [
    "#Программа должна вывести сумму, разность и произведение введённых чисел, каждое на отдельной строке.\n",
    "a = int(input())\n",
    "b = int(input())\n",
    "print(a, \"+\", b, \"=\", a+b)\n",
    "print(a, \"-\", b, \"=\", a-b)\n",
    "print(a, \"*\", b, \"=\", a*b)"
   ]
  },
  {
   "cell_type": "code",
   "execution_count": 42,
   "metadata": {},
   "outputs": [
    {
     "name": "stdout",
     "output_type": "stream",
     "text": [
      "17\n"
     ]
    }
   ],
   "source": [
    "a1 = int(input())\n",
    "d = int(input())\n",
    "n = int(input())\n",
    "print(a1+d*(n-1))"
   ]
  },
  {
   "cell_type": "code",
   "execution_count": 43,
   "metadata": {},
   "outputs": [
    {
     "name": "stdout",
     "output_type": "stream",
     "text": [
      "7---14---21---28---35\n"
     ]
    }
   ],
   "source": [
    "a = int(input())\n",
    "print(a, 2*a, 3*a, 4*a, 5*a, sep=\"---\")"
   ]
  },
  {
   "cell_type": "code",
   "execution_count": 44,
   "metadata": {},
   "outputs": [
    {
     "name": "stdout",
     "output_type": "stream",
     "text": [
      "-13\n"
     ]
    }
   ],
   "source": [
    "print(-123 // 10)"
   ]
  },
  {
   "cell_type": "code",
   "execution_count": 45,
   "metadata": {},
   "outputs": [
    {
     "name": "stdout",
     "output_type": "stream",
     "text": [
      "29\n"
     ]
    }
   ],
   "source": [
    "a = 15 // (16 % 7)\n",
    "b = 34 % a * 5 - 29 % 5 * 2\n",
    "print(a + b)"
   ]
  },
  {
   "cell_type": "code",
   "execution_count": 46,
   "metadata": {},
   "outputs": [
    {
     "name": "stdout",
     "output_type": "stream",
     "text": [
      "2\n"
     ]
    }
   ],
   "source": [
    "a = 82 // 3 ** 2 % 7\n",
    "print(a)"
   ]
  },
  {
   "cell_type": "code",
   "execution_count": 47,
   "metadata": {},
   "outputs": [
    {
     "name": "stdout",
     "output_type": "stream",
     "text": [
      "16\n"
     ]
    }
   ],
   "source": [
    "b1 = int(input())\n",
    "q = int(input())\n",
    "n = int(input())\n",
    "print(b1*q**(n-1))"
   ]
  },
  {
   "cell_type": "code",
   "execution_count": 50,
   "metadata": {},
   "outputs": [
    {
     "name": "stdout",
     "output_type": "stream",
     "text": [
      "1\n",
      "2\n"
     ]
    }
   ],
   "source": [
    "a = int(input())\n",
    "b = int(input())\n",
    "print (b // a)\n",
    "print (b % a)"
   ]
  },
  {
   "cell_type": "code",
   "execution_count": 52,
   "metadata": {},
   "outputs": [
    {
     "name": "stdout",
     "output_type": "stream",
     "text": [
      "3\n"
     ]
    }
   ],
   "source": [
    "a = int(input())\n",
    "print ((a // 2) + (a % 2))"
   ]
  },
  {
   "cell_type": "code",
   "execution_count": 66,
   "metadata": {},
   "outputs": [
    {
     "name": "stdout",
     "output_type": "stream",
     "text": [
      "1\n"
     ]
    }
   ],
   "source": [
    "a = int(input())\n",
    "print ((a+3) // 4)"
   ]
  },
  {
   "cell_type": "code",
   "execution_count": 68,
   "metadata": {},
   "outputs": [
    {
     "name": "stdout",
     "output_type": "stream",
     "text": [
      "50 мин - это 0 час 50 минут.\n"
     ]
    }
   ],
   "source": [
    "a = int(input())\n",
    "print(a, 'мин - это', a//60, 'час', a%60, 'минут.')"
   ]
  },
  {
   "cell_type": "code",
   "execution_count": 71,
   "metadata": {},
   "outputs": [
    {
     "name": "stdout",
     "output_type": "stream",
     "text": [
      "Сумма цифр = 10\n",
      "Произведение цифр = 30\n"
     ]
    }
   ],
   "source": [
    "a = int(input())\n",
    "f1 = a // 100\n",
    "f2 = (a % 100) // 10\n",
    "f3 = a % 10\n",
    "print('Сумма цифр =', f1+f2+f3)\n",
    "print('Произведение цифр =', f1*f2*f3)"
   ]
  },
  {
   "cell_type": "code",
   "execution_count": 73,
   "metadata": {},
   "outputs": [
    {
     "name": "stdout",
     "output_type": "stream",
     "text": [
      "255\n"
     ]
    }
   ],
   "source": [
    "#abc,acb,bac,bca,cab,cba.\n",
    "x = int(input())\n",
    "a = x // 100\n",
    "b = (x % 100) // 10\n",
    "c = x % 10\n",
    "print(a, b, c, sep=\"\")\n",
    "print(a, c, b, sep=\"\")\n",
    "print(b, a, c, sep=\"\")\n",
    "print(b, c, a, sep=\"\")\n",
    "print(c, a, b, sep=\"\")\n",
    "print(c, b, a, sep=\"\")"
   ]
  },
  {
   "cell_type": "code",
   "execution_count": 82,
   "metadata": {},
   "outputs": [
    {
     "name": "stdout",
     "output_type": "stream",
     "text": [
      "Цифра в позиции тысяч равна 1\n",
      "Цифра в позиции сотен равна 3\n",
      "Цифра в позиции сотен равна 5\n",
      "Цифра в позиции единиц равна 9\n"
     ]
    }
   ],
   "source": [
    "# Цифра в позиции тысяч равна 3\n",
    "# Цифра в позиции сотен равна 2\n",
    "# Цифра в позиции десятков равна 8\n",
    "# Цифра в позиции единиц равна 1\n",
    "\n",
    "x = int(input())\n",
    "a = x // 1000\n",
    "b = x % 1000 // 100\n",
    "c = x % 1000 % 100 // 10\n",
    "e = x % 10\n",
    "\n",
    "print('Цифра в позиции тысяч равна', a)\n",
    "print('Цифра в позиции сотен равна', b)\n",
    "print('Цифра в позиции десятков равна', c)\n",
    "print('Цифра в позиции единиц равна', e)"
   ]
  },
  {
   "cell_type": "code",
   "execution_count": 89,
   "metadata": {},
   "outputs": [
    {
     "name": "stdout",
     "output_type": "stream",
     "text": [
      "56\n"
     ]
    }
   ],
   "source": [
    "a = 17 // (23 % 7)\n",
    "b = 34 % a * 5 - 29 % 4 * 3\n",
    "print(a * b)"
   ]
  },
  {
   "cell_type": "code",
   "execution_count": 91,
   "metadata": {},
   "outputs": [
    {
     "name": "stdout",
     "output_type": "stream",
     "text": [
      "Квадрат суммы 3 и 4 равен 49\n",
      "сумма квадратов 3 и 4 равна 25\n"
     ]
    }
   ],
   "source": [
    "# Квадрат суммы 3 и 2 равен 25\n",
    "# Сумма квадратов 3 и 2 равна 13\n",
    "\n",
    "a = int(input())\n",
    "b = int(input())\n",
    "print('Квадрат суммы', a, 'и', b, 'равен', (a+b)**2)\n",
    "print('сумма квадратов', a, 'и', b, 'равна', a**2 + b**2)"
   ]
  },
  {
   "cell_type": "code",
   "execution_count": 92,
   "metadata": {},
   "outputs": [
    {
     "name": "stdout",
     "output_type": "stream",
     "text": [
      "30517578133\n"
     ]
    }
   ],
   "source": [
    "\n",
    "a = int(input())\n",
    "b = int(input())\n",
    "c = int(input())\n",
    "d = int(input())\n",
    "print(a**b + c**d)"
   ]
  },
  {
   "cell_type": "code",
   "execution_count": 95,
   "metadata": {},
   "outputs": [
    {
     "name": "stdout",
     "output_type": "stream",
     "text": [
      "246\n"
     ]
    }
   ],
   "source": [
    "a = int(input())\n",
    "aa = a*10 + a\n",
    "aaa = a*100 + aa\n",
    "print (a+aa+aaa)"
   ]
  }
 ],
 "metadata": {
  "kernelspec": {
   "display_name": "Python 3",
   "language": "python",
   "name": "python3"
  },
  "language_info": {
   "codemirror_mode": {
    "name": "ipython",
    "version": 3
   },
   "file_extension": ".py",
   "mimetype": "text/x-python",
   "name": "python",
   "nbconvert_exporter": "python",
   "pygments_lexer": "ipython3",
   "version": "3.11.4"
  },
  "orig_nbformat": 4
 },
 "nbformat": 4,
 "nbformat_minor": 2
}
