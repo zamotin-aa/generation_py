{
 "cells": [
  {
   "cell_type": "code",
   "execution_count": 1,
   "metadata": {},
   "outputs": [
    {
     "name": "stdout",
     "output_type": "stream",
     "text": [
      "*******\n",
      "*******\n",
      "*******\n",
      "*******\n",
      "*******\n",
      "\n",
      "*******\n",
      "*******\n",
      "*******\n",
      "*******\n",
      "*******\n",
      "\n",
      "*******\n",
      "*******\n",
      "*******\n",
      "*******\n",
      "*******\n"
     ]
    }
   ],
   "source": [
    "def draw_box():\n",
    "    for _ in range(5):\n",
    "        print('*' * 7)\n",
    "\n",
    "draw_box()\n",
    "print()\n",
    "draw_box()\n",
    "print()\n",
    "draw_box()"
   ]
  },
  {
   "cell_type": "code",
   "execution_count": 5,
   "metadata": {},
   "outputs": [
    {
     "name": "stdout",
     "output_type": "stream",
     "text": [
      "**********\n",
      "*        *\n",
      "*        *\n",
      "*        *\n",
      "*        *\n",
      "*        *\n",
      "*        *\n",
      "*        *\n",
      "*        *\n",
      "*        *\n",
      "*        *\n",
      "*        *\n",
      "*        *\n",
      "**********\n"
     ]
    }
   ],
   "source": [
    "# объявление функции\n",
    "def draw_box():\n",
    "    for i in range(14):\n",
    "        if i==0 or i==13:\n",
    "            print('*' * 10)\n",
    "        else:\n",
    "            print(\"*        *\")\n",
    "\n",
    "# основная программа\n",
    "draw_box()  # вызов функции"
   ]
  },
  {
   "cell_type": "code",
   "execution_count": 7,
   "metadata": {},
   "outputs": [
    {
     "name": "stdout",
     "output_type": "stream",
     "text": [
      "\n",
      "*\n",
      "**\n",
      "***\n",
      "****\n",
      "*****\n",
      "******\n",
      "*******\n",
      "********\n",
      "*********\n",
      "**********\n"
     ]
    }
   ],
   "source": [
    "# объявление функции\n",
    "def draw_triangle():\n",
    "    for i in range(11):\n",
    "        print('*' * i)\n",
    "# основная программа\n",
    "draw_triangle()  # вызов функции\n"
   ]
  },
  {
   "cell_type": "code",
   "execution_count": 9,
   "metadata": {},
   "outputs": [
    {
     "name": "stdout",
     "output_type": "stream",
     "text": [
      "*********\n",
      "*********\n",
      "*********\n"
     ]
    }
   ],
   "source": [
    "def draw_box(height, width):    # функция принимает два параметра\n",
    "    for i in range(height):\n",
    "        print('*' * width)\n",
    "        \n",
    "n = 3\n",
    "m = 9\n",
    "draw_box(n, m)"
   ]
  },
  {
   "cell_type": "code",
   "execution_count": 10,
   "metadata": {},
   "outputs": [
    {
     "name": "stdout",
     "output_type": "stream",
     "text": [
      "HelloHelloHello\n",
      "HelloHelloHelloHelloHello\n",
      "HelloHello\n"
     ]
    }
   ],
   "source": [
    "def print_hello(n):\n",
    "    print('Hello' * n)\n",
    "\n",
    "print_hello(3)\n",
    "print_hello(5)\n",
    "times = 2\n",
    "print_hello(times)"
   ]
  },
  {
   "cell_type": "code",
   "execution_count": 11,
   "metadata": {},
   "outputs": [
    {
     "name": "stdout",
     "output_type": "stream",
     "text": [
      "HelloHelloHelloHelloHello\n",
      "AAAAAAAAAA\n"
     ]
    }
   ],
   "source": [
    "def print_text(txt, n):\n",
    "    print(txt * n)\n",
    "    \n",
    "print_text('Hello', 5)\n",
    "print_text('A', 10)"
   ]
  },
  {
   "cell_type": "code",
   "execution_count": 12,
   "metadata": {},
   "outputs": [
    {
     "name": "stdout",
     "output_type": "stream",
     "text": [
      "4\n"
     ]
    }
   ],
   "source": [
    "def print_number(a, b, c):\n",
    "    d = (a + c) // b\n",
    "    print(d)\n",
    "    \n",
    "print_number(2, 3, 11)"
   ]
  },
  {
   "cell_type": "code",
   "execution_count": 13,
   "metadata": {},
   "outputs": [
    {
     "name": "stdout",
     "output_type": "stream",
     "text": [
      "1 7\n",
      "0 0\n",
      "1 7\n"
     ]
    }
   ],
   "source": [
    "def change_us(a, b):\n",
    "    a = 0\n",
    "    b = 0\n",
    "    print(a, b)\n",
    "\n",
    "x = 1\n",
    "y = 7\n",
    "print(x, y)\n",
    "change_us(x, y)\n",
    "print(x, y)"
   ]
  },
  {
   "cell_type": "code",
   "execution_count": 14,
   "metadata": {},
   "outputs": [
    {
     "name": "stdout",
     "output_type": "stream",
     "text": [
      "PythonPythonPythonPython"
     ]
    }
   ],
   "source": [
    "def print_text(text, num):\n",
    "    while num > 0:\n",
    "        print(text, end='')\n",
    "        num -= 1\n",
    "\n",
    "print_text('Python', 4)"
   ]
  },
  {
   "cell_type": "code",
   "execution_count": 15,
   "metadata": {},
   "outputs": [
    {
     "name": "stdout",
     "output_type": "stream",
     "text": [
      "%\n",
      "%%\n",
      "%%%\n",
      "%%\n",
      "%\n"
     ]
    }
   ],
   "source": [
    "\n",
    "# объявление функции\n",
    "def draw_triangle(fill, base):\n",
    "    pass\n",
    "\n",
    "# считываем данные\n",
    "fill = input()  \n",
    "base = int(input())\n",
    "k = base // 2 + 1\n",
    "m = base // 2\n",
    "for i in range(k):\n",
    "    for j in range(i + 1):\n",
    "        print(fill, end='')\n",
    "    print()\n",
    "for i in range(m):\n",
    "    for j in range(m - i):\n",
    "        print(fill, end='')\n",
    "    print()\n",
    "\n",
    "\n",
    "# вызываем функцию\n",
    "draw_triangle(fill, base)\n",
    "\n",
    "\n",
    "# n = int(input())\n",
    "# k = n // 2 + 1\n",
    "# m = n // 2\n",
    "# for i in range(k):\n",
    "#     for j in range(i + 1):\n",
    "#         print('*', end='')\n",
    "#     print()\n",
    "# for i in range(m):\n",
    "#     for j in range(m - i):\n",
    "#         print('*', end='')\n",
    "#     print()\n"
   ]
  },
  {
   "cell_type": "code",
   "execution_count": 17,
   "metadata": {},
   "outputs": [
    {
     "name": "stdout",
     "output_type": "stream",
     "text": [
      "WDG\n"
     ]
    }
   ],
   "source": [
    "# объявление функции\n",
    "def print_fio(name, surname, patronymic):\n",
    "    F = surname[0].upper()\n",
    "    I = name[0].upper()\n",
    "    O = patronymic[0].upper()\n",
    "    print(F+I+O)\n",
    "\n",
    "# считываем данные\n",
    "name, surname, patronymic = input(), input(), input()\n",
    "\n",
    "# вызываем функцию\n",
    "print_fio(name, surname, patronymic)"
   ]
  },
  {
   "cell_type": "code",
   "execution_count": 18,
   "metadata": {},
   "outputs": [
    {
     "name": "stdout",
     "output_type": "stream",
     "text": [
      "31\n"
     ]
    }
   ],
   "source": [
    "# объявление функции\n",
    "def print_digit_sum(num):\n",
    "    digits = [int(d) for d in str(num)]\n",
    "    print(sum(digits))\n",
    "\n",
    "# считываем данные\n",
    "n = int(input())\n",
    "\n",
    "# вызываем функцию\n",
    "print_digit_sum(n)"
   ]
  },
  {
   "cell_type": "code",
   "execution_count": 19,
   "metadata": {},
   "outputs": [],
   "source": [
    "# Локальными называются переменные, объявленные внутри функции и доступные только ей самой. \n",
    "# Программный код за пределами функции к ним доступа не имеет.\n",
    "\n",
    "# Рассмотрим функцию print_texas(), которая выводит информацию о количестве птиц, обитающих в Техасе.\n",
    "\n",
    "def print_texas():\n",
    "    birds = 5000\n",
    "    print('В Техасе обитает', birds, 'птиц.')\n",
    "    \n",
    "# В теле функции мы создаем переменную birds, которой присваивается значение, равное 5000. \n",
    "# Такая переменная является локальной для функции print_texas(). \n",
    "# Всякий раз, когда переменной внутри функции присваивается значение, в \n",
    "# результате создается локальная переменная. Она принадлежит функции, в которой создается,  \n",
    "# и к ней получает доступ только программный код этой функции.\n",
    "\n",
    "# Термин “локальная” указывает на то, что переменная может использоваться лишь в этом месте — внутри функции, в которой создается.\n",
    "\n",
    "# Область действия переменной – часть программы, в которой можно к ней обращаться, \n",
    "# та функция, где она создана. Переменная видима только программному коду в области ее действия. \n",
    "# Никакая инструкция за пределами функции не может обращаться к такой переменной."
   ]
  },
  {
   "cell_type": "code",
   "execution_count": 20,
   "metadata": {},
   "outputs": [
    {
     "ename": "UnboundLocalError",
     "evalue": "cannot access local variable 's' where it is not associated with a value",
     "output_type": "error",
     "traceback": [
      "\u001b[1;31m---------------------------------------------------------------------------\u001b[0m",
      "\u001b[1;31mUnboundLocalError\u001b[0m                         Traceback (most recent call last)",
      "Cell \u001b[1;32mIn[20], line 5\u001b[0m\n\u001b[0;32m      2\u001b[0m     \u001b[39mprint\u001b[39m(s) \n\u001b[0;32m      3\u001b[0m     s \u001b[39m=\u001b[39m \u001b[39m'\u001b[39m\u001b[39mI love Paris\u001b[39m\u001b[39m'\u001b[39m\n\u001b[1;32m----> 5\u001b[0m print_paris()\n",
      "Cell \u001b[1;32mIn[20], line 2\u001b[0m, in \u001b[0;36mprint_paris\u001b[1;34m()\u001b[0m\n\u001b[0;32m      1\u001b[0m \u001b[39mdef\u001b[39;00m \u001b[39mprint_paris\u001b[39m(): \n\u001b[1;32m----> 2\u001b[0m     \u001b[39mprint\u001b[39m(s) \n\u001b[0;32m      3\u001b[0m     s \u001b[39m=\u001b[39m \u001b[39m'\u001b[39m\u001b[39mI love Paris\u001b[39m\u001b[39m'\u001b[39m\n",
      "\u001b[1;31mUnboundLocalError\u001b[0m: cannot access local variable 's' where it is not associated with a value"
     ]
    }
   ],
   "source": [
    "def print_paris(): \n",
    "    print(s) \n",
    "    s = 'I love Paris'\n",
    "\n",
    "print_paris()"
   ]
  },
  {
   "cell_type": "code",
   "execution_count": 21,
   "metadata": {},
   "outputs": [
    {
     "name": "stdout",
     "output_type": "stream",
     "text": [
      "I love Paris\n",
      "I love London\n",
      "I love Moscow\n"
     ]
    }
   ],
   "source": [
    "def print_paris(): \n",
    "    s = 'I love Paris'\n",
    "    print(s) \n",
    "\n",
    "def print_london():\n",
    "    s = 'I love London'\n",
    "    print(s) \n",
    "\n",
    "s = 'I love Moscow'\n",
    "print_paris()\n",
    "print_london()\n",
    "print(s)"
   ]
  },
  {
   "cell_type": "code",
   "execution_count": 22,
   "metadata": {},
   "outputs": [
    {
     "name": "stdout",
     "output_type": "stream",
     "text": [
      "1\n"
     ]
    }
   ],
   "source": [
    "def swap(a, b):\n",
    "    a, b = b, a\n",
    "\n",
    "a = 4\n",
    "b = 3\n",
    "swap(a, b)\n",
    "print(a - b)"
   ]
  },
  {
   "cell_type": "code",
   "execution_count": 23,
   "metadata": {},
   "outputs": [
    {
     "name": "stdout",
     "output_type": "stream",
     "text": [
      "В Техасе обитает 5000 птиц.\n",
      "В Калифорнии обитает 5000 птиц.\n"
     ]
    }
   ],
   "source": [
    "# Глобальными называются переменные, объявленные в основной программе и доступные как программе, так и всем ее функциям.\n",
    "\n",
    "# Рассмотрим следующий программный код:\n",
    "\n",
    "birds = 5000    # глобальная переменная\n",
    "\n",
    "def print_texas():\n",
    "    print('В Техасе обитает', birds, 'птиц.')\n",
    "\n",
    "def print_california():\n",
    "    print('В Калифорнии обитает', birds, 'птиц.')\n",
    "    \n",
    "print_texas()\n",
    "print_california()"
   ]
  },
  {
   "cell_type": "code",
   "execution_count": null,
   "metadata": {},
   "outputs": [],
   "source": [
    "# Большинство программистов согласны, что следует ограничить использование \n",
    "# глобальных переменных либо не использовать их вообще. Причины следующие.\n",
    "\n",
    "# Глобальные переменные затрудняют отладку программы. \n",
    "# Значение глобальной переменной может быть изменено любой инструкцией в программном файле. \n",
    "# Если обнаружится, что в глобальной переменной хранится неверное значение, \n",
    "# то придется отыскать все инструкции, которые к ней обращаются, чтобы определить, \n",
    "# откуда поступает плохое значение. В программе с тысячами строк кода сделать это непросто.\n",
    "# Функции, использующие глобальные переменные, обычно зависят от этих переменных. \n",
    "# Если возникнет необходимость применить такую функцию в другой программе, \n",
    "# скорее всего придется эту функцию перепроектировать, чтобы она не опиралась на глобальную переменную.\n",
    "# Глобальные переменные затрудняют понимание программы. \n",
    "# Глобальная переменная может быть модифицирована любой инструкцией в программе. \n",
    "# При необходимости разобраться в какой-то части программы, использующей глобальную переменную,\n",
    "# придется узнать обо всех других частях программы, обращающихся к этой глобальной переменной.\n",
    "# В большинстве случаев следует создавать переменные локально и передавать \n",
    "# их в качестве аргументов в функции, которым нужно к ним обратиться.\n",
    "\n",
    "# Если нужно, чтобы инструкция внутри функции присваивала значение глобальной переменной, \n",
    "# то требуется дополнительный шаг. В этом случае, глобальная переменная должна быть объявлена внутри функции.\n",
    "\n",
    "def print_texas():\n",
    "    global birds\n",
    "    birds = 5000\n",
    "    print('В Техасе обитает', birds, 'птиц.')\n",
    "\n",
    "def print_california():\n",
    "    print('В Калифорнии обитает', birds, 'птиц.')\n",
    "\n",
    "print_texas()\n",
    "print_california()"
   ]
  },
  {
   "cell_type": "code",
   "execution_count": 24,
   "metadata": {},
   "outputs": [
    {
     "name": "stdout",
     "output_type": "stream",
     "text": [
      "8\n",
      "5\n"
     ]
    }
   ],
   "source": [
    "x = 5\n",
    "\n",
    "def add():\n",
    "    x = 3\n",
    "    x = x + 5\n",
    "    print(x)\n",
    "\n",
    "add()\n",
    "print(x)"
   ]
  },
  {
   "cell_type": "code",
   "execution_count": 25,
   "metadata": {},
   "outputs": [
    {
     "name": "stdout",
     "output_type": "stream",
     "text": [
      "8\n",
      "8\n"
     ]
    }
   ],
   "source": [
    "x = 5\n",
    "\n",
    "def add():\n",
    "    global x\n",
    "    x = 3\n",
    "    x = x + 5\n",
    "    print(x)\n",
    "\n",
    "add()\n",
    "print(x)"
   ]
  },
  {
   "cell_type": "code",
   "execution_count": 27,
   "metadata": {},
   "outputs": [
    {
     "name": "stdout",
     "output_type": "stream",
     "text": [
      "14.444444444444445\n"
     ]
    }
   ],
   "source": [
    "# функция перевода градусов Фаренгейта в градусы Цельсия\n",
    "def convert_to_celsius(temp):\n",
    "    return (5 / 9) * (temp - 32)\n",
    "\n",
    "# основная программа\n",
    "temp = float(input('Bвeдитe количество градусов по Фаренгейту: '))\n",
    "celsius = convert_to_celsius(temp)\n",
    "print(celsius)  # градусы Цельсия"
   ]
  },
  {
   "cell_type": "code",
   "execution_count": 28,
   "metadata": {},
   "outputs": [
    {
     "name": "stdout",
     "output_type": "stream",
     "text": [
      "5\n"
     ]
    }
   ],
   "source": [
    "def convert_grade(grade):\n",
    "    if grade >= 90:\n",
    "        return 5\n",
    "    elif grade >= 80:\n",
    "        return 4\n",
    "    elif grade >= 70: \n",
    "        return 3\n",
    "    elif grade >= 60:\n",
    "        return 2\n",
    "    else:\n",
    "        return 1\n",
    "\n",
    "# основная программа\n",
    "grade = int(input('Введите вашу отметку по 100-балльной системе: '))\n",
    "print(convert_grade(grade))"
   ]
  },
  {
   "cell_type": "code",
   "execution_count": 29,
   "metadata": {},
   "outputs": [],
   "source": [
    "def convert_grade(grade):\n",
    "    if grade >= 90:\n",
    "        result = 5\n",
    "    elif grade >= 80:\n",
    "        result = 4\n",
    "    elif grade >= 70: \n",
    "        result = 3\n",
    "    elif grade >= 60:\n",
    "        result = 2\n",
    "    else:\n",
    "        result = 1\n",
    "    \n",
    "    return result"
   ]
  },
  {
   "cell_type": "code",
   "execution_count": null,
   "metadata": {},
   "outputs": [],
   "source": [
    "# Функция, вычисляющая длину гипотенузы, может иметь вид:\n",
    "\n",
    "def compute_hypotenuse(a, b):\n",
    "    c = (a ** 2 + b ** 2) ** 0.5\n",
    "    return c"
   ]
  },
  {
   "cell_type": "code",
   "execution_count": 30,
   "metadata": {},
   "outputs": [
    {
     "name": "stdout",
     "output_type": "stream",
     "text": [
      "3.605551275463989\n"
     ]
    }
   ],
   "source": [
    "# Функция, вычисляющая расстояние между точками, может иметь вид:\n",
    "\n",
    "def compute_hypotenuse(a, b):\n",
    "    c = (a ** 2 + b ** 2) ** 0.5\n",
    "    return c\n",
    "\n",
    "def get_distance(x1, y1, x2, y2):\n",
    "    return compute_hypotenuse(x1 - x2, y1 - y2)\n",
    "\n",
    "# Для подсчета искомого расстояния мы используем уже созданную нами функцию \n",
    "# compute_hypotenuse передавая ей в качестве аргументов числа x1 - x2 и y1 - y2.\n",
    "\n",
    "# Основная программа имеет вид:\n",
    "\n",
    "x1, y1 = float(input()), float(input())  # считываем координаты первой точки\n",
    "x2, y2 = float(input()), float(input())  # считываем координаты второй точки\n",
    "\n",
    "print(get_distance(x1, y1, x2, y2))      # вычисляем и выводим расстояние между точками"
   ]
  },
  {
   "cell_type": "code",
   "execution_count": 32,
   "metadata": {},
   "outputs": [
    {
     "name": "stdout",
     "output_type": "stream",
     "text": [
      "8\n"
     ]
    }
   ],
   "source": [
    "# Задача 3. Напишите функцию sum_digits(n), принимающую в качестве аргумента натуральное число и возвращающую сумму его цифр.\n",
    "\n",
    "# Решение. Функция sum_digits(n) может иметь вид:\n",
    "\n",
    "def sum_digits(n):\n",
    "    result = 0\n",
    "    while n > 0:\n",
    "        result += n % 10\n",
    "        n //= 10\n",
    "    return result\n",
    "# Основная программа имеет вид:\n",
    "\n",
    "n = int(input())\n",
    "print(sum_digits(n))      # вычисляем и выводим сумму цифр считанного числа"
   ]
  },
  {
   "cell_type": "code",
   "execution_count": 33,
   "metadata": {},
   "outputs": [
    {
     "name": "stdout",
     "output_type": "stream",
     "text": [
      "20\n"
     ]
    }
   ],
   "source": [
    "def do_something(number):\n",
    "    return number * 2\n",
    "# Что будет выведено в результате выполнения следующего программного кода? \n",
    "\n",
    "print(do_something(10))"
   ]
  },
  {
   "cell_type": "code",
   "execution_count": 34,
   "metadata": {},
   "outputs": [
    {
     "name": "stdout",
     "output_type": "stream",
     "text": [
      "16\n"
     ]
    }
   ],
   "source": [
    "def do_something(numbers):\n",
    "    result = 1\n",
    "    for i in numbers:\n",
    "        result *= i    \n",
    "    return result\n",
    "# Что будет выведено в результате выполнения следующего программного кода? \n",
    "\n",
    "print(do_something([2, 2, 2, 2]))"
   ]
  },
  {
   "cell_type": "code",
   "execution_count": 35,
   "metadata": {},
   "outputs": [
    {
     "name": "stdout",
     "output_type": "stream",
     "text": [
      "6\n"
     ]
    }
   ],
   "source": [
    "def get_sum(x, y, z):\n",
    "    return x + y + z\n",
    "    print('Сумма равна', x + y + z)\n",
    "# Что будет выведено в результате выполнения следующего программного кода? \n",
    "\n",
    "print(get_sum(1, 2, 3))"
   ]
  },
  {
   "cell_type": "code",
   "execution_count": 38,
   "metadata": {},
   "outputs": [
    {
     "name": "stdout",
     "output_type": "stream",
     "text": [
      "15.525\n"
     ]
    }
   ],
   "source": [
    "# Напишите функцию convert_to_miles(km), которая принимает в качестве \n",
    "# аргумента расстояние в километрах и возвращает расстояние в милях. \n",
    "# Формула для преобразования: мили = километры * 0.6214.\n",
    "\n",
    "# объявление функции\n",
    "def convert_to_miles(km):\n",
    "    return float(km*0.6214)\n",
    "\n",
    "# считываем данные\n",
    "num = int(input())\n",
    "\n",
    "# вызываем функцию\n",
    "print(convert_to_miles(num))"
   ]
  },
  {
   "cell_type": "code",
   "execution_count": 41,
   "metadata": {},
   "outputs": [
    {
     "name": "stdout",
     "output_type": "stream",
     "text": [
      "31\n"
     ]
    }
   ],
   "source": [
    "# объявление функции\n",
    "def get_days(month):\n",
    "    if month in (4, 6, 9, 11):\n",
    "        result = 30\n",
    "    elif month == 2:\n",
    "        result = 28\n",
    "    else:\n",
    "        result = 31\n",
    "    return result\n",
    "# считываем данные\n",
    "num = int(input())\n",
    "\n",
    "# вызываем функцию\n",
    "print(get_days(num))\n",
    "\n",
    "\n",
    "# 1, 3, 5, 7, 8, 10, 12 месяцы - 31 день\n",
    "# 4, 6, 9, 11 - 30\n",
    "# 2 - 28"
   ]
  },
  {
   "cell_type": "code",
   "execution_count": 42,
   "metadata": {},
   "outputs": [
    {
     "name": "stdout",
     "output_type": "stream",
     "text": [
      "[1, 5, 25]\n"
     ]
    }
   ],
   "source": [
    "# объявление функции\n",
    "def get_factors(num):\n",
    "    mylist = []\n",
    "    for i in range(1, num+1):\n",
    "        if num%i == 0:\n",
    "            mylist.append(i)\n",
    "    return mylist\n",
    "\n",
    "# считываем данные\n",
    "n = int(input())\n",
    "\n",
    "# вызываем функцию\n",
    "print(get_factors(n))\n",
    "\n",
    "\n",
    "\n",
    "# n = int(input())\n",
    "# mylist = []\n",
    "# for i in range(1, n+1):\n",
    "#     if n%i == 0:\n",
    "#         mylist.append(i)\n",
    "# print(mylist)\n"
   ]
  },
  {
   "cell_type": "code",
   "execution_count": 43,
   "metadata": {},
   "outputs": [
    {
     "name": "stdout",
     "output_type": "stream",
     "text": [
      "3\n"
     ]
    }
   ],
   "source": [
    "# объявление функции\n",
    "def number_of_factors(num):\n",
    "    count = 0\n",
    "    for i in range(1, num+1):\n",
    "        if num%i == 0:\n",
    "            count+=1\n",
    "    return count\n",
    "\n",
    "# считываем данные\n",
    "n = int(input())\n",
    "\n",
    "# вызываем функцию\n",
    "print(number_of_factors(n))"
   ]
  },
  {
   "cell_type": "code",
   "execution_count": null,
   "metadata": {},
   "outputs": [],
   "source": [
    "# объявление функции\n",
    "def find_all(target, symbol):  #string, char\n",
    "    indexes = []\n",
    "    index = target.find(symbol)\n",
    "    while index != -1:\n",
    "        indexes.append(index)\n",
    "        index = target.find(symbol, index + 1)\n",
    "    return indexes\n",
    "\n",
    "# считываем данные\n",
    "s = input()\n",
    "char = input()\n",
    "\n",
    "# вызываем функцию\n",
    "print(find_all(s, char))"
   ]
  },
  {
   "cell_type": "code",
   "execution_count": null,
   "metadata": {},
   "outputs": [],
   "source": [
    "# объявление функции\n",
    "def merge(list1, list2):\n",
    "    for i in range(len(list2)):\n",
    "        list1.append(list2[i])\n",
    "    list1.sort()\n",
    "    return list1\n",
    "\n",
    "# считываем данные\n",
    "numbers1 = [int(c) for c in input().split()]\n",
    "numbers2 = [int(c) for c in input().split()]\n",
    "\n",
    "# вызываем функцию\n",
    "print(merge(numbers1, numbers2))"
   ]
  },
  {
   "cell_type": "code",
   "execution_count": null,
   "metadata": {},
   "outputs": [],
   "source": [
    "\n",
    "# Алгоритм быстрого слияния следующий:\n",
    "\n",
    "# Создаем численные указатели p1 = 0 и p2 = 0 на начала обоих списков list1 и list2 соответственно;\n",
    "# На каждом шаге берем меньший из двух элементов list1[p1] и list2[p2];\n",
    "# Записываем его в результирующий список; \n",
    "# Увеличиваем на \n",
    "# 1\n",
    "# 1 указатель на первый элемент списка (p1 или p2), из которого был взят элемент;\n",
    "# Когда один из начальных списков закончился, добавляем все оставшиеся элементы второго списка в результирующий список.\n",
    "\n",
    "\n",
    "def quick_merge(list1, list2):\n",
    "    result = []\n",
    "\n",
    "    p1 = 0  # указатель на первый элемент списка list1\n",
    "    p2 = 0  # указатель на первый элемент списка list2\n",
    "\n",
    "    while p1 < len(list1) and p2 < len(list2):  # пока не закончился хотя бы один список\n",
    "        if list1[p1] <= list2[p2]:\n",
    "            result.append(list1[p1])\n",
    "            p1 += 1\n",
    "        else:\n",
    "            result.append(list2[p2])\n",
    "            p2 += 1\n",
    "\n",
    "    if p1 < len(list1):   # прицепление остатка\n",
    "        result += list1[p1:]\n",
    "    else:                 # иначе прицепляем остаток другого списка\n",
    "        result += list2[p2:]\n",
    "    \n",
    "    return result\n",
    "# Следующий программный код:\n",
    "\n",
    "list1 = [3, 10, 11, 12, 47, 57, 58, 63, 77, 79, 80, 95]\n",
    "list2 = [0, 11, 12, 20, 24, 26, 47, 48, 53, 65, 70, 81, 84, 84, 90]\n",
    "list3 = quick_merge(list1, list2)\n",
    "print(list3)"
   ]
  },
  {
   "cell_type": "code",
   "execution_count": 46,
   "metadata": {},
   "outputs": [
    {
     "name": "stdout",
     "output_type": "stream",
     "text": [
      "1 2 2 3 5 5 6 6 7 8 9"
     ]
    }
   ],
   "source": [
    "def quick_merge(list1, list2):\n",
    "    result = []\n",
    "\n",
    "    p1 = 0  # указатель на первый элемент списка list1\n",
    "    p2 = 0  # указатель на первый элемент списка list2\n",
    "\n",
    "    while p1 < len(list1) and p2 < len(list2):  # пока не закончился хотя бы один список\n",
    "        if list1[p1] <= list2[p2]:\n",
    "            result.append(list1[p1])\n",
    "            p1 += 1\n",
    "        else:\n",
    "            result.append(list2[p2])\n",
    "            p2 += 1\n",
    "\n",
    "    if p1 < len(list1):   # прицепление остатка\n",
    "        result += list1[p1:]\n",
    "    else:                 # иначе прицепляем остаток другого списка\n",
    "        result += list2[p2:]\n",
    "    \n",
    "    return result\n",
    "\n",
    "new_list = []\n",
    "new_list2 = []\n",
    "\n",
    "\n",
    "\n",
    "for i in range(int(input())):\n",
    "    num = [int(q) for q in input().split()]\n",
    "    new_list = quick_merge(new_list, num)\n",
    "\n",
    "print(*new_list, end='')"
   ]
  },
  {
   "cell_type": "code",
   "execution_count": 47,
   "metadata": {},
   "outputs": [
    {
     "name": "stdout",
     "output_type": "stream",
     "text": [
      "Это число нечетное.\n"
     ]
    }
   ],
   "source": [
    "def is_even(number):\n",
    "    if number % 2 == 0:\n",
    "        return True\n",
    "    else:\n",
    "        return False\n",
    "    \n",
    "number = int(input())\n",
    "if is_even(number):\n",
    "    print('Это число четное. ')\n",
    "else:\n",
    "    print('Это число нечетное.')"
   ]
  },
  {
   "cell_type": "code",
   "execution_count": 49,
   "metadata": {},
   "outputs": [
    {
     "name": "stdout",
     "output_type": "stream",
     "text": [
      "Допустимыми номерами моделей являются 100, 200 и 300.\n"
     ]
    }
   ],
   "source": [
    "def is_invalid(model):\n",
    "    if model != 100 and model != 200 and model != 300:\n",
    "        return True\n",
    "    else:\n",
    "        return False\n",
    "\n",
    "model = int(input())\n",
    "  \n",
    "while is_invalid(model):\n",
    "    print('Допустимыми номерами моделей являются 100, 200 и 300.')\n",
    "    model = int(input())"
   ]
  },
  {
   "cell_type": "code",
   "execution_count": null,
   "metadata": {},
   "outputs": [],
   "source": [
    "# объявление функции\n",
    "def is_valid_triangle(side1, side2, side3):\n",
    "    if side1+side2>side3 and side1+side3>side2 and side2+side3>side1:\n",
    "        return True\n",
    "    else:\n",
    "        return False\n",
    "\n",
    "# считываем данные\n",
    "a, b, c = int(input()), int(input()), int(input())\n",
    "\n",
    "# вызываем функцию\n",
    "print(is_valid_triangle(a, b, c))"
   ]
  },
  {
   "cell_type": "code",
   "execution_count": 52,
   "metadata": {},
   "outputs": [
    {
     "name": "stdout",
     "output_type": "stream",
     "text": [
      "True\n"
     ]
    }
   ],
   "source": [
    "# объявление функции\n",
    "def is_prime(num):\n",
    "    flag = True\n",
    "\n",
    "    for i in range(2, num):\n",
    "        if num % i == 0:\n",
    "            flag = False\n",
    "    if num > 1 and flag == True:\n",
    "        return True\n",
    "    else:\n",
    "        return False\n",
    "\n",
    "# считываем данные\n",
    "n = int(input())\n",
    "\n",
    "# вызываем функцию\n",
    "print(is_prime(n))\n",
    "\n",
    "\n",
    "\n",
    "# num = int(input())\n",
    "# flag = True\n",
    "\n",
    "# for i in range(2, num):\n",
    "#     if num % i == 0:\n",
    "#         flag = False\n",
    "# if num > 1 and flag == True:\n",
    "#     print('Число простое')\n",
    "# else:\n",
    "#     print('Число составное')\n",
    "\n",
    "\n",
    "\n"
   ]
  },
  {
   "cell_type": "code",
   "execution_count": 54,
   "metadata": {},
   "outputs": [
    {
     "name": "stdout",
     "output_type": "stream",
     "text": [
      "17\n"
     ]
    }
   ],
   "source": [
    "\n",
    "def is_prime(num):\n",
    "    flag = True\n",
    "\n",
    "    for i in range(2, num):\n",
    "        if num % i == 0:\n",
    "            flag = False\n",
    "    if num > 1 and flag == True:\n",
    "        return True\n",
    "    else:\n",
    "        return False\n",
    "\n",
    "# объявление функции\n",
    "def get_next_prime(num):\n",
    "    num += 1\n",
    "    while is_prime(num)==False:\n",
    "        num += 1\n",
    "    return num\n",
    "\n",
    "# считываем данные\n",
    "n = int(input())\n",
    "\n",
    "\n",
    "# вызываем функцию\n",
    "print(get_next_prime(n))"
   ]
  },
  {
   "cell_type": "code",
   "execution_count": 62,
   "metadata": {},
   "outputs": [
    {
     "name": "stdout",
     "output_type": "stream",
     "text": [
      "False\n"
     ]
    }
   ],
   "source": [
    "# его длина не менее 8 символов; \n",
    "# он содержит как минимум одну заглавную букву (верхний регистр); \n",
    "# он содержит как минимум одну строчную букву (нижний регистр);\n",
    "# он содержит хотя бы одну цифру.\n",
    "\n",
    "# объявление функции\n",
    "def is_password_good(password):\n",
    "    if len(password)<8:\n",
    "        return False\n",
    "    elif password.islower() == False and password.isupper() == False and password.isdigit() == False and password.isalpha()==False and password.isalnum()==True:\n",
    "        return True\n",
    "    else:\n",
    "        return False\n",
    "\n",
    "# считываем данные\n",
    "txt = input()\n",
    "\n",
    "# вызываем функцию\n",
    "print(is_password_good(txt))"
   ]
  },
  {
   "cell_type": "code",
   "execution_count": null,
   "metadata": {},
   "outputs": [],
   "source": [
    "# объявление функции\n",
    "def is_one_away(word1, word2):\n",
    "    if len(word1) == len(word2):\n",
    "        count = 0\n",
    "        for i in range(len(word1)):\n",
    "            if word1[i]!=word2[i]:\n",
    "                count += 1\n",
    "        if count == 0:\n",
    "            return False\n",
    "        elif count == 1:\n",
    "            return True\n",
    "        else:\n",
    "            return False\n",
    "    else:\n",
    "        return False      \n",
    "            \n",
    "\n",
    "# считываем данные\n",
    "txt1 = input()\n",
    "txt2 = input()\n",
    "\n",
    "# вызываем функцию\n",
    "print(is_one_away(txt1, txt2))"
   ]
  },
  {
   "cell_type": "code",
   "execution_count": null,
   "metadata": {},
   "outputs": [],
   "source": [
    "\n",
    "# объявление функции\n",
    "def is_palindrome(text):\n",
    "    text=\"\".join(c for c in text if c.isalpha())\n",
    "    if text.lower() == text[::-1].lower():\n",
    "        return True\n",
    "    else:\n",
    "        return False\n",
    "\n",
    "# считываем данные\n",
    "txt = input()\n",
    "\n",
    "# вызываем функцию\n",
    "print(is_palindrome(txt))\n",
    "\n",
    "\n",
    "# s = str(input())\n",
    "# if s == s[::-1]:\n",
    "#     print('YES')\n",
    "# else:\n",
    "#     print('NO')"
   ]
  },
  {
   "cell_type": "code",
   "execution_count": 104,
   "metadata": {},
   "outputs": [
    {
     "name": "stdout",
     "output_type": "stream",
     "text": [
      "False\n",
      "True\n",
      "True\n",
      "False\n"
     ]
    }
   ],
   "source": [
    "\n",
    "# число a – должно быть палиндромом;\n",
    "# число b – должно быть простым;\n",
    "# число c – должно быть четным.\n",
    "\n",
    "\n",
    "def is_palindrome(text):\n",
    "    text=\"\".join(c for c in text)\n",
    "    if text.lower() == text[::-1].lower():\n",
    "        return True\n",
    "    else:\n",
    "        return False\n",
    "    \n",
    "\n",
    "def is_prime(num):\n",
    "    flag = True\n",
    "    for i in range(2, num):\n",
    "        if num % i == 0:\n",
    "            flag = False\n",
    "    if num > 1 and flag == True:\n",
    "        return True\n",
    "    else:\n",
    "        return False\n",
    "\n",
    "def is_even(number):\n",
    "    if number % 2 == 0:\n",
    "        return True\n",
    "    else:\n",
    "        return False\n",
    "\n",
    "\n",
    "\n",
    "# объявление функции\n",
    "def is_valid_password(password):\n",
    "    list = password.split(':')\n",
    "    if len(list) != 3:\n",
    "        return False\n",
    "    x1 = str(list[0])\n",
    "    x2 = int(list[1])\n",
    "    x3 = int(list[2])\n",
    "    if (is_palindrome(x1)==True and is_prime(x2)==True and is_even(x3)==True):\n",
    "        return True\n",
    "    else:\n",
    "        return False\n",
    "    \n",
    "# считываем данные\n",
    "psw = input()\n",
    "\n",
    "# вызываем функцию\n",
    "print(is_valid_password(psw))\n",
    "\n",
    "\n",
    "# 15551:7:291\n",
    "\n",
    "# print(is_palindrome(\"15551\"))\n",
    "# print(is_prime(7))\n",
    "# print(is_even(291))\n"
   ]
  },
  {
   "cell_type": "code",
   "execution_count": 7,
   "metadata": {},
   "outputs": [
    {
     "name": "stdout",
     "output_type": "stream",
     "text": [
      "False\n"
     ]
    }
   ],
   "source": [
    "# объявление функции\n",
    "def is_correct_bracket(text):\n",
    "    count = 0\n",
    "    for i in range(len(text)):\n",
    "        if count<0:\n",
    "            return False\n",
    "        elif text[i] == '(':\n",
    "            count += 1\n",
    "        elif text[i] == ')':\n",
    "            count += -1\n",
    "\n",
    "    if count == 0:\n",
    "        return True\n",
    "    else:\n",
    "        return False\n",
    "        \n",
    "    \n",
    "\n",
    "# считываем данные\n",
    "txt = input()\n",
    "\n",
    "# вызываем функцию\n",
    "print(is_correct_bracket(txt))\n"
   ]
  },
  {
   "cell_type": "code",
   "execution_count": 9,
   "metadata": {},
   "outputs": [
    {
     "name": "stdout",
     "output_type": "stream",
     "text": [
      "True\n"
     ]
    },
    {
     "ename": "TypeError",
     "evalue": "'bool' object is not subscriptable",
     "output_type": "error",
     "traceback": [
      "\u001b[1;31m---------------------------------------------------------------------------\u001b[0m",
      "\u001b[1;31mTypeError\u001b[0m                                 Traceback (most recent call last)",
      "Cell \u001b[1;32mIn[9], line 19\u001b[0m\n\u001b[0;32m     16\u001b[0m txt \u001b[39m=\u001b[39m \u001b[39minput\u001b[39m()\n\u001b[0;32m     18\u001b[0m \u001b[39m# вызываем функцию\u001b[39;00m\n\u001b[1;32m---> 19\u001b[0m \u001b[39mprint\u001b[39m(convert_to_python_case(txt))\n",
      "Cell \u001b[1;32mIn[9], line 8\u001b[0m, in \u001b[0;36mconvert_to_python_case\u001b[1;34m(text)\u001b[0m\n\u001b[0;32m      5\u001b[0m \u001b[39mif\u001b[39;00m i \u001b[39m==\u001b[39m \u001b[39m0\u001b[39m:\n\u001b[0;32m      6\u001b[0m     \u001b[39mprint\u001b[39m(text[i]\u001b[39m.\u001b[39mislower())\n\u001b[1;32m----> 8\u001b[0m \u001b[39melif\u001b[39;00m \u001b[39mstr\u001b[39m(text[i]) \u001b[39m!=\u001b[39m \u001b[39mstr\u001b[39m(text1[i]):\n\u001b[0;32m      9\u001b[0m     \u001b[39mprint\u001b[39m (\u001b[39m\"\u001b[39m\u001b[39m_\u001b[39m\u001b[39m\"\u001b[39m \u001b[39m+\u001b[39m text[i])\n\u001b[0;32m     10\u001b[0m \u001b[39melse\u001b[39;00m:\n",
      "\u001b[1;31mTypeError\u001b[0m: 'bool' object is not subscriptable"
     ]
    }
   ],
   "source": [
    "# объявление функции\n",
    "def convert_to_python_case(text):\n",
    "    return ''.join(['_' + i.lower() if i.isupper() else i for i in text]).lstrip('_')\n",
    "        \n",
    "            \n",
    "\n",
    "# считываем данные\n",
    "txt = input()\n",
    "\n",
    "# вызываем функцию\n",
    "print(convert_to_python_case(txt))\n",
    "\n"
   ]
  },
  {
   "cell_type": "code",
   "execution_count": null,
   "metadata": {},
   "outputs": [],
   "source": [
    "# объявление функции\n",
    "def get_middle_point(x1, y1, x2, y2):\n",
    "    return (x1+x2)/2, (y1+y2)/2\n",
    "\n",
    "# считываем данные\n",
    "x_1, y_1 = int(input()), int(input())\n",
    "x_2, y_2 = int(input()), int(input())\n",
    "\n",
    "# вызываем функцию\n",
    "x, y = get_middle_point(x_1, y_1, x_2, y_2)\n",
    "print(x, y)"
   ]
  },
  {
   "cell_type": "code",
   "execution_count": null,
   "metadata": {},
   "outputs": [],
   "source": [
    "# длину окружности и площадь круга\n",
    "from math import pi\n",
    "\n",
    "# объявление функции\n",
    "def get_circle(radius):\n",
    "    return 2*pi*radius, pi*radius*radius\n",
    "\n",
    "# считываем данные\n",
    "r = float(input())\n",
    "\n",
    "# вызываем функцию\n",
    "length, square = get_circle(r)\n",
    "print(length, square)"
   ]
  },
  {
   "cell_type": "code",
   "execution_count": null,
   "metadata": {},
   "outputs": [],
   "source": [
    "\n",
    "from math import *\n",
    "# объявление функции\n",
    "def solve(a, b, c):\n",
    "    D=b**2-4*a*c\n",
    "    if(D<0):\n",
    "        return 0, 0\n",
    "    elif(D==0):\n",
    "        return -b/(2*a) , -b/(2*a)\n",
    "    elif(D>0):\n",
    "        x1=(-b+sqrt(D))/(2*a)\n",
    "        x2=(-b-sqrt(D))/(2*a)\n",
    "        return  min(x1, x2), max(x1, x2)\n",
    "    \n",
    "# считываем данные\n",
    "a, b, c = int(input()), int(input()), int(input())\n",
    "\n",
    "# вызываем функцию\n",
    "x1, x2 = solve(a, b, c)\n",
    "print(x1, x2)\n",
    "\n",
    "\n",
    "\n",
    "# from math import *\n",
    "# a = float(input())\n",
    "# b = float(input())\n",
    "# c = float(input())\n",
    "# D=b**2-4*a*c\n",
    "\n",
    "# if(D<0):\n",
    "#     print('Нет корней')\n",
    "# elif(D==0):\n",
    "#     print(-b/(2*a))\n",
    "# elif(D>0):\n",
    "#     x1=(-b+sqrt(D))/(2*a)\n",
    "#     x2=(-b-sqrt(D))/(2*a)\n",
    "#     print(min(x1, x2), max(x1, x2), sep='\\n')"
   ]
  },
  {
   "cell_type": "code",
   "execution_count": 3,
   "metadata": {},
   "outputs": [
    {
     "name": "stdout",
     "output_type": "stream",
     "text": [
      "1\n"
     ]
    }
   ],
   "source": [
    "a = 1\n",
    "\n",
    "def do_something():\n",
    "  print(a)\n",
    "\n",
    "do_something()"
   ]
  },
  {
   "cell_type": "code",
   "execution_count": null,
   "metadata": {},
   "outputs": [],
   "source": [
    "# Интернет-магазин осуществляет экспресс доставку для своих товаров по цене 1000 рублей за первый товар и 120\n",
    "# 120 рублей за каждый последующий товар. Напишите функцию get_shipping_cost(quantity), \n",
    "# которая принимает в качестве аргумента натуральное число quantity – \n",
    "# количество товаров в заказе – и возвращает стоимость доставки.\n",
    "\n",
    "\n",
    "# объявление функции\n",
    "def get_shipping_cost(quantity):\n",
    "    return 1000 + (quantity-1)*120\n",
    "\n",
    "# считываем данные\n",
    "n = int(input())\n",
    "\n",
    "# вызываем функцию\n",
    "print(get_shipping_cost(n))"
   ]
  },
  {
   "cell_type": "code",
   "execution_count": 8,
   "metadata": {},
   "outputs": [
    {
     "name": "stdout",
     "output_type": "stream",
     "text": [
      "january\n"
     ]
    }
   ],
   "source": [
    "# Напишите функцию get_month(language, number), которая принимает на вход два аргумента \n",
    "# language – язык ru или en и number – номер месяца (от 1 до 12) и \n",
    "# возвращает название месяца на русском или английском языке.\n",
    "\n",
    "\n",
    "# объявление функции\n",
    "def get_month(language, number):\n",
    "    list1 = ['','january', 'february', 'march', 'april', 'may', 'june', 'july', 'august', 'september', 'october', 'november', 'december']\n",
    "    list2 = ['', 'январь', 'февраль', 'март', 'апрель', 'май', 'июнь', 'июль', 'август', 'сентябрь', 'октябрь', 'ноябрь', 'декабрь']\n",
    "    if language == 'en':\n",
    "        return (list1[number])\n",
    "    else:\n",
    "        return (list2[number])\n",
    "\n",
    "# считываем данные\n",
    "lan = input()\n",
    "num = int(input())\n",
    "\n",
    "# вызываем функцию\n",
    "print(get_month(lan, num))"
   ]
  },
  {
   "cell_type": "code",
   "execution_count": 10,
   "metadata": {},
   "outputs": [
    {
     "name": "stdout",
     "output_type": "stream",
     "text": [
      "(2, 8, 84)\n"
     ]
    }
   ],
   "source": [
    "# Магическая дата – это дата, когда день, умноженный на месяц, равен числу, \n",
    "# образованному последними двумя цифрами года.\n",
    "\n",
    "# Напишите функцию is_magic(date), которая принимает в качестве аргумента строковое представление \n",
    "# корректной даты и возвращает значение True, если дата является магической и False - в противном случае.\n",
    "\n",
    "# объявление функции\n",
    "def is_magic(date):\n",
    "    d,m,g=map(int,date.split('.'))\n",
    "    g = g % 100\n",
    "    if d*m == g:\n",
    "        return True\n",
    "    else:\n",
    "        return False\n",
    "    \n",
    "\n",
    "# считываем данные\n",
    "date = input()\n",
    "\n",
    "# вызываем функцию\n",
    "print(is_magic(date))"
   ]
  },
  {
   "cell_type": "code",
   "execution_count": 12,
   "metadata": {},
   "outputs": [
    {
     "name": "stdout",
     "output_type": "stream",
     "text": [
      "['a', 'b', 'c', 'd', 'e', 'f', 'g', 'h', 'i', 'j', 'k', 'l', 'm', 'n', 'o', 'p', 'q', 'r', 's', 't', 'u', 'v', 'w', 'x', 'y', 'z']\n"
     ]
    }
   ],
   "source": [
    "# объявление функции\n",
    "def is_pangram(text):\n",
    "    text1 = sorted(set(text.lower().replace(' ', '')))\n",
    "    abc = ['a', 'b', 'c', 'd', 'e', 'f', 'g', 'h', 'i', 'j', 'k', 'l', 'm', 'n', 'o', 'p', 'q', 'r', 's', 't', 'u', 'v', 'w', 'x', 'y', 'z']\n",
    "    if text1 == abc:\n",
    "        return True\n",
    "    else:\n",
    "        return False\n",
    "\n",
    "# считываем данные\n",
    "text = input()\n",
    "\n",
    "# вызываем функцию\n",
    "print(is_pangram(text))"
   ]
  },
  {
   "cell_type": "code",
   "execution_count": null,
   "metadata": {},
   "outputs": [],
   "source": [
    "# объявление функции\n",
    "def number_to_words(num):\n",
    "    zero_to_ninety_nine = ['ноль', 'один', 'два', 'три', 'четыре', 'пять', 'шесть', 'семь', 'восемь', \n",
    "                           'девять', 'десять', 'одиннадцать', 'двенадцать', 'тринадцать', 'четырнадцать', 'пятнадцать', 'шестнадцать', \n",
    "                           'семнадцать', 'восемнадцать', 'девятнадцать', 'двадцать', 'двадцать один', 'двадцать два', 'двадцать три', \n",
    "                           'двадцать четыре', 'двадцать пять', 'двадцать шесть', 'двадцать семь', 'двадцать восемь', 'двадцать девять', \n",
    "                           'тридцать', 'тридцать один', 'тридцать два', 'тридцать три', 'тридцать четыре', 'тридцать пять', 'тридцать шесть', \n",
    "                           'тридцать семь', 'тридцать восемь', 'тридцать девять', 'сорок', 'сорок один', 'сорок два', 'сорок три', \n",
    "                           'сорок четыре', 'сорок пять', 'сорок шесть', 'сорок семь', 'сорок восемь', 'сорок девять', 'пятьдесят', \n",
    "                           'пятьдесят один', 'пятьдесят два', 'пятьдесят три', 'пятьдесят четыре', 'пятьдесят пять', 'пятьдесят шесть', \n",
    "                           'пятьдесят семь', 'пятьдесят восемь', 'пятьдесят девять', 'шестьдесят', 'шестьдесят один', 'шестьдесят два', \n",
    "                           'шестьдесят три', 'шестьдесят четыре', 'шестьдесят пять', 'шестьдесят шесть', 'шестьдесят семь', \n",
    "                           'шестьдесят восемь', 'шестьдесят девять', 'семьдесят', 'семьдесят один', 'семьдесят два', \n",
    "                           'семьдесят три', 'семьдесят четыре', 'семьдесят пять', 'семьдесят шесть', 'семьдесят семь', \n",
    "                           'семьдесят восемь', 'семьдесят девять', 'восемьдесят', 'восемьдесят один', 'восемьдесят два', \n",
    "                           'восемьдесят три', 'восемьдесят четыре', 'восемьдесят пять', 'восемьдесят шесть', 'восемьдесят семь', \n",
    "                           'восемьдесят восемь', 'восемьдесят девять', 'девяносто', 'девяносто один', 'девяносто два', 'девяносто три', \n",
    "                           'девяносто четыре', 'девяносто пять', 'девяносто шесть', 'девяносто семь', 'девяносто восемь', 'девяносто девять']\n",
    "    return zero_to_ninety_nine[num]\n",
    "\n",
    "# считываем данные\n",
    "n = int(input())\n",
    "\n",
    "# вызываем функцию\n",
    "print(number_to_words(n))\n",
    "\n"
   ]
  },
  {
   "cell_type": "code",
   "execution_count": 14,
   "metadata": {},
   "outputs": [
    {
     "name": "stdout",
     "output_type": "stream",
     "text": [
      "       *\n",
      "      ***\n",
      "     *****\n",
      "    *******\n",
      "   *********\n",
      "  ***********\n",
      " *************\n",
      "***************\n"
     ]
    }
   ],
   "source": [
    "# объявление функции\n",
    "def draw_triangle():\n",
    "    for i in range (8):\n",
    "        print(' ' * (8 - 1 - i) + '*' * (1 + i * 2))\n",
    "\n",
    "# основная программа\n",
    "draw_triangle()  # вызов функции\n",
    "\n"
   ]
  },
  {
   "cell_type": "code",
   "execution_count": 21,
   "metadata": {},
   "outputs": [
    {
     "name": "stdout",
     "output_type": "stream",
     "text": [
      "1\n"
     ]
    }
   ],
   "source": [
    "from math import factorial\n",
    "# объявление функции\n",
    "def compute_binom(n, k):\n",
    "    return int(factorial(n)/(factorial(k)*factorial(n-k)))\n",
    "\n",
    "# считываем данные\n",
    "n = int(input())\n",
    "k = int(input())\n",
    "\n",
    "# вызываем функцию\n",
    "print(compute_binom(n, k))"
   ]
  },
  {
   "cell_type": "code",
   "execution_count": 24,
   "metadata": {},
   "outputs": [
    {
     "name": "stdout",
     "output_type": "stream",
     "text": [
      "12\n"
     ]
    }
   ],
   "source": [
    "n=int(input())\n",
    "print(1 + ((n - 1) % 9))"
   ]
  },
  {
   "cell_type": "code",
   "execution_count": 26,
   "metadata": {},
   "outputs": [
    {
     "name": "stdout",
     "output_type": "stream",
     "text": [
      "66 144\n"
     ]
    }
   ],
   "source": [
    "# Поиск числа с максимальной суммой делителей и суммы его делителей\n",
    "a = int(input()) # Начало отрезка\n",
    "b = int(input()) # Конец отрезка\n",
    "max_sum = 0 # Максимальная сумма делителей\n",
    "max_num = 0 # Число с максимальной суммой делителей\n",
    "for i in range(a, b + 1): # Перебираем все числа от a до b\n",
    "    sum = 0 # Сумма делителей текущего числа\n",
    "    for j in range(1, i + 1): # Перебираем все делители от 1 до i\n",
    "        if i % j == 0: # Если j делит i без остатка\n",
    "            sum += j # Добавляем j к сумме\n",
    "    if sum > max_sum: # Если сумма больше максимальной\n",
    "        max_sum = sum # Обновляем максимальную сумму\n",
    "        max_num = i # Запоминаем число\n",
    "print(max_num, max_sum) # Выводим число и сумму его делителей на одной строке, разделенных пробелом\n"
   ]
  },
  {
   "cell_type": "code",
   "execution_count": null,
   "metadata": {},
   "outputs": [],
   "source": [
    "from math import log2\n",
    "\n",
    "from math import ceil\n",
    "\n",
    "a = int(input())\n",
    "\n",
    "print(ceil(log2(a)))"
   ]
  },
  {
   "cell_type": "code",
   "execution_count": 28,
   "metadata": {},
   "outputs": [
    {
     "name": "stdout",
     "output_type": "stream",
     "text": [
      "1010\n",
      "12\n",
      "A\n"
     ]
    }
   ],
   "source": [
    "num = int(input())\n",
    "\n",
    "\n",
    "bin_num = bin(num)  # 0b1111111\n",
    "oct_num = oct(num)  # 0o177\n",
    "hex_num = hex(num).upper()  # 0x7f\n",
    "\n",
    "print(bin_num[2:])  # 1111111\n",
    "print(oct_num[2:])  # 177\n",
    "print(hex_num[2:])  # 7f"
   ]
  }
 ],
 "metadata": {
  "kernelspec": {
   "display_name": "Python 3",
   "language": "python",
   "name": "python3"
  },
  "language_info": {
   "codemirror_mode": {
    "name": "ipython",
    "version": 3
   },
   "file_extension": ".py",
   "mimetype": "text/x-python",
   "name": "python",
   "nbconvert_exporter": "python",
   "pygments_lexer": "ipython3",
   "version": "3.11.4"
  },
  "orig_nbformat": 4
 },
 "nbformat": 4,
 "nbformat_minor": 2
}
