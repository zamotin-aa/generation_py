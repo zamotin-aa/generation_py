{
 "cells": [
  {
   "cell_type": "code",
   "execution_count": 1,
   "metadata": {},
   "outputs": [
    {
     "name": "stdout",
     "output_type": "stream",
     "text": [
      "1.4142135623730951\n",
      "4\n",
      "3\n"
     ]
    }
   ],
   "source": [
    "import math\n",
    "\n",
    "num1 = math.sqrt(2)     # вычисление квадратного корня из двух\n",
    "num2 = math.ceil(3.8)   # округление числа вверх\n",
    "num3 = math.floor(3.8)  # округление числа вниз\n",
    "\n",
    "print(num1)\n",
    "print(num2)\n",
    "print(num3)"
   ]
  },
  {
   "cell_type": "code",
   "execution_count": null,
   "metadata": {},
   "outputs": [],
   "source": [
    "# При таком способе подключения, импортируются абсолютно все функции модуля\n",
    "\n",
    "from math import *\n",
    "\n",
    "num1 = sqrt(2)     # вычисление корня квадратного из двух\n",
    "num2 = ceil(3.8)   # округление числа вверх\n",
    "num3 = floor(3.8)  # округление числа вниз\n",
    "\n",
    "print(num1)\n",
    "print(num2)\n",
    "print(num3)"
   ]
  },
  {
   "cell_type": "code",
   "execution_count": 2,
   "metadata": {},
   "outputs": [
    {
     "name": "stdout",
     "output_type": "stream",
     "text": [
      "28.0\n"
     ]
    }
   ],
   "source": [
    "from math import *\n",
    "x1 = float(input())\n",
    "y1 = float(input())\n",
    "x2 = float(input())\n",
    "y2 = float(input())\n",
    "\n",
    "print(sqrt(pow(x1-x2, 2)+pow(y1-y2, 2)))\n",
    "# (sqrt(x)\tКвадратный корень числа x\n",
    "# pow(x, n)\tВозведение числа x в степень n)"
   ]
  },
  {
   "cell_type": "code",
   "execution_count": 4,
   "metadata": {},
   "outputs": [
    {
     "name": "stdout",
     "output_type": "stream",
     "text": [
      "706.8583470577034\n",
      "94.24777960769379\n"
     ]
    }
   ],
   "source": [
    "from math import *\n",
    "R = float(input())\n",
    "print(pi*R*R, 2*pi*R, sep='\\n')\n"
   ]
  },
  {
   "cell_type": "code",
   "execution_count": 5,
   "metadata": {},
   "outputs": [
    {
     "name": "stdout",
     "output_type": "stream",
     "text": [
      "4.0\n",
      "3.872983346207417\n",
      "3.75\n",
      "4.123105625617661\n"
     ]
    }
   ],
   "source": [
    "from math import *\n",
    "a = float(input())\n",
    "b = float(input())\n",
    "\n",
    "print((a+b)/2, sqrt(a*b), 2*a*b/(a+b), sqrt((a*a + b*b)/2), sep='\\n')"
   ]
  },
  {
   "cell_type": "code",
   "execution_count": null,
   "metadata": {},
   "outputs": [],
   "source": [
    "from math import *\n",
    "x = float(input())\n",
    "\n",
    "x = x*pi/180\n",
    "\n",
    "print(sin(x)+ cos(x)+ tan(x)**2)"
   ]
  },
  {
   "cell_type": "code",
   "execution_count": 6,
   "metadata": {},
   "outputs": [
    {
     "name": "stdout",
     "output_type": "stream",
     "text": [
      "9\n"
     ]
    }
   ],
   "source": [
    "from math import *\n",
    "x = float(input())\n",
    "print(floor(x)+ceil(x))"
   ]
  },
  {
   "cell_type": "code",
   "execution_count": 10,
   "metadata": {},
   "outputs": [
    {
     "name": "stdout",
     "output_type": "stream",
     "text": [
      "0.0\n",
      "-4.0\n"
     ]
    }
   ],
   "source": [
    "from math import *\n",
    "a = float(input())\n",
    "b = float(input())\n",
    "c = float(input())\n",
    "D=b**2-4*a*c\n",
    "\n",
    "if(D<0):\n",
    "    print('Нет корней')\n",
    "elif(D==0):\n",
    "    print(-b/(2*a))\n",
    "elif(D>0):\n",
    "    x1=(-b+sqrt(D))/(2*a)\n",
    "    x2=(-b-sqrt(D))/(2*a)\n",
    "    print(min(x1, x2), max(x1, x2), sep='\\n')"
   ]
  },
  {
   "cell_type": "code",
   "execution_count": 12,
   "metadata": {},
   "outputs": [
    {
     "name": "stdout",
     "output_type": "stream",
     "text": [
      "1.7320508075688779\n"
     ]
    }
   ],
   "source": [
    "from math import *\n",
    "n = int(input())\n",
    "a = float(input())\n",
    "print((n*a*a)/(4*tan(pi/n)))"
   ]
  }
 ],
 "metadata": {
  "kernelspec": {
   "display_name": "Python 3",
   "language": "python",
   "name": "python3"
  },
  "language_info": {
   "codemirror_mode": {
    "name": "ipython",
    "version": 3
   },
   "file_extension": ".py",
   "mimetype": "text/x-python",
   "name": "python",
   "nbconvert_exporter": "python",
   "pygments_lexer": "ipython3",
   "version": "3.11.4"
  },
  "orig_nbformat": 4
 },
 "nbformat": 4,
 "nbformat_minor": 2
}
