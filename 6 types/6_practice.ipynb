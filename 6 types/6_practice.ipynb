{
 "cells": [
  {
   "cell_type": "code",
   "execution_count": 1,
   "metadata": {},
   "outputs": [
    {
     "name": "stdout",
     "output_type": "stream",
     "text": [
      "@@@\n"
     ]
    }
   ],
   "source": [
    "print('@@@')"
   ]
  },
  {
   "cell_type": "code",
   "execution_count": 2,
   "metadata": {},
   "outputs": [
    {
     "name": "stdout",
     "output_type": "stream",
     "text": [
      "13 + 7 = 20\n",
      "13 - 7 = 6\n",
      "13 * 7 = 91\n",
      "13 / 7 = 1.8571428571428572\n",
      "13 // 7 = 1\n",
      "13 % 7 = 6\n",
      "13 ** 7 = 62748517\n"
     ]
    }
   ],
   "source": [
    "a = 13\n",
    "b = 7\n",
    "\n",
    "total = a + b\n",
    "diff = a - b\n",
    "prod = a * b\n",
    "div1 = a / b\n",
    "div2 = a // b\n",
    "mod = a % b\n",
    "exp = a ** b\n",
    "\n",
    "print(a, '+', b, '=', total)\n",
    "print(a, '-', b, '=', diff)\n",
    "print(a, '*', b, '=', prod)\n",
    "print(a, '/', b, '=', div1) #просто деление\n",
    "print(a, '//', b, '=', div2) #целочисленное деление\n",
    "print(a, '%', b, '=', mod) #остаток от деления\n",
    "print(a, '**', b, '=', exp) #возведение в степень"
   ]
  },
  {
   "cell_type": "code",
   "execution_count": null,
   "metadata": {},
   "outputs": [],
   "source": [
    "num = float(input()) # преобразование считанной строки в число с плавающей точкой\n",
    "n = float('1.2345')  # преобразование строки к числу с плавающей точкой\n"
   ]
  },
  {
   "cell_type": "code",
   "execution_count": 3,
   "metadata": {},
   "outputs": [
    {
     "name": "stdout",
     "output_type": "stream",
     "text": [
      "13.5 + 2.0 = 15.5\n",
      "13.5 - 2.0 = 11.5\n",
      "13.5 * 2.0 = 27.0\n",
      "13.5 / 2.0 = 6.75\n",
      "13.5 ** 2.0 = 182.25\n"
     ]
    }
   ],
   "source": [
    "a = 13.5\n",
    "b = 2.0\n",
    "\n",
    "total = a + b\n",
    "diff = a - b\n",
    "prod = a * b\n",
    "div = a / b\n",
    "exp = a ** b\n",
    "\n",
    "print(a, '+', b, '=', total)\n",
    "print(a, '-', b, '=', diff)\n",
    "print(a, '*', b, '=', prod)\n",
    "print(a, '/', b, '=', div)\n",
    "print(a, '**', b, '=', exp)"
   ]
  },
  {
   "cell_type": "code",
   "execution_count": 4,
   "metadata": {},
   "outputs": [
    {
     "name": "stdout",
     "output_type": "stream",
     "text": [
      "17\n",
      "-13\n"
     ]
    }
   ],
   "source": [
    "num1 = 17.89\n",
    "num2 = -13.56\n",
    "num3 = int(num1)\n",
    "num4 = int(num2)\n",
    "print(num3)\n",
    "print(num4)"
   ]
  },
  {
   "cell_type": "code",
   "execution_count": 6,
   "metadata": {},
   "outputs": [
    {
     "name": "stdout",
     "output_type": "stream",
     "text": [
      "22.5\n"
     ]
    }
   ],
   "source": [
    "a=float(input())\n",
    "b=float(input())\n",
    "print(0.5*a*b)"
   ]
  },
  {
   "cell_type": "code",
   "execution_count": 7,
   "metadata": {},
   "outputs": [
    {
     "name": "stdout",
     "output_type": "stream",
     "text": [
      "0.18181818181818182\n"
     ]
    }
   ],
   "source": [
    "\n",
    "s=float(input())\n",
    "v1=float(input())\n",
    "v2=float(input())\n",
    "print(s/(v1+v2))"
   ]
  },
  {
   "cell_type": "code",
   "execution_count": null,
   "metadata": {},
   "outputs": [],
   "source": [
    "a=float(input())\n",
    "if(a==0):\n",
    "    print('Обратного числа не существует')\n",
    "else:\n",
    "    print(1/a)"
   ]
  },
  {
   "cell_type": "code",
   "execution_count": null,
   "metadata": {},
   "outputs": [],
   "source": [
    "a=float(input())\n",
    "print(5*(a-32)/9)"
   ]
  },
  {
   "cell_type": "code",
   "execution_count": 10,
   "metadata": {},
   "outputs": [
    {
     "name": "stdout",
     "output_type": "stream",
     "text": [
      "10.5\n"
     ]
    }
   ],
   "source": [
    "n = int(input())\n",
    "if(n>=1 and n<=2):\n",
    "    age=float(n*10.5)\n",
    "else:\n",
    "    age=float(21+(n-2)*4)\n",
    "print(age)"
   ]
  },
  {
   "cell_type": "code",
   "execution_count": 11,
   "metadata": {},
   "outputs": [
    {
     "name": "stdout",
     "output_type": "stream",
     "text": [
      "5\n"
     ]
    }
   ],
   "source": [
    "# Дано положительное действительное число. \n",
    "# Выведите его первую цифру после десятичной точки.\n",
    "\n",
    "a=float(input())\n",
    "print(int(10*a%10))"
   ]
  },
  {
   "cell_type": "code",
   "execution_count": 12,
   "metadata": {},
   "outputs": [
    {
     "name": "stdout",
     "output_type": "stream",
     "text": [
      "5.200000000016303e-05\n"
     ]
    }
   ],
   "source": [
    "a=float(input())\n",
    "print(a%int(a))"
   ]
  },
  {
   "cell_type": "code",
   "execution_count": 13,
   "metadata": {},
   "outputs": [
    {
     "name": "stdout",
     "output_type": "stream",
     "text": [
      "12\n",
      "-3\n",
      "9.8\n"
     ]
    }
   ],
   "source": [
    "a = max(3, 8, -3, 12, 9)\n",
    "b = min(3, 8, -3, 12, 9)\n",
    "c = max(3.14, 2.17, 9.8)\n",
    "print(a)\n",
    "print(b)\n",
    "print(c)"
   ]
  },
  {
   "cell_type": "code",
   "execution_count": 14,
   "metadata": {},
   "outputs": [
    {
     "name": "stdout",
     "output_type": "stream",
     "text": [
      "10\n",
      "7\n",
      "0\n",
      "17.67\n"
     ]
    }
   ],
   "source": [
    "print(abs(10))\n",
    "print(abs(-7))\n",
    "print(abs(0))\n",
    "print(abs(-17.67))"
   ]
  },
  {
   "cell_type": "code",
   "execution_count": 15,
   "metadata": {},
   "outputs": [
    {
     "name": "stdout",
     "output_type": "stream",
     "text": [
      "16\n"
     ]
    }
   ],
   "source": [
    "num = max(1, 3, -5, 7) + min(-3, 6, -8, -1) + abs(-17)\n",
    "print(num)"
   ]
  },
  {
   "cell_type": "code",
   "execution_count": 16,
   "metadata": {},
   "outputs": [
    {
     "name": "stdout",
     "output_type": "stream",
     "text": [
      "Наименьшее число = 1\n",
      "Наибольшее число = 6\n"
     ]
    }
   ],
   "source": [
    "a1 = int(input())\n",
    "a2 = int(input())\n",
    "a3 = int(input())\n",
    "a4 = int(input())\n",
    "a5 = int(input())\n",
    "print('Наименьшее число =', min(a1, a2, a3, a4, a5))\n",
    "print('Наибольшее число =', max(a1, a2, a3, a4, a5))\n"
   ]
  },
  {
   "cell_type": "code",
   "execution_count": 17,
   "metadata": {},
   "outputs": [
    {
     "name": "stdout",
     "output_type": "stream",
     "text": [
      "69\n",
      "52\n",
      "0\n"
     ]
    }
   ],
   "source": [
    "a1 = int(input())\n",
    "a2 = int(input())\n",
    "a3 = int(input())\n",
    "\n",
    "print(max(a1, a2, a3))\n",
    "print(a1+a2+a3-max(a1, a2, a3)-min(a1, a2, a3))\n",
    "print(min(a1, a2, a3))"
   ]
  },
  {
   "cell_type": "code",
   "execution_count": 19,
   "metadata": {},
   "outputs": [
    {
     "name": "stdout",
     "output_type": "stream",
     "text": [
      "9 8 5\n"
     ]
    }
   ],
   "source": [
    "# Назовем число интересным, если в нем разность максимальной и минимальной цифры \n",
    "# равняется средней по величине цифре. \n",
    "# Напишите программу, которая определяет, интересное число или нет. \n",
    "# Если число интересное, следует вывести «Число интересное», иначе - «Число неинтересное».\n",
    "\n",
    "# На вход программе подается целое трехзначное число.\n",
    "\n",
    "a = int(input())\n",
    "\n",
    "a1=a//100\n",
    "a2=a%100//10\n",
    "a3=a%10\n",
    "\n",
    "aver=a1+a2+a3-max(a1, a2, a3)-min(a1, a2, a3)\n",
    "\n",
    "if(max(a1, a2, a3)-min(a1, a2, a3)==aver):\n",
    "    print('Число интересное')\n",
    "else:\n",
    "    print('Число неинтересное')\n"
   ]
  },
  {
   "cell_type": "code",
   "execution_count": null,
   "metadata": {},
   "outputs": [],
   "source": [
    "a1 = float(input())\n",
    "a2 = float(input())\n",
    "a3 = float(input())\n",
    "a4 = float(input())\n",
    "a5 = float(input())\n",
    "\n",
    "print(abs(a1)+abs(a2)+abs(a3)+abs(a4)+abs(a5))"
   ]
  },
  {
   "cell_type": "code",
   "execution_count": null,
   "metadata": {},
   "outputs": [],
   "source": [
    "a1 = int(input())\n",
    "a2 = int(input())\n",
    "a3 = int(input())\n",
    "a4 = int(input())\n",
    "\n",
    "print(abs(a1-a3)+abs(a2-a4))"
   ]
  },
  {
   "cell_type": "code",
   "execution_count": 20,
   "metadata": {},
   "outputs": [
    {
     "name": "stdout",
     "output_type": "stream",
     "text": [
      "6\n",
      "13\n"
     ]
    }
   ],
   "source": [
    "s1 = 'abcdef'\n",
    "length1 = len(s1)               # считаем длину строки из переменной s1\n",
    "length2 = len('Python rocks!')  # считаем длину строкового литерала\n",
    "print(length1)\n",
    "print(length2)"
   ]
  },
  {
   "cell_type": "code",
   "execution_count": 21,
   "metadata": {},
   "outputs": [],
   "source": [
    "num1 = 1777    # целое число\n",
    "num2 = 17.77   # число с плавающей точкой\n",
    "s1 = str(num1) # преобразовали целое число в строку '1777'\n",
    "s2 = str(num2) # преобразовали число с плавающей точкой в строку '17.77'"
   ]
  },
  {
   "cell_type": "code",
   "execution_count": 22,
   "metadata": {},
   "outputs": [
    {
     "name": "stdout",
     "output_type": "stream",
     "text": [
      "abbc\n",
      "bcab\n",
      "abbcbcab!!\n"
     ]
    }
   ],
   "source": [
    "s1 = 'ab' + 'bc'\n",
    "s2 = 'bc' + 'ab'\n",
    "s3 = s1 + s2 + '!!'\n",
    "print(s1)\n",
    "print(s2)\n",
    "print(s3)"
   ]
  },
  {
   "cell_type": "code",
   "execution_count": 23,
   "metadata": {},
   "outputs": [
    {
     "name": "stdout",
     "output_type": "stream",
     "text": [
      "a*b*c!\n",
      "a*b*c!\n"
     ]
    }
   ],
   "source": [
    "print('a', 'b', 'c', sep='*', end='!')\n",
    "print()  # переход на новую строку\n",
    "print('a' + '*' + 'b' + '*' + 'c' + '!')"
   ]
  },
  {
   "cell_type": "code",
   "execution_count": 24,
   "metadata": {},
   "outputs": [
    {
     "name": "stdout",
     "output_type": "stream",
     "text": [
      "HiHiHiHi\n"
     ]
    }
   ],
   "source": [
    "s = 'Hi' * 4\n",
    "print(s)"
   ]
  },
  {
   "cell_type": "code",
   "execution_count": 25,
   "metadata": {},
   "outputs": [
    {
     "name": "stdout",
     "output_type": "stream",
     "text": [
      "---------------------------------------------------------------------------\n"
     ]
    }
   ],
   "source": [
    "print('-' * 75)"
   ]
  },
  {
   "cell_type": "code",
   "execution_count": 26,
   "metadata": {},
   "outputs": [],
   "source": [
    "text = '''Python is an interpreted, high-level, general-purpose programming language.\n",
    "Created by Guido van Rossum and first released in 1991, Python design \n",
    "philosophy emphasizes code readability with its notable use of significant whitespace.'''"
   ]
  },
  {
   "cell_type": "code",
   "execution_count": 27,
   "metadata": {},
   "outputs": [
    {
     "name": "stdout",
     "output_type": "stream",
     "text": [
      "Мы можем использовать в одиночных кавычках двойные кавычки \"Война и мир\"\n",
      "Мы можем использовать в двойных кавычках одиночные кавычки 'Война и мир'\n"
     ]
    }
   ],
   "source": [
    "s1 = 'Мы можем использовать в одиночных кавычках двойные кавычки \"Война и мир\"'\n",
    "s2 = \"Мы можем использовать в двойных кавычках одиночные кавычки 'Война и мир'\"\n",
    "print(s1)\n",
    "print(s2)"
   ]
  },
  {
   "cell_type": "code",
   "execution_count": 28,
   "metadata": {},
   "outputs": [
    {
     "name": "stdout",
     "output_type": "stream",
     "text": [
      "данетда\n"
     ]
    }
   ],
   "source": [
    "mystr = 'да'\n",
    "mystr = mystr + 'нет'\n",
    "mystr = mystr + 'да'\n",
    "print(mystr)"
   ]
  },
  {
   "cell_type": "code",
   "execution_count": 29,
   "metadata": {},
   "outputs": [
    {
     "name": "stdout",
     "output_type": "stream",
     "text": [
      "121312141213121\n"
     ]
    }
   ],
   "source": [
    "str1 = '1'\n",
    "str2 = str1 + '2' + str1\n",
    "str3 = str2 + '3' + str2\n",
    "str4 = str3 + '4' + str3\n",
    "print(str4)"
   ]
  },
  {
   "cell_type": "code",
   "execution_count": 30,
   "metadata": {},
   "outputs": [
    {
     "name": "stdout",
     "output_type": "stream",
     "text": [
      "123123123456456789\n"
     ]
    }
   ],
   "source": [
    "mystr = '123' * 3 + '456' * 2 + '789' * 1\n",
    "print(mystr)"
   ]
  },
  {
   "cell_type": "code",
   "execution_count": 31,
   "metadata": {},
   "outputs": [
    {
     "name": "stdout",
     "output_type": "stream",
     "text": [
      "\"Python is a great language!\", said Fred. \"I don't ever remember having this much fun before.\"\n"
     ]
    }
   ],
   "source": [
    "s = '''\"Python is a great language!\", said Fred. \"I don't ever remember having this much fun before.\"'''\n",
    "print(s)"
   ]
  },
  {
   "cell_type": "code",
   "execution_count": 32,
   "metadata": {},
   "outputs": [
    {
     "name": "stdout",
     "output_type": "stream",
     "text": [
      "Hello aaaa dddd\n"
     ]
    }
   ],
   "source": [
    "a1 = str(input())\n",
    "a2 = str(input())\n",
    "message = 'Hello '+a1+' '+a2+'! You have just delved into Python'\n",
    "print(message)"
   ]
  },
  {
   "cell_type": "code",
   "execution_count": 35,
   "metadata": {},
   "outputs": [
    {
     "name": "stdout",
     "output_type": "stream",
     "text": [
      "Футбольная команда dfgdfgdsfg имеет длину 10 символов\n"
     ]
    }
   ],
   "source": [
    "a = str(input())\n",
    "x=str(len(a))\n",
    "message = 'Футбольная команда '+a+' имеет длину '+x+' символов'\n",
    "print(message)"
   ]
  },
  {
   "cell_type": "code",
   "execution_count": null,
   "metadata": {},
   "outputs": [],
   "source": [
    "a = str(input())\n",
    "b = str(input())\n",
    "c = str(input())\n",
    "\n",
    "L1=len(a)\n",
    "L2=len(b)\n",
    "L3=len(c)\n",
    "\n",
    "if(min(L1, L2, L3)==L1):\n",
    "    print(a)\n",
    "elif(min(L1, L2, L3)==L2):\n",
    "    print(b)\n",
    "elif(min(L1, L2, L3)==L3):\n",
    "    print(c)\n",
    "\n",
    "if(max(L1, L2, L3)==L1):\n",
    "    print(a)\n",
    "elif(max(L1, L2, L3)==L2):\n",
    "    print(b)\n",
    "elif(max(L1, L2, L3)==L3):\n",
    "    print(c)"
   ]
  },
  {
   "cell_type": "code",
   "execution_count": null,
   "metadata": {},
   "outputs": [],
   "source": [
    "# Вводятся 3 строки в случайном порядке. \n",
    "# Напишите программу, которая выясняет, можно ли из длин этих строк построить арифметическую прогрессию."
   ]
  },
  {
   "cell_type": "code",
   "execution_count": null,
   "metadata": {},
   "outputs": [],
   "source": [
    "a = str(input())\n",
    "b = str(input())\n",
    "c = str(input())\n",
    "\n",
    "L1=len(a)\n",
    "L2=len(b)\n",
    "L3=len(c)\n",
    "\n",
    "if(L3-L2==L2-L1 or L2-L3==L3-L1 or L3-L1==L1-L2 or L1-L3==L3-L2 or L1-L2==L2-L3 or L2-L1==L1-L3):\n",
    "    print('YES')\n",
    "else:\n",
    "    print('NO')"
   ]
  },
  {
   "cell_type": "code",
   "execution_count": 36,
   "metadata": {},
   "outputs": [
    {
     "name": "stdout",
     "output_type": "stream",
     "text": [
      "Введенная строка не содержит символ а\n"
     ]
    }
   ],
   "source": [
    "s = input()\n",
    "if 'a' in s:\n",
    "    print('Введенная строка содержит символ а')\n",
    "else:\n",
    "    print('Введенная строка не содержит символ а')"
   ]
  },
  {
   "cell_type": "code",
   "execution_count": 37,
   "metadata": {},
   "outputs": [
    {
     "name": "stdout",
     "output_type": "stream",
     "text": [
      "Введенная строка не содержит символа точки\n"
     ]
    }
   ],
   "source": [
    "s = input()\n",
    "if '.' not in s:\n",
    "    print('Введенная строка не содержит символа точки')"
   ]
  },
  {
   "cell_type": "code",
   "execution_count": 39,
   "metadata": {},
   "outputs": [
    {
     "name": "stdout",
     "output_type": "stream",
     "text": [
      "NO\n"
     ]
    }
   ],
   "source": [
    "s = input()\n",
    "if 'синий' in s:\n",
    "    print('YES')\n",
    "else:\n",
    "    print('NO')"
   ]
  },
  {
   "cell_type": "code",
   "execution_count": null,
   "metadata": {},
   "outputs": [],
   "source": [
    "s = input()\n",
    "if 'суббота' in s or 'воскресенье' in s :\n",
    "    print('YES')\n",
    "else:\n",
    "    print('NO')"
   ]
  },
  {
   "cell_type": "code",
   "execution_count": null,
   "metadata": {},
   "outputs": [],
   "source": [
    "s = input()\n",
    "if '@' in s and '.' in s :\n",
    "    print('YES')\n",
    "else:\n",
    "    print('NO')"
   ]
  }
 ],
 "metadata": {
  "kernelspec": {
   "display_name": "Python 3",
   "language": "python",
   "name": "python3"
  },
  "language_info": {
   "codemirror_mode": {
    "name": "ipython",
    "version": 3
   },
   "file_extension": ".py",
   "mimetype": "text/x-python",
   "name": "python",
   "nbconvert_exporter": "python",
   "pygments_lexer": "ipython3",
   "version": "3.11.4"
  },
  "orig_nbformat": 4
 },
 "nbformat": 4,
 "nbformat_minor": 2
}
