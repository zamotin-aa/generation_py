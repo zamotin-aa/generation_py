{
 "cells": [
  {
   "cell_type": "code",
   "execution_count": 2,
   "metadata": {},
   "outputs": [
    {
     "name": "stdout",
     "output_type": "stream",
     "text": [
      "Создателем языка C# является Андерс Хейлсберг\n"
     ]
    }
   ],
   "source": [
    "languages = {'Python': 'Гвидо ван Россум', \n",
    "             'C#': 'Андерс Хейлсберг', \n",
    "             'Java': 'Джеймс Гослинг', \n",
    "             'C++': 'Бьёрн Страуструп'}\n",
    "\n",
    "print('Создателем языка C# является', languages['C' + '#'])"
   ]
  },
  {
   "cell_type": "code",
   "execution_count": 3,
   "metadata": {},
   "outputs": [
    {
     "name": "stdout",
     "output_type": "stream",
     "text": [
      "ввв\n"
     ]
    }
   ],
   "source": [
    "stuff = {1: 'ааа', 2: 'ббб', 3: 'ввв'}\n",
    "\n",
    "print(stuff[3])"
   ]
  },
  {
   "cell_type": "code",
   "execution_count": 4,
   "metadata": {},
   "outputs": [
    {
     "name": "stdout",
     "output_type": "stream",
     "text": [
      "{'first': 1, 'second': 2, 'third': 3}\n"
     ]
    }
   ],
   "source": [
    "my_dict = dict([('first', 1), ('second', 2), ('third', 3)])\n",
    "\n",
    "print(my_dict)"
   ]
  },
  {
   "cell_type": "code",
   "execution_count": 5,
   "metadata": {},
   "outputs": [
    {
     "name": "stdout",
     "output_type": "stream",
     "text": [
      "-1\n"
     ]
    }
   ],
   "source": [
    "my_dict = dict.fromkeys(['a', 'b', 'c'], -1)\n",
    "\n",
    "print(my_dict['b'])"
   ]
  },
  {
   "cell_type": "code",
   "execution_count": 6,
   "metadata": {},
   "outputs": [
    {
     "ename": "KeyError",
     "evalue": "'d'",
     "output_type": "error",
     "traceback": [
      "\u001b[1;31m---------------------------------------------------------------------------\u001b[0m",
      "\u001b[1;31mKeyError\u001b[0m                                  Traceback (most recent call last)",
      "\u001b[1;32mc:\\Users\\PC\\Desktop\\Учебное2023\\generation_py\\15_GPY_2\\GPY_2_4.ipynb Ячейка 5\u001b[0m line \u001b[0;36m3\n\u001b[0;32m      <a href='vscode-notebook-cell:/c%3A/Users/PC/Desktop/%D0%A3%D1%87%D0%B5%D0%B1%D0%BD%D0%BE%D0%B52023/generation_py/15_GPY_2/GPY_2_4.ipynb#W4sZmlsZQ%3D%3D?line=0'>1</a>\u001b[0m my_dict \u001b[39m=\u001b[39m \u001b[39mdict\u001b[39m\u001b[39m.\u001b[39mfromkeys([\u001b[39m'\u001b[39m\u001b[39ma\u001b[39m\u001b[39m'\u001b[39m, \u001b[39m'\u001b[39m\u001b[39mb\u001b[39m\u001b[39m'\u001b[39m, \u001b[39m'\u001b[39m\u001b[39mc\u001b[39m\u001b[39m'\u001b[39m], \u001b[39m-\u001b[39m\u001b[39m1\u001b[39m)\n\u001b[1;32m----> <a href='vscode-notebook-cell:/c%3A/Users/PC/Desktop/%D0%A3%D1%87%D0%B5%D0%B1%D0%BD%D0%BE%D0%B52023/generation_py/15_GPY_2/GPY_2_4.ipynb#W4sZmlsZQ%3D%3D?line=2'>3</a>\u001b[0m \u001b[39mprint\u001b[39m(my_dict[\u001b[39m'\u001b[39;49m\u001b[39md\u001b[39;49m\u001b[39m'\u001b[39;49m])\n",
      "\u001b[1;31mKeyError\u001b[0m: 'd'"
     ]
    }
   ],
   "source": [
    "my_dict = dict.fromkeys(['a', 'b', 'c'], -1)\n",
    "\n",
    "print(my_dict['d'])"
   ]
  },
  {
   "cell_type": "code",
   "execution_count": 7,
   "metadata": {},
   "outputs": [
    {
     "name": "stdout",
     "output_type": "stream",
     "text": [
      "3\n"
     ]
    }
   ],
   "source": [
    "my_dict = {1: [0, 1], 2: [2, 3], 3: [4, 5]}\n",
    "\n",
    "print(my_dict[2][1])"
   ]
  },
  {
   "cell_type": "code",
   "execution_count": 8,
   "metadata": {},
   "outputs": [
    {
     "name": "stdout",
     "output_type": "stream",
     "text": [
      "True\n"
     ]
    }
   ],
   "source": [
    "dict1 = {'key1':1, 'key2':2}\n",
    "dict2 = {'key2':2, 'key1':1}\n",
    "\n",
    "print(dict1 == dict2)"
   ]
  },
  {
   "cell_type": "code",
   "execution_count": 9,
   "metadata": {},
   "outputs": [
    {
     "ename": "TypeError",
     "evalue": "unhashable type: 'slice'",
     "output_type": "error",
     "traceback": [
      "\u001b[1;31m---------------------------------------------------------------------------\u001b[0m",
      "\u001b[1;31mTypeError\u001b[0m                                 Traceback (most recent call last)",
      "\u001b[1;32mc:\\Users\\PC\\Desktop\\Учебное2023\\generation_py\\15_GPY_2\\GPY_2_4.ipynb Ячейка 8\u001b[0m line \u001b[0;36m3\n\u001b[0;32m      <a href='vscode-notebook-cell:/c%3A/Users/PC/Desktop/%D0%A3%D1%87%D0%B5%D0%B1%D0%BD%D0%BE%D0%B52023/generation_py/15_GPY_2/GPY_2_4.ipynb#X10sZmlsZQ%3D%3D?line=0'>1</a>\u001b[0m my_dict \u001b[39m=\u001b[39m {\u001b[39m'\u001b[39m\u001b[39mfoo\u001b[39m\u001b[39m'\u001b[39m: \u001b[39m100\u001b[39m, \u001b[39m'\u001b[39m\u001b[39mbar\u001b[39m\u001b[39m'\u001b[39m: \u001b[39m200\u001b[39m, \u001b[39m'\u001b[39m\u001b[39mbaz\u001b[39m\u001b[39m'\u001b[39m: \u001b[39m300\u001b[39m}\n\u001b[1;32m----> <a href='vscode-notebook-cell:/c%3A/Users/PC/Desktop/%D0%A3%D1%87%D0%B5%D0%B1%D0%BD%D0%BE%D0%B52023/generation_py/15_GPY_2/GPY_2_4.ipynb#X10sZmlsZQ%3D%3D?line=2'>3</a>\u001b[0m \u001b[39mprint\u001b[39m(my_dict[\u001b[39m'\u001b[39;49m\u001b[39mbar\u001b[39;49m\u001b[39m'\u001b[39;49m:\u001b[39m'\u001b[39;49m\u001b[39mbaz\u001b[39;49m\u001b[39m'\u001b[39;49m])\n",
      "\u001b[1;31mTypeError\u001b[0m: unhashable type: 'slice'"
     ]
    }
   ],
   "source": [
    "my_dict = {'foo': 100, 'bar': 200, 'baz': 300}\n",
    "\n",
    "print(my_dict['bar':'baz'])"
   ]
  },
  {
   "cell_type": "code",
   "execution_count": 10,
   "metadata": {},
   "outputs": [
    {
     "name": "stdout",
     "output_type": "stream",
     "text": [
      "1\n",
      "2\n",
      "3\n"
     ]
    }
   ],
   "source": [
    "my_dict = {1: [0, 1], 2: [2, 3], 3: [4, 5]}\n",
    "\n",
    "for k in my_dict:\n",
    "    print(k)"
   ]
  },
  {
   "cell_type": "code",
   "execution_count": 11,
   "metadata": {},
   "outputs": [
    {
     "name": "stdout",
     "output_type": "stream",
     "text": [
      "[0, 1]\n",
      "[2, 3]\n",
      "[4, 5]\n"
     ]
    }
   ],
   "source": [
    "my_dict = {1: [0, 1], 2: [2, 3], 3: [4, 5]}\n",
    "\n",
    "for k in my_dict.values():\n",
    "    print(k)"
   ]
  },
  {
   "cell_type": "code",
   "execution_count": 42,
   "metadata": {},
   "outputs": [
    {
     "name": "stdout",
     "output_type": "stream",
     "text": [
      "Helga LJ Maria Riyad Ruslan\n"
     ]
    }
   ],
   "source": [
    "# Дополните приведенный код, чтобы он вывел имена всех пользователей (в алфавитном порядке), чей номер оканчивается на 8.\n",
    "# Примечание. Имена необходимо вывести на одной строке, разделяя символом пробела.\n",
    "\n",
    "users = [{'name': 'Todd', 'phone': '551-1414', 'email': 'todd@gmail.com'},\n",
    "         {'name': 'Helga', 'phone': '555-1618', 'email': 'helga@mail.net'},\n",
    "         {'name': 'Olivia', 'phone': '449-3141', 'email': ''},\n",
    "         {'name': 'LJ', 'phone': '555-2718', 'email': 'lj@gmail.net'},\n",
    "         {'name': 'Ruslan', 'phone': '422-145-9098', 'email': 'rus-lan.cha@yandex.ru'},\n",
    "         {'name': 'John', 'phone': '233-421-32', 'email': ''},\n",
    "         {'name': 'Lara', 'phone': '+7998-676-2532', 'email': 'g.lara89@gmail.com'},\n",
    "         {'name': 'Alina', 'phone': '+7948-799-2434', 'email': 'ali.ch.b@gmail.com'},\n",
    "         {'name': 'Robert', 'phone': '420-2011', 'email': ''},\n",
    "         {'name': 'Riyad', 'phone': '128-8890-128', 'email': 'r.mahrez@mail.net'},\n",
    "         {'name': 'Khabib', 'phone': '+7995-600-9080', 'email': 'kh.nurmag@gmail.com'},\n",
    "         {'name': 'Olga', 'phone': '6449-314-1213', 'email': ''},\n",
    "         {'name': 'Roman', 'phone': '+7459-145-8059', 'email': 'roma988@mail.ru'},\n",
    "         {'name': 'Maria', 'phone': '12-129-3148', 'email': 'm.sharapova@gmail.com'},\n",
    "         {'name': 'Fedor', 'phone': '+7445-341-0545', 'email': ''},\n",
    "         {'name': 'Tim', 'phone': '242-449-3141', 'email': 'timm.ggg@yandex.ru'}]\n",
    "\n",
    "set1 = []\n",
    "for i in range(len(users)):\n",
    "    if users[i]['phone'].endswith('8'):\n",
    "        set1.append(users[i]['name'])\n",
    "        \n",
    "print(*sorted(set1))\n",
    "\n",
    "# второй вариант\n",
    "\n",
    "# result = [user['name'] for user in users if user['phone'].endswith('8')]\n",
    "\n",
    "# print(*sorted(result))"
   ]
  },
  {
   "cell_type": "code",
   "execution_count": 60,
   "metadata": {},
   "outputs": [
    {
     "name": "stdout",
     "output_type": "stream",
     "text": [
      "Alina Fedor Helga John Olga Olivia Robert Roman\n"
     ]
    }
   ],
   "source": [
    "# Дополните приведенный код, чтобы он вывел имена всех пользователей (в алфавитном порядке), у которых нет информации об электронной почте. \n",
    "\n",
    "# Примечание 1. Ключ email может отсутствовать в словаре.\n",
    "\n",
    "# Примечание 2. Имена необходимо вывести на одной строке, разделяя символом пробела.\n",
    "\n",
    "\n",
    "users = [{'name': 'Todd', 'phone': '551-1414', 'email': 'todd@gmail.com'},\n",
    "         {'name': 'Helga', 'phone': '555-1618'},\n",
    "         {'name': 'Olivia', 'phone': '449-3141', 'email': ''},\n",
    "         {'name': 'LJ', 'phone': '555-2718', 'email': 'lj@gmail.net'},\n",
    "         {'name': 'Ruslan', 'phone': '422-145-9098', 'email': 'rus-lan.cha@yandex.ru'},\n",
    "         {'name': 'John', 'phone': '233-421-32', 'email': ''},\n",
    "         {'name': 'Lara', 'phone': '+7998-676-2532', 'email': 'g.lara89@gmail.com'},\n",
    "         {'name': 'Alina', 'phone': '+7948-799-2434'},\n",
    "         {'name': 'Robert', 'phone': '420-2011', 'email': ''},\n",
    "         {'name': 'Riyad', 'phone': '128-8890-128', 'email': 'r.mahrez@mail.net'},\n",
    "         {'name': 'Khabib', 'phone': '+7995-600-9080', 'email': 'kh.nurmag@gmail.com'},\n",
    "         {'name': 'Olga', 'phone': '6449-314-1213', 'email': ''},\n",
    "         {'name': 'Roman', 'phone': '+7459-145-8059'},\n",
    "         {'name': 'Maria', 'phone': '12-129-3148', 'email': 'm.sharapova@gmail.com'},\n",
    "         {'name': 'Fedor', 'phone': '+7445-341-0545', 'email': ''},\n",
    "         {'name': 'Tim', 'phone': '242-449-3141', 'email': 'timm.ggg@yandex.ru'}]\n",
    "\n",
    "\n",
    "set1 = []\n",
    "for i in range(len(users)):\n",
    "    if 'email' not in users[i]:\n",
    "        set1.append(users[i]['name'])\n",
    "    elif users[i]['email']=='':\n",
    "        set1.append(users[i]['name'])\n",
    "        \n",
    "print(*sorted(set1))\n",
    "\n",
    "# Альтернатива\n",
    "# print(*sorted([k['name'] for k in users if 'email' not in k or k['email'] == '']))"
   ]
  },
  {
   "cell_type": "code",
   "execution_count": 61,
   "metadata": {},
   "outputs": [
    {
     "name": "stdout",
     "output_type": "stream",
     "text": [
      "five five six\n"
     ]
    }
   ],
   "source": [
    "# Напишите программу, которая будет превращать натуральное число в строку, заменяя все цифры в числе на слова\n",
    "# Формат входных данных\n",
    "# На вход программе подается натуральное число.\n",
    "# Формат выходных данных\n",
    "# Программа должна вывести строковое представление числа.\n",
    "\n",
    "def number_to_words(number, d):\n",
    "    if number == 0:\n",
    "        return d[0]\n",
    "\n",
    "    result = \"\"\n",
    "    while number > 0:\n",
    "        digit = number % 10\n",
    "        result = d[digit] + \" \" + result\n",
    "        number //= 10\n",
    "\n",
    "    return result.strip()\n",
    "\n",
    "d = {\n",
    "    0: \"zero\",\n",
    "    1: \"one\",\n",
    "    2: \"two\",\n",
    "    3: \"three\",\n",
    "    4: \"four\",\n",
    "    5: \"five\",\n",
    "    6: \"six\",\n",
    "    7: \"seven\",\n",
    "    8: \"eight\",\n",
    "    9: \"nine\"\n",
    "}\n",
    "\n",
    "number = int(input())\n",
    "result = number_to_words(number, d)\n",
    "print(result)\n",
    "\n",
    "# альтернатива:\n",
    "# print(*[digits[key] for key in input()])"
   ]
  },
  {
   "cell_type": "code",
   "execution_count": null,
   "metadata": {},
   "outputs": [],
   "source": [
    "# Напишите программу, которая по номеру курса выводит информацию о данном курсе.\n",
    "\n",
    "# Словарь с информацией о курсах\n",
    "courses = {'CS101': ['3004', 'Хайнс', '8:00'],\n",
    "           'CS102': ['4501', 'Альварадо', '9:00'],\n",
    "           'CS103': ['6755', 'Рич', '10:00'],\n",
    "           'NT110': ['1244', 'Берк', '11:00'],\n",
    "           'CM241': ['1411', 'Ли', '13:00']}\n",
    "\n",
    "# Функция для получения информации о курсе по его номеру\n",
    "def get_course_info(course_number):\n",
    "    if course_number in courses:\n",
    "        course_info = courses[course_number]\n",
    "        print(f'{course_number}: ', end='')\n",
    "        print(f'{course_info[0]}, ', end='')\n",
    "        print(f'{course_info[1]}, ', end='')\n",
    "        print(f'{course_info[2]}', end='')\n",
    "    else:\n",
    "        print(f'Курс {course_number} не найден.')\n",
    "\n",
    "# Ввод номера курса от пользователя\n",
    "course_number = input()\n",
    "\n",
    "# Вызов функции для получения информации о курсе\n",
    "get_course_info(course_number)\n",
    "\n",
    "\n",
    "\n",
    "# Альтернатива:\n",
    "# s = input()\n",
    "# print('{}: {}, {}, {}'.format(s, *courses[s]))\n",
    "\n",
    "# Альтернатива:\n",
    "# print(d[input()])\n"
   ]
  },
  {
   "cell_type": "code",
   "execution_count": null,
   "metadata": {},
   "outputs": [],
   "source": [
    "# Словарь с соответствиями между буквами и нажатиями клавиш\n",
    "letter_to_keypresses = {\n",
    "    'A': '2', 'B': '22', 'C': '222',\n",
    "    'D': '3', 'E': '33', 'F': '333',\n",
    "    'G': '4', 'H': '44', 'I': '444',\n",
    "    'J': '5', 'K': '55', 'L': '555',\n",
    "    'M': '6', 'N': '66', 'O': '666',\n",
    "    'P': '7', 'Q': '77', 'R': '777', 'S': '7777',\n",
    "    'T': '8', 'U': '88', 'V': '888',\n",
    "    'W': '9', 'X': '99', 'Y': '999', 'Z': '9999',\n",
    "    ' ': '0',\n",
    "    '.': '1', ',': '11', '?': '111', '!': '1111', ':': '11111'\n",
    "}\n",
    "\n",
    "# Функция для вывода нажатий клавиш для текстового сообщения\n",
    "def print_keypresses(message):\n",
    "    message = message.upper()  # Преобразуем текст в верхний регистр\n",
    "    keypresses = []\n",
    "\n",
    "    for char in message:\n",
    "        if char in letter_to_keypresses:\n",
    "            keypresses.append(letter_to_keypresses[char])\n",
    "\n",
    "    result = ' '.join(keypresses)\n",
    "    print(result)\n",
    "\n",
    "# Ввод текстового сообщения от пользователя\n",
    "message = input('Введите текстовое сообщение: ')\n",
    "\n",
    "# Вызов функции для вывода нажатий клавиш\n",
    "print_keypresses(message)"
   ]
  },
  {
   "cell_type": "code",
   "execution_count": null,
   "metadata": {},
   "outputs": [],
   "source": [
    "# Словарь с соответствиями между буквами и их кодами в азбуке Морзе\n",
    "morse_code_dict = {\n",
    "    'A': '.-', 'B': '-...', 'C': '-.-.', 'D': '-..', 'E': '.', 'F': '..-.', 'G': '--.', 'H': '....',\n",
    "    'I': '..', 'J': '.---', 'K': '-.-', 'L': '.-..', 'M': '--', 'N': '-.', 'O': '---', 'P': '.--.',\n",
    "    'Q': '--.-', 'R': '.-.', 'S': '...', 'T': '-', 'U': '..-', 'V': '...-', 'W': '.--', 'X': '-..-',\n",
    "    'Y': '-.--', 'Z': '--..', '0': '-----', '1': '.----', '2': '..---', '3': '...--', '4': '....-',\n",
    "    '5': '.....', '6': '-....', '7': '--...', '8': '---..', '9': '----.',\n",
    "}\n",
    "\n",
    "# Функция для кодирования текстового сообщения в азбуке Морзе\n",
    "def encode_to_morse(text):\n",
    "    text = text.upper()  # Преобразуем текст в верхний регистр\n",
    "    morse_code = []\n",
    "\n",
    "    for char in text:\n",
    "        if char in morse_code_dict:\n",
    "            morse_code.append(morse_code_dict[char])\n",
    "\n",
    "    result = ' '.join(morse_code)\n",
    "    return result\n",
    "\n",
    "# Ввод текстового сообщения от пользователя\n",
    "message = input('Введите текстовое сообщение: ')\n",
    "\n",
    "# Вызов функции для кодирования в азбуке Морзе и вывод результата\n",
    "encoded_message = encode_to_morse(message)\n",
    "print(encoded_message)\n"
   ]
  }
 ],
 "metadata": {
  "kernelspec": {
   "display_name": "Python 3",
   "language": "python",
   "name": "python3"
  },
  "language_info": {
   "codemirror_mode": {
    "name": "ipython",
    "version": 3
   },
   "file_extension": ".py",
   "mimetype": "text/x-python",
   "name": "python",
   "nbconvert_exporter": "python",
   "pygments_lexer": "ipython3",
   "version": "3.11.4"
  },
  "orig_nbformat": 4
 },
 "nbformat": 4,
 "nbformat_minor": 2
}
