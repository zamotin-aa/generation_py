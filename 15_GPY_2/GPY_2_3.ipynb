{
 "cells": [
  {
   "cell_type": "code",
   "execution_count": 1,
   "metadata": {},
   "outputs": [
    {
     "name": "stdout",
     "output_type": "stream",
     "text": [
      "(0, 1, 3, 14, 2, 7, 9, 8, 10)\n"
     ]
    }
   ],
   "source": [
    "numbers = (0, 1, 3, 14, 2, 7, 9, 8, 10)\n",
    "print(numbers)"
   ]
  },
  {
   "cell_type": "code",
   "execution_count": 2,
   "metadata": {},
   "outputs": [
    {
     "name": "stdout",
     "output_type": "stream",
     "text": [
      "('Michael', 'John', 'Freddie')\n"
     ]
    }
   ],
   "source": [
    "names = ('Michael', 'John', 'Freddie')\n",
    "print(names)"
   ]
  },
  {
   "cell_type": "code",
   "execution_count": 3,
   "metadata": {},
   "outputs": [
    {
     "ename": "TypeError",
     "evalue": "'tuple' object does not support item assignment",
     "output_type": "error",
     "traceback": [
      "\u001b[1;31m---------------------------------------------------------------------------\u001b[0m",
      "\u001b[1;31mTypeError\u001b[0m                                 Traceback (most recent call last)",
      "\u001b[1;32mc:\\Users\\PC\\Desktop\\Учебное2023\\generation_py\\15_GPY_2\\GPY_2_3.ipynb Ячейка 3\u001b[0m line \u001b[0;36m2\n\u001b[0;32m      <a href='vscode-notebook-cell:/c%3A/Users/PC/Desktop/%D0%A3%D1%87%D0%B5%D0%B1%D0%BD%D0%BE%D0%B52023/generation_py/15_GPY_2/GPY_2_3.ipynb#W2sZmlsZQ%3D%3D?line=0'>1</a>\u001b[0m colors \u001b[39m=\u001b[39m (\u001b[39m'\u001b[39m\u001b[39mred\u001b[39m\u001b[39m'\u001b[39m, \u001b[39m'\u001b[39m\u001b[39mgreen\u001b[39m\u001b[39m'\u001b[39m, \u001b[39m'\u001b[39m\u001b[39mblue\u001b[39m\u001b[39m'\u001b[39m)\n\u001b[1;32m----> <a href='vscode-notebook-cell:/c%3A/Users/PC/Desktop/%D0%A3%D1%87%D0%B5%D0%B1%D0%BD%D0%BE%D0%B52023/generation_py/15_GPY_2/GPY_2_3.ipynb#W2sZmlsZQ%3D%3D?line=1'>2</a>\u001b[0m colors[\u001b[39m0\u001b[39;49m] \u001b[39m=\u001b[39m \u001b[39m'\u001b[39m\u001b[39mblack\u001b[39m\u001b[39m'\u001b[39m\n\u001b[0;32m      <a href='vscode-notebook-cell:/c%3A/Users/PC/Desktop/%D0%A3%D1%87%D0%B5%D0%B1%D0%BD%D0%BE%D0%B52023/generation_py/15_GPY_2/GPY_2_3.ipynb#W2sZmlsZQ%3D%3D?line=2'>3</a>\u001b[0m \u001b[39mprint\u001b[39m(colors)\n",
      "\u001b[1;31mTypeError\u001b[0m: 'tuple' object does not support item assignment"
     ]
    }
   ],
   "source": [
    "colors = ('red', 'green', 'blue')\n",
    "colors[0] = 'black'\n",
    "print(colors)"
   ]
  },
  {
   "cell_type": "code",
   "execution_count": 4,
   "metadata": {},
   "outputs": [
    {
     "ename": "TypeError",
     "evalue": "'tuple' object does not support item assignment",
     "output_type": "error",
     "traceback": [
      "\u001b[1;31m---------------------------------------------------------------------------\u001b[0m",
      "\u001b[1;31mTypeError\u001b[0m                                 Traceback (most recent call last)",
      "\u001b[1;32mc:\\Users\\PC\\Desktop\\Учебное2023\\generation_py\\15_GPY_2\\GPY_2_3.ipynb Ячейка 4\u001b[0m line \u001b[0;36m3\n\u001b[0;32m      <a href='vscode-notebook-cell:/c%3A/Users/PC/Desktop/%D0%A3%D1%87%D0%B5%D0%B1%D0%BD%D0%BE%D0%B52023/generation_py/15_GPY_2/GPY_2_3.ipynb#W3sZmlsZQ%3D%3D?line=0'>1</a>\u001b[0m a \u001b[39m=\u001b[39m (\u001b[39m3\u001b[39m, \u001b[39m4\u001b[39m, \u001b[39m5\u001b[39m)\n\u001b[0;32m      <a href='vscode-notebook-cell:/c%3A/Users/PC/Desktop/%D0%A3%D1%87%D0%B5%D0%B1%D0%BD%D0%BE%D0%B52023/generation_py/15_GPY_2/GPY_2_3.ipynb#W3sZmlsZQ%3D%3D?line=1'>2</a>\u001b[0m \u001b[39mfor\u001b[39;00m i \u001b[39min\u001b[39;00m \u001b[39mrange\u001b[39m(\u001b[39m3\u001b[39m):\n\u001b[1;32m----> <a href='vscode-notebook-cell:/c%3A/Users/PC/Desktop/%D0%A3%D1%87%D0%B5%D0%B1%D0%BD%D0%BE%D0%B52023/generation_py/15_GPY_2/GPY_2_3.ipynb#W3sZmlsZQ%3D%3D?line=2'>3</a>\u001b[0m     a[i] \u001b[39m+\u001b[39m\u001b[39m=\u001b[39m \u001b[39m3\u001b[39m\n\u001b[0;32m      <a href='vscode-notebook-cell:/c%3A/Users/PC/Desktop/%D0%A3%D1%87%D0%B5%D0%B1%D0%BD%D0%BE%D0%B52023/generation_py/15_GPY_2/GPY_2_3.ipynb#W3sZmlsZQ%3D%3D?line=3'>4</a>\u001b[0m \u001b[39mprint\u001b[39m(\u001b[39msum\u001b[39m(a))\n",
      "\u001b[1;31mTypeError\u001b[0m: 'tuple' object does not support item assignment"
     ]
    }
   ],
   "source": [
    "a = (3, 4, 5)\n",
    "for i in range(3):\n",
    "    a[i] += 3\n",
    "print(sum(a))"
   ]
  },
  {
   "cell_type": "code",
   "execution_count": 5,
   "metadata": {},
   "outputs": [
    {
     "name": "stdout",
     "output_type": "stream",
     "text": [
      "(1, [17, 3], 4)\n"
     ]
    }
   ],
   "source": [
    "numbers = (1, [2, 3], 4)\n",
    "numbers[1][0] = 17\n",
    "print(numbers)"
   ]
  },
  {
   "cell_type": "code",
   "execution_count": 6,
   "metadata": {},
   "outputs": [
    {
     "name": "stdout",
     "output_type": "stream",
     "text": [
      "2\n"
     ]
    }
   ],
   "source": [
    "numbers = ((0, (9, 2)), (1, (4, 6, 3), (5, 2, 3), 8, 3))\n",
    "print(numbers[0][1][1])"
   ]
  },
  {
   "cell_type": "code",
   "execution_count": 7,
   "metadata": {},
   "outputs": [
    {
     "name": "stdout",
     "output_type": "stream",
     "text": [
      "Italy\n"
     ]
    }
   ],
   "source": [
    "countries = ('Russia', 'Argentina', 'Spain', 'Slovakia', 'Canada', 'Slovenia', 'Italy')\n",
    "last = countries[6]\n",
    "print(last)"
   ]
  },
  {
   "cell_type": "code",
   "execution_count": 10,
   "metadata": {},
   "outputs": [
    {
     "name": "stdout",
     "output_type": "stream",
     "text": [
      "(2, 3, 5, 7, 11, 13)\n"
     ]
    }
   ],
   "source": [
    "primes = (2, 3, 5, 7, 11, 13, 17, 19, 23, 29, 31, 37, 41, 43, 47, 53, 59, 61, 67, 71) \n",
    "print(primes[:6])"
   ]
  },
  {
   "cell_type": "code",
   "execution_count": 11,
   "metadata": {},
   "outputs": [
    {
     "name": "stdout",
     "output_type": "stream",
     "text": [
      "('Slovakia', 'Canada', 'Slovenia', 'Italy', 'Spain', 'Ukraine', 'Chile', 'Cameroon')\n"
     ]
    }
   ],
   "source": [
    "countries = ('Russia', 'Argentina', 'Slovakia', 'Canada', 'Slovenia', 'Italy', 'Spain', 'Ukraine', 'Chile', 'Cameroon')\n",
    "print(countries[2:])"
   ]
  },
  {
   "cell_type": "code",
   "execution_count": 15,
   "metadata": {},
   "outputs": [
    {
     "name": "stdout",
     "output_type": "stream",
     "text": [
      "('Russia', 'Argentina', 'Slovakia', 'Canada', 'Slovenia', 'Italy', 'Spain')\n"
     ]
    }
   ],
   "source": [
    "countries = ('Russia', 'Argentina', 'Slovakia', 'Canada', 'Slovenia', 'Italy', 'Spain', 'Ukraine', 'Chile', 'Cameroon')\n",
    "print(countries[:-3])"
   ]
  },
  {
   "cell_type": "code",
   "execution_count": 16,
   "metadata": {},
   "outputs": [
    {
     "name": "stdout",
     "output_type": "stream",
     "text": [
      "('Canada', 'Slovenia', 'Italy', 'Spain', 'Ukraine')\n"
     ]
    }
   ],
   "source": [
    "countries = ('Russia', 'Argentina', 'Slovakia', 'Canada', 'Slovenia', 'Italy', 'Spain', 'Ukraine', 'Chile', 'Cameroon')\n",
    "print(countries[3:-2])"
   ]
  },
  {
   "cell_type": "code",
   "execution_count": 17,
   "metadata": {},
   "outputs": [
    {
     "name": "stdout",
     "output_type": "stream",
     "text": [
      "7\n"
     ]
    }
   ],
   "source": [
    "countries = ('Romania', 'Poland', 'Estonia', 'Bulgaria', 'Slovakia', 'Slovenia', 'Hungary')\n",
    "number = len(countries)\n",
    "print(number)"
   ]
  },
  {
   "cell_type": "code",
   "execution_count": 18,
   "metadata": {},
   "outputs": [
    {
     "name": "stdout",
     "output_type": "stream",
     "text": [
      "1.1618\n"
     ]
    }
   ],
   "source": [
    "numbers = (12.5, 3.1415, 2.718, 9.8, 1.414, 1.1618, 1.324)\n",
    "\n",
    "print(min(numbers)+max(numbers))"
   ]
  },
  {
   "cell_type": "code",
   "execution_count": 19,
   "metadata": {},
   "outputs": [
    {
     "name": "stdout",
     "output_type": "stream",
     "text": [
      "5\n"
     ]
    }
   ],
   "source": [
    "countries = ('Russia', 'Argentina', 'Spain', 'Slovakia', 'Canada', 'Slovenia', 'Italy')\n",
    "index = countries.index('Slovenia')\n",
    "print(index)"
   ]
  },
  {
   "cell_type": "code",
   "execution_count": 21,
   "metadata": {},
   "outputs": [
    {
     "name": "stdout",
     "output_type": "stream",
     "text": [
      "3\n"
     ]
    }
   ],
   "source": [
    "countries = ('Russia', 'Argentina', 'Spain', 'Slovakia', 'Canada', 'Slovenia', 'Italy', 'Spain', 'Ukraine', 'Chile', 'Spain', 'Cameroon')\n",
    "number = countries.count('Spain')\n",
    "print(number)"
   ]
  },
  {
   "cell_type": "code",
   "execution_count": 23,
   "metadata": {},
   "outputs": [
    {
     "name": "stdout",
     "output_type": "stream",
     "text": [
      "(1, 2, 3, 1, 2, 3, 6, 6, 6, 6, 6, 6, 7, 8, 9, 10, 11, 12, 13)\n"
     ]
    }
   ],
   "source": [
    "numbers1 = (1, 2, 3)\n",
    "numbers2 = (6,)\n",
    "numbers3 = (7, 8, 9, 10, 11, 12, 13)\n",
    "\n",
    "print(numbers1*2 + numbers2*9 + numbers3)"
   ]
  },
  {
   "cell_type": "code",
   "execution_count": null,
   "metadata": {},
   "outputs": [],
   "source": [
    "city_name = input()\n",
    "city_year = int(input())\n",
    "city = (city_name, city_year)\n",
    "print(city)"
   ]
  },
  {
   "cell_type": "code",
   "execution_count": 25,
   "metadata": {},
   "outputs": [
    {
     "name": "stdout",
     "output_type": "stream",
     "text": [
      "[('',), ('a', 'b'), ('a', 'b', 'c'), (1,), ('d',), ('', '')]\n"
     ]
    }
   ],
   "source": [
    "tuples = [(), (), ('',), ('a', 'b'), (), ('a', 'b', 'c'), (1,), (), (), ('d',), ('', ''), ()]\n",
    "\n",
    "tuples = list(tuples)\n",
    "\n",
    "non_empty_tuples = []\n",
    "\n",
    "for i in tuples:\n",
    "    if len(i)>0:\n",
    "        non_empty_tuples.append(i)\n",
    "\n",
    "print(non_empty_tuples)"
   ]
  },
  {
   "cell_type": "code",
   "execution_count": 26,
   "metadata": {},
   "outputs": [
    {
     "name": "stdout",
     "output_type": "stream",
     "text": [
      "('Есенин', 13)\n",
      "('Маяковский', 28)\n"
     ]
    }
   ],
   "source": [
    "poets = [\n",
    "    ('Есенин', 13),\n",
    "    ('Тургенев', 14),\n",
    "    ('Маяковский', 28),\n",
    "    ('Лермонтов', 20),\n",
    "    ('Фет', 15)]\n",
    "\n",
    "for i in range(len(poets)):\n",
    "    for j in range(i+1, len(poets)):\n",
    "        if poets[i][1] > poets[j][1]:\n",
    "            poets[i], poets[j] = poets[j], poets[i]\n",
    "\n",
    "print(poets[0])\n",
    "print(poets[-1])"
   ]
  },
  {
   "cell_type": "code",
   "execution_count": 27,
   "metadata": {},
   "outputs": [
    {
     "name": "stdout",
     "output_type": "stream",
     "text": [
      "('Есенин', 13)\n",
      "('Фет', 15)\n"
     ]
    }
   ],
   "source": [
    "poets = [\n",
    "    ('Тургенев', 14),\n",
    "    ('Есенин', 13),\n",
    "    ('Маяковский', 28),\n",
    "    ('Фет', 15),\n",
    "    ('Лермонтов', 20)]\n",
    "\n",
    "for i in range(len(poets)):\n",
    "    for j in range(i+1, len(poets)):\n",
    "        if poets[i] > poets[j]:\n",
    "            poets[i], poets[j] = poets[j], poets[i]\n",
    "\n",
    "print(poets[0])\n",
    "print(poets[-1])"
   ]
  },
  {
   "cell_type": "code",
   "execution_count": 28,
   "metadata": {},
   "outputs": [
    {
     "name": "stdout",
     "output_type": "stream",
     "text": [
      "129638530920927229333292160000\n"
     ]
    }
   ],
   "source": [
    "numbers = (2, 3, 5, 7, -11, 13, 17, 19, 23, 29, 31, -6, 41, 43, 47, 53, 59, 61, -96, 71, 1000, -1)\n",
    "\n",
    "sumx = 1\n",
    "for i in range(len(numbers)):\n",
    "    sumx = sumx*numbers[i]\n",
    "\n",
    "print(sumx)"
   ]
  },
  {
   "cell_type": "code",
   "execution_count": 30,
   "metadata": {},
   "outputs": [
    {
     "name": "stdout",
     "output_type": "stream",
     "text": [
      "('P', 'y', 't', 'h', 'o', 'n', ' ', 'д', 'л', 'я', ' ', 'п', 'р', 'о', 'д', 'в', 'и', 'н', 'у', 'т', 'ы', 'х', '!')\n"
     ]
    }
   ],
   "source": [
    "data = 'Python для продвинутых!'\n",
    "\n",
    "result = []\n",
    "\n",
    "for i in range(len(data)):\n",
    "    result.append(data[i])\n",
    "    \n",
    "result = tuple(result)\n",
    "\n",
    "print(result)\n",
    "\n"
   ]
  },
  {
   "cell_type": "code",
   "execution_count": 31,
   "metadata": {},
   "outputs": [
    {
     "name": "stdout",
     "output_type": "stream",
     "text": [
      "[10.5, 44.0, 58.0, 2.5, 50.0]\n"
     ]
    }
   ],
   "source": [
    "numbers = ((10, 10, 10, 12), (30, 45, 56, 45), (81, 80, 39, 32), (1, 2, 3, 4), (90, 10))\n",
    "list = list(numbers)\n",
    "result = []\n",
    "result = [sum(i)/len(i) for i in list]\n",
    "print(result)"
   ]
  },
  {
   "cell_type": "code",
   "execution_count": null,
   "metadata": {},
   "outputs": [],
   "source": [
    "a = int(input())\n",
    "b = int(input())\n",
    "c = int(input())\n",
    "\n",
    "result = (-(b/(2*a)), (((4*a*c)-b**2))/4/a)\n",
    "\n",
    "print(result)"
   ]
  },
  {
   "cell_type": "code",
   "execution_count": 32,
   "metadata": {},
   "outputs": [
    {
     "name": "stdout",
     "output_type": "stream",
     "text": [
      "60 40 30\n"
     ]
    }
   ],
   "source": [
    "a, b, c = 10, 20, 30\n",
    "c, b, a = a + b, b*2, a + b + c\n",
    "\n",
    "print(a, b, c)"
   ]
  },
  {
   "cell_type": "code",
   "execution_count": 33,
   "metadata": {},
   "outputs": [
    {
     "name": "stdout",
     "output_type": "stream",
     "text": [
      "линал 98\n"
     ]
    }
   ],
   "source": [
    "points = [('матан', 100), ('линал', 98), ('ангем', 90)]\n",
    "\n",
    "subject, value = points[1]\n",
    "\n",
    "print(subject, value)"
   ]
  },
  {
   "cell_type": "code",
   "execution_count": 34,
   "metadata": {},
   "outputs": [
    {
     "name": "stdout",
     "output_type": "stream",
     "text": [
      "['Fa', 'Sol', 'La', 'Si']\n"
     ]
    }
   ],
   "source": [
    "notes = ('Do', 'Re', 'Mi', 'Fa', 'Sol', 'La', 'Si')\n",
    "\n",
    "do, re, mi, *tail = notes\n",
    "\n",
    "print(tail)"
   ]
  },
  {
   "cell_type": "code",
   "execution_count": 35,
   "metadata": {},
   "outputs": [
    {
     "name": "stdout",
     "output_type": "stream",
     "text": [
      "['Mi', 'Fa', 'Sol', 'La']\n"
     ]
    }
   ],
   "source": [
    "notes = ('Do', 'Re', 'Mi', 'Fa', 'Sol', 'La', 'Si')\n",
    "\n",
    "do, re, *tail, si = notes\n",
    "\n",
    "print(tail)"
   ]
  },
  {
   "cell_type": "code",
   "execution_count": null,
   "metadata": {},
   "outputs": [],
   "source": [
    "n = int(input())\n",
    "\n",
    "m = int(input())\n",
    "\n",
    "k = int(input())\n",
    "\n",
    "x = int(input())\n",
    "\n",
    "y = int(input())\n",
    "\n",
    "z = int(input())\n",
    "\n",
    "print(n+m+k-x-y+z)"
   ]
  },
  {
   "cell_type": "code",
   "execution_count": null,
   "metadata": {},
   "outputs": [],
   "source": [
    "# n,m,k,x,y,z,t,a\n",
    "\n",
    "n = int(input())\n",
    "m = int(input())\n",
    "k = int(input())\n",
    "x = int(input())\n",
    "y = int(input())\n",
    "z = int(input())\n",
    "t = int(input())\n",
    "a = int(input())\n",
    "\n",
    "\n",
    "a_b = -1 * (x - n - m)  #получаем полное пересечение А и В\n",
    "b_c = -1 * (y - m - k)  #получаем полное пересечение В и С\n",
    "c_a = -1 * (z - n - k)   #получаем полное пересечение С и А\n",
    "only_a_b = a_b - t     #получаем пересечение А и В, не включая людей, прочитавших 3 книги\n",
    "only_b_c = b_c - t      #получаем пересечение В и С, не включая людей, прочитавших 3 книги\n",
    "only_c_a = c_a - t      #получаем пересечение А и С, не включая людей, прочитавших 3 книги\n",
    "one_a = n - t - only_c_a - only_a_b  #получаем количество людей, прочитавших только первую книгу(вычитаем из всех прочитавших тех, кто прочитал В, С и три книги)\n",
    "one_b = m - t - only_b_c - only_a_b #получаем количество людей, прочитавших только первую книгу(вычитаем из всех прочитавших тех, кто прочитал А, С и три книги)\n",
    "one_c = k - t - only_b_c - only_c_a #получаем количество людей, прочитавших только первую книгу(вычитаем из всех прочитавших тех, кто прочитал A, В и три книги) \n",
    "\n",
    " \n",
    "\n",
    "print(one_a + one_b + one_c)\n",
    "\n",
    "print(only_a_b+only_b_c+only_c_a)\n",
    "\n",
    "print(a - t - (one_a + one_b + one_c) - (only_a_b+only_b_c+only_c_a))\n"
   ]
  },
  {
   "cell_type": "code",
   "execution_count": 3,
   "metadata": {},
   "outputs": [
    {
     "name": "stdout",
     "output_type": "stream",
     "text": [
      "set()\n",
      "set()\n",
      "set()\n",
      "set()\n",
      "{''}\n",
      "{}\n"
     ]
    }
   ],
   "source": [
    "my_set1 = set([])\n",
    "my_set2 = set('')\n",
    "my_set3 = set()\n",
    "my_set4 = set(())\n",
    "my_set5 = set([''])\n",
    "my_set6 = {}\n",
    "\n",
    "print(my_set1)\n",
    "print(my_set2)\n",
    "print(my_set3)\n",
    "print(my_set4)\n",
    "print(my_set5)\n",
    "print(my_set6)\n"
   ]
  },
  {
   "cell_type": "code",
   "execution_count": 4,
   "metadata": {},
   "outputs": [
    {
     "name": "stdout",
     "output_type": "stream",
     "text": [
      "{8, 2, 4, 6}\n"
     ]
    }
   ],
   "source": [
    "myset = set(range(2, 10, 2))\n",
    "print(myset)"
   ]
  },
  {
   "cell_type": "code",
   "execution_count": 5,
   "metadata": {},
   "outputs": [
    {
     "name": "stdout",
     "output_type": "stream",
     "text": [
      "{'эээ', 'ююю', 'ъъъ', 'яяя'}\n"
     ]
    }
   ],
   "source": [
    "myset = set(['ъъъ', 'эээ', 'ююю', 'яяя'])\n",
    "print(myset)"
   ]
  },
  {
   "cell_type": "code",
   "execution_count": 6,
   "metadata": {},
   "outputs": [
    {
     "name": "stdout",
     "output_type": "stream",
     "text": [
      "{'1', ' ', 'c', 'b', '2', 'a'}\n"
     ]
    }
   ],
   "source": [
    "myset = set('aaabcccc    11222')\n",
    "print(myset)\n"
   ]
  },
  {
   "cell_type": "code",
   "execution_count": 7,
   "metadata": {},
   "outputs": [
    {
     "name": "stdout",
     "output_type": "stream",
     "text": [
      "{'1', 1, 2, 3, '3', '2'}\n"
     ]
    }
   ],
   "source": [
    "myset = set([1, 2, 3, '1', '2', '3'])\n",
    "print(myset)"
   ]
  },
  {
   "cell_type": "code",
   "execution_count": 8,
   "metadata": {},
   "outputs": [
    {
     "name": "stdout",
     "output_type": "stream",
     "text": [
      "4\n"
     ]
    }
   ],
   "source": [
    "myset = set([1, 2, 2, 3, 4, 4, 4])\n",
    "print(len(myset))"
   ]
  },
  {
   "cell_type": "code",
   "execution_count": 9,
   "metadata": {},
   "outputs": [
    {
     "name": "stdout",
     "output_type": "stream",
     "text": [
      "5\n"
     ]
    }
   ],
   "source": [
    "myset = set('ъъ эээ юююю яяяяя')\n",
    "print(len(myset))"
   ]
  },
  {
   "cell_type": "code",
   "execution_count": 11,
   "metadata": {},
   "outputs": [
    {
     "name": "stdout",
     "output_type": "stream",
     "text": [
      "6\n"
     ]
    }
   ],
   "source": [
    "print(len(set(input())))"
   ]
  },
  {
   "cell_type": "code",
   "execution_count": 12,
   "metadata": {},
   "outputs": [
    {
     "ename": "TypeError",
     "evalue": "'set' object is not subscriptable",
     "output_type": "error",
     "traceback": [
      "\u001b[1;31m---------------------------------------------------------------------------\u001b[0m",
      "\u001b[1;31mTypeError\u001b[0m                                 Traceback (most recent call last)",
      "\u001b[1;32mc:\\Users\\PC\\Desktop\\Учебное2023\\generation_py\\15_GPY_2\\GPY_2_3.ipynb Ячейка 39\u001b[0m line \u001b[0;36m3\n\u001b[0;32m      <a href='vscode-notebook-cell:/c%3A/Users/PC/Desktop/%D0%A3%D1%87%D0%B5%D0%B1%D0%BD%D0%BE%D0%B52023/generation_py/15_GPY_2/GPY_2_3.ipynb#X53sZmlsZQ%3D%3D?line=0'>1</a>\u001b[0m myset \u001b[39m=\u001b[39m {\u001b[39m'\u001b[39m\u001b[39mYellow\u001b[39m\u001b[39m'\u001b[39m, \u001b[39m'\u001b[39m\u001b[39mOrange\u001b[39m\u001b[39m'\u001b[39m, \u001b[39m'\u001b[39m\u001b[39mBlack\u001b[39m\u001b[39m'\u001b[39m}\n\u001b[1;32m----> <a href='vscode-notebook-cell:/c%3A/Users/PC/Desktop/%D0%A3%D1%87%D0%B5%D0%B1%D0%BD%D0%BE%D0%B52023/generation_py/15_GPY_2/GPY_2_3.ipynb#X53sZmlsZQ%3D%3D?line=2'>3</a>\u001b[0m \u001b[39mprint\u001b[39m(myset[\u001b[39m1\u001b[39;49m])\n",
      "\u001b[1;31mTypeError\u001b[0m: 'set' object is not subscriptable"
     ]
    }
   ],
   "source": [
    "myset = {'Yellow', 'Orange', 'Black'}\n",
    "\n",
    "print(myset[1])"
   ]
  },
  {
   "cell_type": "code",
   "execution_count": 13,
   "metadata": {},
   "outputs": [
    {
     "name": "stdout",
     "output_type": "stream",
     "text": [
      "13.6618\n"
     ]
    }
   ],
   "source": [
    "numbers = {1.414, 12.5, 3.1415, 2.718, 9.8, 1.414, 1.1618, 1.324, 2.718, 1.324}\n",
    "\n",
    "print(min(numbers)+ max(numbers))"
   ]
  },
  {
   "cell_type": "code",
   "execution_count": 14,
   "metadata": {},
   "outputs": [
    {
     "name": "stdout",
     "output_type": "stream",
     "text": [
      "11.0\n"
     ]
    }
   ],
   "source": [
    "numbers = {20, 6, 8, 18, 18, 2, 4, 6, 8, 10, 12, 14, 16, 18, 20, 12, 8, 8, 10, 4, 2, 2, 2, 16, 20}\n",
    "average = sum(numbers)/len(numbers)\n",
    "\n",
    "print(average)"
   ]
  },
  {
   "cell_type": "code",
   "execution_count": 15,
   "metadata": {},
   "outputs": [
    {
     "name": "stdout",
     "output_type": "stream",
     "text": [
      "False\n"
     ]
    }
   ],
   "source": [
    "myset1 = set([1, 2, 3, 4, 5])\n",
    "myset2 = set('12345')\n",
    "\n",
    "print(myset1 == myset2)"
   ]
  },
  {
   "cell_type": "code",
   "execution_count": null,
   "metadata": {},
   "outputs": [],
   "source": [
    "numbers = {9089, -67, -32, 1, 78, 23, -65, 99, 9089, 34, -32, 0, -67, 1, 11, 111, 111, 1, 23}\n",
    "sum_of_squares = sum(x ** 2 for x in numbers)\n",
    "print(sum_of_squares)"
   ]
  },
  {
   "cell_type": "code",
   "execution_count": 19,
   "metadata": {},
   "outputs": [
    {
     "name": "stdout",
     "output_type": "stream",
     "text": [
      "pineapple\n",
      "grapefruit\n",
      "cherry\n",
      "banana\n",
      "avocado\n",
      "apricot\n",
      "apple\n"
     ]
    }
   ],
   "source": [
    "fruits = {'apple', 'banana', 'cherry', 'avocado', 'pineapple', 'apricot', 'banana', 'avocado', 'grapefruit'}\n",
    "sorted_fruits = sorted(fruits, reverse=True)\n",
    "print(*sorted_fruits, sep='\\n')"
   ]
  },
  {
   "cell_type": "code",
   "execution_count": null,
   "metadata": {},
   "outputs": [],
   "source": [
    "s1 = str(input())\n",
    "s2 = set(s1)\n",
    "if len(s1)==len(s2):\n",
    "    print('YES')\n",
    "else:\n",
    "    print('NO')"
   ]
  },
  {
   "cell_type": "code",
   "execution_count": 20,
   "metadata": {},
   "outputs": [
    {
     "ename": "TypeError",
     "evalue": "unsupported operand type(s) for +: 'set' and 'set'",
     "output_type": "error",
     "traceback": [
      "\u001b[1;31m---------------------------------------------------------------------------\u001b[0m",
      "\u001b[1;31mTypeError\u001b[0m                                 Traceback (most recent call last)",
      "\u001b[1;32mc:\\Users\\PC\\Desktop\\Учебное2023\\generation_py\\15_GPY_2\\GPY_2_3.ipynb Ячейка 46\u001b[0m line \u001b[0;36m3\n\u001b[0;32m      <a href='vscode-notebook-cell:/c%3A/Users/PC/Desktop/%D0%A3%D1%87%D0%B5%D0%B1%D0%BD%D0%BE%D0%B52023/generation_py/15_GPY_2/GPY_2_3.ipynb#X63sZmlsZQ%3D%3D?line=0'>1</a>\u001b[0m s1 \u001b[39m=\u001b[39m \u001b[39mset\u001b[39m(\u001b[39minput\u001b[39m())\n\u001b[0;32m      <a href='vscode-notebook-cell:/c%3A/Users/PC/Desktop/%D0%A3%D1%87%D0%B5%D0%B1%D0%BD%D0%BE%D0%B52023/generation_py/15_GPY_2/GPY_2_3.ipynb#X63sZmlsZQ%3D%3D?line=1'>2</a>\u001b[0m s2 \u001b[39m=\u001b[39m \u001b[39mset\u001b[39m(\u001b[39minput\u001b[39m())\n\u001b[1;32m----> <a href='vscode-notebook-cell:/c%3A/Users/PC/Desktop/%D0%A3%D1%87%D0%B5%D0%B1%D0%BD%D0%BE%D0%B52023/generation_py/15_GPY_2/GPY_2_3.ipynb#X63sZmlsZQ%3D%3D?line=2'>3</a>\u001b[0m s3 \u001b[39m=\u001b[39m s1\u001b[39m+\u001b[39;49ms2\n\u001b[0;32m      <a href='vscode-notebook-cell:/c%3A/Users/PC/Desktop/%D0%A3%D1%87%D0%B5%D0%B1%D0%BD%D0%BE%D0%B52023/generation_py/15_GPY_2/GPY_2_3.ipynb#X63sZmlsZQ%3D%3D?line=3'>4</a>\u001b[0m \u001b[39mif\u001b[39;00m \u001b[39mlen\u001b[39m(s1)\u001b[39m==\u001b[39m\u001b[39mlen\u001b[39m(s2)\u001b[39m==\u001b[39m\u001b[39mlen\u001b[39m(s3):\n\u001b[0;32m      <a href='vscode-notebook-cell:/c%3A/Users/PC/Desktop/%D0%A3%D1%87%D0%B5%D0%B1%D0%BD%D0%BE%D0%B52023/generation_py/15_GPY_2/GPY_2_3.ipynb#X63sZmlsZQ%3D%3D?line=4'>5</a>\u001b[0m     \u001b[39mprint\u001b[39m(\u001b[39m'\u001b[39m\u001b[39mYES\u001b[39m\u001b[39m'\u001b[39m)\n",
      "\u001b[1;31mTypeError\u001b[0m: unsupported operand type(s) for +: 'set' and 'set'"
     ]
    }
   ],
   "source": [
    "s1 = set(input())\n",
    "s2 = set(input())\n",
    "if s1==s2:\n",
    "    print('YES')\n",
    "else:\n",
    "    print('NO')\n"
   ]
  },
  {
   "cell_type": "code",
   "execution_count": 22,
   "metadata": {},
   "outputs": [
    {
     "name": "stdout",
     "output_type": "stream",
     "text": [
      "YES\n"
     ]
    }
   ],
   "source": [
    "s1, s2, s3 = input().split()\n",
    "if set(s1)==set(s2)==set(s3):\n",
    "    print('YES')\n",
    "else:\n",
    "    print('NO')"
   ]
  },
  {
   "cell_type": "code",
   "execution_count": 23,
   "metadata": {},
   "outputs": [
    {
     "name": "stdout",
     "output_type": "stream",
     "text": [
      "{'Blue', 'Orange', 'Yellow', 'Black'}\n"
     ]
    }
   ],
   "source": [
    "myset = {'Yellow', 'Orange', 'Black'}\n",
    "\n",
    "myset.add('Blue')\n",
    "myset.add('Orange')\n",
    "print(myset)"
   ]
  },
  {
   "cell_type": "code",
   "execution_count": 24,
   "metadata": {},
   "outputs": [
    {
     "ename": "KeyError",
     "evalue": "'b'",
     "output_type": "error",
     "traceback": [
      "\u001b[1;31m---------------------------------------------------------------------------\u001b[0m",
      "\u001b[1;31mKeyError\u001b[0m                                  Traceback (most recent call last)",
      "\u001b[1;32mc:\\Users\\PC\\Desktop\\Учебное2023\\generation_py\\15_GPY_2\\GPY_2_3.ipynb Ячейка 49\u001b[0m line \u001b[0;36m6\n\u001b[0;32m      <a href='vscode-notebook-cell:/c%3A/Users/PC/Desktop/%D0%A3%D1%87%D0%B5%D0%B1%D0%BD%D0%BE%D0%B52023/generation_py/15_GPY_2/GPY_2_3.ipynb#X66sZmlsZQ%3D%3D?line=3'>4</a>\u001b[0m my_set\u001b[39m.\u001b[39mdiscard(\u001b[39m'\u001b[39m\u001b[39ma\u001b[39m\u001b[39m'\u001b[39m)         \u001b[39m# 2\u001b[39;00m\n\u001b[0;32m      <a href='vscode-notebook-cell:/c%3A/Users/PC/Desktop/%D0%A3%D1%87%D0%B5%D0%B1%D0%BD%D0%BE%D0%B52023/generation_py/15_GPY_2/GPY_2_3.ipynb#X66sZmlsZQ%3D%3D?line=4'>5</a>\u001b[0m my_set\u001b[39m.\u001b[39mremove(\u001b[39m'\u001b[39m\u001b[39mb\u001b[39m\u001b[39m'\u001b[39m)          \u001b[39m# 3\u001b[39;00m\n\u001b[1;32m----> <a href='vscode-notebook-cell:/c%3A/Users/PC/Desktop/%D0%A3%D1%87%D0%B5%D0%B1%D0%BD%D0%BE%D0%B52023/generation_py/15_GPY_2/GPY_2_3.ipynb#X66sZmlsZQ%3D%3D?line=5'>6</a>\u001b[0m my_set\u001b[39m.\u001b[39;49mremove(\u001b[39m'\u001b[39;49m\u001b[39mb\u001b[39;49m\u001b[39m'\u001b[39;49m)          \u001b[39m# 4\u001b[39;00m\n",
      "\u001b[1;31mKeyError\u001b[0m: 'b'"
     ]
    }
   ],
   "source": [
    "my_set = {'a', 'b', 'c'}\n",
    " \n",
    "my_set.discard('a')         # 1\n",
    "my_set.discard('a')         # 2\n",
    "my_set.remove('b')          # 3\n",
    "my_set.remove('b')          # 4"
   ]
  },
  {
   "cell_type": "code",
   "execution_count": 25,
   "metadata": {},
   "outputs": [
    {
     "name": "stdout",
     "output_type": "stream",
     "text": [
      "python 0\n"
     ]
    }
   ],
   "source": [
    "myset = {'python'}\n",
    "\n",
    "item = myset.pop()\n",
    "print(item, len(myset))"
   ]
  },
  {
   "cell_type": "code",
   "execution_count": 28,
   "metadata": {},
   "outputs": [
    {
     "name": "stdout",
     "output_type": "stream",
     "text": [
      "n 5\n"
     ]
    }
   ],
   "source": [
    "myset = set('python')\n",
    "\n",
    "item = myset.pop()\n",
    "print(item, len(myset))"
   ]
  },
  {
   "cell_type": "code",
   "execution_count": 29,
   "metadata": {},
   "outputs": [
    {
     "ename": "KeyError",
     "evalue": "'pop from an empty set'",
     "output_type": "error",
     "traceback": [
      "\u001b[1;31m---------------------------------------------------------------------------\u001b[0m",
      "\u001b[1;31mKeyError\u001b[0m                                  Traceback (most recent call last)",
      "\u001b[1;32mc:\\Users\\PC\\Desktop\\Учебное2023\\generation_py\\15_GPY_2\\GPY_2_3.ipynb Ячейка 52\u001b[0m line \u001b[0;36m3\n\u001b[0;32m      <a href='vscode-notebook-cell:/c%3A/Users/PC/Desktop/%D0%A3%D1%87%D0%B5%D0%B1%D0%BD%D0%BE%D0%B52023/generation_py/15_GPY_2/GPY_2_3.ipynb#Y102sZmlsZQ%3D%3D?line=0'>1</a>\u001b[0m myset \u001b[39m=\u001b[39m \u001b[39mset\u001b[39m()\n\u001b[1;32m----> <a href='vscode-notebook-cell:/c%3A/Users/PC/Desktop/%D0%A3%D1%87%D0%B5%D0%B1%D0%BD%D0%BE%D0%B52023/generation_py/15_GPY_2/GPY_2_3.ipynb#Y102sZmlsZQ%3D%3D?line=2'>3</a>\u001b[0m item \u001b[39m=\u001b[39m myset\u001b[39m.\u001b[39;49mpop()\n\u001b[0;32m      <a href='vscode-notebook-cell:/c%3A/Users/PC/Desktop/%D0%A3%D1%87%D0%B5%D0%B1%D0%BD%D0%BE%D0%B52023/generation_py/15_GPY_2/GPY_2_3.ipynb#Y102sZmlsZQ%3D%3D?line=3'>4</a>\u001b[0m \u001b[39mprint\u001b[39m(item)\n",
      "\u001b[1;31mKeyError\u001b[0m: 'pop from an empty set'"
     ]
    }
   ],
   "source": [
    "myset = set()\n",
    "\n",
    "item = myset.pop()\n",
    "print(item)"
   ]
  },
  {
   "cell_type": "code",
   "execution_count": 30,
   "metadata": {},
   "outputs": [
    {
     "name": "stdout",
     "output_type": "stream",
     "text": [
      "2\n"
     ]
    }
   ],
   "source": [
    "myset = set()\n",
    "for i in range(10):\n",
    "    if i % 2 == 0:\n",
    "        myset.add('even')\n",
    "    else:\n",
    "        myset.add('odd')\n",
    "print(len(myset))"
   ]
  },
  {
   "cell_type": "code",
   "execution_count": null,
   "metadata": {},
   "outputs": [],
   "source": [
    "# Напишите программу для вывода количества уникальных символов каждого считанного слова без учета регистра.\n",
    "\n",
    "# Формат входных данных\n",
    "# На вход программе в первой строке подается число n – общее количество слов. Далее идут n строк с словами.\n",
    "\n",
    "# Формат выходных данных\n",
    "# Программа должна вывести на отдельной строке количество уникальных символов для каждого слова.\n",
    "\n",
    "n = int(input())\n",
    "lines = [len(set(input().lower())) for _ in range(n)]\n",
    "\n",
    "print(*lines, sep=\"\\n\")"
   ]
  },
  {
   "cell_type": "code",
   "execution_count": null,
   "metadata": {},
   "outputs": [],
   "source": [
    "# Напишите программу для вывода общего количества уникальных символов во всех считанных словах без учета регистра.\n",
    "\n",
    "# Формат входных данных\n",
    "# На вход программе в первой строке подается число n – общее количество слов. Далее идут n строк со словами.\n",
    "\n",
    "# Формат выходных данных\n",
    "# Программа должна вывести одно число – общее количество уникальных символов во всех словах без учета регистра.\n",
    "\n",
    "# Считываем количество слов\n",
    "n = int(input())\n",
    "\n",
    "# Создаем пустое множество для хранения уникальных символов\n",
    "unique_chars = set()\n",
    "\n",
    "# Считываем слова и добавляем их символы в множество (без учета регистра)\n",
    "for _ in range(n):\n",
    "    word = input().lower()  # Приводим слово к нижнему регистру\n",
    "    unique_chars.update(word)  # Добавляем символы слова в множество\n",
    "\n",
    "# Выводим количество уникальных символов\n",
    "print(len(unique_chars))"
   ]
  },
  {
   "cell_type": "code",
   "execution_count": null,
   "metadata": {},
   "outputs": [],
   "source": [
    "# Напишите программу для определения общего количества различных слов в строке текста.\n",
    "\n",
    "# Формат входных данных\n",
    "# На вход программе подается строка текста.\n",
    "\n",
    "# Формат выходных данных\n",
    "# Программа должна вывести одно число – общее количество различных слов в строке без учета регистра.\n",
    "\n",
    "# Примечание 1. Словом считается последовательность непробельных символов, идущих подряд, слова разделены одним или большим числом пробелов.\n",
    "import re\n",
    "words = re.sub(r'[.,;:-?-!]', '', input()).lower().split()\n",
    "unique_words = set(words)\n",
    "print(len(unique_words))"
   ]
  },
  {
   "cell_type": "code",
   "execution_count": null,
   "metadata": {},
   "outputs": [],
   "source": [
    "# На вход программе подается строка текста, содержащая числа. Для каждого числа выведите слово YES (в отдельной строке), \n",
    "# если это число ранее встречалось в последовательности или NO, если не встречалось.\n",
    "\n",
    "# Формат входных данных\n",
    "# На вход программе подается строка текста, содержащая числа, разделенные символом пробела.\n",
    "\n",
    "# Формат выходных данных\n",
    "# Программа должна вывести текст в соответствии с условием задачи.\n",
    "\n",
    "# Примечание. Ведущие нули в числах должны игнорироваться.\n",
    "\n",
    "\n",
    "# Считываем строку чисел\n",
    "numbers_str = input()\n",
    "\n",
    "# Разбиваем строку на числа и преобразуем их в набор уникальных целых чисел\n",
    "numbers = set(map(int, numbers_str.split()))\n",
    "\n",
    "# Создаем пустой набор для отслеживания ранее встреченных чисел\n",
    "seen_numbers = set()\n",
    "\n",
    "# Проходим по числам в исходном порядке и выводим YES или NO в зависимости от их наличия в seen_numbers\n",
    "for num in numbers_str.split():\n",
    "    num = int(num)\n",
    "    if num in seen_numbers:\n",
    "        print(\"YES\")\n",
    "    else:\n",
    "        print(\"NO\")\n",
    "        seen_numbers.add(num)"
   ]
  },
  {
   "cell_type": "code",
   "execution_count": 31,
   "metadata": {},
   "outputs": [
    {
     "name": "stdout",
     "output_type": "stream",
     "text": [
      "{100, 20, 200, 300, 30}\n"
     ]
    }
   ],
   "source": [
    "set1 = set([100, 20, 30])\n",
    "set2 = set([100, 200, 300])\n",
    "\n",
    "set3 = set1.union(set2)\n",
    "print(set3)"
   ]
  },
  {
   "cell_type": "code",
   "execution_count": 32,
   "metadata": {},
   "outputs": [
    {
     "name": "stdout",
     "output_type": "stream",
     "text": [
      "{3, 4}\n"
     ]
    }
   ],
   "source": [
    "set1 = set([1, 2, 3, 4])\n",
    "set2 = set([3, 4, 5, 6])\n",
    "\n",
    "set3 = set1.intersection(set2)\n",
    "print(set3)"
   ]
  },
  {
   "cell_type": "code",
   "execution_count": 33,
   "metadata": {},
   "outputs": [
    {
     "name": "stdout",
     "output_type": "stream",
     "text": [
      "{1, 2}\n"
     ]
    }
   ],
   "source": [
    "set1 = set([1, 2, 3, 4])\n",
    "set2 = set([3, 4, 5, 6])\n",
    "\n",
    "set3 = set1.difference(set2)\n",
    "print(set3)"
   ]
  },
  {
   "cell_type": "code",
   "execution_count": 34,
   "metadata": {},
   "outputs": [
    {
     "name": "stdout",
     "output_type": "stream",
     "text": [
      "{5, 6}\n"
     ]
    }
   ],
   "source": [
    "set1 = set([1, 2, 3, 4])\n",
    "set2 = set([3, 4, 5, 6])\n",
    "\n",
    "set3 = set2.difference(set1)\n",
    "print(set3)"
   ]
  },
  {
   "cell_type": "code",
   "execution_count": 35,
   "metadata": {},
   "outputs": [
    {
     "name": "stdout",
     "output_type": "stream",
     "text": [
      "{'г', 'д', 'a'}\n"
     ]
    }
   ],
   "source": [
    "set1 = set(['a', 'б', 'в', 'д'])\n",
    "set2 = set(['б', 'в', 'г'])\n",
    "\n",
    "set3 = set1.symmetric_difference(set2)\n",
    "print(set3)"
   ]
  },
  {
   "cell_type": "code",
   "execution_count": 36,
   "metadata": {},
   "outputs": [
    {
     "name": "stdout",
     "output_type": "stream",
     "text": [
      "{1, 2, 3, 8, 9, 10}\n"
     ]
    }
   ],
   "source": [
    "myset = set([10, 9, 8, 3])\n",
    "myset.update([1, 2, 3])\n",
    "print(myset)"
   ]
  },
  {
   "cell_type": "code",
   "execution_count": 37,
   "metadata": {},
   "outputs": [
    {
     "name": "stdout",
     "output_type": "stream",
     "text": [
      "{'в', 8, 9, 10, 'б', 'а'}\n"
     ]
    }
   ],
   "source": [
    "myset = set([10, 9, 8])\n",
    "myset.update('абв')\n",
    "print(myset)"
   ]
  },
  {
   "cell_type": "code",
   "execution_count": 38,
   "metadata": {},
   "outputs": [
    {
     "name": "stdout",
     "output_type": "stream",
     "text": [
      "{'a', 'c'}\n"
     ]
    }
   ],
   "source": [
    "set1 = {'a', 'b', 'c', 'd', 'h'}\n",
    "set2 = {'b', 'd', 'f', 'h'}\n",
    "\n",
    "set3 = set1 - set2 & set1\n",
    "\n",
    "print(set3)"
   ]
  },
  {
   "cell_type": "code",
   "execution_count": 1,
   "metadata": {},
   "outputs": [
    {
     "ename": "TypeError",
     "evalue": "int() argument must be a string, a bytes-like object or a real number, not 'list'",
     "output_type": "error",
     "traceback": [
      "\u001b[1;31m---------------------------------------------------------------------------\u001b[0m",
      "\u001b[1;31mTypeError\u001b[0m                                 Traceback (most recent call last)",
      "\u001b[1;32mc:\\Users\\PC\\Desktop\\Учебное2023\\generation_py\\15_GPY_2\\GPY_2_3.ipynb Ячейка 66\u001b[0m line \u001b[0;36m1\n\u001b[1;32m----> <a href='vscode-notebook-cell:/c%3A/Users/PC/Desktop/%D0%A3%D1%87%D0%B5%D0%B1%D0%BD%D0%BE%D0%B52023/generation_py/15_GPY_2/GPY_2_3.ipynb#Y122sZmlsZQ%3D%3D?line=0'>1</a>\u001b[0m set1 \u001b[39m=\u001b[39m \u001b[39mset\u001b[39m(\u001b[39mint\u001b[39;49m(\u001b[39minput\u001b[39;49m()\u001b[39m.\u001b[39;49msplit()))\n\u001b[0;32m      <a href='vscode-notebook-cell:/c%3A/Users/PC/Desktop/%D0%A3%D1%87%D0%B5%D0%B1%D0%BD%D0%BE%D0%B52023/generation_py/15_GPY_2/GPY_2_3.ipynb#Y122sZmlsZQ%3D%3D?line=1'>2</a>\u001b[0m set2 \u001b[39m=\u001b[39m \u001b[39mset\u001b[39m(\u001b[39minput\u001b[39m())\n\u001b[0;32m      <a href='vscode-notebook-cell:/c%3A/Users/PC/Desktop/%D0%A3%D1%87%D0%B5%D0%B1%D0%BD%D0%BE%D0%B52023/generation_py/15_GPY_2/GPY_2_3.ipynb#Y122sZmlsZQ%3D%3D?line=2'>3</a>\u001b[0m set3 \u001b[39m=\u001b[39m set1\u001b[39m.\u001b[39mintersection(set2)\n",
      "\u001b[1;31mTypeError\u001b[0m: int() argument must be a string, a bytes-like object or a real number, not 'list'"
     ]
    }
   ],
   "source": [
    "set1 = set(input().split())\n",
    "set2 = set(input().split())\n",
    "set3 = set1.intersection(set2)\n",
    "\n",
    "print(set1)\n",
    "print(set2)\n",
    "print(len(set3)-1)\n",
    "\n",
    "# print(len(set(input()).set(input()))-1)\n",
    "\n",
    "# set = set(input()).intersection(set(input()))\n",
    "# print(len(set)-1)\n"
   ]
  },
  {
   "cell_type": "code",
   "execution_count": null,
   "metadata": {},
   "outputs": [],
   "source": [
    "set1 = set(int(i) for i  in input().split())\n",
    "set2 = set(int(i) for i  in input().split())\n",
    "set3 = set1.intersection(set2)\n",
    "\n",
    "print(set1)\n",
    "print(set2)\n",
    "print(*sorted(set3))"
   ]
  },
  {
   "cell_type": "code",
   "execution_count": null,
   "metadata": {},
   "outputs": [],
   "source": [
    "set1 = set(int(i) for i  in input().split())\n",
    "set2 = set(int(i) for i  in input().split())\n",
    "set3 = set1.difference(set2)\n",
    "\n",
    "print(set1)\n",
    "print(set2)\n",
    "print(*sorted(set3))"
   ]
  },
  {
   "cell_type": "code",
   "execution_count": null,
   "metadata": {},
   "outputs": [],
   "source": [
    "n = int(input())\n",
    "numbers = set(input())\n",
    "for _ in range(n-1):\n",
    "    number = input()\n",
    "    numbers.intersection_update(number)\n",
    "print(*sorted(numbers))"
   ]
  },
  {
   "cell_type": "code",
   "execution_count": 2,
   "metadata": {},
   "outputs": [
    {
     "name": "stdout",
     "output_type": "stream",
     "text": [
      "True\n"
     ]
    }
   ],
   "source": [
    "set1 = {10, 20, 30, 40}\n",
    "set2 = set(range(50))\n",
    "\n",
    "print(set1.issubset(set2))"
   ]
  },
  {
   "cell_type": "code",
   "execution_count": 3,
   "metadata": {},
   "outputs": [
    {
     "name": "stdout",
     "output_type": "stream",
     "text": [
      "False\n"
     ]
    }
   ],
   "source": [
    "set1 = set('Stepik')\n",
    "set2 = set('stepik')\n",
    "\n",
    "print(set1.issubset(set2))"
   ]
  },
  {
   "cell_type": "code",
   "execution_count": 4,
   "metadata": {},
   "outputs": [
    {
     "name": "stdout",
     "output_type": "stream",
     "text": [
      "True\n"
     ]
    }
   ],
   "source": [
    "word = 'beegeek'\n",
    "set1 = set(word*3)\n",
    "set2 = set(word[::-1]*2 + 'stepik')\n",
    "\n",
    "print(set1 < set2)"
   ]
  },
  {
   "cell_type": "code",
   "execution_count": 5,
   "metadata": {},
   "outputs": [
    {
     "name": "stdout",
     "output_type": "stream",
     "text": [
      "True\n"
     ]
    }
   ],
   "source": [
    "set1 = {1, 2, 3, 4, 5, 6, 7, 8}\n",
    "list1 = [1, 2, 3, 4, 5]\n",
    "\n",
    "print(set1.issuperset(list1))"
   ]
  },
  {
   "cell_type": "code",
   "execution_count": 6,
   "metadata": {},
   "outputs": [
    {
     "ename": "TypeError",
     "evalue": "'>=' not supported between instances of 'set' and 'list'",
     "output_type": "error",
     "traceback": [
      "\u001b[1;31m---------------------------------------------------------------------------\u001b[0m",
      "\u001b[1;31mTypeError\u001b[0m                                 Traceback (most recent call last)",
      "\u001b[1;32mc:\\Users\\PC\\Desktop\\Учебное2023\\generation_py\\15_GPY_2\\GPY_2_3.ipynb Ячейка 74\u001b[0m line \u001b[0;36m4\n\u001b[0;32m      <a href='vscode-notebook-cell:/c%3A/Users/PC/Desktop/%D0%A3%D1%87%D0%B5%D0%B1%D0%BD%D0%BE%D0%B52023/generation_py/15_GPY_2/GPY_2_3.ipynb#Y133sZmlsZQ%3D%3D?line=0'>1</a>\u001b[0m set1 \u001b[39m=\u001b[39m {\u001b[39m'\u001b[39m\u001b[39mq\u001b[39m\u001b[39m'\u001b[39m, \u001b[39m'\u001b[39m\u001b[39mw\u001b[39m\u001b[39m'\u001b[39m, \u001b[39m'\u001b[39m\u001b[39me\u001b[39m\u001b[39m'\u001b[39m, \u001b[39m'\u001b[39m\u001b[39mr\u001b[39m\u001b[39m'\u001b[39m, \u001b[39m'\u001b[39m\u001b[39mt\u001b[39m\u001b[39m'\u001b[39m, \u001b[39m'\u001b[39m\u001b[39my\u001b[39m\u001b[39m'\u001b[39m}\n\u001b[0;32m      <a href='vscode-notebook-cell:/c%3A/Users/PC/Desktop/%D0%A3%D1%87%D0%B5%D0%B1%D0%BD%D0%BE%D0%B52023/generation_py/15_GPY_2/GPY_2_3.ipynb#Y133sZmlsZQ%3D%3D?line=1'>2</a>\u001b[0m list1 \u001b[39m=\u001b[39m [\u001b[39m'\u001b[39m\u001b[39my\u001b[39m\u001b[39m'\u001b[39m, \u001b[39m'\u001b[39m\u001b[39mw\u001b[39m\u001b[39m'\u001b[39m, \u001b[39m'\u001b[39m\u001b[39mr\u001b[39m\u001b[39m'\u001b[39m]\n\u001b[1;32m----> <a href='vscode-notebook-cell:/c%3A/Users/PC/Desktop/%D0%A3%D1%87%D0%B5%D0%B1%D0%BD%D0%BE%D0%B52023/generation_py/15_GPY_2/GPY_2_3.ipynb#Y133sZmlsZQ%3D%3D?line=3'>4</a>\u001b[0m \u001b[39mprint\u001b[39m(set1 \u001b[39m>\u001b[39;49m\u001b[39m=\u001b[39;49m list1)\n",
      "\u001b[1;31mTypeError\u001b[0m: '>=' not supported between instances of 'set' and 'list'"
     ]
    }
   ],
   "source": [
    "set1 = {'q', 'w', 'e', 'r', 't', 'y'}\n",
    "list1 = ['y', 'w', 'r']\n",
    "\n",
    "print(set1 >= list1)"
   ]
  },
  {
   "cell_type": "code",
   "execution_count": 7,
   "metadata": {},
   "outputs": [
    {
     "name": "stdout",
     "output_type": "stream",
     "text": [
      "True\n"
     ]
    }
   ],
   "source": [
    "set1 = set(range(1, 10))\n",
    "set2 = set(range(10, 20))\n",
    "\n",
    "print(set1.isdisjoint(set2))"
   ]
  },
  {
   "cell_type": "code",
   "execution_count": null,
   "metadata": {},
   "outputs": [],
   "source": [
    "print('NO' if set(input()).isdisjoint(set(input())) else 'YES')"
   ]
  },
  {
   "cell_type": "code",
   "execution_count": null,
   "metadata": {},
   "outputs": [],
   "source": [
    "# На вход программе подаются два числа. Напишите программу, которая определяет, \n",
    "# входят ли в запись первого числа все цифры, содержащиеся в записи второго \n",
    "# (независимо от повтора, то есть количества цифр) числа или нет.\n",
    "\n",
    "# Формат входных данных\n",
    "# На вход программе подаются два натуральных числа, каждое на отдельной строке.\n",
    "\n",
    "# Формат выходных данных\n",
    "# Программа должна вывести YES, если в запись первого числа входят все цифры, \n",
    "# содержащиеся в записи второго числа и NO в противном случае.\n",
    "\n",
    "\n",
    "# Считываем два числа\n",
    "num1 = int(input())\n",
    "num2 = int(input())\n",
    "\n",
    "# Преобразуем числа во множества уникальных цифр\n",
    "set1 = set(str(num1))\n",
    "set2 = set(str(num2))\n",
    "\n",
    "# Проверяем, является ли множество set2 подмножеством множества set1\n",
    "if set2.issubset(set1):\n",
    "    print(\"YES\")\n",
    "else:\n",
    "    print(\"NO\")"
   ]
  },
  {
   "cell_type": "code",
   "execution_count": null,
   "metadata": {},
   "outputs": [],
   "source": [
    "# Даны по 10-балльной шкале оценки по информатике трех учеников. \n",
    "# Напишите программу, которая выводит множество оценок, которые есть и у первого и у второго учеников, но которых нет у третьего ученика.\n",
    "\n",
    "# Формат входных данных\n",
    "# На вход программе подаются оценки трех учеников, разделенные символом пробела (оценки каждого ученика на отдельной строке).\n",
    "\n",
    "# Формат выходных данных\n",
    "# Программа должна вывести множество оценок в порядке убывания на одной строке, разделенных пробелами, в соответствии с условием задачи.\n",
    "\n",
    "# Примечание. Оценка ученика находится в диапазоне от 0 до 10 включительно.\n",
    "\n",
    "\n",
    "\n",
    "# Считываем оценки трех учеников\n",
    "grades1 = set(int(i) for i  in input().split())\n",
    "grades2 = set(int(i) for i  in input().split())\n",
    "grades3 = set(int(i) for i  in input().split())\n",
    "\n",
    "# Собираем все оценки в один список\n",
    "all_grades = grades1 & grades2 & grades3\n",
    "all_grades_full = grades1 | grades2 | grades3\n",
    "all_grades_full.difference_update(all_grades)\n",
    "\n",
    "print(*all_grades_full)"
   ]
  },
  {
   "cell_type": "code",
   "execution_count": null,
   "metadata": {},
   "outputs": [],
   "source": [
    "# Даны по 10-балльной шкале оценки по физике трех учеников. \n",
    "# Напишите программу, которая выводит множество оценок третьего ученика, \n",
    "# которые не встречаются ни у первого, ни у второго ученика.\n",
    "\n",
    "# Формат входных данных\n",
    "# На вход программе подаются оценки трех учеников, разделенные символом пробела (оценки каждого ученика на отдельной строке).\n",
    "\n",
    "# Формат выходных данных\n",
    "# Программа должна вывести множество оценок в порядке убывания на одной строке, разделенных пробелами, в соответствии с условием задачи.\n",
    "\n",
    "# Примечание. Оценка ученика находится в диапазоне от 0 до 10 включительно.\n",
    "\n",
    "# Считываем оценки трех учеников\n",
    "grades1 = set(int(i) for i  in input().split())\n",
    "grades2 = set(int(i) for i  in input().split())\n",
    "grades3 = set(int(i) for i  in input().split())\n",
    "\n",
    "# Собираем все оценки в один список\n",
    "result = grades3 - grades1 - grades2\n",
    "\n",
    "\n",
    "\n",
    "print(*sorted(result))\n"
   ]
  },
  {
   "cell_type": "code",
   "execution_count": null,
   "metadata": {},
   "outputs": [],
   "source": [
    "# Даны по 10-балльной шкале оценки по биологии трех учеников. \n",
    "# Напишите программу, которая выводит множество оценок, не встречающихся ни у одного из трех учеников.\n",
    "\n",
    "# Формат входных данных\n",
    "# На вход программе подаются оценки трех учеников, разделенные символом пробела (оценки каждого ученика на отдельной строке).\n",
    "\n",
    "# Формат выходных данных\n",
    "# Программа должна вывести множество оценок в порядке возрастания на одной строке, разделенных пробелами, в соответствии с условием задачи.\n",
    "\n",
    "# Примечание. Оценка ученика находится в диапазоне от 0 до 10 включительно.\n",
    "\n",
    "# Считываем оценки трех учеников\n",
    "grades1 = set(int(i) for i  in input().split())\n",
    "grades2 = set(int(i) for i  in input().split())\n",
    "grades3 = set(int(i) for i  in input().split())\n",
    "\n",
    "e = set(i for i in range(11))\n",
    "\n",
    "result = e - grades3 - grades1 - grades2\n",
    "\n",
    "print(*sorted(result))"
   ]
  },
  {
   "cell_type": "code",
   "execution_count": 8,
   "metadata": {},
   "outputs": [
    {
     "name": "stdout",
     "output_type": "stream",
     "text": [
      "1 5 6 10 12 23 30 34 45 56 67 89 90\n"
     ]
    }
   ],
   "source": [
    "items = [10, '30', 30, 10, '56', 34, '12', 90, 89, 34, 45, '67', 12, 10, 90, 23, '45', 56, '56', 1, 5, '6', 5]\n",
    "\n",
    "myset = set(int(i) for i in items)\n",
    "print(*sorted(myset))"
   ]
  },
  {
   "cell_type": "code",
   "execution_count": 17,
   "metadata": {},
   "outputs": [
    {
     "name": "stdout",
     "output_type": "stream",
     "text": [
      "a c g l o p t w\n"
     ]
    }
   ],
   "source": [
    "# Используя генератор множеств, дополните приведенный код так, чтобы получить множество, \n",
    "# содержащее первую букву каждого слова (в нижнем регистре) списка words. \n",
    "# Результат вывести на одной строке в алфавитном порядке, разделяя элементы одним символом пробела.\n",
    "\n",
    "words = ['Plum', 'Grapefruit', 'apple', 'orange', 'pomegranate', 'Cranberry', 'lime', 'Lemon', 'grapes', 'persimmon', 'tangerine', 'Watermelon', 'currant', 'Almond']\n",
    "\n",
    "myset = set(word[0].lower() for word in words)\n",
    "\n",
    "print(*sorted(myset))\n"
   ]
  },
  {
   "cell_type": "code",
   "execution_count": 18,
   "metadata": {},
   "outputs": [
    {
     "name": "stdout",
     "output_type": "stream",
     "text": [
      "a about accident all am and at bloom bottom by can darkest day dells died dusk entered for freak furry golden had hedge her hill hollows i if in infancy know lightning memory midges mother my nothing observation of or over past photogenic picnic pocket rambler redolent remnants save set some stand still style subsists suddenly summer sun surely suspended the those three traversed under very warmth was when which with within writing you\n"
     ]
    }
   ],
   "source": [
    "import string\n",
    "\n",
    "sentence = '''My very photogenic mother died in a freak accident (picnic, lightning) when I was three, and, save for a pocket of warmth in the darkest past, nothing of her subsists within the hollows and dells of memory, over which, if you can still stand my style (I am writing under observation), the sun of my infancy had set: surely, you all know those redolent remnants of day suspended, with the midges, about some hedge in bloom or suddenly entered and traversed by the rambler, at the bottom of a hill, in the summer dusk; a furry warmth, golden midges.'''\n",
    "\n",
    "# Удаляем знаки пунктуации и преобразуем к нижнему регистру\n",
    "translator = str.maketrans('', '', string.punctuation)\n",
    "words = sentence.translate(translator).lower().split()\n",
    "\n",
    "# Генерируем множество, содержащее уникальные слова\n",
    "unique_words = set(words)\n",
    "\n",
    "# Сортируем множество и выводим результат на одной строке\n",
    "sorted_words = sorted(unique_words)\n",
    "result = ' '.join(sorted_words)\n",
    "print(result)"
   ]
  },
  {
   "cell_type": "code",
   "execution_count": 19,
   "metadata": {},
   "outputs": [
    {
     "name": "stdout",
     "output_type": "stream",
     "text": [
      "a all am and at by can day for had her i if in my of or set sun the was you\n"
     ]
    }
   ],
   "source": [
    "import string\n",
    "\n",
    "sentence = '''My very photogenic mother died in a freak accident (picnic, lightning) when I was three, and, save for a pocket of warmth in the darkest past, nothing of her subsists within the hollows and dells of memory, over which, if you can still stand my style (I am writing under observation), the sun of my infancy had set: surely, you all know those redolent remnants of day suspended, with the midges, about some hedge in bloom or suddenly entered and traversed by the rambler, at the bottom of a hill, in the summer dusk; a furry warmth, golden midges.'''\n",
    "\n",
    "# Удаляем знаки пунктуации и преобразуем к нижнему регистру\n",
    "translator = str.maketrans('', '', string.punctuation)\n",
    "words = sentence.translate(translator).lower().split()\n",
    "\n",
    "# Генерируем множество, содержащее уникальные слова длиной менее 4 символов\n",
    "unique_words = {word for word in words if len(word) < 4}\n",
    "\n",
    "# Сортируем множество и выводим результат на одной строке\n",
    "sorted_words = sorted(unique_words)\n",
    "result = ' '.join(sorted_words)\n",
    "print(result)\n"
   ]
  },
  {
   "cell_type": "code",
   "execution_count": null,
   "metadata": {},
   "outputs": [],
   "source": [
    "files = ['python.png', 'qwerty.py', 'stepik.png', 'beegeek.org', 'windows.pnp', 'pen.txt', 'phone.py', 'book.txT', 'board.pNg', 'keyBoard.jpg', 'Python.PNg', 'apple.jpeg', 'png.png', 'input.tXt', 'split.pop', 'solution.Py', 'stepik.org', 'kotlin.ko', 'github.git']\n",
    "\n",
    "# Генерируем множество, содержащее уникальные имена файлов с расширением .png (независимо от регистра)\n",
    "unique_png_files = {file.lower() for file in files if file.lower().endswith('.png')}\n",
    "\n",
    "# Сортируем множество и выводим результат на одной строке\n",
    "sorted_png_files = sorted(unique_png_files)\n",
    "result = ' '.join(sorted_png_files)\n",
    "print(result)\n"
   ]
  },
  {
   "cell_type": "code",
   "execution_count": 20,
   "metadata": {},
   "outputs": [
    {
     "name": "stdout",
     "output_type": "stream",
     "text": [
      "True\n"
     ]
    }
   ],
   "source": [
    "set1 = {1, 2, 3, 4, 5}\n",
    "set2 = frozenset(range(1, 6))\n",
    "\n",
    "print(set1 == set2)"
   ]
  },
  {
   "cell_type": "code",
   "execution_count": 21,
   "metadata": {},
   "outputs": [
    {
     "name": "stdout",
     "output_type": "stream",
     "text": [
      "frozenset({'t', 'i', 's', 'k', 'e', 'b', 'g', 'p'})\n"
     ]
    }
   ],
   "source": [
    "set1 = frozenset('beegeek')\n",
    "set2 = frozenset('stepik')\n",
    "\n",
    "set3 = set1 | set2\n",
    "\n",
    "print(set3)"
   ]
  },
  {
   "cell_type": "code",
   "execution_count": 22,
   "metadata": {},
   "outputs": [
    {
     "name": "stdout",
     "output_type": "stream",
     "text": [
      "frozenset({'k', 'e'})\n"
     ]
    }
   ],
   "source": [
    "set1 = frozenset('beegeek')\n",
    "set2 = frozenset('stepik')\n",
    "\n",
    "set3 = set1 & set2\n",
    "print(set3)"
   ]
  },
  {
   "cell_type": "code",
   "execution_count": 20,
   "metadata": {},
   "outputs": [
    {
     "name": "stdout",
     "output_type": "stream",
     "text": [
      "{'p'}\n"
     ]
    }
   ],
   "source": [
    "set1 = {'a', 't', 'f', 'p'}\n",
    "set2 = {'a', 't', 'f'}\n",
    "\n",
    "print(set1 - set2)"
   ]
  },
  {
   "cell_type": "code",
   "execution_count": null,
   "metadata": {},
   "outputs": [],
   "source": [
    "s = str(input()).split()\n",
    "set_s = set(s)\n",
    "print(len(s)-len(set_s))"
   ]
  },
  {
   "cell_type": "code",
   "execution_count": null,
   "metadata": {},
   "outputs": [],
   "source": [
    "# Считываем количество названных городов\n",
    "n = int(input())\n",
    "\n",
    "# Создаем пустое множество для хранения названных городов\n",
    "named_cities = set()\n",
    "\n",
    "# Считываем названные города и добавляем их в множество\n",
    "for i in range(n):\n",
    "    city = input()\n",
    "    named_cities.add(city)\n",
    "\n",
    "# Считываем новый город\n",
    "new_city = input()\n",
    "\n",
    "# Проверяем, был ли этот город уже назван\n",
    "if new_city in named_cities:\n",
    "    print(\"REPEAT\")\n",
    "else:\n",
    "    print(\"OK\")\n"
   ]
  },
  {
   "cell_type": "code",
   "execution_count": null,
   "metadata": {},
   "outputs": [],
   "source": [
    "# Считываем количество книг в домашней библиотеке и в списке на лето\n",
    "m = int(input())\n",
    "n = int(input())\n",
    "\n",
    "# Создаем множество для хранения книг из домашней библиотеки\n",
    "library_books = set()\n",
    "\n",
    "# Считываем названия книг из домашней библиотеки и добавляем их в множество\n",
    "for _ in range(m):\n",
    "    book = input()\n",
    "    library_books.add(book)\n",
    "\n",
    "# Проверяем каждую книгу из списка на лето и выводим результат\n",
    "for _ in range(n):\n",
    "    summer_book = input()\n",
    "    if summer_book in library_books:\n",
    "        print(\"YES\")\n",
    "    else:\n",
    "        print(\"NO\")\n"
   ]
  },
  {
   "cell_type": "code",
   "execution_count": null,
   "metadata": {},
   "outputs": [],
   "source": [
    "\n",
    "# Считываем числа с первого и второго листочков\n",
    "numbers_1 = input().split()\n",
    "numbers_2 = input().split()\n",
    "\n",
    "# Преобразуем числа во множества\n",
    "set_1 = set(numbers_1)\n",
    "set_2 = set(numbers_2)\n",
    "\n",
    "# Находим пересечение множеств\n",
    "common_numbers = set_1.intersection(set_2)\n",
    "\n",
    "# Если есть общие числа, выводим их в убывающем порядке\n",
    "if common_numbers:\n",
    "    sorted_numbers = sorted(common_numbers, reverse=True, key=int)\n",
    "    for num in sorted_numbers:\n",
    "        print(num, end=' ')\n",
    "else:\n",
    "    print(\"BAD DAY\")"
   ]
  },
  {
   "cell_type": "code",
   "execution_count": null,
   "metadata": {},
   "outputs": [],
   "source": [
    "# Считываем количество учеников, изучающих математику и информатику\n",
    "m = int(input())\n",
    "n = int(input())\n",
    "\n",
    "# Создаем множества для учеников, изучающих математику и информатику\n",
    "math_students = set()\n",
    "informatics_students = set()\n",
    "\n",
    "# Считываем фамилии учеников, изучающих математику\n",
    "for _ in range(m):\n",
    "    name = input()\n",
    "    math_students.add(name)\n",
    "\n",
    "# Считываем фамилии учеников, изучающих информатику\n",
    "for _ in range(n):\n",
    "    name = input()\n",
    "    informatics_students.add(name)\n",
    "\n",
    "# Вычисляем учеников, изучающих только один предмет\n",
    "only_math_students = math_students - informatics_students\n",
    "only_informatics_students = informatics_students - math_students\n",
    "\n",
    "# Если есть ученики, изучающие только один предмет, выводим их количество\n",
    "if only_math_students or only_informatics_students:\n",
    "    print(len(only_math_students) + len(only_informatics_students))\n",
    "else:\n",
    "    print(\"NO\")\n"
   ]
  },
  {
   "cell_type": "code",
   "execution_count": null,
   "metadata": {},
   "outputs": [],
   "source": [
    "# Считываем фамилии учеников, записанные руководителем и его помощником\n",
    "names_director = input().split()\n",
    "names_assistant = input().split()\n",
    "\n",
    "# Создаем множества из фамилий учеников\n",
    "set_director = set(names_director)\n",
    "set_assistant = set(names_assistant)\n",
    "\n",
    "# Находим пересечение множеств\n",
    "common_names = set_director.union(set_assistant)\n",
    "\n",
    "# Сортируем фамилии и выводим их\n",
    "sorted_common_names = sorted(common_names)\n",
    "for name in sorted_common_names:\n",
    "    print(name, end=' ')"
   ]
  },
  {
   "cell_type": "code",
   "execution_count": null,
   "metadata": {},
   "outputs": [],
   "source": [
    "# Считываем количество учеников, изучающих математику и информатику\n",
    "m = int(input())\n",
    "n = int(input())\n",
    "\n",
    "# Создаем множества для учеников, изучающих математику и информатику\n",
    "math_students = set()\n",
    "informatics_students = set()\n",
    "\n",
    "# Считываем фамилии учеников, изучающих математику и добавляем их в множество\n",
    "for _ in range(m):\n",
    "    name = input()\n",
    "    math_students.add(name)\n",
    "\n",
    "# Считываем фамилии учеников, изучающих информатику и добавляем их в множество\n",
    "for _ in range(n):\n",
    "    name = input()\n",
    "    informatics_students.add(name)\n",
    "\n",
    "# Вычисляем учеников, изучающих только один предмет\n",
    "only_math_students = math_students - informatics_students\n",
    "only_informatics_students = informatics_students - math_students\n",
    "\n",
    "# Если есть ученики, изучающие только один предмет, выводим их количество\n",
    "if len(only_math_students ^ only_informatics_students) == 4:\n",
    "    print(3)\n",
    "elif only_math_students or only_informatics_students:\n",
    "    print(len(only_math_students) + len(only_informatics_students))\n",
    "else:\n",
    "    print(\"NO\")\n",
    "\n",
    "\n",
    "1.m,n input\n",
    "\n",
    "2. a = list in range(m+n)\n",
    "\n",
    "3. b = set(a)\n",
    "\n",
    "4. количество повторяющихся значений будет c = (len(a)-len(b))*2\n",
    "\n",
    "5. количество неповторяющихся значений будет m+n - c"
   ]
  },
  {
   "cell_type": "code",
   "execution_count": 21,
   "metadata": {},
   "outputs": [],
   "source": [
    "# Считываем количество уроков\n",
    "m = int(input())\n",
    "n = int(input())\n",
    "\n",
    "# Создаем множество с фамилиями учеников с первого урока\n",
    "all_students = set([input() for _ in range(n)])\n",
    "empty_set = ()\n",
    "\n",
    "if m==1:\n",
    "    print(*all_students)\n",
    "else:\n",
    "    current_lesson_students = ()\n",
    "# Обходим остальные уроки\n",
    "    for _ in range(m - 1):\n",
    "        for j in range(int(input())):\n",
    "            empty_set.add(input())\n",
    "        all_students.intersection_update(empty_set)\n",
    "    # Считываем фамилии учеников на текущем уроке\n",
    "        current_lesson_students = set(input().split())\n",
    "        empty_set.clear()\n",
    "\n",
    "    # # Обновляем множество учеников, пересекая его с текущим уроком\n",
    "    # all_students = all_students.intersection(current_lesson_students)\n",
    "\n",
    "# Выводим фамилии учеников, которые были на всех уроках\n",
    "sorted_students = sorted(all_students)\n",
    "for student in sorted_students:\n",
    "    print(student)\n",
    "\n",
    "\n",
    "\n",
    "# 1 завели m  целое число\n",
    "# 2 завели n целое число (для первого урока)\n",
    "# 3 завели первый список first_set = set([input() for _ in range(n)])\n",
    "# 4 завели пустой список empty_set\n",
    "# 5 условие ЕСЛИ m == 1: (чтобы исключить лишние телодвижения, если урок 1, то сразу вывести все фамилии)\n",
    "#     печать(*first_set)\n",
    "# 6 ИНАЧЕ:\n",
    "#     цикл по i в диапазоне(m-1): (исключили первый ввод данных об уроках, которые уже ввели - n и first_set)\n",
    "        цикл по j в диапазоне(int(input())): (ввода кол-ва фамилий)\n",
    "            empty_set.add(input()) (к пустому множеству добавляем фамилии)\n",
    "        first_set.intersection_update(empty_set) (первый список ищет пересечение с только что заполненным пустым списком)\n",
    "        empty_set.clear() (очищаем заполненный пустой список для следующего заполнения)\n",
    "    first_set = sorted(first_set) (сортируем)\n",
    "    for row in first_set: (печатаем фамилии в строчках)\n",
    "        print(row)"
   ]
  }
 ],
 "metadata": {
  "kernelspec": {
   "display_name": "Python 3",
   "language": "python",
   "name": "python3"
  },
  "language_info": {
   "codemirror_mode": {
    "name": "ipython",
    "version": 3
   },
   "file_extension": ".py",
   "mimetype": "text/x-python",
   "name": "python",
   "nbconvert_exporter": "python",
   "pygments_lexer": "ipython3",
   "version": "3.11.4"
  },
  "orig_nbformat": 4
 },
 "nbformat": 4,
 "nbformat_minor": 2
}
