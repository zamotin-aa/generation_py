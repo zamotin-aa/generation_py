{
 "cells": [
  {
   "cell_type": "code",
   "execution_count": 1,
   "metadata": {},
   "outputs": [
    {
     "name": "stdout",
     "output_type": "stream",
     "text": [
      "-2\n"
     ]
    }
   ],
   "source": [
    "# Раздел матрицы\n",
    "\n",
    "matrix  = [[1, 2, 8, 0],\n",
    "           [-4, 1, 9, 4],\n",
    "           [41, 71, 2, -2]]\n",
    "\n",
    "print(matrix[2][3])"
   ]
  },
  {
   "cell_type": "code",
   "execution_count": 2,
   "metadata": {},
   "outputs": [
    {
     "name": "stdout",
     "output_type": "stream",
     "text": [
      "1 2 3 \n",
      "4 5 6 \n",
      "7 8 9 \n"
     ]
    }
   ],
   "source": [
    "n = 3\n",
    "a = [[1, 2, 3], \n",
    "     [4, 5, 6], \n",
    "     [7, 8, 9]]\n",
    "\n",
    "for i in range(n):\n",
    "    for j in range(n):\n",
    "        print(a[i][j], end=' ')\n",
    "    print()"
   ]
  },
  {
   "cell_type": "code",
   "execution_count": 3,
   "metadata": {},
   "outputs": [
    {
     "name": "stdout",
     "output_type": "stream",
     "text": [
      "1 4 7 \n",
      "2 5 8 \n",
      "3 6 9 \n"
     ]
    }
   ],
   "source": [
    "n = 3\n",
    "a = [[1, 2, 3], \n",
    "     [4, 5, 6], \n",
    "     [7, 8, 9]]\n",
    "\n",
    "for i in range(n):\n",
    "    for j in range(n):\n",
    "        print(a[j][i], end=' ')\n",
    "    print()"
   ]
  },
  {
   "cell_type": "code",
   "execution_count": 4,
   "metadata": {},
   "outputs": [
    {
     "name": "stdout",
     "output_type": "stream",
     "text": [
      "9 8 7 \n",
      "6 5 4 \n",
      "3 2 1 \n"
     ]
    }
   ],
   "source": [
    "n = 3\n",
    "a = [[1, 2, 3],\n",
    "     [4, 5, 6],\n",
    "     [7, 8, 9]]\n",
    "\n",
    "for i in range(n):\n",
    "    for j in range(n):\n",
    "        print(a[n - i - 1][n - j - 1], end=' ')\n",
    "    print()"
   ]
  },
  {
   "cell_type": "code",
   "execution_count": 5,
   "metadata": {},
   "outputs": [
    {
     "name": "stdout",
     "output_type": "stream",
     "text": [
      "101\n"
     ]
    }
   ],
   "source": [
    "n = 5\n",
    "a = [[19, 21, 33, 78, 99], \n",
    "     [41, 53, 66, 98, 76], \n",
    "     [79, 80, 90, 60, 20],\n",
    "     [33, 11, 45, 67, 90],\n",
    "     [45, 67, 12, 98, 23]]\n",
    "\n",
    "maximum = -1\n",
    "minimum = 100\n",
    "\n",
    "for i in range(n):\n",
    "    if a[i][i] > maximum:\n",
    "        maximum = a[i][i]\n",
    "    if a[i][n - i - 1] < minimum:\n",
    "        minimum = a[i][n - i - 1]\n",
    "print(minimum + maximum)"
   ]
  },
  {
   "cell_type": "code",
   "execution_count": 6,
   "metadata": {},
   "outputs": [
    {
     "name": "stdout",
     "output_type": "stream",
     "text": [
      "[[0, 0, 0, 0, 0, 0], [0, 0, 0, 0, 0, 0], [0, 0, 0, 0, 0, 0], [0, 0, 0, 0, 0, 0], [0, 0, 0, 0, 0, 0]]\n"
     ]
    }
   ],
   "source": [
    "# На вход программе подаются два натуральных числа n и m, каждое на отдельной строке — \n",
    "# количество строк и столбцов в матрице. Далее вводятся сами элементы матрицы — \n",
    "# слова, каждое на отдельной строке; подряд идут элементы сначала первой строки, затем второй, и т.д.\n",
    "\n",
    "# Напишите программу, которая сначала считывает элементы матрицы один за другим, затем выводит их в виде матрицы.\n",
    "\n",
    "n = int(input())\n",
    "m = int(input())\n",
    "\n",
    "#создать матрицу нужной размерности\n",
    "matrix = [ [0]*m for i in range(n) ]  \n",
    "\n",
    "# заполнить матрицу\n",
    "for i in range(n): \n",
    "    for j in range(m):\n",
    "        matrix[i][j] = str(input())\n",
    "\n",
    "# напечатать матрицу        \n",
    "for i in range(n):         \n",
    "    for j in range(m):  \n",
    "        print(matrix[i][j], end = ' ')\n",
    "    print()"
   ]
  },
  {
   "cell_type": "code",
   "execution_count": 7,
   "metadata": {},
   "outputs": [
    {
     "name": "stdout",
     "output_type": "stream",
     "text": [
      "b jj p jj g kk \n",
      "k gg j gg j ggg \n",
      "l''; werw wer \n",
      "sdfd sdf sdfdsf \n",
      "b jj k gg l''; \n",
      "p jj j gg werw \n",
      "g kk j ggg wer \n"
     ]
    },
    {
     "ename": "IndexError",
     "evalue": "list index out of range",
     "output_type": "error",
     "traceback": [
      "\u001b[1;31m---------------------------------------------------------------------------\u001b[0m",
      "\u001b[1;31mIndexError\u001b[0m                                Traceback (most recent call last)",
      "\u001b[1;32mc:\\Users\\PC\\Desktop\\Учебное2023\\generation_py\\15_GPY_2\\GPY_2_2.ipynb Ячейка 7\u001b[0m line \u001b[0;36m2\n\u001b[0;32m     <a href='vscode-notebook-cell:/c%3A/Users/PC/Desktop/%D0%A3%D1%87%D0%B5%D0%B1%D0%BD%D0%BE%D0%B52023/generation_py/15_GPY_2/GPY_2_2.ipynb#W6sZmlsZQ%3D%3D?line=18'>19</a>\u001b[0m \u001b[39mfor\u001b[39;00m i \u001b[39min\u001b[39;00m \u001b[39mrange\u001b[39m(n):         \n\u001b[0;32m     <a href='vscode-notebook-cell:/c%3A/Users/PC/Desktop/%D0%A3%D1%87%D0%B5%D0%B1%D0%BD%D0%BE%D0%B52023/generation_py/15_GPY_2/GPY_2_2.ipynb#W6sZmlsZQ%3D%3D?line=19'>20</a>\u001b[0m     \u001b[39mfor\u001b[39;00m j \u001b[39min\u001b[39;00m \u001b[39mrange\u001b[39m(m):  \n\u001b[1;32m---> <a href='vscode-notebook-cell:/c%3A/Users/PC/Desktop/%D0%A3%D1%87%D0%B5%D0%B1%D0%BD%D0%BE%D0%B52023/generation_py/15_GPY_2/GPY_2_2.ipynb#W6sZmlsZQ%3D%3D?line=20'>21</a>\u001b[0m         \u001b[39mprint\u001b[39m(matrix[j][i], end \u001b[39m=\u001b[39m \u001b[39m'\u001b[39m\u001b[39m \u001b[39m\u001b[39m'\u001b[39m)\n\u001b[0;32m     <a href='vscode-notebook-cell:/c%3A/Users/PC/Desktop/%D0%A3%D1%87%D0%B5%D0%B1%D0%BD%D0%BE%D0%B52023/generation_py/15_GPY_2/GPY_2_2.ipynb#W6sZmlsZQ%3D%3D?line=21'>22</a>\u001b[0m     \u001b[39mprint\u001b[39m()\n",
      "\u001b[1;31mIndexError\u001b[0m: list index out of range"
     ]
    }
   ],
   "source": [
    "n = int(input())\n",
    "m = int(input())\n",
    "\n",
    "#создать матрицу нужной размерности\n",
    "matrix = [ [0]*m for i in range(n) ]  \n",
    "\n",
    "# заполнить матрицу\n",
    "for i in range(n): \n",
    "    for j in range(m):\n",
    "        matrix[i][j] = str(input())\n",
    "\n",
    "# напечатать матрицу        \n",
    "for i in range(n):         \n",
    "    for j in range(m):  \n",
    "        print(matrix[i][j], end = ' ')\n",
    "    print()\n",
    "\n",
    "print()\n",
    "   \n",
    "# напечатать матрицу 2     \n",
    "for j in range(m):         \n",
    "    for i in range(n):  \n",
    "        print(matrix[i][j], end = ' ')\n",
    "    print()"
   ]
  },
  {
   "cell_type": "code",
   "execution_count": null,
   "metadata": {},
   "outputs": [],
   "source": [
    "# Следом квадратной матрицы называется сумма элементов главной диагонали. \n",
    "# Напишите программу, которая выводит след заданной квадратной матрицы.\n",
    "\n",
    "# Формат входных данных\n",
    "# На вход программе подаётся натуральное число n — количество строк и столбцов в матрице, \n",
    "# затем элементы матрицы (целые числа) построчно через пробел\n",
    "\n",
    "n = int(input())\n",
    "\n",
    "# создать и заполнить матрицу\n",
    "matrix=[]\n",
    "for i in range(n):\n",
    "    matrix.append(list(map(int, input().split())))\n",
    "\n",
    "# сумма чисел главной диагонали\n",
    "sum = 0       \n",
    "for i in range(n):\n",
    "    sum = sum + matrix[i][i]\n",
    "    \n",
    "print(sum)"
   ]
  },
  {
   "cell_type": "code",
   "execution_count": null,
   "metadata": {},
   "outputs": [],
   "source": [
    "# Напишите программу, которая выводит количество элементов квадратной матрицы в каждой строке, \n",
    "# больших среднего арифметического элементов данной строки.\n",
    "\n",
    "# Формат входных данных\n",
    "# На вход программе подаётся натуральное число n — количество строк и столбцов в матрице, \n",
    "# затем элементы матрицы (целые числа) построчно через пробел.\n",
    "\n",
    "n = int(input())\n",
    "\n",
    "# создать и заполнить матрицу\n",
    "matrix=[]\n",
    "for i in range(n):\n",
    "    matrix.append(list(map(int, input().split())))\n",
    "    \n",
    "      \n",
    "for i in range(n):\n",
    "    count = 0\n",
    "    sum = 0\n",
    "    for j in range(n):\n",
    "        sum = sum + matrix[i][j]\n",
    "    avg = sum/n\n",
    "    for j in range(n):\n",
    "        if matrix[i][j]>avg:\n",
    "            count += 1\n",
    "    print(count)"
   ]
  },
  {
   "cell_type": "code",
   "execution_count": null,
   "metadata": {},
   "outputs": [],
   "source": [
    "n = int(input())\n",
    "\n",
    "# создать и заполнить матрицу\n",
    "matrix=[]\n",
    "for i in range(n):\n",
    "    matrix.append(list(map(int, input().split())))\n",
    "\n",
    "maxx = -10000000000000\n",
    "for i in range(n):\n",
    "    for j in range(n):\n",
    "        if i>=j and matrix[i][j]>maxx:\n",
    "            maxx = matrix[i][j]\n",
    "\n",
    "print(maxx)"
   ]
  },
  {
   "cell_type": "code",
   "execution_count": null,
   "metadata": {},
   "outputs": [],
   "source": [
    "n = int(input())\n",
    "\n",
    "# создать и заполнить матрицу\n",
    "matrix=[]\n",
    "for i in range(n):\n",
    "    matrix.append(list(map(int, input().split())))\n",
    "\n",
    "maxx = -10000000000000\n",
    "for i in range(n):\n",
    "    for j in range(n):\n",
    "        if (i>=j and i<=n-1-j and matrix[i][j]>maxx) or (i<=j and i>=n-1-j and matrix[i][j]>maxx):\n",
    "            maxx = matrix[i][j]\n",
    "\n",
    "print(maxx)"
   ]
  },
  {
   "cell_type": "code",
   "execution_count": null,
   "metadata": {},
   "outputs": [],
   "source": [
    "n = int(input())\n",
    "\n",
    "# создать и заполнить матрицу\n",
    "matrix=[]\n",
    "for i in range(n):\n",
    "    matrix.append(list(map(int, input().split())))\n",
    "\n",
    "\n",
    "sum_up, sum_bottom, sum_right, sum_left = 0, 0, 0, 0\n",
    "for i in range(n):\n",
    "    for j in range(n):\n",
    "        if (i>j and i<n-1-j):\n",
    "            sum_left = sum_left + matrix[i][j]\n",
    "        elif (i<j and i<n-1-j):\n",
    "            sum_up = sum_up + matrix[i][j]\n",
    "        elif (i<j and i>n-1-j):\n",
    "            sum_right = sum_right + matrix[i][j]\n",
    "        elif (i>j and i>n-1-j):\n",
    "            sum_bottom = sum_bottom + matrix[i][j]\n",
    "\n",
    "print(\"Верхняя четверть:\", sum_up)\n",
    "print(\"Правая четверть:\", sum_right)\n",
    "print(\"Нижняя четверть:\", sum_bottom)\n",
    "print(\"Левая четверть:\", sum_left)"
   ]
  },
  {
   "cell_type": "code",
   "execution_count": null,
   "metadata": {},
   "outputs": [],
   "source": [
    "n = int(input())\n",
    "m = int(input())\n",
    "\n",
    "#создать матрицу нужной размерности\n",
    "matrix = [ [0]*m for i in range(n) ]  \n",
    "\n",
    "# заполнить матрицу\n",
    "for i in range(n): \n",
    "    for j in range(m):\n",
    "        matrix[i][j] = i*j\n",
    "        \n",
    "# напечатать матрицу        \n",
    "for i in range(n):         \n",
    "    for j in range(m):  \n",
    "        print(str(matrix[i][j]).ljust(3), end=' ')\n",
    "    print()\n",
    "    \n",
    "# print('a'.ljust(3))\n",
    "# print('ab'.ljust(3))"
   ]
  },
  {
   "cell_type": "code",
   "execution_count": null,
   "metadata": {},
   "outputs": [],
   "source": [
    "# На вход программе подаются два натуральных числа n и m — количество строк и столбцов в матрице, \n",
    "# затем n строк по m целых чисел в каждой, отделенных символом пробела.\n",
    "\n",
    "# Напишите программу, которая находит индексы (строку и столбец) первого вхождения максимального элемента.\n",
    "\n",
    "\n",
    "n = int(input())\n",
    "m = int(input())\n",
    "matrix = []\n",
    "for i in range(n):\n",
    "    matrix.append(list(map(int, input().split())))\n",
    "    \n",
    "max = -9999999\n",
    "max_i_index = 0\n",
    "max_j_index = 0\n",
    "\n",
    "for i in range(n): \n",
    "    for j in range(m):\n",
    "        if matrix[i][j] > max:\n",
    "            max = matrix[i][j]\n",
    "            max_i_index = i\n",
    "            max_j_index = j\n",
    "print(max_i_index, max_j_index)"
   ]
  },
  {
   "cell_type": "code",
   "execution_count": null,
   "metadata": {},
   "outputs": [],
   "source": [
    "n = int(input())\n",
    "m = int(input())\n",
    "matrix = []\n",
    "for i in range(n):\n",
    "    matrix.append(list(map(int, input().split())))\n",
    "    \n",
    "s = str(input()).split()\n",
    "s = [int(i) for i in s]\n",
    "\n",
    "\n",
    "for i in range(n): \n",
    "    matrix[i][s[0]], matrix[i][s[1]] = matrix[i][s[1]], matrix[i][s[0]]\n",
    "            \n",
    "for i in range(n):         \n",
    "    for j in range(m):  \n",
    "        print(matrix[i][j], end=' ')\n",
    "    print()\n",
    "    "
   ]
  },
  {
   "cell_type": "code",
   "execution_count": null,
   "metadata": {},
   "outputs": [],
   "source": [
    "# Напишите программу, которая проверяет симметричность квадратной матрицы относительно главной диагонали.\n",
    "\n",
    "n = int(input())\n",
    "matrix=[]\n",
    "for i in range(n):\n",
    "    matrix.append(list(map(int, input().split())))\n",
    "count = 0\n",
    "for i in range(n):         \n",
    "    for j in range(n):\n",
    "        if i!=j and matrix[i][j] != matrix[j][i]:\n",
    "            count += 1\n",
    "if count == 0:\n",
    "    print('YES')\n",
    "else:\n",
    "    print('NO')\n",
    "    \n"
   ]
  },
  {
   "cell_type": "code",
   "execution_count": null,
   "metadata": {},
   "outputs": [],
   "source": [
    "# Дана квадратная матрица чисел. Напишите программу, которая меняет местами элементы, \n",
    "# стоящие на главной и побочной диагонали, при этом каждый элемент должен остаться в том же \n",
    "# столбце (то есть в каждом столбце нужно поменять местами элемент на главной диагонали и на побочной диагонали).\n",
    "\n",
    "n = int(input())\n",
    "matrix=[]\n",
    "for i in range(n):\n",
    "    matrix.append(list(map(int, input().split())))\n",
    "for i in range(n):   \n",
    "    matrix[i][i], matrix[n-i-1][i] = matrix[n-i-1][i], matrix[i][i]\n",
    "    \n",
    "for i in range(n):         \n",
    "    for j in range(n):  \n",
    "        print(matrix[i][j], end=' ')\n",
    "    print()"
   ]
  },
  {
   "cell_type": "code",
   "execution_count": null,
   "metadata": {},
   "outputs": [],
   "source": [
    "n = int(input())\n",
    "matrix=[]\n",
    "for i in range(n):\n",
    "    matrix.append(list(map(int, input().split())))\n",
    "matrix.reverse()\n",
    "for i in range(n):         \n",
    "    for j in range(n):  \n",
    "        print(matrix[i][j], end=' ')\n",
    "    print()"
   ]
  },
  {
   "cell_type": "code",
   "execution_count": null,
   "metadata": {},
   "outputs": [],
   "source": [
    "n = int(input())\n",
    "matrix=[]\n",
    "for i in range(n):\n",
    "    matrix.append(list(map(int, input().split())))\n",
    "matrix.reverse()\n",
    "for i in range(n):         \n",
    "    for j in range(n):  \n",
    "        print(matrix[j][i], end=' ')\n",
    "    print()"
   ]
  },
  {
   "cell_type": "code",
   "execution_count": 12,
   "metadata": {},
   "outputs": [
    {
     "name": "stdout",
     "output_type": "stream",
     "text": [
      ". . . . . . . . \n",
      ". . . . . . . . \n",
      ". . . . . . . . \n",
      ". . . . . . . . \n",
      ". . . . . . . . \n",
      ". . . * . * . . \n",
      ". . * . . . * . \n",
      ". . . . N . . . \n",
      "7 4\n"
     ]
    }
   ],
   "source": [
    "# шахматная задачка\n",
    "\n",
    "xy = input()\n",
    "x = '87654321'.index(xy[1])\n",
    "y = 'abcdefgh'.index(xy[0])\n",
    "\n",
    "\n",
    "matrix = [ ['.']*8 for i in range(8) ] \n",
    "\n",
    "for i in range(8):         \n",
    "    for j in range(8):\n",
    "        t1 = abs(x-i)\n",
    "        t2 = abs(y-j)\n",
    "        if i==x and j==y:\n",
    "            print('N', end=' ')\n",
    "        elif (t1==1 and t2==2) or (t1==2 and t2==1):\n",
    "            print('*', end=' ')\n",
    "        else:\n",
    "            print (matrix[i][j], end=' ')\n",
    "    print() \n",
    "    \n",
    "# print(x, y)"
   ]
  },
  {
   "cell_type": "code",
   "execution_count": null,
   "metadata": {},
   "outputs": [],
   "source": [
    "n = int(input())\n",
    "matrix=[]\n",
    "for i in range(n):\n",
    "    matrix.append(list(map(int, input().split())))\n",
    "first = matrix[0][0]\n",
    "count = 0\n",
    "for i in range(n):         \n",
    "    for j in range(n):\n",
    "        if (i!=0 and j!=0) and matrix[i][j]==first:\n",
    "            count += 1\n",
    "for i in range(n):         \n",
    "    for j in range(n):\n",
    "        if matrix[i][j]==0:\n",
    "            count += 1\n",
    "\n",
    "for i in range(n):         \n",
    "    for j in range(n):\n",
    "        if (((i!=0 and j!=0) and matrix[i][j]==first) or matrix[i][j]==0):\n",
    "            count += 1\n",
    "\n",
    "def row_sums(matrix):\n",
    "  # Предполагаем, что матрица квадратная и не пустая\n",
    "  n = len(matrix) # Размер матрицы\n",
    "  sums = [] # Список для хранения сумм\n",
    "  for i in range(n):\n",
    "    row = matrix[i] # i-я строка матрицы\n",
    "    row_sum = sum(row) # Сумма элементов в i-й строке\n",
    "    sums.append(row_sum) # Добавляем сумму в список\n",
    "  return sums # Возвращаем список сумм\n",
    "\n",
    "def diagonal_sums(matrix):\n",
    "  # Предполагаем, что матрица квадратная и не пустая\n",
    "  n = len(matrix) # Размер матрицы\n",
    "  sum = 0 # переменная для хранения суммы\n",
    "  for i in range(n):\n",
    "      sum = sum + matrix[i][i]\n",
    "  return sum # Возвращаем сумму\n",
    "\n",
    "reversed_matrix = [[0]*n for i in range(n) ]\n",
    "for i in range(n):         \n",
    "    for j in range(n):  \n",
    "        reversed_matrix[i][j] = matrix[j][i]\n",
    "\n",
    "d1 = []\n",
    "d2 = []\n",
    "s1 = row_sums(matrix)\n",
    "d1.append(diagonal_sums(matrix))\n",
    "s2 = row_sums(reversed_matrix)\n",
    "d2.append(diagonal_sums(reversed_matrix))\n",
    "s3 = s1 + s2 + d1\n",
    "sum = 0\n",
    "for i in range(len(s3)):\n",
    "    sum = sum + s3[i]\n",
    "\n",
    "for i in range(len(s3)):\n",
    "    if d2[0]!=s3[i]:\n",
    "        count +=1\n",
    "\n",
    "\n",
    "\n",
    "if count ==0:\n",
    "    print('YES')\n",
    "else:\n",
    "    print('NO')\n",
    "\n",
    "\n",
    "# print(count)\n",
    "# print(s1)\n",
    "# print(d1)\n",
    "# print(s2)\n",
    "# print(d2)\n",
    "# print(s3)\n"
   ]
  }
 ],
 "metadata": {
  "kernelspec": {
   "display_name": "Python 3",
   "language": "python",
   "name": "python3"
  },
  "language_info": {
   "codemirror_mode": {
    "name": "ipython",
    "version": 3
   },
   "file_extension": ".py",
   "mimetype": "text/x-python",
   "name": "python",
   "nbconvert_exporter": "python",
   "pygments_lexer": "ipython3",
   "version": "3.11.4"
  },
  "orig_nbformat": 4
 },
 "nbformat": 4,
 "nbformat_minor": 2
}
