{
 "cells": [
  {
   "cell_type": "code",
   "execution_count": 6,
   "metadata": {},
   "outputs": [
    {
     "name": "stdout",
     "output_type": "stream",
     "text": [
      "11\n",
      "-1\n",
      "30\n",
      "0.8333333333333334\n",
      "0.0\n",
      "5.0\n",
      "55.0\n"
     ]
    }
   ],
   "source": [
    "# сумму чисел\n",
    "# разность чисел\n",
    "# произведение чисел\n",
    "# частное чисел\n",
    "# целую часть от деления числа\n",
    "# остаток от деления числ\n",
    "# корень квадратный из суммы их 10-х степеней\n",
    "\n",
    "a = int(input())\n",
    "b = int(input())\n",
    "print(\n",
    "    a+b,\n",
    "    a-b,\n",
    "    a*b,\n",
    "    float(a/b),\n",
    "    float(a//b),\n",
    "    float(a%b),\n",
    "    float((a**10 + b**10)**0.5),\n",
    "          sep='\\n'\n",
    "    )\n"
   ]
  },
  {
   "cell_type": "code",
   "execution_count": 8,
   "metadata": {},
   "outputs": [
    {
     "ename": "ValueError",
     "evalue": "could not convert string to float: ''",
     "output_type": "error",
     "traceback": [
      "\u001b[1;31m---------------------------------------------------------------------------\u001b[0m",
      "\u001b[1;31mValueError\u001b[0m                                Traceback (most recent call last)",
      "Cell \u001b[1;32mIn[8], line 10\u001b[0m\n\u001b[0;32m      7\u001b[0m     \u001b[39melse\u001b[39;00m:\n\u001b[0;32m      8\u001b[0m         \u001b[39mreturn\u001b[39;00m (\u001b[39m\"\u001b[39m\u001b[39mОптимальная масса\u001b[39m\u001b[39m\"\u001b[39m)\n\u001b[1;32m---> 10\u001b[0m m \u001b[39m=\u001b[39m \u001b[39mfloat\u001b[39;49m(\u001b[39minput\u001b[39;49m())\n\u001b[0;32m     11\u001b[0m r \u001b[39m=\u001b[39m \u001b[39mfloat\u001b[39m(\u001b[39minput\u001b[39m())\n\u001b[0;32m     13\u001b[0m IMT(m, r)\n",
      "\u001b[1;31mValueError\u001b[0m: could not convert string to float: ''"
     ]
    }
   ],
   "source": [
    "def IMT(massa, rost):\n",
    "    index_imt = massa/(rost*rost)\n",
    "    if index_imt > 25:\n",
    "        return (\"Избыточная масса\")\n",
    "    elif index_imt < 18.5:\n",
    "        return (\"Недостаточная масса\")\n",
    "    else:\n",
    "        return (\"Оптимальная масса\")\n",
    "    \n",
    "m = float(input())\n",
    "r = float(input())\n",
    "\n",
    "print(IMT(m, r))\n"
   ]
  },
  {
   "cell_type": "code",
   "execution_count": 14,
   "metadata": {},
   "outputs": [
    {
     "name": "stdout",
     "output_type": "stream",
     "text": [
      "43 р. 80 коп.\n"
     ]
    }
   ],
   "source": [
    "# Дана строка текста. Напишите программу для подсчета стоимости строки, \n",
    "# исходя из того, что один любой символ (в том числе пробел) стоит \n",
    "# 60 копеек. Ответ дайте в рублях и копейках в соответствии с примерами.\n",
    "\n",
    "s = str(input())\n",
    "x1 = 60*len(s)//100\n",
    "x2 = 60*len(s)%100\n",
    "\n",
    "print(str(x1) + ' р. ' + str(x2) + ' коп.')\n",
    "\n"
   ]
  },
  {
   "cell_type": "code",
   "execution_count": null,
   "metadata": {},
   "outputs": [],
   "source": [
    "print(len(input().split(' ')))"
   ]
  },
  {
   "cell_type": "code",
   "execution_count": 15,
   "metadata": {},
   "outputs": [
    {
     "name": "stdout",
     "output_type": "stream",
     "text": [
      "Овца\n"
     ]
    }
   ],
   "source": [
    "animals = [\"Обезьяна\", \"Петух\", \"Собака\", \"Свинья\", \"Крыса\", \"Бык\", \"Тигр\", \"Заяц\", \"Дракон\", \"Змея\", \"Лошадь\", \"Овца\"]\n",
    "print(animals[int(input())%12])"
   ]
  },
  {
   "cell_type": "code",
   "execution_count": 40,
   "metadata": {},
   "outputs": [
    {
     "name": "stdout",
     "output_type": "stream",
     "text": [
      "165432\n"
     ]
    }
   ],
   "source": [
    "# Дано пятизначное или шестизначное натуральное число. \n",
    "# Напишите программу, которая изменит порядок его последних пяти цифр на обратный.\n",
    "\n",
    "s = str(input())\n",
    "if len(s)==5:\n",
    "    print(int((s[::-1])))\n",
    "else:\n",
    "    print(int((s[0] + (s[-5::])[::-1])))\n",
    "    # print(str(s[0]) + str(s[1:5:-1]))\n",
    "    \n",
    "    \n",
    "# или так\n",
    "\n",
    "# n = input()\n",
    "# new_n = int(n[:-5] + n[-5:][::-1])\n",
    "\n",
    "# print(new_n)"
   ]
  },
  {
   "cell_type": "code",
   "execution_count": 42,
   "metadata": {},
   "outputs": [
    {
     "name": "stdout",
     "output_type": "stream",
     "text": [
      "123,658,995\n"
     ]
    }
   ],
   "source": [
    "# На вход программе подаётся натуральное число. \n",
    "# Напишите программу, которая вставляет в заданное число запятые в \n",
    "# соответствии со стандартным американским соглашением о запятых в больших числах.\n",
    "\n",
    "# >>> '{:,}'.format(1234567890)\n",
    "# '1,234,567,890'\n",
    "\n",
    "\n",
    "n = int(input()) # вводим натуральное число\n",
    "print(\"{:,}\".format(n)) # выводим число с запятыми"
   ]
  },
  {
   "cell_type": "code",
   "execution_count": null,
   "metadata": {},
   "outputs": [],
   "source": [
    "n = int(input())\n",
    "\n",
    "quart1, quart2, quart3, quart4 = 0, 0, 0, 0\n",
    "\n",
    "for i in range(n):\n",
    "    x, y = map(int, input().split())\n",
    "    \n",
    "    if x>0 and y>0:\n",
    "        quart1 += 1\n",
    "    elif x>0 and y<0:\n",
    "        quart4 += 1  \n",
    "    elif x<0 and y>0:\n",
    "        quart2 += 1\n",
    "    elif x<0 and y<0:\n",
    "        quart3 += 1\n",
    "\n",
    "print(f\"Первая четверть: {quart1}\")\n",
    "print(f\"Вторая четверть: {quart2}\")\n",
    "print(f\"Третья четверть: {quart3}\")\n",
    "print(f\"Четвертая четверть: {quart4}\")\n",
    "\n"
   ]
  },
  {
   "cell_type": "code",
   "execution_count": 27,
   "metadata": {},
   "outputs": [
    {
     "name": "stdout",
     "output_type": "stream",
     "text": [
      "4\n",
      "['6', '5', '8', '79', '8', '57', '69']\n"
     ]
    }
   ],
   "source": [
    "# На вход программе подается строка текста из натуральных чисел. \n",
    "# Из неё формируется список чисел. \n",
    "# Напишите программу подсчета количества чисел, которые больше предшествующего им в этом списке числа.\n",
    "\n",
    "s = str(input()).split()\n",
    "\n",
    "count = 0\n",
    "num = int(s[0])\n",
    "for i in range(1, len(s)):\n",
    "    if int(s[i])>num:\n",
    "        count += 1\n",
    "    num = int(s[i])\n",
    "     \n",
    "print(count)\n",
    "print(s)"
   ]
  },
  {
   "cell_type": "code",
   "execution_count": 32,
   "metadata": {},
   "outputs": [
    {
     "name": "stdout",
     "output_type": "stream",
     "text": [
      "[2, 1, 4, 3, 5]\n"
     ]
    }
   ],
   "source": [
    "s = str(input()).split()\n",
    "s = [int(i) for i in s]\n",
    "for i in range(0, len(s) - 1, 2):\n",
    "    s[i], s[i+1] = s[i+1], s[i]\n",
    "print(*s)\n",
    "\n",
    "\n"
   ]
  },
  {
   "cell_type": "code",
   "execution_count": 54,
   "metadata": {},
   "outputs": [
    {
     "name": "stdout",
     "output_type": "stream",
     "text": [
      "5 1 2 3 4\n"
     ]
    }
   ],
   "source": [
    "# На вход программе подается строка текста из натуральных чисел. \n",
    "# Из элементов строки формируется список чисел. \n",
    "# Напишите программу циклического сдвига элементов списка направо, \n",
    "# когда последний элемент становится первым, а остальные сдвигаются на одну позицию вперед, \n",
    "# в сторону увеличения индексов.\n",
    "\n",
    "s = str(input()).split()\n",
    "s = [int(i) for i in s]\n",
    "print(s[len(s)-1], end=' ')\n",
    "print(*s[:len(s)-1])"
   ]
  },
  {
   "cell_type": "code",
   "execution_count": 58,
   "metadata": {},
   "outputs": [
    {
     "name": "stdout",
     "output_type": "stream",
     "text": [
      "4\n"
     ]
    }
   ],
   "source": [
    "# На вход программе подается строка текста, содержащая натуральные числа, расположенные по неубыванию. \n",
    "# Из строки формируется список чисел. Напишите программу для подсчета количества разных элементов в списке.\n",
    "\n",
    "s = str(input()).split()\n",
    "s = [int(i) for i in s]\n",
    "count = 1\n",
    "for i in range(len(s)-1):\n",
    "    if s[i+1] != s[i]:\n",
    "        count += 1\n",
    "print(count)"
   ]
  },
  {
   "cell_type": "code",
   "execution_count": 63,
   "metadata": {},
   "outputs": [
    {
     "name": "stdout",
     "output_type": "stream",
     "text": [
      "5 [2, 5, 4, 8, 6] 4\n"
     ]
    }
   ],
   "source": [
    "# Напишите программу для определения, является ли число произведением двух чисел из данного набора. \n",
    "# Программа должна выводить результат в виде ответа «ДА» или «НЕТ».\n",
    "\n",
    "n = int(input()) #чисел в наборе\n",
    "s = []\n",
    "for i in range(n):\n",
    "    s.append(int(input()))\n",
    "k = int(input())\n",
    "count = 'НЕТ'\n",
    "for i in range(len(s)):\n",
    "    for j in range (len(s)):\n",
    "        if i!=j:\n",
    "            if s[i]*s[j] == k:\n",
    "                count = 'ДА'\n",
    "            \n",
    "print(count)\n",
    "            \n",
    "        \n",
    "print(n, s, k)\n",
    "\n"
   ]
  },
  {
   "cell_type": "code",
   "execution_count": null,
   "metadata": {},
   "outputs": [],
   "source": [
    "# На вход программе подаются две строки текста, содержащие слова \"камень\", \"ножницы\" или \"бумага\". \n",
    "# На первой строке записан выбор Тимура, на второй – выбор Руслана.\n",
    "\n",
    "def game (x, y):\n",
    "    vars = ['каменькамень', 'ничья', 'каменьножницы', 'Тимур', 'каменьбумага', 'Руслан',\n",
    "        'каменьящерица', 'Тимур', 'каменьСпок', 'Руслан', 'ножницыножницы', 'ничья',\n",
    "        'ножницыбумага', 'Тимур', 'ножницыкамень', 'Руслан', 'ножницыящерица', 'Тимур',\n",
    "        'ножницыСпок', 'Руслан', 'бумагабумага', 'ничья', 'бумагакамень', 'Тимур',\n",
    "        'бумаганожницы', 'Руслан', 'бумагаящерица', 'Руслан', 'бумагаСпок', 'Руслан',\n",
    "        'ящерицаящерица', 'ничья', 'ящерицаСпок', 'Тимур', 'ящерицаножницы', 'Руслан',\n",
    "        'ящерицабумага', 'Тимур', 'ящерицакамень', 'Руслан', 'СпокСпок', 'ничья',\n",
    "        'Спокножницы', 'Тимур', 'Спокбамага', 'Руслан', 'Споккамень', 'Тимур',\n",
    "        'Спокящерица', 'Руслан']\n",
    "    z = x+y\n",
    "    ind = vars.index(z)\n",
    "    return vars[ind+1]\n",
    "x = str(input())\n",
    "y = str(input())\n",
    "\n",
    "print(game(x,y))"
   ]
  },
  {
   "cell_type": "code",
   "execution_count": 66,
   "metadata": {},
   "outputs": [
    {
     "name": "stdout",
     "output_type": "stream",
     "text": [
      "7\n"
     ]
    }
   ],
   "source": [
    "\n",
    "s = str(input()).split('О')\n",
    "\n",
    "print(len(max(s)))"
   ]
  },
  {
   "cell_type": "code",
   "execution_count": 67,
   "metadata": {},
   "outputs": [
    {
     "name": "stdout",
     "output_type": "stream",
     "text": [
      "['a', 'n', 't', 'o', 'o', 'n']\n"
     ]
    }
   ],
   "source": [
    "# n = int(input()) #чисел в наборе\n",
    "\n",
    "n = int(input())\n",
    "\n",
    "s = []\n",
    "for i in range(n):\n",
    "        s.append(str(input()))\n",
    "\n",
    "def find_anton(s):\n",
    "    a1 = s.find('a')\n",
    "    a2 = s.find('n', a1)\n",
    "    a3 = s.find('t', a2)\n",
    "    a4 = s.find('o', a3)\n",
    "    a5 = s.rfind('n')\n",
    "    if (a5>a4>a3>a2>a1):\n",
    "        return True\n",
    "    else:\n",
    "        return False\n",
    "    \n",
    "for i in range(n):\n",
    "    if(find_anton(s[i])):\n",
    "        print(i+1, end = ' ')"
   ]
  },
  {
   "cell_type": "code",
   "execution_count": 88,
   "metadata": {},
   "outputs": [
    {
     "name": "stdout",
     "output_type": "stream",
     "text": [
      "яндекс запретил букву а\n",
      "яндекс зпретил букву б\n",
      "яндекс зпретил укву в\n",
      "яндекс зпретил уку д\n",
      "янекс зпретил уку е\n",
      "янкс зпртил уку з\n",
      "янкс пртил уку и\n",
      "янкс пртл уку к\n",
      "янс пртл уу л\n",
      "янс прт уу н\n",
      "яс прт уу п\n",
      "яс рт уу р\n",
      "яс т уу с\n",
      "я т уу т\n",
      "я уу у\n",
      "я я\n"
     ]
    }
   ],
   "source": [
    "b = ['а', 'б', 'в', 'г', 'д', 'е', 'ж', 'з', 'и', 'й', 'к', 'л', 'м', 'н', 'о', 'п', 'р', 'с', 'т', 'у', 'ф', 'х', 'ц', 'ч', 'ш', 'щ', 'ъ', 'ы', 'ь', 'э', 'ю', 'я']\n",
    "\n",
    "word = input() + ' запретил букву'\n",
    "\n",
    "#найдем первый символ\n",
    "\n",
    "for i in range(len(b)):\n",
    "    if b[i] in word:\n",
    "        word = word.lstrip()\n",
    "        word = word + ' ' + b[i]\n",
    "        word = word.replace('  ', ' ')\n",
    "        print(word)\n",
    "        word = word.replace(b[i], '')\n",
    "        word = word.replace('  ', ' ')\n",
    "        word = word.lstrip()\n",
    "        # word = word.replace('   ', ' ')\n",
    "        # word = word.replace('  ', ' ')\n",
    "    if len(word)<0:\n",
    "        break\n",
    "\n"
   ]
  },
  {
   "cell_type": "code",
   "execution_count": null,
   "metadata": {},
   "outputs": [],
   "source": [
    "def josephus(n, k):\n",
    "    result = 0\n",
    "    for i in range(1, n + 1):\n",
    "        result = (result + k) % i\n",
    "    return result + 1\n",
    "\n",
    "n = int(input())\n",
    "k = int(input())\n",
    "\n",
    "print(josephus(n,k))"
   ]
  },
  {
   "cell_type": "code",
   "execution_count": 9,
   "metadata": {},
   "outputs": [
    {
     "name": "stdout",
     "output_type": "stream",
     "text": [
      "True\n"
     ]
    }
   ],
   "source": [
    "# объявление функции\n",
    "def func(num1, num2):\n",
    "    if num1%num2 == 0:\n",
    "        return True\n",
    "    else:\n",
    "        return False\n",
    "\n",
    "# считываем данные\n",
    "num1, num2 = int(input()), int(input())\n",
    "\n",
    "# вызываем функцию\n",
    "if func(num1, num2):\n",
    "    print('делится')\n",
    "else:\n",
    "    print('не делится')"
   ]
  },
  {
   "cell_type": "code",
   "execution_count": 11,
   "metadata": {},
   "outputs": [
    {
     "name": "stdout",
     "output_type": "stream",
     "text": [
      "False\n"
     ]
    }
   ],
   "source": [
    "empty = ''\n",
    "print(None == empty)"
   ]
  },
  {
   "cell_type": "code",
   "execution_count": 13,
   "metadata": {},
   "outputs": [
    {
     "name": "stdout",
     "output_type": "stream",
     "text": [
      "10\n"
     ]
    }
   ],
   "source": [
    "zeros = [0] * 10\n",
    "print(len(zeros))"
   ]
  },
  {
   "cell_type": "code",
   "execution_count": 26,
   "metadata": {},
   "outputs": [
    {
     "name": "stdout",
     "output_type": "stream",
     "text": [
      "['a', 'b', 'c', 'd']\n"
     ]
    }
   ],
   "source": [
    "letters = ['a', 'b', 'c', 'd']\n",
    "\n",
    "# new_letters = copy(letters)\n",
    "\n",
    "# new_letters = letters[:]\n",
    "\n",
    "# new_letters = new_letters.copy(letters)\n",
    "\n",
    "# new_letters = list(letters)\n",
    "\n",
    "new_letters = letters.copy()\n",
    "\n",
    "print(new_letters)"
   ]
  },
  {
   "cell_type": "code",
   "execution_count": 27,
   "metadata": {},
   "outputs": [
    {
     "name": "stdout",
     "output_type": "stream",
     "text": [
      "Hello-Python\n"
     ]
    }
   ],
   "source": [
    "words = ['Hello', 'Python']\n",
    "print('-'.join(words))"
   ]
  },
  {
   "cell_type": "code",
   "execution_count": 28,
   "metadata": {},
   "outputs": [
    {
     "name": "stdout",
     "output_type": "stream",
     "text": [
      "[]\n"
     ]
    }
   ],
   "source": [
    "numbers = [10, 20, 30, 40]\n",
    "del numbers[0:6]\n",
    "print(numbers)"
   ]
  },
  {
   "cell_type": "code",
   "execution_count": 29,
   "metadata": {},
   "outputs": [
    {
     "name": "stdout",
     "output_type": "stream",
     "text": [
      "zara\n"
     ]
    }
   ],
   "source": [
    "words = ['xyz', 'zara', 'beegeek']\n",
    "print(max(words))"
   ]
  },
  {
   "cell_type": "code",
   "execution_count": 5,
   "metadata": {},
   "outputs": [
    {
     "name": "stdout",
     "output_type": "stream",
     "text": [
      "2\n"
     ]
    }
   ],
   "source": [
    "list1 = [[0, [9, 2]], [1, [4, 6, 3], [5, 2, 3], 8, 3]]\n",
    "\n",
    "print(list1[1][2][1])"
   ]
  },
  {
   "cell_type": "code",
   "execution_count": 8,
   "metadata": {},
   "outputs": [
    {
     "name": "stdout",
     "output_type": "stream",
     "text": [
      "2\n"
     ]
    }
   ],
   "source": [
    "list1 = [[[1, 1, 0], [0, 1, 1]], [[0, 1], [1, 1], [1, 0]]]\n",
    "print(len(list1))"
   ]
  },
  {
   "cell_type": "code",
   "execution_count": 9,
   "metadata": {},
   "outputs": [
    {
     "name": "stdout",
     "output_type": "stream",
     "text": [
      "[[2, 6, 7, 8], [2, 7, 2], [1, 3, 4, 5], [1, 8, 7, 4]]\n"
     ]
    }
   ],
   "source": [
    "list1 = [[1, 8, 7, 4], [1, 3, 4, 5], [2, 7, 2], [2, 6, 7, 8]]\n",
    "list1.reverse()\n",
    "print(list1)"
   ]
  },
  {
   "cell_type": "code",
   "execution_count": 10,
   "metadata": {},
   "outputs": [
    {
     "name": "stdout",
     "output_type": "stream",
     "text": [
      "[2, 7, 2]\n"
     ]
    }
   ],
   "source": [
    "list1 = [[1, 8, 7, 4], [1, 3, 4, 5, 6], [2, 7, 2], [2, 6, 7, 8]]\n",
    "print(max(list1))"
   ]
  },
  {
   "cell_type": "code",
   "execution_count": 11,
   "metadata": {},
   "outputs": [
    {
     "name": "stdout",
     "output_type": "stream",
     "text": [
      "[[1, 8, 7, 4], [2, 7, 2], [2, 6, 7, 8]]\n"
     ]
    }
   ],
   "source": [
    "list1 = [[1, 8, 7, 4], [1, 3, 4, 5, 6], [2, 7, 2], [2, 6, 7, 8]]\n",
    "del list1[1]\n",
    "print(list1)"
   ]
  },
  {
   "cell_type": "code",
   "execution_count": 12,
   "metadata": {},
   "outputs": [
    {
     "name": "stdout",
     "output_type": "stream",
     "text": [
      "[[1, 8, 7, 4], [1, 4, 5, 6], [2, 7, 2], [2, 6, 7, 8]]\n"
     ]
    }
   ],
   "source": [
    "list1 = [[1, 8, 7, 4], [1, 3, 4, 5, 6], [2, 7, 2], [2, 6, 7, 8]]\n",
    "del list1[1][1]\n",
    "print(list1)"
   ]
  },
  {
   "cell_type": "code",
   "execution_count": 23,
   "metadata": {},
   "outputs": [
    {
     "name": "stdout",
     "output_type": "stream",
     "text": [
      "[10, 20, [300, 400, [5000, 6000, 7000], 500], 30, 40]\n"
     ]
    }
   ],
   "source": [
    "# Надо использовать append и получить \n",
    "# list1 = [10, 20, [300, 400, [5000, 6000, 7000], 500], 30, 40]\n",
    "\n",
    "\n",
    "list1 = [10, 20, [300, 400, [5000, 6000], 500], 30, 40]\n",
    "\n",
    "list1[2][2].append(7000)\n",
    "\n",
    "print(list1)"
   ]
  },
  {
   "cell_type": "code",
   "execution_count": 26,
   "metadata": {},
   "outputs": [
    {
     "name": "stdout",
     "output_type": "stream",
     "text": [
      "['a', 'b', ['c', ['d', 'e', ['f', 'g', 'h', 'i', 'j'], 'k'], 'l'], 'm', 'n']\n"
     ]
    }
   ],
   "source": [
    "# Дополните приведенный код, используя списочный метод extend(), чтобы список list1 имел вид:\n",
    "\n",
    "# list1 = ['a', 'b', ['c', ['d', 'e', ['f', 'g', 'h', 'i', 'j'], 'k'], 'l'], 'm', 'n']\n",
    "# Подсписок для расширения  sub_list = ['h', 'i', 'j'].\n",
    "\n",
    "list1 = ['a', 'b', ['c', ['d', 'e', ['f', 'g'], 'k'], 'l'], 'm', 'n']\n",
    "sub_list = ['h', 'i', 'j']\n",
    "\n",
    "list1[2][1][2].extend(sub_list)\n",
    "\n",
    "print(list1)"
   ]
  },
  {
   "cell_type": "code",
   "execution_count": 33,
   "metadata": {},
   "outputs": [
    {
     "name": "stdout",
     "output_type": "stream",
     "text": [
      "106\n"
     ]
    }
   ],
   "source": [
    "# Дополните приведенный код, используя цикл for и встроенную функцию max(), \n",
    "# чтобы он выводил один общий максимальный элемент среди всех элементов вложенных списков list1.\n",
    "\n",
    "list1 = [[1, 7, 8], [9, 7, 102], [6, 106, 105], [100, 99, 98, 103], [1, 2, 3]]\n",
    "maximum = -1\n",
    "\n",
    "for i in range (len(list1)):\n",
    "    if max(list1[i]) > maximum:\n",
    "        maximum = max(list1[i])\n",
    "\n",
    "print(maximum)"
   ]
  },
  {
   "cell_type": "code",
   "execution_count": 34,
   "metadata": {},
   "outputs": [
    {
     "name": "stdout",
     "output_type": "stream",
     "text": [
      "[[8, 7, 1], [102, 7, 9], [105, 106, 102], [103, 98, 99, 100], [3, 2, 1]]\n"
     ]
    }
   ],
   "source": [
    "# Дополните приведенный код так, чтобы список list1 имел вид:\n",
    "\n",
    "# list1 = [[8, 7, 1], [102, 7, 9], [105, 106, 102], [103, 98, 99, 100], [3, 2, 1]]\n",
    "\n",
    "\n",
    "list1 = [[1, 7, 8], [9, 7, 102], [102, 106, 105], [100, 99, 98, 103], [1, 2, 3]]\n",
    "\n",
    "for i in range (len(list1)):\n",
    "    list1[i].reverse()\n",
    "\n",
    "print(list1)"
   ]
  },
  {
   "cell_type": "code",
   "execution_count": 37,
   "metadata": {},
   "outputs": [
    {
     "name": "stdout",
     "output_type": "stream",
     "text": [
      "53.3125\n"
     ]
    }
   ],
   "source": [
    "# Дополните приведенный код так, чтобы он выводил единственное число: \n",
    "# сумму всех чисел списка list1 разделённую на общее количество всех чисел.\n",
    "\n",
    "list1 = [[1, 7, 8], [9, 7, 102], [102, 106, 105], [100, 99, 98, 103], [1, 2, 3]]\n",
    "total = 0\n",
    "counter = 0\n",
    "\n",
    "for sublist in list1: # проходим по списку list1\n",
    "    for num in sublist: # проходим по каждому вложенному списку\n",
    "        total += num # увеличиваем total на значение элемента\n",
    "        counter += 1 # увеличиваем counter на единицу\n",
    "        \n",
    "print(total/counter)"
   ]
  },
  {
   "cell_type": "code",
   "execution_count": 38,
   "metadata": {},
   "outputs": [
    {
     "name": "stdout",
     "output_type": "stream",
     "text": [
      "[[1, 2, 3, 7], [4, 5]]\n"
     ]
    }
   ],
   "source": [
    "list1 = [[1, 2, 3], [4, 5]]\n",
    "list2 = list1\n",
    "\n",
    "list1[0].append(7)\n",
    "\n",
    "print(list2)"
   ]
  },
  {
   "cell_type": "code",
   "execution_count": 40,
   "metadata": {},
   "outputs": [
    {
     "name": "stdout",
     "output_type": "stream",
     "text": [
      "5\n"
     ]
    }
   ],
   "source": [
    "list1 = [[1] * 3] * 3\n",
    "list1[0][1] = 5\n",
    "\n",
    "print(list1[1][1])"
   ]
  },
  {
   "cell_type": "code",
   "execution_count": 41,
   "metadata": {},
   "outputs": [
    {
     "name": "stdout",
     "output_type": "stream",
     "text": [
      "['9', '7', '6', '2', '1', '3', '4', '45', '67']\n"
     ]
    }
   ],
   "source": [
    "n = 3\n",
    "list1 = []\n",
    "\n",
    "for _ in range(n):\n",
    "    row = input().split()\n",
    "    list1.extend(row)\n",
    "\n",
    "print(list1)"
   ]
  },
  {
   "cell_type": "code",
   "execution_count": 42,
   "metadata": {},
   "outputs": [
    {
     "name": "stdout",
     "output_type": "stream",
     "text": [
      "21\n"
     ]
    }
   ],
   "source": [
    "my_list = [[1], [2, 3], [4, 5, 6]]\n",
    "total = 0\n",
    "\n",
    "for row in my_list:\n",
    "    total += sum(row)\n",
    "\n",
    "print(total)"
   ]
  },
  {
   "cell_type": "code",
   "execution_count": 43,
   "metadata": {},
   "outputs": [
    {
     "name": "stdout",
     "output_type": "stream",
     "text": [
      "107\n"
     ]
    }
   ],
   "source": [
    "my_list = [[12, 221, 3], [41, 5, 633], [71, 8, 99]]\n",
    "\n",
    "maximum = my_list[0][0]\n",
    "minimum = my_list[0][0]\n",
    "\n",
    "for row in my_list:\n",
    "    maximum = max(row)\n",
    "    minimum = min(row)\n",
    "\n",
    "print(maximum + minimum)"
   ]
  },
  {
   "cell_type": "code",
   "execution_count": 44,
   "metadata": {},
   "outputs": [
    {
     "name": "stdout",
     "output_type": "stream",
     "text": [
      "636\n"
     ]
    }
   ],
   "source": [
    "my_list = [[12, 221, 3], [41, 5, 633], [71, 8, 99]]\n",
    "\n",
    "maximum = my_list[0][0]\n",
    "minimum = my_list[0][0]\n",
    "\n",
    "for row in my_list:\n",
    "    if max(row) > maximum:\n",
    "        maximum = max(row)\n",
    "    if min(row) < minimum:\n",
    "        minimum = min(row)\n",
    "\n",
    "print(maximum + minimum)"
   ]
  },
  {
   "cell_type": "code",
   "execution_count": 48,
   "metadata": {},
   "outputs": [
    {
     "name": "stdout",
     "output_type": "stream",
     "text": [
      "[1, 2, 3, 4, 5]\n",
      "[1, 2, 3, 4, 5]\n",
      "[1, 2, 3, 4, 5]\n",
      "[1, 2, 3, 4, 5]\n",
      "[1, 2, 3, 4, 5]\n"
     ]
    }
   ],
   "source": [
    "# На вход программе подается число n. Напишите программу, которая создает и выводит построчно список, состоящий из \n",
    "# n списков [[1, 2, ..., n], [1, 2, ..., n], ..., [1, 2, ..., n]]\n",
    "\n",
    "n = int(input())\n",
    "lem = []\n",
    "for i in range(n):\n",
    "    lem.append(i+1)\n",
    "for i in range(n):\n",
    "    print(lem)\n",
    "\n",
    "     "
   ]
  },
  {
   "cell_type": "code",
   "execution_count": 1,
   "metadata": {},
   "outputs": [
    {
     "name": "stdout",
     "output_type": "stream",
     "text": [
      "[1]\n",
      "[1, 2]\n",
      "[1, 2, 3]\n",
      "[1, 2, 3, 4]\n",
      "[1, 2, 3, 4, 5]\n"
     ]
    }
   ],
   "source": [
    "# На вход программе подается число n. Напишите программу, которая создает и выводит построчно вложенный список, состоящий из \n",
    "# n списков [[1], [1, 2], [1, 2, 3], ..., [1, 2, ..., n]].\n",
    "\n",
    "# решил без вложенного списка\n",
    "\n",
    "n = int(input())\n",
    "lem = []\n",
    "for i in range(n):\n",
    "    lem = []\n",
    "    for j in range(i+1):\n",
    "        lem.append(j+1)\n",
    "    print(lem)"
   ]
  },
  {
   "cell_type": "code",
   "execution_count": 3,
   "metadata": {},
   "outputs": [
    {
     "name": "stdout",
     "output_type": "stream",
     "text": [
      "1\n",
      "1 1\n",
      "1 2 1\n",
      "1 3 3 1\n",
      "1 4 6 4 1\n"
     ]
    }
   ],
   "source": [
    "# Треугольник Паскаля — бесконечная таблица биномиальных коэффициентов, имеющая треугольную форму. \n",
    "# В этом треугольнике на вершине и по бокам стоят единицы. Каждое число равно сумме двух расположенных над ним чисел.\n",
    "\n",
    "# 0:      1\n",
    "# 1:     1 1\n",
    "# 2:    1 2 1\n",
    "# 3:   1 3 3 1\n",
    "# 4:  1 4 6 4 1\n",
    "#       .....\n",
    "# На вход программе подается число n. \n",
    "# Напишите программу, которая возвращает указанную строку треугольника \n",
    "# Паскаля в виде списка (нумерация строк начинается с нуля).\n",
    "\n",
    "# Программа должна вывести указанную строку треугольника Паскаля в виде списка.\n",
    "\n",
    "# Примечание 1. Решение удобно оформить в виде функции pascal(), \n",
    "# которая принимает номер строки и возвращает соответствующую строку треугольника Паскаля.\n",
    "from math import factorial\n",
    "n = int(input())\n",
    "def pascal(n):\n",
    "    lem = []\n",
    "    for i in range(n+1):\n",
    "        xx = int(factorial(n)/(factorial(i)*factorial(n-i)))\n",
    "        lem.append(xx)\n",
    "    return(lem)\n",
    "# print(pascal(n))       \n",
    "# print(lem)\n",
    "for i in range(n):\n",
    "   print(*pascal(i))\n"
   ]
  },
  {
   "cell_type": "code",
   "execution_count": 8,
   "metadata": {},
   "outputs": [
    {
     "name": "stdout",
     "output_type": "stream",
     "text": [
      "1\n",
      "1 1\n",
      "1 2 1\n",
      "1 3 3 1\n",
      "1 4 6 4 1\n",
      "1 5 10 10 5 1\n",
      "1 6 15 20 15 6 1\n",
      "1 7 21 35 35 21 7 1\n",
      "1 8 28 56 70 56 28 8 1\n"
     ]
    }
   ],
   "source": [
    "from math import factorial\n",
    "n = int(input())\n",
    "def pascal(n):\n",
    "    lem = []\n",
    "    for i in range(n+1):\n",
    "        xx = int(factorial(n)/(factorial(i)*factorial(n-i)))\n",
    "        lem.append(xx)\n",
    "    return(lem)\n",
    "# print(pascal(n))       \n",
    "# print(lem)\n",
    "for i in range(n):\n",
    "    print(*pascal(i))"
   ]
  },
  {
   "cell_type": "code",
   "execution_count": 5,
   "metadata": {},
   "outputs": [
    {
     "name": "stdout",
     "output_type": "stream",
     "text": [
      "['w', 'w', 'w', 'o', 'r', 'l', 'd', 'g', 'g', 'g', 'g', 'r', 'e', 'a', 't', 't', 'e', 'c', 'c', 'h', 'e', 'm', 'g', 'g', 'p', 'w', 'w']\n",
      "[['w', 'w', 'w'], ['o'], ['r'], ['l'], ['d'], ['g', 'g', 'g', 'g'], ['r'], ['e'], ['a'], ['t', 't'], ['e'], ['c', 'c'], ['h'], ['e'], ['m'], ['g', 'g'], ['p'], ['w', 'w']]\n"
     ]
    }
   ],
   "source": [
    "# На вход программе подается строка текста, содержащая символы. \n",
    "# Напишите программу, которая упаковывает последовательности одинаковых символов заданной строки в подсписки.\n",
    "\n",
    "s = str(input()).split()\n",
    "\n",
    "temp_s1 = [[s[0]]]\n",
    "temp_s2 = []\n",
    "\n",
    "for i in range(1, len(s)):\n",
    "    if s[i] == s[i - 1]:\n",
    "        temp_s1[-1].append(s[i])\n",
    "    else:\n",
    "        temp_s1.append([s[i]])\n",
    "    \n",
    "\n",
    "# print(s)\n",
    "print(temp_s1)"
   ]
  }
 ],
 "metadata": {
  "kernelspec": {
   "display_name": "Python 3",
   "language": "python",
   "name": "python3"
  },
  "language_info": {
   "codemirror_mode": {
    "name": "ipython",
    "version": 3
   },
   "file_extension": ".py",
   "mimetype": "text/x-python",
   "name": "python",
   "nbconvert_exporter": "python",
   "pygments_lexer": "ipython3",
   "version": "3.11.4"
  },
  "orig_nbformat": 4
 },
 "nbformat": 4,
 "nbformat_minor": 2
}
