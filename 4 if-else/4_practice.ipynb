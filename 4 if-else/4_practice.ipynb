{
 "cells": [
  {
   "cell_type": "code",
   "execution_count": null,
   "metadata": {},
   "outputs": [],
   "source": [
    "answer = input('Какой язык программирования мы изучаем?')\n",
    "if answer == 'Python':\n",
    "    print('Верно! Мы ботаем Python =)')\n",
    "    print('Python - отличный язык!')"
   ]
  },
  {
   "cell_type": "code",
   "execution_count": null,
   "metadata": {},
   "outputs": [
    {
     "name": "stdout",
     "output_type": "stream",
     "text": [
      "Не совсем так!\n"
     ]
    }
   ],
   "source": [
    "answer = input('Какой язык программирования мы изучаем?')\n",
    "if answer == 'Python':\n",
    "    print('Верно! Мы ботаем Python =)')\n",
    "    print('Python - отличный язык!')\n",
    "else:\n",
    "    print('Не совсем так!')"
   ]
  },
  {
   "cell_type": "code",
   "execution_count": null,
   "metadata": {},
   "outputs": [
    {
     "name": "stdout",
     "output_type": "stream",
     "text": [
      "НЕТ\n"
     ]
    }
   ],
   "source": [
    "#Задача 1. Напишите программу, которая считывает одну строку. Если это строка «Python», программа выводит «ДА», в противном случае программа выводит «НЕТ».\n",
    "\n",
    "#Решение. Программа, решающая поставленную задачу, может иметь вид:\n",
    "\n",
    "word = input()\n",
    "if word == 'Python':\n",
    "    print('ДА')\n",
    "else:\n",
    "    print('НЕТ')"
   ]
  },
  {
   "cell_type": "code",
   "execution_count": null,
   "metadata": {},
   "outputs": [
    {
     "name": "stdout",
     "output_type": "stream",
     "text": [
      "ДА\n"
     ]
    }
   ],
   "source": [
    "# Задача 2. Напишите программу, которая определяет, состоит ли двузначное число, введенное с клавиатуры, из одинаковых цифр. Если состоит, то программа выводит «ДА», в противном случае программа выводит «НЕТ».\n",
    "\n",
    "# Решение. Программа, решающая поставленную задачу, может иметь вид:\n",
    "\n",
    "num = int(input())\n",
    "last_digit = num % 10    # последняя цифра числа\n",
    "first_digit = num // 10  # первая цифра числа\n",
    "\n",
    "if last_digit == first_digit:\n",
    "    print('ДА')\n",
    "else:\n",
    "    print('НЕТ')"
   ]
  },
  {
   "cell_type": "code",
   "execution_count": null,
   "metadata": {},
   "outputs": [
    {
     "name": "stdout",
     "output_type": "stream",
     "text": [
      "2\n"
     ]
    }
   ],
   "source": [
    "# Задача 3. Напишите программу, которая считывает три числа и подсчитывает количество чётных чисел.\n",
    "\n",
    "# Решение. Программа, решающая поставленную задачу, может иметь вид:\n",
    "\n",
    "num1, num2, num3 = int(input()), int(input()), int(input())\n",
    "counter = 0  # переменная счётчик\n",
    "if num1 % 2 == 0:\n",
    "    counter = counter + 1  # увеличиваем счётчик на 1\n",
    "if num2 % 2 == 0:\n",
    "    counter = counter + 1  # увеличиваем счётчик на 1\n",
    "if num3 % 2 == 0:\n",
    "    counter = counter + 1  # увеличиваем счётчик на 1\n",
    "print(counter)"
   ]
  },
  {
   "cell_type": "code",
   "execution_count": null,
   "metadata": {},
   "outputs": [
    {
     "name": "stdout",
     "output_type": "stream",
     "text": [
      "2 нечётное\n"
     ]
    }
   ],
   "source": [
    "i = int(input())\n",
    "if i // 2 != 0:\n",
    "    print(i, 'нечётное')\n",
    "else:\n",
    "    print(i, 'чётное')"
   ]
  },
  {
   "cell_type": "code",
   "execution_count": null,
   "metadata": {},
   "outputs": [
    {
     "name": "stdout",
     "output_type": "stream",
     "text": [
      "нет\n"
     ]
    }
   ],
   "source": [
    "str1 = input()\n",
    "str2 = input()\n",
    "\n",
    "if (str1 == str2):\n",
    "    print('Пароль принят')\n",
    "else:\n",
    "    print('Пароль не принят')"
   ]
  },
  {
   "cell_type": "code",
   "execution_count": null,
   "metadata": {},
   "outputs": [
    {
     "name": "stdout",
     "output_type": "stream",
     "text": [
      "Четное\n"
     ]
    }
   ],
   "source": [
    "a = int(input())\n",
    "\n",
    "\n",
    "if (a%2 == 0):\n",
    "    print('Четное')\n",
    "else:\n",
    "    print('Нечетное')"
   ]
  },
  {
   "cell_type": "code",
   "execution_count": null,
   "metadata": {},
   "outputs": [
    {
     "name": "stdout",
     "output_type": "stream",
     "text": [
      "ДА\n"
     ]
    }
   ],
   "source": [
    "x = int(input())\n",
    "a = x // 1000\n",
    "b = x % 1000 // 100\n",
    "c = x % 1000 % 100 // 10\n",
    "d = x % 10\n",
    "if (a + d == b - c):\n",
    "    print('ДА')\n",
    "else:\n",
    "    print('НЕТ')"
   ]
  },
  {
   "cell_type": "code",
   "execution_count": null,
   "metadata": {},
   "outputs": [
    {
     "name": "stdout",
     "output_type": "stream",
     "text": [
      "Доступ разрешен\n"
     ]
    }
   ],
   "source": [
    "x = int(input())\n",
    "if (x>=18):\n",
    "    print('Доступ разрешен')\n",
    "else:\n",
    "    print('Доступ запрещен')"
   ]
  },
  {
   "cell_type": "code",
   "execution_count": null,
   "metadata": {},
   "outputs": [
    {
     "name": "stdout",
     "output_type": "stream",
     "text": [
      "NO\n"
     ]
    }
   ],
   "source": [
    "x = int(input())\n",
    "y = int(input())\n",
    "z = int(input())\n",
    "\n",
    "if(y-x == z-y):\n",
    "    print('YES')\n",
    "else:\n",
    "    print('NO')"
   ]
  },
  {
   "cell_type": "code",
   "execution_count": null,
   "metadata": {},
   "outputs": [
    {
     "name": "stdout",
     "output_type": "stream",
     "text": [
      "1\n"
     ]
    }
   ],
   "source": [
    "x = int(input())\n",
    "y = int(input())\n",
    "\n",
    "if(y>x):\n",
    "    print(x)\n",
    "else:\n",
    "    print(y)"
   ]
  },
  {
   "cell_type": "code",
   "execution_count": null,
   "metadata": {},
   "outputs": [
    {
     "name": "stdout",
     "output_type": "stream",
     "text": [
      "12\n"
     ]
    }
   ],
   "source": [
    "a1 = int(input())\n",
    "a2 = int(input())\n",
    "a3 = int(input())\n",
    "a4 = int(input())\n",
    "\n",
    "if(a1<a2):\n",
    "    x = a1\n",
    "else:\n",
    "    x = a2\n",
    "if(a3<a4):\n",
    "    y = a3\n",
    "else:\n",
    "    y = a4\n",
    "if(x<y):\n",
    "    print(x)\n",
    "else:\n",
    "    print(y)\n",
    "    \n",
    "    \n"
   ]
  },
  {
   "cell_type": "code",
   "execution_count": null,
   "metadata": {},
   "outputs": [
    {
     "name": "stdout",
     "output_type": "stream",
     "text": [
      "старость\n"
     ]
    }
   ],
   "source": [
    "# до 13 включительно – детство;\n",
    "# от 14 до 24 – молодость;\n",
    "# от 25 до 59 – зрелость;\n",
    "# от 60 – старость.\n",
    "\n",
    "x = int(input())\n",
    "\n",
    "if(x<=13):\n",
    "    print('детство')\n",
    "if(14 <= x <= 24):\n",
    "    print('молодость')\n",
    "if(25 <= x <= 59):\n",
    "    print('зрелость')\n",
    "if(x>=60):\n",
    "    print('старость')"
   ]
  },
  {
   "cell_type": "code",
   "execution_count": null,
   "metadata": {},
   "outputs": [
    {
     "name": "stdout",
     "output_type": "stream",
     "text": [
      "5\n"
     ]
    }
   ],
   "source": [
    "a1 = int(input())\n",
    "a2 = int(input())\n",
    "a3 = int(input())\n",
    "\n",
    "if(a1>0):\n",
    "    s = a1\n",
    "else:\n",
    "    s = 0\n",
    "    \n",
    "if(a2>0):\n",
    "    s = s + a2\n",
    "\n",
    "if(a3>0):\n",
    "    s = s + a3\n",
    "    \n",
    "print(s)"
   ]
  },
  {
   "cell_type": "code",
   "execution_count": 42,
   "metadata": {},
   "outputs": [
    {
     "name": "stdout",
     "output_type": "stream",
     "text": [
      "100\n"
     ]
    }
   ],
   "source": [
    "a = int(input())\n",
    "if a >= 2 and a <= 17:\n",
    "    b = 3\n",
    "    p = a * a + b * b\n",
    "else:\n",
    "    b = 5\n",
    "p = (a + b) * (a + b)\n",
    "print(p)"
   ]
  },
  {
   "cell_type": "code",
   "execution_count": 45,
   "metadata": {},
   "outputs": [
    {
     "name": "stdout",
     "output_type": "stream",
     "text": [
      "Не принадлежит\n"
     ]
    }
   ],
   "source": [
    "a = int(input())\n",
    "if a > -1 and a < 17:\n",
    "    print('Принадлежит')\n",
    "else:\n",
    "    print('Не принадлежит')"
   ]
  },
  {
   "cell_type": "code",
   "execution_count": 50,
   "metadata": {},
   "outputs": [
    {
     "name": "stdout",
     "output_type": "stream",
     "text": [
      "Принадлежит\n"
     ]
    }
   ],
   "source": [
    "a = int(input())\n",
    "if a <= -3 or a >= 7:\n",
    "    print('Принадлежит')\n",
    "else:\n",
    "    print('Не принадлежит')"
   ]
  },
  {
   "cell_type": "code",
   "execution_count": 48,
   "metadata": {},
   "outputs": [
    {
     "name": "stdout",
     "output_type": "stream",
     "text": [
      "Не принадлежит\n"
     ]
    }
   ],
   "source": [
    "a = int(input())\n",
    "if (a > -30 and a <= -2) or (a > 7 and a <= 25):\n",
    "    print('Принадлежит')\n",
    "else:\n",
    "    print('Не принадлежит')"
   ]
  },
  {
   "cell_type": "code",
   "execution_count": 51,
   "metadata": {},
   "outputs": [
    {
     "name": "stdout",
     "output_type": "stream",
     "text": [
      "YES\n"
     ]
    }
   ],
   "source": [
    "a = int(input())\n",
    "\n",
    "if (a%7 == 0 or a%17 == 0) and (a>999 and a<=9999):\n",
    "    print('YES')\n",
    "else:\n",
    "    print('NO')"
   ]
  },
  {
   "cell_type": "code",
   "execution_count": 53,
   "metadata": {},
   "outputs": [
    {
     "name": "stdout",
     "output_type": "stream",
     "text": [
      "NO\n"
     ]
    }
   ],
   "source": [
    "\n",
    "#a+b>c\n",
    "#a+c>b\n",
    "#b+c>a <=== условие треугольника\n",
    "\n",
    "a = int(input())\n",
    "b = int(input())\n",
    "c = int(input())\n",
    "\n",
    "if(a+b>c and a+c>b and b+c>a):\n",
    "    print('YES')\n",
    "else:\n",
    "    print('NO')"
   ]
  },
  {
   "cell_type": "code",
   "execution_count": 61,
   "metadata": {},
   "outputs": [
    {
     "name": "stdout",
     "output_type": "stream",
     "text": [
      "NO\n"
     ]
    }
   ],
   "source": [
    "# put your python code here\n",
    "\n",
    "a = int(input())\n",
    "if(a%400 == 0 or (a%4 == 0 and a%100 != 0)):\n",
    "    print('YES')\n",
    "else:\n",
    "    print(\"NO\")"
   ]
  },
  {
   "cell_type": "code",
   "execution_count": 62,
   "metadata": {},
   "outputs": [
    {
     "name": "stdout",
     "output_type": "stream",
     "text": [
      "YES\n"
     ]
    }
   ],
   "source": [
    "x1 = int(input())\n",
    "y1 = int(input())\n",
    "x2 = int(input())\n",
    "y2 = int(input())\n",
    "\n",
    "if(x1==x2 or y1==y2):\n",
    "    print('YES')\n",
    "else:\n",
    "    print('NO')"
   ]
  },
  {
   "cell_type": "code",
   "execution_count": 64,
   "metadata": {},
   "outputs": [
    {
     "name": "stdout",
     "output_type": "stream",
     "text": [
      "YES\n"
     ]
    }
   ],
   "source": [
    "x1 = int(input())\n",
    "y1 = int(input())\n",
    "x2 = int(input())\n",
    "y2 = int(input())\n",
    "\n",
    "if((x1-x2 >= -1 and x1-x2 <=1) and (y1-y2 >= -1 and y1-y2 <=1)):\n",
    "    print('YES')\n",
    "else:\n",
    "    print('NO')"
   ]
  },
  {
   "cell_type": "code",
   "execution_count": 67,
   "metadata": {},
   "outputs": [
    {
     "name": "stdout",
     "output_type": "stream",
     "text": [
      "Don't know\n"
     ]
    }
   ],
   "source": [
    "n = int(input())\n",
    "k = int(input())\n",
    "\n",
    "if(n>k):\n",
    "    print('NO')\n",
    "elif(k>n):\n",
    "    print('YES')\n",
    "else:\n",
    "    print(\"Don't know\")"
   ]
  },
  {
   "cell_type": "code",
   "execution_count": 69,
   "metadata": {},
   "outputs": [
    {
     "name": "stdout",
     "output_type": "stream",
     "text": [
      "Равнобедренный\n"
     ]
    }
   ],
   "source": [
    "a = int(input())\n",
    "b = int(input())\n",
    "c = int(input())\n",
    "\n",
    "if(a==b==c):\n",
    "    print('Равносторонний')\n",
    "elif(a==b or a==c or b==c):\n",
    "    print('Равнобедренный')\n",
    "else:\n",
    "    print('Разносторонний')"
   ]
  },
  {
   "cell_type": "code",
   "execution_count": 75,
   "metadata": {},
   "outputs": [
    {
     "ename": "ValueError",
     "evalue": "invalid literal for int() with base 10: ''",
     "output_type": "error",
     "traceback": [
      "\u001b[1;31m---------------------------------------------------------------------------\u001b[0m",
      "\u001b[1;31mValueError\u001b[0m                                Traceback (most recent call last)",
      "Cell \u001b[1;32mIn[75], line 2\u001b[0m\n\u001b[0;32m      1\u001b[0m a \u001b[39m=\u001b[39m \u001b[39mint\u001b[39m(\u001b[39minput\u001b[39m())\n\u001b[1;32m----> 2\u001b[0m b \u001b[39m=\u001b[39m \u001b[39mint\u001b[39;49m(\u001b[39minput\u001b[39;49m())\n\u001b[0;32m      3\u001b[0m c \u001b[39m=\u001b[39m \u001b[39mint\u001b[39m(\u001b[39minput\u001b[39m())\n\u001b[0;32m      5\u001b[0m \u001b[39mif\u001b[39;00m(a\u001b[39m>\u001b[39m\u001b[39m=\u001b[39mb \u001b[39mand\u001b[39;00m b\u001b[39m>\u001b[39m\u001b[39m=\u001b[39mc):\n",
      "\u001b[1;31mValueError\u001b[0m: invalid literal for int() with base 10: ''"
     ]
    }
   ],
   "source": [
    "a = int(input())\n",
    "b = int(input())\n",
    "c = int(input())\n",
    "\n",
    "if(a>=b and b>=c):\n",
    "    print(b)\n",
    "elif(a>=c and c>=b):\n",
    "    print(c)\n",
    "elif(b>=c and c>=a):\n",
    "    print(c)\n",
    "elif(b>=a and a>=c):\n",
    "    print(a)\n",
    "elif(c>=a and a>=b):\n",
    "    print(a)\n",
    "elif(c>=b and b>=a):\n",
    "    print(b)"
   ]
  },
  {
   "cell_type": "code",
   "execution_count": 77,
   "metadata": {},
   "outputs": [
    {
     "name": "stdout",
     "output_type": "stream",
     "text": [
      "30\n"
     ]
    }
   ],
   "source": [
    "a = int(input())\n",
    "\n",
    "if(a==1 or a==3 or a==5 or a==7 or a==8 or a==10 or a==12):\n",
    "    print(31)\n",
    "elif (a==4 or a==6 or a==9 or a==11):\n",
    "    print(30)\n",
    "else:\n",
    "    print(28)"
   ]
  },
  {
   "cell_type": "code",
   "execution_count": null,
   "metadata": {},
   "outputs": [],
   "source": [
    "# Легкий вес – до 60 кг;\n",
    "# Первый полусредний вес – до 64 кг;\n",
    "# Полусредний вес – до 69 кг.\n",
    "# put your python code here\n",
    "a = int(input())\n",
    "if(a<60):\n",
    "    print('Легкий вес')\n",
    "elif(a>=60 and a<64):\n",
    "    print('Первый полусредний вес')\n",
    "elif(a>=64 and a<69):\n",
    "    print('Полусредний вес')"
   ]
  }
 ],
 "metadata": {
  "kernelspec": {
   "display_name": "Python 3",
   "language": "python",
   "name": "python3"
  },
  "language_info": {
   "codemirror_mode": {
    "name": "ipython",
    "version": 3
   },
   "file_extension": ".py",
   "mimetype": "text/x-python",
   "name": "python",
   "nbconvert_exporter": "python",
   "pygments_lexer": "ipython3",
   "version": "3.11.4"
  },
  "orig_nbformat": 4
 },
 "nbformat": 4,
 "nbformat_minor": 2
}
