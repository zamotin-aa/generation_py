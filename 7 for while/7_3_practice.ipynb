{
 "cells": [
  {
   "cell_type": "code",
   "execution_count": 1,
   "metadata": {},
   "outputs": [
    {
     "name": "stdout",
     "output_type": "stream",
     "text": [
      "0 0\n",
      "0 1\n",
      "0 2\n",
      "1 0\n",
      "1 1\n",
      "1 2\n",
      "2 0\n",
      "2 1\n",
      "2 2\n"
     ]
    }
   ],
   "source": [
    "for i in range(3):\n",
    "    for j in range(3):\n",
    "        print(i, j)"
   ]
  },
  {
   "cell_type": "code",
   "execution_count": 2,
   "metadata": {},
   "outputs": [
    {
     "name": "stdout",
     "output_type": "stream",
     "text": [
      "1 0\n",
      "2 0\n",
      "2 1\n"
     ]
    }
   ],
   "source": [
    "for i in range(3):\n",
    "    for j in range(3):\n",
    "        if i == j:\n",
    "            break\n",
    "        print(i, j)"
   ]
  },
  {
   "cell_type": "code",
   "execution_count": 3,
   "metadata": {},
   "outputs": [
    {
     "name": "stdout",
     "output_type": "stream",
     "text": [
      "0 1\n",
      "0 2\n",
      "1 0\n",
      "1 2\n",
      "2 0\n",
      "2 1\n"
     ]
    }
   ],
   "source": [
    "for i in range(3):\n",
    "    for j in range(3):\n",
    "        if i == j:\n",
    "            continue\n",
    "        print(i, j)"
   ]
  },
  {
   "cell_type": "code",
   "execution_count": 4,
   "metadata": {},
   "outputs": [
    {
     "name": "stdout",
     "output_type": "stream",
     "text": [
      "******\n",
      "******\n",
      "******\n",
      "******\n",
      "******\n",
      "******\n",
      "******\n",
      "******\n"
     ]
    }
   ],
   "source": [
    "for i in range(8):\n",
    "    for j in range(6):\n",
    "        print('*', end='')\n",
    "    print()"
   ]
  },
  {
   "cell_type": "code",
   "execution_count": 5,
   "metadata": {},
   "outputs": [
    {
     "name": "stdout",
     "output_type": "stream",
     "text": [
      "*\n",
      "**\n",
      "***\n",
      "****\n",
      "*****\n",
      "******\n",
      "*******\n",
      "********\n"
     ]
    }
   ],
   "source": [
    "for i in range(8):\n",
    "    for j in range(i + 1):\n",
    "        print('*', end='')\n",
    "    print()"
   ]
  },
  {
   "cell_type": "code",
   "execution_count": 6,
   "metadata": {},
   "outputs": [
    {
     "name": "stdout",
     "output_type": "stream",
     "text": [
      "1 3\n",
      "1 4\n",
      "1 5\n",
      "2 3\n",
      "2 4\n",
      "2 5\n",
      "3 3\n",
      "3 4\n",
      "3 5\n"
     ]
    }
   ],
   "source": [
    "for i in range(1, 4):\n",
    "    for j in range(3, 6):\n",
    "        print(i, j)"
   ]
  },
  {
   "cell_type": "code",
   "execution_count": 7,
   "metadata": {},
   "outputs": [
    {
     "name": "stdout",
     "output_type": "stream",
     "text": [
      "455667"
     ]
    }
   ],
   "source": [
    "for i in range(1, 4):\n",
    "    for j in range(3, 5):\n",
    "        print(i + j, end='')"
   ]
  },
  {
   "cell_type": "code",
   "execution_count": 8,
   "metadata": {},
   "outputs": [
    {
     "name": "stdout",
     "output_type": "stream",
     "text": [
      "8\n"
     ]
    }
   ],
   "source": [
    "counter = 0\n",
    "for i in range(99, 102):\n",
    "    temp = i\n",
    "    while temp > 0:\n",
    "        counter += 1\n",
    "        temp //= 10\n",
    "print(counter)"
   ]
  },
  {
   "cell_type": "code",
   "execution_count": 9,
   "metadata": {},
   "outputs": [],
   "source": [
    "n = int(input())\n",
    "for i in range(n):\n",
    "    print('')\n",
    "    for j in range(3):\n",
    "        print(n, end=' ')"
   ]
  },
  {
   "cell_type": "code",
   "execution_count": null,
   "metadata": {},
   "outputs": [
    {
     "name": "stdout",
     "output_type": "stream",
     "text": [
      "\n",
      "1 1 1 1 1 "
     ]
    }
   ],
   "source": [
    "n = int(input())\n",
    "for i in range(n):\n",
    "    print('')\n",
    "    for j in range(5):\n",
    "        print(i+1, end=' ')"
   ]
  },
  {
   "cell_type": "code",
   "execution_count": null,
   "metadata": {},
   "outputs": [
    {
     "name": "stdout",
     "output_type": "stream",
     "text": [
      "\n",
      "1 + 1 = 2\n",
      "1 + 2 = 3\n",
      "1 + 3 = 4\n",
      "1 + 4 = 5\n",
      "1 + 5 = 6\n",
      "1 + 6 = 7\n",
      "1 + 7 = 8\n",
      "1 + 8 = 9\n",
      "1 + 9 = 10\n",
      "\n",
      "2 + 1 = 3\n",
      "2 + 2 = 4\n",
      "2 + 3 = 5\n",
      "2 + 4 = 6\n",
      "2 + 5 = 7\n",
      "2 + 6 = 8\n",
      "2 + 7 = 9\n",
      "2 + 8 = 10\n",
      "2 + 9 = 11\n",
      "\n",
      "3 + 1 = 4\n",
      "3 + 2 = 5\n",
      "3 + 3 = 6\n",
      "3 + 4 = 7\n",
      "3 + 5 = 8\n",
      "3 + 6 = 9\n",
      "3 + 7 = 10\n",
      "3 + 8 = 11\n",
      "3 + 9 = 12\n"
     ]
    }
   ],
   "source": [
    "n = int(input())\n",
    "for i in range(n):\n",
    "    print('')\n",
    "    for j in range(9):\n",
    "        print(i+1, '+', j+1, '=', i+j+2, end='\\n')"
   ]
  },
  {
   "cell_type": "code",
   "execution_count": null,
   "metadata": {},
   "outputs": [],
   "source": [
    "# Дано нечетное натуральное число n. \n",
    "# Напишите программу, которая печатает равнобедренный звездный треугольник \n",
    "# с основанием, равным n в соответствии с примером:\n",
    "\n",
    "# *\n",
    "# **\n",
    "# ***\n",
    "# ****\n",
    "# ***\n",
    "# **\n",
    "# *"
   ]
  },
  {
   "cell_type": "code",
   "execution_count": null,
   "metadata": {},
   "outputs": [
    {
     "name": "stdout",
     "output_type": "stream",
     "text": [
      "*\n",
      "**\n",
      "***\n",
      "**\n",
      "*\n",
      "\n"
     ]
    }
   ],
   "source": [
    "n = int(input())\n",
    "for i in range(n):\n",
    "    for j in range(i + 1):\n",
    "        print('*', end='')\n",
    "    print()\n",
    "for i in range(n):\n",
    "    for j in range(n - i -1):\n",
    "        print('*', end='')\n",
    "    print()"
   ]
  },
  {
   "cell_type": "code",
   "execution_count": null,
   "metadata": {},
   "outputs": [
    {
     "name": "stdout",
     "output_type": "stream",
     "text": [
      "*\n",
      "**\n",
      "*\n"
     ]
    }
   ],
   "source": [
    "n = int(input())\n",
    "k = n // 2 + 1\n",
    "m = n // 2\n",
    "for i in range(k):\n",
    "    for j in range(i + 1):\n",
    "        print('*', end='')\n",
    "    print()\n",
    "for i in range(m):\n",
    "    for j in range(m - i):\n",
    "        print('*', end='')\n",
    "    print()"
   ]
  },
  {
   "cell_type": "code",
   "execution_count": null,
   "metadata": {},
   "outputs": [
    {
     "name": "stdout",
     "output_type": "stream",
     "text": [
      "**\n",
      "*\n",
      "\n"
     ]
    }
   ],
   "source": [
    "n = int(input())\n",
    "for i in range(n):\n",
    "    for j in range(n - i -1):\n",
    "        print('*', end='')\n",
    "    print()"
   ]
  },
  {
   "cell_type": "code",
   "execution_count": null,
   "metadata": {},
   "outputs": [
    {
     "name": "stdout",
     "output_type": "stream",
     "text": [
      "1\n",
      "22\n",
      "333\n",
      "4444\n",
      "55555\n"
     ]
    }
   ],
   "source": [
    "n = int(input())\n",
    "for i in range(n):\n",
    "    for j in range(i + 1):\n",
    "        print(i+1, end='')\n",
    "    print()"
   ]
  },
  {
   "cell_type": "code",
   "execution_count": null,
   "metadata": {},
   "outputs": [
    {
     "name": "stdout",
     "output_type": "stream",
     "text": [
      "x = 3 y = 57\n",
      "x = 16 y = 45\n",
      "x = 29 y = 33\n",
      "x = 42 y = 21\n",
      "x = 55 y = 9\n",
      "Общее количество натуральных решений = 5\n"
     ]
    }
   ],
   "source": [
    "total = 0\n",
    "for x in range(1, 65):\n",
    "    for y in range(1, 60):\n",
    "        if 12 * x + 13 * y == 777:\n",
    "            total += 1\n",
    "            print('x =', x, 'y =', y)\n",
    "print('Общее количество натуральных решений =', total)"
   ]
  },
  {
   "cell_type": "code",
   "execution_count": null,
   "metadata": {},
   "outputs": [
    {
     "name": "stdout",
     "output_type": "stream",
     "text": [
      "x = 18 y = 20 z = 36\n",
      "x = 18 y = 36 z = 20\n",
      "x = 20 y = 18 z = 36\n",
      "x = 20 y = 36 z = 18\n",
      "x = 36 y = 18 z = 20\n",
      "x = 36 y = 20 z = 18\n",
      "Общее количество натуральных решений = 6\n"
     ]
    }
   ],
   "source": [
    "total = 0\n",
    "for x in range(1, 45):\n",
    "    for y in range(1, 45):\n",
    "        for z in range(1, 45):\n",
    "            if x ** 2 + y ** 2 + z ** 2 == 2020:\n",
    "                total += 1\n",
    "                print('x =', x, 'y =', y, 'z =', z)\n",
    "print('Общее количество натуральных решений =', total)"
   ]
  },
  {
   "cell_type": "code",
   "execution_count": null,
   "metadata": {},
   "outputs": [
    {
     "name": "stdout",
     "output_type": "stream",
     "text": [
      "x = 1 y = 4 z = 7\n",
      "x = 2 y = 1 z = 9\n",
      "Общее количество натуральных решений = 2\n"
     ]
    }
   ],
   "source": [
    "total = 0\n",
    "for x in range(1, 12):\n",
    "    for y in range(1, 12):\n",
    "        for z in range(1, 12):\n",
    "            if x * 28 + y * 30 + z * 31 == 365:\n",
    "                total += 1\n",
    "                print('x =', x, 'y =', y, 'z =', z)\n",
    "print('Общее количество натуральных решений =', total)"
   ]
  },
  {
   "cell_type": "code",
   "execution_count": null,
   "metadata": {},
   "outputs": [
    {
     "name": "stdout",
     "output_type": "stream",
     "text": [
      "x = 1 y = 9 z = 90\n",
      "Общее количество натуральных решений = 1\n"
     ]
    }
   ],
   "source": [
    "total = 0\n",
    "for x in range(1, 100):\n",
    "    for y in range(1, 100):\n",
    "        for z in range(1, 100):\n",
    "            if x * 10 + y * 5 + z * 0.5 == 100 and x + y + z == 100:\n",
    "                total += 1\n",
    "                print('x =', x, 'y =', y, 'z =', z)\n",
    "print('Общее количество натуральных решений =', total)"
   ]
  },
  {
   "cell_type": "code",
   "execution_count": null,
   "metadata": {},
   "outputs": [],
   "source": [
    "total = 0\n",
    "for x in range(1, 150):\n",
    "    for y in range(1, 151):\n",
    "        for z in range(1, 151):\n",
    "            for a in range (1, 151):\n",
    "                for b in range(1, 151):\n",
    "                    if (b**5 > x ** 5 + y ** 5 + z ** 5 + a ** 5):\n",
    "                        break\n",
    "                    elif x ** 5 + y ** 5 + z ** 5 + a ** 5 - b**5 == 0:\n",
    "                        total += 1\n",
    "                        print('x =', x, 'y =', y, 'z =', z, 'a =', a, 'b =', b)\n",
    "print('Общее количество натуральных решений =', total)"
   ]
  },
  {
   "cell_type": "code",
   "execution_count": null,
   "metadata": {},
   "outputs": [
    {
     "name": "stdout",
     "output_type": "stream",
     "text": [
      "1 2 \n",
      "3 4 5 \n",
      "6 7 8 9 \n",
      "10 11 12 13 14 \n",
      "15 16 17 18 19 20 \n"
     ]
    }
   ],
   "source": [
    "num = 1\n",
    "n = int(input())\n",
    "for i in range(1, n+1):\n",
    "    for j in range(1, i+1):\n",
    "        print(num, end=' ')\n",
    "        num += 1\n",
    "    print()"
   ]
  },
  {
   "cell_type": "code",
   "execution_count": null,
   "metadata": {},
   "outputs": [],
   "source": []
  },
  {
   "cell_type": "code",
   "execution_count": null,
   "metadata": {},
   "outputs": [
    {
     "name": "stdout",
     "output_type": "stream",
     "text": [
      "1\n",
      "121\n",
      "12321\n",
      "1234321\n",
      "123454321\n"
     ]
    }
   ],
   "source": [
    "# Считываем число и записываем в грЕбанную переменную 'n'\n",
    "# Создаем внешний цикл назовем 'i' от 1 до n включительно \n",
    "# Создаем первый внутренний цикл 'j' для первой части от 1 до 'i' включительно\n",
    "# Выводим 'j' соединенное end\n",
    "# Создаем второй цикл 'k' для второй части от 'i' - 1 до 0 с шагом - 1\n",
    "# Выводим 'k' соединенное end\n",
    "# Разделяй и властвуй над пустым принтом\n",
    "\n",
    "\n",
    "n = int(input())\n",
    "for i in range(1, n+1):\n",
    "    for j in range(1, i+1):\n",
    "        print(j, end='')\n",
    "    for k in range(i-1, 0, -1):\n",
    "        print(k, end='')\n",
    "    print()"
   ]
  },
  {
   "cell_type": "code",
   "execution_count": null,
   "metadata": {},
   "outputs": [
    {
     "name": "stdout",
     "output_type": "stream",
     "text": [
      "1 1 \n",
      "1 2 \n",
      "1 3 \n",
      "1 4 \n",
      "2 1 \n",
      "2 2 \n",
      "2 3 \n",
      "2 4 \n",
      "3 1 \n",
      "3 2 \n",
      "3 3 \n",
      "3 4 \n"
     ]
    }
   ],
   "source": [
    "# На вход программе подается два натуральных числа\n",
    "# Напишите программу, которая находит натуральное число из отрезка\n",
    "# [a;b] с максимальной суммой делителей.\n",
    "# a < b\n",
    "\n",
    "    # Программа должна вывести два числа на одной строке, \n",
    "    # разделенных пробелом: число с максимальной суммой делителей и сумму его делителей.\n",
    "\n",
    "# НОД - Наибольшим общим делителем двух чисел a и b называется наибольшее число, \n",
    "# на которое a и b делятся без остатка\n",
    "\n",
    "a = int(input())\n",
    "b = int(input())\n",
    "\n",
    "sum = 0\n",
    "maxx = 0\n",
    "\n",
    "for i in range (1, a+1):\n",
    "    for j in range(1, b+1):\n",
    "        print(i, j, end=' ')\n",
    "        #if (a%i == 0 and b%j == 0):\n",
    "        print()\n"
   ]
  },
  {
   "cell_type": "code",
   "execution_count": null,
   "metadata": {},
   "outputs": [
    {
     "name": "stdout",
     "output_type": "stream",
     "text": [
      "Число из отрезка [1, 100] с максимальной суммой делителей: 96\n",
      "Сумма делителей этого числа: 156\n"
     ]
    }
   ],
   "source": [
    "# Функция для подсчета суммы делителей числа n\n",
    "def sum_of_divisors(n):\n",
    "    # Инициализируем сумму единицей, так как 1 - делитель любого числа\n",
    "    sum = 1\n",
    "    # Перебираем возможные делители от 2 до корня из n\n",
    "    for i in range(2, int(n**0.5) + 1):\n",
    "        # Если i - делитель n, то добавляем его к сумме\n",
    "        if n % i == 0:\n",
    "            sum += i\n",
    "            # Если n / i не равно i, то добавляем и его к сумме\n",
    "            # Это нужно, чтобы избежать повторения делителей в случае квадратных чисел\n",
    "            if n // i != i:\n",
    "                sum += n // i\n",
    "    # Возвращаем сумму делителей\n",
    "    return sum\n",
    "\n",
    "# Задаем границы отрезка [a, b]\n",
    "a = int(input())\n",
    "b = int(input())\n",
    "\n",
    "# Инициализируем максимальную сумму делителей нулем\n",
    "max_sum = 0\n",
    "# Инициализируем искомое число a\n",
    "number = a\n",
    "\n",
    "# Перебираем все числа из отрезка [a, b]\n",
    "for n in range(a, b + 1):\n",
    "    # Вычисляем сумму делителей текущего числа\n",
    "    current_sum = sum_of_divisors(n)\n",
    "    # Если текущая сумма больше максимальной, то обновляем максимальную сумму и искомое число\n",
    "    if current_sum > max_sum:\n",
    "        max_sum = current_sum\n",
    "        number = n\n",
    "\n",
    "# Выводим результат на экран\n",
    "print(f\"Число из отрезка [{a}, {b}] с максимальной суммой делителей: {number}\")\n",
    "print(f\"Сумма делителей этого числа: {max_sum}\")"
   ]
  },
  {
   "cell_type": "code",
   "execution_count": null,
   "metadata": {},
   "outputs": [
    {
     "name": "stdout",
     "output_type": "stream",
     "text": [
      "1+\n",
      "2++\n",
      "3++\n"
     ]
    }
   ],
   "source": [
    "# Вводим натуральное число n\n",
    "n = int(input())\n",
    "\n",
    "\n",
    "for i in range (1, n+1):\n",
    "    print(i, end='')\n",
    "    for j in range(1, i+1):\n",
    "            if i % j == 0:\n",
    "                print('+', end='')\n",
    "    print()"
   ]
  },
  {
   "cell_type": "code",
   "execution_count": null,
   "metadata": {},
   "outputs": [
    {
     "name": "stdout",
     "output_type": "stream",
     "text": [
      "33\n"
     ]
    }
   ],
   "source": [
    "from math import factorial\n",
    "n = int(input())\n",
    "sum = 0\n",
    "for i in range(1, n+1):\n",
    "    sum += factorial(i)\n",
    "print(sum)"
   ]
  },
  {
   "cell_type": "code",
   "execution_count": null,
   "metadata": {},
   "outputs": [],
   "source": []
  },
  {
   "cell_type": "code",
   "execution_count": 8,
   "metadata": {},
   "outputs": [
    {
     "name": "stdout",
     "output_type": "stream",
     "text": [
      "Число из диапазона [1, 100], имеющее максимальную сумму делителей, равно 96.\n",
      "Сумма его делителей равна 252.\n"
     ]
    }
   ],
   "source": [
    "# На вход подаются два натуральных числа a и b. \n",
    "# Напишите программу, которая находит натуальное число из отрезка с максимальной суммой делителя\n",
    "\n",
    "\n",
    "# Функция для подсчета суммы делителей натурального числа\n",
    "def sum_divisors(n):\n",
    "    # Инициализируем сумму единицей, так как она является делителем любого числа\n",
    "    sum = 0\n",
    "    # Перебираем возможные делители от 2 до корня из n\n",
    "    for i in range(1, int(n**0.5) + 1):\n",
    "        # Если i делит n без остатка, то добавляем i и n/i к сумме\n",
    "        if n % i == 0:\n",
    "            sum += i\n",
    "            # Если i не равно n/i, то добавляем n/i еще раз, чтобы избежать повторения\n",
    "            if i != n // i:\n",
    "                sum += n // i\n",
    "    # Возвращаем сумму делителей\n",
    "    return sum\n",
    "\n",
    "# Вводим диапазон чисел\n",
    "a = 1 # Начало диапазона\n",
    "b = 100 # Конец диапазона\n",
    "\n",
    "# Инициализируем максимальную сумму делителей и соответствующее число нулями\n",
    "max_sum = 0\n",
    "max_num = 0\n",
    "\n",
    "# Перебираем все числа в диапазоне от a до b включительно\n",
    "for n in range(a, b + 1):\n",
    "    # Вычисляем сумму делителей текущего числа\n",
    "    current_sum = sum_divisors(n)\n",
    "    # Если сумма делителей больше максимальной, то обновляем максимальную сумму и соответствующее число\n",
    "    if current_sum > max_sum:\n",
    "        max_sum = current_sum\n",
    "        max_num = n\n",
    "\n",
    "# Выводим результат на экран\n",
    "print(f\"Число из диапазона [{a}, {b}], имеющее максимальную сумму делителей, равно {max_num}.\")\n",
    "print(f\"Сумма его делителей равна {max_sum}.\")"
   ]
  },
  {
   "cell_type": "code",
   "execution_count": 11,
   "metadata": {},
   "outputs": [
    {
     "name": "stdout",
     "output_type": "stream",
     "text": [
      "3 4\n"
     ]
    }
   ],
   "source": [
    "def sum_divisors(n):\n",
    "    # Инициализируем сумму единицей, так как она является делителем любого числа\n",
    "    sum = 0\n",
    "    # Перебираем возможные делители от 2 до корня из n\n",
    "    for i in range(1, int(n**0.5) + 1):\n",
    "        # Если i делит n без остатка, то добавляем i и n/i к сумме\n",
    "        if n % i == 0:\n",
    "            sum += i\n",
    "            # Если i не равно n/i, то добавляем n/i еще раз, чтобы избежать повторения\n",
    "            if i != n // i:\n",
    "                sum += n // i\n",
    "    # Возвращаем сумму делителей\n",
    "    return sum\n",
    "\n",
    "# Вводим диапазон чисел\n",
    "a = int(input()) # Начало диапазона\n",
    "b = int(input()) # Конец диапазона\n",
    "\n",
    "# Инициализируем максимальную сумму делителей и соответствующее число нулями\n",
    "max_sum = 0\n",
    "max_num = 0\n",
    "\n",
    "# Перебираем все числа в диапазоне от a до b включительно\n",
    "for n in range(a, b + 1):\n",
    "    # Вычисляем сумму делителей текущего числа\n",
    "    current_sum = sum_divisors(n)\n",
    "    # Если сумма делителей больше максимальной, то обновляем максимальную сумму и соответствующее число\n",
    "    if current_sum > max_sum:\n",
    "        max_sum = current_sum\n",
    "        max_num = n\n",
    "\n",
    "# Выводим результат на экран\n",
    "print(max_num, max_sum)"
   ]
  },
  {
   "cell_type": "code",
   "execution_count": 4,
   "metadata": {},
   "outputs": [
    {
     "name": "stdout",
     "output_type": "stream",
     "text": [
      "3\n",
      "5\n",
      "7\n",
      "11\n",
      "13\n"
     ]
    }
   ],
   "source": [
    "a = int(input(\"Введите начало диапазона: \"))\n",
    "b = int(input(\"Введите конец диапазона: \"))\n",
    "\n",
    "def is_prime(n):\n",
    "    # Функция проверяет, является ли число n простым\n",
    "    if n < 2:\n",
    "        return False\n",
    "    for i in range(2, int(n**0.5) + 1):\n",
    "        if n % i == 0:\n",
    "            return False\n",
    "    return True\n",
    "\n",
    "for n in range(a, b + 1):\n",
    "    # Перебираем все числа от a до b и выводим простые\n",
    "    if is_prime(n):\n",
    "        print(n)"
   ]
  },
  {
   "cell_type": "code",
   "execution_count": 14,
   "metadata": {},
   "outputs": [
    {
     "name": "stdout",
     "output_type": "stream",
     "text": [
      "6\n"
     ]
    }
   ],
   "source": [
    "n = int(input())\n",
    "counter = 0\n",
    "\n",
    "for i in range(1, n + 1):\n",
    "    if i % 3 == 0 and i % 7 != 0: \n",
    "        counter += 1\n",
    "print(counter)"
   ]
  },
  {
   "cell_type": "code",
   "execution_count": 15,
   "metadata": {},
   "outputs": [
    {
     "name": "stdout",
     "output_type": "stream",
     "text": [
      "Python!\n",
      "Python!\n",
      "Python!\n",
      "Python!\n",
      "Python!\n",
      "Python!\n",
      "Python!\n"
     ]
    }
   ],
   "source": [
    "i = 4\n",
    "while i <= 10:\n",
    "    print ('Python!')\n",
    "    i += 1"
   ]
  },
  {
   "cell_type": "code",
   "execution_count": 16,
   "metadata": {},
   "outputs": [
    {
     "name": "stdout",
     "output_type": "stream",
     "text": [
      "120\n"
     ]
    }
   ],
   "source": [
    "n = int(input())\n",
    "res = 1\n",
    "i = 2\n",
    "while i <= n:\n",
    "    res *= i\n",
    "    i += 1\n",
    "print(res)"
   ]
  },
  {
   "cell_type": "code",
   "execution_count": 19,
   "metadata": {},
   "outputs": [
    {
     "name": "stdout",
     "output_type": "stream",
     "text": [
      "2\n"
     ]
    }
   ],
   "source": [
    "n = int(input())\n",
    "i = 2\n",
    "while n % i != 0:\n",
    "    i += 1\n",
    "print(i)"
   ]
  },
  {
   "cell_type": "code",
   "execution_count": 24,
   "metadata": {},
   "outputs": [
    {
     "name": "stdout",
     "output_type": "stream",
     "text": [
      "10\n"
     ]
    }
   ],
   "source": [
    "# На обработку поступает натуральное число. \n",
    "# Нужно написать программу, которая выводит на экран сумму чётных цифр этого числа или 0,\n",
    "# если чётных цифр в записи нет. Программист торопился и написал программу неправильно.\n",
    "\n",
    "n = int(input()) # вводим натуральное число\n",
    "sum = 0 # инициализируем сумму четных цифр\n",
    "while n > 0: # пока число не равно нулю\n",
    "    if n % 10 % 2 == 0: # если последняя цифра четная\n",
    "        sum = sum + n % 10 # добавляем ее к сумме\n",
    "    n = n // 10 # отбрасываем последнюю цифру\n",
    "print(sum) # выводим сумму"
   ]
  },
  {
   "cell_type": "code",
   "execution_count": 32,
   "metadata": {},
   "outputs": [
    {
     "name": "stdout",
     "output_type": "stream",
     "text": [
      "2\n",
      "96\n"
     ]
    }
   ],
   "source": [
    "# На обработку поступает последовательность из 8 целых чисел. Известно, что вводимые числа по \n",
    "# абсолютной величине не превышают 10 в 12й степени\n",
    "# Нужно написать программу, которая выводит на экран количество делящихся нацело на 4 \n",
    "# чисел в исходной последовательности и максимальное делящееся нацело на 4 число. \n",
    "# Если делящихся нацело на 4 чисел нет, требуется на экран вывести «NO». \n",
    "# Программист торопился и написал программу неправильно.\n",
    "\n",
    "# Внимательно посмотрите на N, чота там не то\n",
    "# Максимум какой-то не максимальный\n",
    "# Хм, а точная ли проверка на кратность 4?\n",
    "# Опять с максимумом напутал прогер тот\n",
    "\n",
    "n = 8\n",
    "count = 0\n",
    "maximum = -pow(10,12)\n",
    "for i in range(1, n + 1):\n",
    "    x = int(input())\n",
    "    if x % 4 == 0:\n",
    "        count += 1\n",
    "        if x > maximum:\n",
    "            maximum = x\n",
    "if count > 0:\n",
    "    print(count)\n",
    "    print(maximum)\n",
    "else:\n",
    "    print('NO')"
   ]
  },
  {
   "cell_type": "code",
   "execution_count": 33,
   "metadata": {},
   "outputs": [
    {
     "name": "stdout",
     "output_type": "stream",
     "text": [
      "1000000000000\n"
     ]
    }
   ],
   "source": [
    "n = pow(10,12)\n",
    "print(n)"
   ]
  },
  {
   "cell_type": "code",
   "execution_count": 41,
   "metadata": {},
   "outputs": [
    {
     "name": "stdout",
     "output_type": "stream",
     "text": [
      "3\n",
      "9\n"
     ]
    }
   ],
   "source": [
    "# На обработку поступает последовательность из 4 целых чисел. \n",
    "# Известно, что вводимые числа по абсолютной величине не превышают 10 в 8\n",
    "# Нужно написать программу, которая выводит на экран количество нечётных чисел в \n",
    "# исходной последовательности и максимальное нечётное число. \n",
    "# Если нечётных чисел нет, требуется на экран вывести «NO». \n",
    "# Программист торопился и написал программу неправильно.\n",
    "\n",
    "n = 4\n",
    "count = 0\n",
    "maximum = -pow(10,8)\n",
    "for i in range(1, n + 1):\n",
    "    x = int(input())\n",
    "    if x % 2 != 0:\n",
    "        count += 1\n",
    "        if x > maximum:\n",
    "            maximum = x\n",
    "            # break\n",
    "if count > 0:\n",
    "    print(count)\n",
    "    print(maximum)\n",
    "else:\n",
    "    print('NO')"
   ]
  },
  {
   "cell_type": "code",
   "execution_count": 42,
   "metadata": {},
   "outputs": [
    {
     "name": "stdout",
     "output_type": "stream",
     "text": [
      "*******************\n",
      "*                 *\n",
      "*                 *\n",
      "*                 *\n",
      "*******************\n"
     ]
    }
   ],
   "source": [
    "# На вход программе подается натуральное число n.\n",
    "# Напишите программу, которая печатает звездную рамку размерами n×19.\n",
    "\n",
    "x = int(input())\n",
    "for i in range (1, x+1):\n",
    "    if (i==1 or i ==x):\n",
    "        print('*******************')\n",
    "    else:\n",
    "        print('*                 *')\n",
    "        "
   ]
  },
  {
   "cell_type": "code",
   "execution_count": 47,
   "metadata": {},
   "outputs": [
    {
     "name": "stdout",
     "output_type": "stream",
     "text": [
      "4\n"
     ]
    }
   ],
   "source": [
    "# Дано натуральное число n(n>99). \n",
    "# Напишите программу, которая определяет его третью (с начала) цифру.\n",
    "\n",
    "n = int(input()) # считываем число n\n",
    "if n<0:\n",
    "    n = -n\n",
    "s = str(n) # преобразуем число n в строку s\n",
    "d = int(s[2]) # получаем третью цифру числа n как число d\n",
    "print(d) # выводим результат\n",
    "    "
   ]
  },
  {
   "cell_type": "code",
   "execution_count": 50,
   "metadata": {},
   "outputs": [
    {
     "name": "stdout",
     "output_type": "stream",
     "text": [
      "1\n",
      "1\n",
      "2\n",
      "21\n",
      "9\n",
      "1\n"
     ]
    }
   ],
   "source": [
    "# Дано натуральное число. Напишите программу, которая вычисляет:\n",
    "\n",
    "# количество цифр 3 в нем;  ----> count\n",
    "# сколько раз в нем встречается последняя цифра; last digit ----> count1\n",
    "# количество четных цифр;----> count3\n",
    "# сумму его цифр, больших пяти; ----> sum\n",
    "# произведение цифр, больших семи (если цифр больших семи нет, то вывести ----> sumx\n",
    "# 1, если такая цифра одна, то вывести ее);\n",
    "# сколько раз в нем встречается цифры 0 и 5 (всего суммарно).  ----> count2\n",
    "\n",
    "\n",
    "\n",
    "# было\n",
    "num = int(input())\n",
    "last_digit = num % 10\n",
    "count = 0 # количество цифр 3 в нем;\n",
    "count1 = 0 # сколько раз в нем встречается последняя цифра;\n",
    "count2 = 0  #сколько раз в нем встречается цифры 0 и 5 (всего суммарно)\n",
    "count3 = 0 # количество четных цифр;\n",
    "sum = 0 # сумму его цифр, больших пяти;\n",
    "sumx = 1 # произведение цифр, больших семи\n",
    "\n",
    "while num != 0:\n",
    "    \n",
    "    first_digit = num % 10\n",
    "    if (first_digit == 3):  # количество цифр 3 в нем; count\n",
    "        count += 1\n",
    "    if (first_digit == last_digit): # сколько раз в нем встречается последняя цифра;\n",
    "        count1 += 1\n",
    "    if (first_digit > 5): # сумму его цифр, больших пяти;\n",
    "        sum = sum + first_digit\n",
    "    if (first_digit > 7): # произведение цифр, больших семи\n",
    "        sumx = sumx * first_digit\n",
    "    if (first_digit == 0 or first_digit == 5): # сколько раз в нем встречается цифры 0 и 5\n",
    "        count2 += 1\n",
    "    if (first_digit % 2 == 0): # количество четных цифр\n",
    "        count3 += 1\n",
    "    num = num // 10\n",
    "    \n",
    "print(count, count1, count3, sum, sumx, count2, sep='\\n')"
   ]
  },
  {
   "cell_type": "code",
   "execution_count": 52,
   "metadata": {},
   "outputs": [],
   "source": [
    "for x in range(1, 11):\n",
    "    for y in range(1, 11):\n",
    "        for z in range(1, 11):\n",
    "            for g in range(1, 11):\n",
    "                if g * g * g + z * z * z == x * x * x + y * y * y:\n",
    "                    if (g == z) or (g == y) or (g == x) or (z == y) or (z == x) or (y == x):\n",
    "                        continue\n",
    "                    else:\n",
    "                        print (\"x=\", x)\n",
    "                        print (\"y=\", y)\n",
    "                        print (\"z=\", z)\n",
    "                        print (\"g=\", g)\n",
    "                        print (g * g * g + z * z * z)\n",
    "                       "
   ]
  },
  {
   "cell_type": "code",
   "execution_count": 56,
   "metadata": {},
   "outputs": [
    {
     "name": "stdout",
     "output_type": "stream",
     "text": [
      "n = 12 k = 1 m = 10 t= 9 = 1729\n",
      "n = 16 k = 2 m = 15 t= 9 = 4104\n",
      "n = 24 k = 2 m = 20 t= 18 = 13832\n",
      "n = 27 k = 10 m = 24 t= 19 = 20683\n",
      "n = 32 k = 4 m = 30 t= 18 = 32832\n",
      "n = 34 k = 2 m = 33 t= 15 = 39312\n",
      "n = 34 k = 9 m = 33 t= 16 = 40033\n",
      "n = 36 k = 3 m = 30 t= 27 = 46683\n",
      "n = 39 k = 17 m = 36 t= 26 = 64232\n",
      "n = 40 k = 12 m = 33 t= 31 = 65728\n",
      "n = 48 k = 4 m = 40 t= 36 = 110656\n",
      "n = 48 k = 6 m = 45 t= 27 = 110808\n",
      "n = 51 k = 12 m = 43 t= 38 = 134379\n",
      "n = 53 k = 8 m = 50 t= 29 = 149389\n",
      "n = 54 k = 20 m = 48 t= 38 = 165464\n",
      "n = 55 k = 17 m = 54 t= 24 = 171288\n",
      "n = 58 k = 9 m = 57 t= 22 = 195841\n",
      "n = 60 k = 3 m = 59 t= 22 = 216027\n",
      "n = 60 k = 5 m = 50 t= 45 = 216125\n",
      "n = 64 k = 8 m = 60 t= 36 = 262656\n",
      "n = 67 k = 30 m = 58 t= 51 = 327763\n",
      "n = 68 k = 4 m = 66 t= 30 = 314496\n",
      "n = 68 k = 18 m = 66 t= 32 = 320264\n",
      "n = 69 k = 42 m = 61 t= 56 = 402597\n",
      "n = 72 k = 6 m = 60 t= 54 = 373464\n",
      "n = 76 k = 5 m = 69 t= 48 = 439101\n",
      "n = 76 k = 17 m = 73 t= 38 = 443889\n",
      "n = 78 k = 34 m = 72 t= 52 = 513856\n",
      "n = 80 k = 10 m = 75 t= 45 = 513000\n",
      "n = 80 k = 15 m = 71 t= 54 = 515375\n",
      "n = 80 k = 24 m = 66 t= 62 = 525824\n",
      "n = 81 k = 30 m = 72 t= 57 = 558441\n",
      "n = 82 k = 51 m = 75 t= 64 = 684019\n",
      "n = 84 k = 7 m = 70 t= 63 = 593047\n",
      "n = 89 k = 2 m = 86 t= 41 = 704977\n",
      "n = 93 k = 11 m = 92 t= 30 = 805688\n",
      "n = 94 k = 23 m = 84 t= 63 = 842751\n",
      "n = 96 k = 8 m = 80 t= 72 = 885248\n",
      "n = 96 k = 12 m = 90 t= 54 = 886464\n",
      "n = 96 k = 50 m = 93 t= 59 = 1009736\n",
      "n = 97 k = 20 m = 96 t= 33 = 920673\n",
      "n = 97 k = 47 m = 90 t= 66 = 1016496\n",
      "n = 98 k = 24 m = 89 t= 63 = 955016\n",
      "n = 98 k = 35 m = 92 t= 59 = 984067\n",
      "n = 99 k = 29 m = 92 t= 60 = 994688\n",
      "n = 102 k = 6 m = 99 t= 45 = 1061424\n",
      "n = 102 k = 23 m = 95 t= 60 = 1073375\n",
      "n = 102 k = 24 m = 86 t= 76 = 1075032\n",
      "n = 102 k = 27 m = 99 t= 48 = 1080891\n",
      "n = 103 k = 1 m = 94 t= 64 = 1092728\n",
      "n = 106 k = 16 m = 100 t= 58 = 1195112\n",
      "n = 108 k = 9 m = 90 t= 81 = 1260441\n",
      "n = 108 k = 40 m = 96 t= 76 = 1323712\n",
      "n = 109 k = 62 m = 93 t= 90 = 1533357\n",
      "n = 110 k = 4 m = 101 t= 67 = 1331064\n",
      "n = 110 k = 34 m = 108 t= 48 = 1370304\n",
      "n = 112 k = 14 m = 105 t= 63 = 1407672\n",
      "n = 113 k = 55 m = 94 t= 92 = 1609272\n",
      "n = 116 k = 18 m = 114 t= 44 = 1566728\n",
      "n = 117 k = 51 m = 108 t= 78 = 1734264\n",
      "n = 120 k = 6 m = 118 t= 44 = 1728216\n",
      "n = 120 k = 10 m = 100 t= 90 = 1729000\n",
      "n = 120 k = 36 m = 99 t= 93 = 1774656\n",
      "n = 121 k = 42 m = 120 t= 49 = 1845649\n",
      "n = 127 k = 2 m = 106 t= 95 = 2048391\n",
      "n = 128 k = 16 m = 120 t= 72 = 2101248\n",
      "n = 132 k = 11 m = 110 t= 99 = 2301299\n",
      "n = 134 k = 23 m = 116 t= 95 = 2418271\n",
      "n = 134 k = 60 m = 116 t= 102 = 2622104\n",
      "n = 135 k = 50 m = 120 t= 95 = 2585375\n",
      "n = 136 k = 8 m = 132 t= 60 = 2515968\n",
      "n = 136 k = 36 m = 132 t= 64 = 2562112\n",
      "n = 138 k = 84 m = 122 t= 112 = 3220776\n",
      "n = 139 k = 18 m = 123 t= 94 = 2691451\n",
      "n = 141 k = 76 m = 138 t= 85 = 3242197\n",
      "n = 142 k = 10 m = 121 t= 103 = 2864288\n",
      "n = 144 k = 12 m = 120 t= 108 = 2987712\n",
      "n = 144 k = 18 m = 135 t= 81 = 2991816\n",
      "n = 150 k = 1 m = 144 t= 73 = 3375001\n",
      "n = 150 k = 2 m = 141 t= 83 = 3375008\n",
      "n = 152 k = 4 m = 151 t= 41 = 3511872\n",
      "n = 152 k = 10 m = 138 t= 96 = 3512808\n",
      "n = 152 k = 34 m = 146 t= 76 = 3551112\n",
      "n = 153 k = 18 m = 122 t= 121 = 3587409\n",
      "n = 153 k = 36 m = 129 t= 114 = 3628233\n",
      "n = 156 k = 13 m = 130 t= 117 = 3798613\n",
      "n = 156 k = 26 m = 125 t= 123 = 3813992\n",
      "n = 156 k = 68 m = 144 t= 104 = 4110848\n",
      "n = 159 k = 24 m = 150 t= 87 = 4033503\n",
      "n = 160 k = 20 m = 150 t= 90 = 4104000\n",
      "n = 160 k = 30 m = 142 t= 108 = 4123000\n",
      "n = 160 k = 48 m = 132 t= 124 = 4206592\n",
      "n = 161 k = 10 m = 153 t= 84 = 4174281\n",
      "n = 162 k = 60 m = 144 t= 114 = 4467528\n",
      "n = 163 k = 23 m = 137 t= 121 = 4342914\n",
      "n = 164 k = 102 m = 150 t= 128 = 5472152\n",
      "n = 165 k = 24 m = 157 t= 86 = 4505949\n",
      "n = 165 k = 27 m = 152 t= 100 = 4511808\n",
      "n = 165 k = 51 m = 162 t= 72 = 4624776\n",
      "n = 165 k = 76 m = 157 t= 102 = 4931101\n",
      "n = 166 k = 32 m = 135 t= 129 = 4607064\n",
      "n = 167 k = 25 m = 164 t= 64 = 4673088\n",
      "n = 168 k = 14 m = 140 t= 126 = 4744376\n",
      "n = 170 k = 10 m = 165 t= 75 = 4914000\n",
      "n = 170 k = 45 m = 165 t= 80 = 5004125\n",
      "n = 172 k = 36 m = 163 t= 93 = 5135104\n",
      "n = 172 k = 71 m = 144 t= 135 = 5446359\n",
      "n = 172 k = 99 m = 163 t= 120 = 6058747\n",
      "n = 174 k = 27 m = 171 t= 66 = 5287707\n",
      "n = 174 k = 37 m = 141 t= 136 = 5318677\n",
      "n = 176 k = 22 m = 165 t= 99 = 5462424\n",
      "n = 178 k = 4 m = 172 t= 82 = 5639816\n",
      "n = 178 k = 51 m = 162 t= 115 = 5772403\n",
      "n = 178 k = 72 m = 165 t= 115 = 6013000\n",
      "n = 179 k = 40 m = 166 t= 107 = 5799339\n",
      "n = 180 k = 9 m = 177 t= 66 = 5832729\n",
      "n = 180 k = 15 m = 150 t= 135 = 5835375\n",
      "n = 180 k = 57 m = 166 t= 113 = 6017193\n",
      "Unexpected exception formatting exception. Falling back to standard exception\n"
     ]
    },
    {
     "name": "stderr",
     "output_type": "stream",
     "text": [
      "Traceback (most recent call last):\n",
      "  File \"c:\\Users\\PC\\AppData\\Local\\Programs\\Python\\Python311\\Lib\\site-packages\\IPython\\core\\interactiveshell.py\", line 3508, in run_code\n",
      "    exec(code_obj, self.user_global_ns, self.user_ns)\n",
      "  File \"C:\\Users\\PC\\AppData\\Local\\Temp\\ipykernel_19664\\3341305146.py\", line -1, in <module>\n",
      "KeyboardInterrupt\n",
      "\n",
      "During handling of the above exception, another exception occurred:\n",
      "\n",
      "Traceback (most recent call last):\n",
      "  File \"c:\\Users\\PC\\AppData\\Local\\Programs\\Python\\Python311\\Lib\\site-packages\\IPython\\core\\interactiveshell.py\", line 2105, in showtraceback\n",
      "    stb = self.InteractiveTB.structured_traceback(\n",
      "          ^^^^^^^^^^^^^^^^^^^^^^^^^^^^^^^^^^^^^^^^\n",
      "  File \"c:\\Users\\PC\\AppData\\Local\\Programs\\Python\\Python311\\Lib\\site-packages\\IPython\\core\\ultratb.py\", line 1428, in structured_traceback\n",
      "    return FormattedTB.structured_traceback(\n",
      "           ^^^^^^^^^^^^^^^^^^^^^^^^^^^^^^^^^\n",
      "  File \"c:\\Users\\PC\\AppData\\Local\\Programs\\Python\\Python311\\Lib\\site-packages\\IPython\\core\\ultratb.py\", line 1319, in structured_traceback\n",
      "    return VerboseTB.structured_traceback(\n",
      "           ^^^^^^^^^^^^^^^^^^^^^^^^^^^^^^^\n",
      "  File \"c:\\Users\\PC\\AppData\\Local\\Programs\\Python\\Python311\\Lib\\site-packages\\IPython\\core\\ultratb.py\", line 1172, in structured_traceback\n",
      "    formatted_exception = self.format_exception_as_a_whole(etype, evalue, etb, number_of_lines_of_context,\n",
      "                          ^^^^^^^^^^^^^^^^^^^^^^^^^^^^^^^^^^^^^^^^^^^^^^^^^^^^^^^^^^^^^^^^^^^^^^^^^^^^^^^^\n",
      "  File \"c:\\Users\\PC\\AppData\\Local\\Programs\\Python\\Python311\\Lib\\site-packages\\IPython\\core\\ultratb.py\", line 1087, in format_exception_as_a_whole\n",
      "    frames.append(self.format_record(record))\n",
      "                  ^^^^^^^^^^^^^^^^^^^^^^^^^^\n",
      "  File \"c:\\Users\\PC\\AppData\\Local\\Programs\\Python\\Python311\\Lib\\site-packages\\IPython\\core\\ultratb.py\", line 969, in format_record\n",
      "    frame_info.lines, Colors, self.has_colors, lvals\n",
      "    ^^^^^^^^^^^^^^^^\n",
      "  File \"c:\\Users\\PC\\AppData\\Local\\Programs\\Python\\Python311\\Lib\\site-packages\\IPython\\core\\ultratb.py\", line 792, in lines\n",
      "    return self._sd.lines\n",
      "           ^^^^^^^^^^^^^^\n",
      "  File \"c:\\Users\\PC\\AppData\\Local\\Programs\\Python\\Python311\\Lib\\site-packages\\stack_data\\utils.py\", line 144, in cached_property_wrapper\n",
      "    value = obj.__dict__[self.func.__name__] = self.func(obj)\n",
      "                                               ^^^^^^^^^^^^^^\n",
      "  File \"c:\\Users\\PC\\AppData\\Local\\Programs\\Python\\Python311\\Lib\\site-packages\\stack_data\\core.py\", line 734, in lines\n",
      "    pieces = self.included_pieces\n",
      "             ^^^^^^^^^^^^^^^^^^^^\n",
      "  File \"c:\\Users\\PC\\AppData\\Local\\Programs\\Python\\Python311\\Lib\\site-packages\\stack_data\\utils.py\", line 144, in cached_property_wrapper\n",
      "    value = obj.__dict__[self.func.__name__] = self.func(obj)\n",
      "                                               ^^^^^^^^^^^^^^\n",
      "  File \"c:\\Users\\PC\\AppData\\Local\\Programs\\Python\\Python311\\Lib\\site-packages\\stack_data\\core.py\", line 681, in included_pieces\n",
      "    pos = scope_pieces.index(self.executing_piece)\n",
      "                             ^^^^^^^^^^^^^^^^^^^^\n",
      "  File \"c:\\Users\\PC\\AppData\\Local\\Programs\\Python\\Python311\\Lib\\site-packages\\stack_data\\utils.py\", line 144, in cached_property_wrapper\n",
      "    value = obj.__dict__[self.func.__name__] = self.func(obj)\n",
      "                                               ^^^^^^^^^^^^^^\n",
      "  File \"c:\\Users\\PC\\AppData\\Local\\Programs\\Python\\Python311\\Lib\\site-packages\\stack_data\\core.py\", line 660, in executing_piece\n",
      "    return only(\n",
      "           ^^^^^\n",
      "  File \"c:\\Users\\PC\\AppData\\Local\\Programs\\Python\\Python311\\Lib\\site-packages\\executing\\executing.py\", line 190, in only\n",
      "    raise NotOneValueFound('Expected one value, found 0')\n",
      "executing.executing.NotOneValueFound: Expected one value, found 0\n"
     ]
    }
   ],
   "source": [
    "n = int (input('Введите ограничение диапазона для\\\n",
    "\\nнахождения чисел Рамануджана  :)'))\n",
    "total = 0\n",
    "for n in range(1, n):\n",
    "    for k in range(1, n):\n",
    "        for m in range(1, n):\n",
    "          for t in range(1, n):\n",
    "              if n**3 + k**3 == m**3 + t**3 and n!=t and k!=m and k!=t  and  n>k and m>t and n>m:\n",
    "                n,k ==m, t\n",
    "                total += 1\n",
    "                print('n =', n, 'k =', k, 'm =', m, 't=',  t, '=',n **3 + k **3 )\n",
    "print('Общее количество натуральных решений =', total)     "
   ]
  }
 ],
 "metadata": {
  "kernelspec": {
   "display_name": "Python 3",
   "language": "python",
   "name": "python3"
  },
  "language_info": {
   "codemirror_mode": {
    "name": "ipython",
    "version": 3
   },
   "file_extension": ".py",
   "mimetype": "text/x-python",
   "name": "python",
   "nbconvert_exporter": "python",
   "pygments_lexer": "ipython3",
   "version": "3.11.4"
  },
  "orig_nbformat": 4
 },
 "nbformat": 4,
 "nbformat_minor": 2
}
