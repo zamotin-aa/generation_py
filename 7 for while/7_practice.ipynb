{
 "cells": [
  {
   "cell_type": "code",
   "execution_count": 1,
   "metadata": {},
   "outputs": [
    {
     "name": "stdout",
     "output_type": "stream",
     "text": [
      "Привет\n",
      "Привет\n",
      "Привет\n",
      "Привет\n",
      "Привет\n",
      "Привет\n",
      "Привет\n",
      "Привет\n",
      "Привет\n",
      "Привет\n"
     ]
    }
   ],
   "source": [
    "for i in range(10):\n",
    "    print('Привет')"
   ]
  },
  {
   "cell_type": "code",
   "execution_count": 2,
   "metadata": {},
   "outputs": [
    {
     "name": "stdout",
     "output_type": "stream",
     "text": [
      "Квадрат вашего числа равен: 36\n",
      "Квадрат вашего числа равен: 4\n",
      "Квадрат вашего числа равен: 1\n",
      "Квадрат вашего числа равен: 25\n",
      "Квадрат вашего числа равен: 64\n",
      "Цикл завершен\n"
     ]
    }
   ],
   "source": [
    "for i in range(5):\n",
    "    num = int(input())\n",
    "    print('Квадрат вашего числа равен:', num * num)\n",
    "print('Цикл завершен')"
   ]
  },
  {
   "cell_type": "code",
   "execution_count": 3,
   "metadata": {},
   "outputs": [
    {
     "name": "stdout",
     "output_type": "stream",
     "text": [
      "A\n",
      "B\n",
      "C\n",
      "D\n",
      "C\n",
      "D\n",
      "C\n",
      "D\n",
      "C\n",
      "D\n",
      "C\n",
      "D\n",
      "E\n"
     ]
    }
   ],
   "source": [
    "print('A')\n",
    "print('B')\n",
    "for i in range(5): \n",
    "    print('C')\n",
    "    print('D') \n",
    "print('E')"
   ]
  },
  {
   "cell_type": "code",
   "execution_count": 4,
   "metadata": {},
   "outputs": [
    {
     "name": "stdout",
     "output_type": "stream",
     "text": [
      "A\n",
      "B\n",
      "C\n",
      "C\n",
      "C\n",
      "C\n",
      "C\n",
      "D\n",
      "D\n",
      "D\n",
      "D\n",
      "D\n",
      "E\n"
     ]
    }
   ],
   "source": [
    "print('A')\n",
    "print('B')\n",
    "for i in range(5):\n",
    "    print('C')\n",
    "for i in range(5):\n",
    "    print('D')\n",
    "print('E')"
   ]
  },
  {
   "cell_type": "code",
   "execution_count": 5,
   "metadata": {},
   "outputs": [
    {
     "name": "stdout",
     "output_type": "stream",
     "text": [
      "Python is awesome!\n",
      "Python is awesome!\n",
      "Python is awesome!\n",
      "Python is awesome!\n",
      "Python is awesome!\n",
      "Python is awesome!\n",
      "Python is awesome!\n",
      "Python is awesome!\n",
      "Python is awesome!\n",
      "Python is awesome!\n"
     ]
    }
   ],
   "source": [
    "for i in range(10):\n",
    "    print('Python is awesome!')"
   ]
  },
  {
   "cell_type": "code",
   "execution_count": 6,
   "metadata": {},
   "outputs": [
    {
     "name": "stdout",
     "output_type": "stream",
     "text": [
      "gsdfgfd\n",
      "gsdfgfd\n",
      "gsdfgfd\n",
      "gsdfgfd\n"
     ]
    }
   ],
   "source": [
    "s = str(input())\n",
    "n = int(input())\n",
    "\n",
    "for i in range(n):\n",
    "    print(s)"
   ]
  },
  {
   "cell_type": "code",
   "execution_count": 7,
   "metadata": {},
   "outputs": [
    {
     "name": "stdout",
     "output_type": "stream",
     "text": [
      "AAA\n",
      "AAA\n",
      "AAA\n",
      "AAA\n",
      "AAA\n",
      "AAA\n",
      "BBBB\n",
      "BBBB\n",
      "BBBB\n",
      "BBBB\n",
      "BBBB\n",
      "E\n",
      "TTTTT\n",
      "TTTTT\n",
      "TTTTT\n",
      "TTTTT\n",
      "TTTTT\n",
      "TTTTT\n",
      "TTTTT\n",
      "TTTTT\n",
      "TTTTT\n",
      "G\n"
     ]
    }
   ],
   "source": [
    "\n",
    "for i in range(6):\n",
    "    print('AAA')\n",
    "for i in range(5):\n",
    "    print('BBBB')\n",
    "print('E')\n",
    "for i in range(9):\n",
    "    print('TTTTT')\n",
    "print('G')"
   ]
  },
  {
   "cell_type": "code",
   "execution_count": 8,
   "metadata": {},
   "outputs": [
    {
     "name": "stdout",
     "output_type": "stream",
     "text": [
      "*******************\n",
      "*******************\n"
     ]
    }
   ],
   "source": [
    "n = int(input())\n",
    "for i in range(n):\n",
    "    print('*'*19)"
   ]
  },
  {
   "cell_type": "code",
   "execution_count": 9,
   "metadata": {},
   "outputs": [
    {
     "name": "stdout",
     "output_type": "stream",
     "text": [
      "0 -- Привет\n",
      "1 -- Привет\n",
      "2 -- Привет\n",
      "3 -- Привет\n",
      "4 -- Привет\n",
      "5 -- Привет\n",
      "6 -- Привет\n",
      "7 -- Привет\n",
      "8 -- Привет\n",
      "9 -- Привет\n"
     ]
    }
   ],
   "source": [
    "for i in range(10):\n",
    "    print(i, '-- Привет')"
   ]
  },
  {
   "cell_type": "code",
   "execution_count": 10,
   "metadata": {},
   "outputs": [
    {
     "name": "stdout",
     "output_type": "stream",
     "text": [
      "1 -- Привет\n",
      "2 -- Привет\n",
      "3 -- Привет\n",
      "4 -- Привет\n",
      "5 -- Привет\n",
      "6 -- Привет\n",
      "7 -- Привет\n",
      "8 -- Привет\n",
      "9 -- Привет\n",
      "10 -- Привет\n"
     ]
    }
   ],
   "source": [
    "for i in range(10):\n",
    "    print(i + 1, '-- Привет')"
   ]
  },
  {
   "cell_type": "code",
   "execution_count": 11,
   "metadata": {},
   "outputs": [
    {
     "name": "stdout",
     "output_type": "stream",
     "text": [
      "0\n",
      "1\n",
      "2\n",
      "3\n",
      "4\n",
      "5\n",
      "6\n",
      "7\n",
      "8\n",
      "9\n"
     ]
    }
   ],
   "source": [
    "for number in range(10):\n",
    "    print(number)"
   ]
  },
  {
   "cell_type": "code",
   "execution_count": 12,
   "metadata": {},
   "outputs": [
    {
     "name": "stdout",
     "output_type": "stream",
     "text": [
      "0 sdfgfg\n",
      "1 sdfgfg\n",
      "2 sdfgfg\n",
      "3 sdfgfg\n",
      "4 sdfgfg\n",
      "5 sdfgfg\n",
      "6 sdfgfg\n",
      "7 sdfgfg\n",
      "8 sdfgfg\n",
      "9 sdfgfg\n"
     ]
    }
   ],
   "source": [
    "s = str(input())\n",
    "for i in range(10):\n",
    "    print(i, s)"
   ]
  },
  {
   "cell_type": "code",
   "execution_count": 16,
   "metadata": {},
   "outputs": [
    {
     "name": "stdout",
     "output_type": "stream",
     "text": [
      "Квадрат числа 0 равен 0\n",
      "Квадрат числа 1 равен 1\n",
      "Квадрат числа 2 равен 4\n",
      "Квадрат числа 3 равен 9\n",
      "Квадрат числа 4 равен 16\n",
      "Квадрат числа 5 равен 25\n",
      "Квадрат числа 6 равен 36\n",
      "Квадрат числа 7 равен 49\n",
      "Квадрат числа 8 равен 64\n",
      "Квадрат числа 9 равен 81\n"
     ]
    }
   ],
   "source": [
    "n = int(input())\n",
    "for i in range(n+1):\n",
    "    print('Квадрат числа', i, 'равен', i**2)"
   ]
  },
  {
   "cell_type": "code",
   "execution_count": 18,
   "metadata": {},
   "outputs": [
    {
     "name": "stdout",
     "output_type": "stream",
     "text": [
      "***\n",
      "**\n",
      "*\n",
      "\n"
     ]
    }
   ],
   "source": [
    "n = int(input())\n",
    "for i in range(n+1):\n",
    "    print((n-i)*'*')"
   ]
  },
  {
   "cell_type": "code",
   "execution_count": 26,
   "metadata": {},
   "outputs": [
    {
     "name": "stdout",
     "output_type": "stream",
     "text": [
      "1 10.0\n",
      "2 15.0\n",
      "3 22.5\n",
      "4 33.75\n",
      "5 50.625\n",
      "6 75.9375\n"
     ]
    }
   ],
   "source": [
    "# m: стартовое количество организмов;\n",
    "# p: среднесуточное увеличение в %;\n",
    "# n: количество дней для размножения.\n",
    "\n",
    "# Напишите программу, которая предсказывает размер популяции организмов. \n",
    "# Программа должна выводить размер популяции в каждый день, \n",
    "# начиная с 1 и заканчивая n-м днем.\n",
    "\n",
    "m = int(input())\n",
    "p = int(input())\n",
    "n = int(input())\n",
    "\n",
    "for i in range(n):\n",
    "    s = m * (p/100 + 1) ** i\n",
    "    print(i+1, s)"
   ]
  },
  {
   "cell_type": "code",
   "execution_count": 27,
   "metadata": {},
   "outputs": [
    {
     "name": "stdout",
     "output_type": "stream",
     "text": [
      "56\n",
      "58\n",
      "60\n",
      "62\n",
      "64\n",
      "66\n",
      "68\n",
      "70\n",
      "72\n",
      "74\n",
      "76\n",
      "78\n",
      "80\n",
      "82\n",
      "84\n",
      "86\n",
      "88\n",
      "90\n",
      "92\n",
      "94\n",
      "96\n",
      "98\n",
      "100\n",
      "102\n",
      "104\n",
      "106\n",
      "108\n",
      "110\n",
      "112\n",
      "114\n",
      "116\n",
      "118\n",
      "120\n",
      "122\n",
      "124\n",
      "126\n",
      "128\n",
      "130\n",
      "132\n",
      "134\n",
      "136\n",
      "138\n",
      "140\n",
      "142\n",
      "144\n",
      "146\n",
      "148\n",
      "150\n",
      "152\n",
      "154\n",
      "156\n",
      "158\n",
      "160\n",
      "162\n",
      "164\n",
      "166\n",
      "168\n",
      "170\n"
     ]
    }
   ],
   "source": [
    "for i in range(56, 171, 2):\n",
    "    print(i)"
   ]
  },
  {
   "cell_type": "code",
   "execution_count": 28,
   "metadata": {},
   "outputs": [
    {
     "name": "stdout",
     "output_type": "stream",
     "text": [
      "5 4 3 2 1 Взлетаем!!!\n"
     ]
    }
   ],
   "source": [
    "for i in range(5, 0, -1):\n",
    "    print(i, end=' ')\n",
    "print('Взлетаем!!!')"
   ]
  },
  {
   "cell_type": "code",
   "execution_count": 1,
   "metadata": {},
   "outputs": [
    {
     "name": "stdout",
     "output_type": "stream",
     "text": [
      "Python rocks!\n",
      "Python rocks!\n",
      "Python rocks!\n",
      "Python rocks!\n",
      "Python rocks!\n"
     ]
    }
   ],
   "source": [
    "for _ in range(1, 6):\n",
    "   print('Python rocks!')"
   ]
  },
  {
   "cell_type": "code",
   "execution_count": 17,
   "metadata": {},
   "outputs": [
    {
     "name": "stdout",
     "output_type": "stream",
     "text": [
      "1\n",
      "2\n",
      "3\n",
      "4\n",
      "5\n",
      "6\n",
      "7\n",
      "8\n",
      "9\n"
     ]
    }
   ],
   "source": [
    "m = int(input())\n",
    "n = int(input())\n",
    "for i in range(m, n+1):\n",
    "    print(i)"
   ]
  },
  {
   "cell_type": "code",
   "execution_count": 26,
   "metadata": {},
   "outputs": [
    {
     "name": "stdout",
     "output_type": "stream",
     "text": [
      "100\n"
     ]
    }
   ],
   "source": [
    "m = int(input())\n",
    "n = int(input())\n",
    "\n",
    "if(m<n):  \n",
    "    for i in range(m, n+1):\n",
    "        print(i)\n",
    "else:\n",
    "    for i in range(m, n-1, -1):\n",
    "        print(i)"
   ]
  },
  {
   "cell_type": "code",
   "execution_count": 37,
   "metadata": {},
   "outputs": [
    {
     "name": "stdout",
     "output_type": "stream",
     "text": [
      "65\n",
      "63\n",
      "61\n",
      "59\n",
      "57\n",
      "55\n",
      "53\n",
      "51\n",
      "49\n",
      "47\n",
      "45\n",
      "43\n",
      "41\n",
      "39\n",
      "37\n",
      "35\n",
      "33\n",
      "31\n",
      "29\n",
      "27\n",
      "25\n"
     ]
    }
   ],
   "source": [
    "# Даны два целых числа m и n (m>n). \n",
    "# Напишите программу, которая выводит все нечетные числа от m до n включительно в порядке убывания.\n",
    "\n",
    "m = int(input())\n",
    "n = int(input())\n",
    "\n",
    "for i in range(m%2-1 + m, n-1, -2):\n",
    "        print(i)\n"
   ]
  },
  {
   "cell_type": "code",
   "execution_count": 42,
   "metadata": {},
   "outputs": [
    {
     "name": "stdout",
     "output_type": "stream",
     "text": [
      "19\n"
     ]
    }
   ],
   "source": [
    "m = int(input())\n",
    "n = int(input())\n",
    "# m<=n\n",
    "\n",
    "for i in range(m, n+1, 1):\n",
    "    if(i%17==0 or i%10==9 or (i%5==0 and i%3==0)):\n",
    "        print(i)\n"
   ]
  },
  {
   "cell_type": "code",
   "execution_count": 45,
   "metadata": {},
   "outputs": [
    {
     "name": "stdout",
     "output_type": "stream",
     "text": [
      "4 x 1 = 4\n",
      "4 x 2 = 8\n",
      "4 x 3 = 12\n",
      "4 x 4 = 16\n",
      "4 x 5 = 20\n",
      "4 x 6 = 24\n",
      "4 x 7 = 28\n",
      "4 x 8 = 32\n",
      "4 x 9 = 36\n",
      "4 x 10 = 40\n"
     ]
    }
   ],
   "source": [
    "n = int(input())\n",
    "\n",
    "for i in range (1, 11):\n",
    "    print(n, 'x', i, '=', n*i)"
   ]
  },
  {
   "cell_type": "code",
   "execution_count": 47,
   "metadata": {},
   "outputs": [
    {
     "ename": "ValueError",
     "evalue": "invalid literal for int() with base 10: ''",
     "output_type": "error",
     "traceback": [
      "\u001b[1;31m---------------------------------------------------------------------------\u001b[0m",
      "\u001b[1;31mValueError\u001b[0m                                Traceback (most recent call last)",
      "Cell \u001b[1;32mIn[47], line 3\u001b[0m\n\u001b[0;32m      1\u001b[0m counter \u001b[39m=\u001b[39m \u001b[39m0\u001b[39m\n\u001b[0;32m      2\u001b[0m \u001b[39mfor\u001b[39;00m _ \u001b[39min\u001b[39;00m \u001b[39mrange\u001b[39m(\u001b[39m10\u001b[39m):\n\u001b[1;32m----> 3\u001b[0m     num \u001b[39m=\u001b[39m \u001b[39mint\u001b[39;49m(\u001b[39minput\u001b[39;49m())\n\u001b[0;32m      4\u001b[0m     \u001b[39mif\u001b[39;00m num \u001b[39m>\u001b[39m \u001b[39m10\u001b[39m:\n\u001b[0;32m      5\u001b[0m         counter \u001b[39m=\u001b[39m counter \u001b[39m+\u001b[39m \u001b[39m1\u001b[39m\n",
      "\u001b[1;31mValueError\u001b[0m: invalid literal for int() with base 10: ''"
     ]
    }
   ],
   "source": [
    "counter = 0\n",
    "for _ in range(10):\n",
    "    num = int(input())\n",
    "    if num > 10:\n",
    "        counter = counter + 1\n",
    "print('Было введено', counter, 'чисел, больших 10.')"
   ]
  },
  {
   "cell_type": "code",
   "execution_count": 48,
   "metadata": {},
   "outputs": [
    {
     "name": "stdout",
     "output_type": "stream",
     "text": [
      "20\n"
     ]
    }
   ],
   "source": [
    "# Рассмотрим еще один пример: подсчитать количество чисел из диапазона 1-100 квадрат которых оканчивается на 4\n",
    "counter = 0\n",
    "for i in range(1, 101):\n",
    "    if i**2 % 10 == 4:\n",
    "        counter = counter + 1\n",
    "print(counter)"
   ]
  },
  {
   "cell_type": "code",
   "execution_count": 49,
   "metadata": {},
   "outputs": [
    {
     "name": "stdout",
     "output_type": "stream",
     "text": [
      "Сумма равна 5050\n"
     ]
    }
   ],
   "source": [
    "total = 0\n",
    "for i in range(1, 101):\n",
    "    total = total + i\n",
    "print('Сумма равна', total)"
   ]
  },
  {
   "cell_type": "code",
   "execution_count": 51,
   "metadata": {},
   "outputs": [
    {
     "name": "stdout",
     "output_type": "stream",
     "text": [
      "Среднее значение равно 738.3\n"
     ]
    }
   ],
   "source": [
    "total = 0\n",
    "for _ in range(10):\n",
    "    num = int(input())\n",
    "    total = total + num\n",
    "average = total / 10\n",
    "print('Среднее значение равно', average)"
   ]
  },
  {
   "cell_type": "code",
   "execution_count": 53,
   "metadata": {},
   "outputs": [
    {
     "name": "stdout",
     "output_type": "stream",
     "text": [
      "Число составное\n"
     ]
    }
   ],
   "source": [
    "# Напишем программу, определяющую, что натуральное число является простым:\n",
    "\n",
    "num = int(input())\n",
    "flag = True\n",
    "\n",
    "for i in range(2, num):\n",
    "    if num % i == 0:        #  если исходное число делится на какое-либо отличное от 1 и самого себя\n",
    "        flag = False\n",
    "\n",
    "if num == 1:\n",
    "    print('Это единица, она не простая и не составная') \n",
    "elif flag == True:\n",
    "    print('Число простое')\n",
    "else:\n",
    "    print('Число составное')"
   ]
  },
  {
   "cell_type": "code",
   "execution_count": 54,
   "metadata": {},
   "outputs": [
    {
     "name": "stdout",
     "output_type": "stream",
     "text": [
      "Наибольшее число равно 88\n"
     ]
    }
   ],
   "source": [
    "largest = -1\n",
    "for _ in range(5):\n",
    "    num = int(input())    \n",
    "    if num > largest:\n",
    "        largest = num\n",
    "print('Наибольшее число равно', largest) "
   ]
  },
  {
   "cell_type": "code",
   "execution_count": 55,
   "metadata": {},
   "outputs": [
    {
     "ename": "ValueError",
     "evalue": "invalid literal for int() with base 10: ''",
     "output_type": "error",
     "traceback": [
      "\u001b[1;31m---------------------------------------------------------------------------\u001b[0m",
      "\u001b[1;31mValueError\u001b[0m                                Traceback (most recent call last)",
      "Cell \u001b[1;32mIn[55], line 3\u001b[0m\n\u001b[0;32m      1\u001b[0m largest \u001b[39m=\u001b[39m \u001b[39mint\u001b[39m(\u001b[39minput\u001b[39m())  \u001b[39m# принимаем первое число за максимальное\u001b[39;00m\n\u001b[0;32m      2\u001b[0m \u001b[39mfor\u001b[39;00m _ \u001b[39min\u001b[39;00m \u001b[39mrange\u001b[39m(\u001b[39m9\u001b[39m):\n\u001b[1;32m----> 3\u001b[0m     num \u001b[39m=\u001b[39m \u001b[39mint\u001b[39;49m(\u001b[39minput\u001b[39;49m())\n\u001b[0;32m      4\u001b[0m     \u001b[39mif\u001b[39;00m num \u001b[39m>\u001b[39m largest:\n\u001b[0;32m      5\u001b[0m         largest \u001b[39m=\u001b[39m num\n",
      "\u001b[1;31mValueError\u001b[0m: invalid literal for int() with base 10: ''"
     ]
    }
   ],
   "source": [
    "largest = int(input())  # принимаем первое число за максимальное\n",
    "for _ in range(9):\n",
    "    num = int(input())\n",
    "    if num > largest:\n",
    "        largest = num\n",
    "print('Наибольшее число равно', largest) "
   ]
  },
  {
   "cell_type": "code",
   "execution_count": 57,
   "metadata": {},
   "outputs": [
    {
     "name": "stdout",
     "output_type": "stream",
     "text": [
      "15\n"
     ]
    }
   ],
   "source": [
    "total = 0\n",
    "for i in range(1, 6):\n",
    "    total += i\n",
    "print(total)"
   ]
  },
  {
   "cell_type": "code",
   "execution_count": 58,
   "metadata": {},
   "outputs": [
    {
     "name": "stdout",
     "output_type": "stream",
     "text": [
      "1361015"
     ]
    }
   ],
   "source": [
    "total = 0\n",
    "for i in range(1, 6):\n",
    "    total += i\n",
    "    print(total, end=\"\")"
   ]
  },
  {
   "cell_type": "code",
   "execution_count": 65,
   "metadata": {},
   "outputs": [
    {
     "name": "stdout",
     "output_type": "stream",
     "text": [
      "355\n"
     ]
    }
   ],
   "source": [
    "# На вход программе подаются два целых числа a,b (a<=b)\n",
    "# Напишите программу, которая подсчитывает количество чисел в диапазоне [a,b],\n",
    "# куб которых оканчивается на 4 или 9\n",
    "\n",
    "a = int(input())\n",
    "b = int(input())\n",
    "# a <= b\n",
    "count = 0\n",
    "for i in range (a, b+1):\n",
    "    if((i**3)%10==4 or (i**3)%10==9):\n",
    "        count += 1\n",
    "print(count)"
   ]
  },
  {
   "cell_type": "code",
   "execution_count": 68,
   "metadata": {},
   "outputs": [
    {
     "name": "stdout",
     "output_type": "stream",
     "text": [
      "21\n"
     ]
    }
   ],
   "source": [
    "n = int(input())\n",
    "sum = 0\n",
    "for i in range(n):\n",
    "    temp = int(input())\n",
    "    sum = sum + temp\n",
    "print(sum)"
   ]
  },
  {
   "cell_type": "code",
   "execution_count": 84,
   "metadata": {},
   "outputs": [
    {
     "name": "stdout",
     "output_type": "stream",
     "text": [
      "0.5822073316515288\n"
     ]
    }
   ],
   "source": [
    "from math import *\n",
    "n = int(input())\n",
    "sum = 0\n",
    "for i in range(n):\n",
    "    sum = sum + 1/(i+1)\n",
    "    #print(i, 1/(i+1))\n",
    "print(sum - log(n))"
   ]
  },
  {
   "cell_type": "code",
   "execution_count": 87,
   "metadata": {},
   "outputs": [
    {
     "name": "stdout",
     "output_type": "stream",
     "text": [
      "198005\n"
     ]
    }
   ],
   "source": [
    "# На вход программе подается натуральное число n. \n",
    "# Напишите программу, которая подсчитывает сумму тех чисел [1,n]\n",
    "# квадрат которых оканчивается на 2, 5 или 8.\n",
    "\n",
    "n = int(input())\n",
    "sum = 0\n",
    "for i in range (n):\n",
    "    if((i**2)%10==2 or (i**2)%10==5 or (i**2)%10==8):\n",
    "        sum += i\n",
    "print(sum)"
   ]
  },
  {
   "cell_type": "code",
   "execution_count": 93,
   "metadata": {},
   "outputs": [
    {
     "name": "stdout",
     "output_type": "stream",
     "text": [
      "24\n"
     ]
    }
   ],
   "source": [
    "n = int(input())\n",
    "fact = 1\n",
    "for i in range (n):\n",
    "        fact *= i+1\n",
    "print(fact)"
   ]
  },
  {
   "cell_type": "code",
   "execution_count": 94,
   "metadata": {},
   "outputs": [
    {
     "name": "stdout",
     "output_type": "stream",
     "text": [
      "3628800\n"
     ]
    }
   ],
   "source": [
    "s = 1\n",
    "for i in range(10):\n",
    "    x = int(input())\n",
    "    if(x!=0):\n",
    "        s = s*x\n",
    "print(s)"
   ]
  },
  {
   "cell_type": "code",
   "execution_count": 102,
   "metadata": {},
   "outputs": [
    {
     "name": "stdout",
     "output_type": "stream",
     "text": [
      "1\n",
      "3\n",
      "4\n"
     ]
    }
   ],
   "source": [
    "# На вход программе подается натуральное число n. \n",
    "# Напишите программу, которая вычисляет сумму всех его делителей.\n",
    "\n",
    "sum = 0\n",
    "n = int(input())\n",
    "for i in range(n+1):\n",
    "    if(i!=0):\n",
    "        if(n%i==0):\n",
    "            sum = sum + i\n",
    "            \n",
    "print(sum)"
   ]
  },
  {
   "cell_type": "code",
   "execution_count": 110,
   "metadata": {},
   "outputs": [
    {
     "name": "stdout",
     "output_type": "stream",
     "text": [
      "3\n"
     ]
    }
   ],
   "source": [
    "#вычисление знакочередующейся суммы\n",
    "\n",
    "sum = 0\n",
    "n = int(input())\n",
    "for i in range(n):\n",
    "    sum = sum + (i+1)*(-1)**(i+2)\n",
    "    #print(i, sum)\n",
    "print(sum)"
   ]
  },
  {
   "cell_type": "code",
   "execution_count": 118,
   "metadata": {},
   "outputs": [
    {
     "name": "stdout",
     "output_type": "stream",
     "text": [
      "18\n",
      "12\n"
     ]
    }
   ],
   "source": [
    "# На вход программе подается натуральное число n, \n",
    "# а затем n различных натуральных чисел последовательности, \n",
    "# каждое на отдельной строке. \n",
    "# Напишите программу, которая выводит наибольшее и второе наибольшее число последовательности.\n",
    "\n",
    "n = int(input())\n",
    "first = -1\n",
    "second = -2\n",
    "\n",
    "for i in range(n):\n",
    "    x = int(input())\n",
    "    if(x>first):\n",
    "        second = first\n",
    "        first = x\n",
    "    elif(x>second):\n",
    "        second = x\n",
    "print(first, second, sep='\\n')\n"
   ]
  },
  {
   "cell_type": "code",
   "execution_count": 121,
   "metadata": {},
   "outputs": [
    {
     "name": "stdout",
     "output_type": "stream",
     "text": [
      "2 1\n",
      "4 1\n",
      "10 1\n",
      "5 0\n",
      "2 0\n",
      "4 0\n",
      "8 0\n",
      "7 0\n",
      "7 0\n",
      "8 0\n"
     ]
    }
   ],
   "source": [
    "count = 1\n",
    "for i in range(10):\n",
    "    x = int(input())\n",
    "    if(x%2!=0):\n",
    "        count = count * 0\n",
    "    else:\n",
    "        count = count * 1\n",
    "        \n",
    "if(count==0):\n",
    "    print('NO')\n",
    "else:\n",
    "    print('YES')"
   ]
  },
  {
   "cell_type": "code",
   "execution_count": 145,
   "metadata": {},
   "outputs": [
    {
     "name": "stdout",
     "output_type": "stream",
     "text": [
      "1 1 2 "
     ]
    }
   ],
   "source": [
    "n = int(input())\n",
    "first = 1\n",
    "second = 1\n",
    "if(n==1):\n",
    "    print(1)\n",
    "for i in range(n-1):\n",
    "    if(i==0):\n",
    "        print(1, 1, end=' ')\n",
    "    else:\n",
    "        first, second = second, first + second\n",
    "        print(second, end=' ')"
   ]
  }
 ],
 "metadata": {
  "kernelspec": {
   "display_name": "Python 3",
   "language": "python",
   "name": "python3"
  },
  "language_info": {
   "codemirror_mode": {
    "name": "ipython",
    "version": 3
   },
   "file_extension": ".py",
   "mimetype": "text/x-python",
   "name": "python",
   "nbconvert_exporter": "python",
   "pygments_lexer": "ipython3",
   "version": "3.11.4"
  },
  "orig_nbformat": 4
 },
 "nbformat": 4,
 "nbformat_minor": 2
}
