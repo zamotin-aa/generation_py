{
 "cells": [
  {
   "cell_type": "code",
   "execution_count": 1,
   "metadata": {},
   "outputs": [
    {
     "name": "stdout",
     "output_type": "stream",
     "text": [
      "Число составное\n"
     ]
    }
   ],
   "source": [
    "num = int(input())\n",
    "flag = True\n",
    "\n",
    "for i in range(2, num):\n",
    "    if num % i == 0:        #  если исходное число делится на какое-либо отличное от 1 и самого себя\n",
    "        flag = False\n",
    "        break               # останавливаем цикл если встретили делитель числа        \n",
    "\n",
    "if flag:  # эквивалентно if flag == True:\n",
    "    print('Число простое')\n",
    "else:\n",
    "    print('Число составное')"
   ]
  },
  {
   "cell_type": "code",
   "execution_count": 2,
   "metadata": {},
   "outputs": [
    {
     "name": "stdout",
     "output_type": "stream",
     "text": [
      "5\n"
     ]
    }
   ],
   "source": [
    "result = 0\n",
    "for i in range(10):\n",
    "    num = int(input())\n",
    "    if num < 0:\n",
    "        break\n",
    "    result += num\n",
    "print(result)"
   ]
  },
  {
   "cell_type": "code",
   "execution_count": 3,
   "metadata": {},
   "outputs": [
    {
     "name": "stdout",
     "output_type": "stream",
     "text": [
      "Число 12547 содержит цифру 7\n"
     ]
    }
   ],
   "source": [
    "num = int(input())\n",
    "number = num\n",
    "flag = False\n",
    "while num != 0:\n",
    "    last_digit = num % 10\n",
    "    if last_digit == 7:\n",
    "        flag = True\n",
    "        break        # прерываем цикл, так как число гарантированно содержит цифру 7\n",
    "    num //= 10\n",
    "\n",
    "if flag:  # эквивалентно if flag == True:\n",
    "    print('Число', number, 'содержит цифру 7')\n",
    "else:\n",
    "    print('Число', number, 'не содержит цифру 7')"
   ]
  },
  {
   "cell_type": "code",
   "execution_count": null,
   "metadata": {},
   "outputs": [],
   "source": [
    "# пример для остановки цикла\n",
    "\n",
    "\n",
    "while True:\n",
    "    if условие 1:  # условие для остановки цикла\n",
    "        break\n",
    "    ...\n",
    "    if условие 2:  # еще одно условие для остановки цикла\n",
    "        break\n",
    "    ...\n",
    "    if условие 3:  # еще одно условие для остановки цикла\n",
    "        break"
   ]
  },
  {
   "cell_type": "code",
   "execution_count": null,
   "metadata": {},
   "outputs": [],
   "source": [
    "# Напишем программу, которая выводит все числа от 1 до 100, кроме чисел 7, 17, 29 и 78.\n",
    "for i in range(1, 101):\n",
    "    if i == 7 or i == 17 or i == 29 or i == 78:\n",
    "        continue  # переходим на следующую итерацию\n",
    "    print(i)"
   ]
  },
  {
   "cell_type": "code",
   "execution_count": 4,
   "metadata": {},
   "outputs": [
    {
     "name": "stdout",
     "output_type": "stream",
     "text": [
      "0*1*2*3*4*5*6*7*"
     ]
    }
   ],
   "source": [
    "for i in range(10):\n",
    "    print(i, end='*')\n",
    "    if i > 6:\n",
    "        break"
   ]
  },
  {
   "cell_type": "code",
   "execution_count": 5,
   "metadata": {},
   "outputs": [
    {
     "name": "stdout",
     "output_type": "stream",
     "text": [
      "100*80*60*"
     ]
    }
   ],
   "source": [
    "i = 100\n",
    "while i > 0:\n",
    "    if i == 40:\n",
    "        break\n",
    "    print(i, end='*')\n",
    "    i -= 20"
   ]
  },
  {
   "cell_type": "code",
   "execution_count": 6,
   "metadata": {},
   "outputs": [
    {
     "name": "stdout",
     "output_type": "stream",
     "text": [
      "9*8*7*6*5*4*3*1*0*"
     ]
    }
   ],
   "source": [
    "n = 10\n",
    "while n > 0:\n",
    "    n -= 1\n",
    "    if n == 2:\n",
    "        continue\n",
    "    print(n, end='*')"
   ]
  },
  {
   "cell_type": "code",
   "execution_count": 7,
   "metadata": {},
   "outputs": [
    {
     "name": "stdout",
     "output_type": "stream",
     "text": [
      "25\n"
     ]
    }
   ],
   "source": [
    "result = 0\n",
    "for i in range(10):\n",
    "    if i % 2 == 0:\n",
    "        continue\n",
    "    result += i\n",
    "print(result)"
   ]
  },
  {
   "cell_type": "code",
   "execution_count": 8,
   "metadata": {},
   "outputs": [
    {
     "name": "stdout",
     "output_type": "stream",
     "text": [
      "105\n"
     ]
    }
   ],
   "source": [
    "mult = 1\n",
    "for i in range(1, 11):\n",
    "   if i % 2 == 0:\n",
    "      continue\n",
    "   if i % 9 == 0:\n",
    "      break\n",
    "   mult *= i\n",
    "print(mult)"
   ]
  },
  {
   "cell_type": "code",
   "execution_count": 14,
   "metadata": {},
   "outputs": [
    {
     "name": "stdout",
     "output_type": "stream",
     "text": [
      "17\n"
     ]
    }
   ],
   "source": [
    "num = int(input())\n",
    "for i in range(num+1):\n",
    "    if i<=1:\n",
    "        continue\n",
    "    else:\n",
    "        if(num%i==0):\n",
    "            print(i)\n",
    "            break"
   ]
  },
  {
   "cell_type": "code",
   "execution_count": 22,
   "metadata": {},
   "outputs": [
    {
     "name": "stdout",
     "output_type": "stream",
     "text": [
      "1\n",
      "2\n",
      "3\n",
      "4\n",
      "10\n"
     ]
    }
   ],
   "source": [
    "\n",
    "num = int(input())\n",
    "\n",
    "for i in range(1, num+1):\n",
    "    if i >= 5 and i <= 9:\n",
    "        continue\n",
    "    elif i >= 17 and i <= 37:\n",
    "        continue\n",
    "    elif i >= 78 and i <= 87:\n",
    "        continue\n",
    "    print(i)"
   ]
  },
  {
   "cell_type": "code",
   "execution_count": 23,
   "metadata": {},
   "outputs": [
    {
     "name": "stdout",
     "output_type": "stream",
     "text": [
      "Число 42324 не содержит цифру 7\n"
     ]
    }
   ],
   "source": [
    "num = int(input())\n",
    "n = num\n",
    "while n != 0:\n",
    "    last = n % 10\n",
    "    if last == 7:\n",
    "        print('Число', num, 'содержит цифру 7')\n",
    "        break\n",
    "    n //= 10\n",
    "else:\n",
    "    print('Число', num, 'не содержит цифру 7')"
   ]
  },
  {
   "cell_type": "code",
   "execution_count": null,
   "metadata": {},
   "outputs": [],
   "source": [
    "while условие:\n",
    "    блок кода1\n",
    "else:\n",
    "    блок кода2\n",
    "\n",
    "# или\n",
    "\n",
    "for i in range(10):\n",
    "    блок кода1\n",
    "else:\n",
    "    блок кода2"
   ]
  },
  {
   "cell_type": "code",
   "execution_count": 24,
   "metadata": {},
   "outputs": [
    {
     "name": "stdout",
     "output_type": "stream",
     "text": [
      "2\n",
      "4\n",
      "6\n",
      "8\n",
      "10\n",
      "Цикл завершен.\n"
     ]
    }
   ],
   "source": [
    "# Будет ли выполнен блок кода else, в приведенном ниже фрагменте кода?\n",
    "\n",
    "n = 0\n",
    "while n < 10:\n",
    "    n += 2\n",
    "    print(n)\n",
    "else:\n",
    "    print('Цикл завершен.')"
   ]
  },
  {
   "cell_type": "code",
   "execution_count": 25,
   "metadata": {},
   "outputs": [
    {
     "name": "stdout",
     "output_type": "stream",
     "text": [
      "2\n",
      "4\n",
      "6\n"
     ]
    }
   ],
   "source": [
    "n = 0\n",
    "while n < 10:\n",
    "    n += 2\n",
    "    if n == 8:\n",
    "        break\n",
    "    print(n)\n",
    "else:\n",
    "    print('Цикл завершен.')"
   ]
  },
  {
   "cell_type": "code",
   "execution_count": 26,
   "metadata": {},
   "outputs": [
    {
     "name": "stdout",
     "output_type": "stream",
     "text": [
      "2\n",
      "4\n",
      "6\n",
      "8\n",
      "10\n",
      "Цикл завершен.\n"
     ]
    }
   ],
   "source": [
    "n = 0\n",
    "while n < 10:\n",
    "    n += 2\n",
    "    if n == 7:\n",
    "        break\n",
    "    print(n)\n",
    "else:\n",
    "    print('Цикл завершен.')"
   ]
  },
  {
   "cell_type": "code",
   "execution_count": 28,
   "metadata": {},
   "outputs": [
    {
     "name": "stdout",
     "output_type": "stream",
     "text": [
      "9\n",
      "0\n"
     ]
    }
   ],
   "source": [
    "count = 0\n",
    "p = 1 #первая ошибка\n",
    "for i in range(1, 11):  #10 поправил на 11\n",
    "    x = int(input())\n",
    "    if x >= 0: #вместо > поставил >=\n",
    "        p = p * x\n",
    "        count = count + 1\n",
    "if count > 0:\n",
    "    print(count)  #поменял на count\n",
    "    print(p)\n",
    "else:\n",
    "    print('NO')"
   ]
  },
  {
   "cell_type": "code",
   "execution_count": 33,
   "metadata": {},
   "outputs": [
    {
     "name": "stdout",
     "output_type": "stream",
     "text": [
      "-24\n",
      "-7\n"
     ]
    }
   ],
   "source": [
    "# 5 ошибок\n",
    "# Нужно написать программу, которая выводит на экран сумму всех отрицательных \n",
    "# чисел последовательности и максимальное отрицательное число в последовательности.\n",
    "\n",
    "# 1) ms присваиваем минимально возможному числу\n",
    "# 2) Обратите внимание на границу цикла range\n",
    "# 3) Сумма отрицательных чисел равна переменной суммы плюс все отрицательные числа \n",
    "# 4) Обратим внимание на условия максимально возможного числа ms \n",
    "# (x должно быть больше ms и x должен быть меньше нуля)\n",
    "# 5) Создаём условие при котором s < 0:\n",
    "#                 Выводим сумму отрицательных чисел \n",
    "#                 Выводим максимально возможное минимальное число\n",
    "# А иначе выводим ответ \"NO\"\n",
    "\n",
    "mx = -100000 #поправил, было 0\n",
    "s = 0\n",
    "for i in range(1, 11): #поправил, было range(11)\n",
    "    x = int(input())\n",
    "    if x < 0:\n",
    "        s = s + x  # поправил, было s = x\n",
    "        if (x >= mx): #поправил, было >\n",
    "            mx = x\n",
    "if (s == 0): #дописал условие что нет отрицательных чисел\n",
    "    print('NO')\n",
    "else:\n",
    "    print(s)\n",
    "    print(mx)"
   ]
  },
  {
   "cell_type": "code",
   "execution_count": 38,
   "metadata": {},
   "outputs": [
    {
     "name": "stdout",
     "output_type": "stream",
     "text": [
      "20\n"
     ]
    }
   ],
   "source": [
    "# На обработку поступает последовательность из 7 целых чисел. \n",
    "# Известно, что вводимые числа по абсолютной величине не превышают 100000\n",
    "# Нужно написать программу, которая подсчитывает и выводит сумму всех чётных чисел последовательности или 0\n",
    "# если чётных чисел в последовательности нет\n",
    "\n",
    "#4 ошибки\n",
    "\n",
    "s = 0  # поправил, было 1\n",
    "count = 0 #добавил счетчик\n",
    "for i in range(1, 8): #поправил, было 7\n",
    "    n = int(input())  # поправил, не был задан тип данных\n",
    "    if n % 2 == 0: \n",
    "        s = s + n\n",
    "        count +=1 #добавил счетчик\n",
    "if (count > 0):\n",
    "    print(s)\n",
    "else:\n",
    "    print(0)"
   ]
  },
  {
   "cell_type": "code",
   "execution_count": 46,
   "metadata": {},
   "outputs": [
    {
     "name": "stdout",
     "output_type": "stream",
     "text": [
      "9\n"
     ]
    }
   ],
   "source": [
    "# На обработку поступает натуральное число. \n",
    "# Нужно написать программу, которая выводит на экран максимальную цифру числа, кратную 3\n",
    "# Если в числе нет цифр, кратных 3, требуется на экран вывести «NO»\n",
    "\n",
    "# 5 ошибок\n",
    "\n",
    "n = int(input())\n",
    "max_digit = -1 #поправил условие\n",
    "while n != 0:  #поправил условие\n",
    "    digit = n % 10\n",
    "    if digit % 3 == 0 and digit > max_digit: #поправил условие\n",
    "            max_digit = digit #перевернул условие\n",
    "    n = n // 10 #поправил деление\n",
    "if max_digit == -1: #поправил условие\n",
    "    print('NO')\n",
    "else:\n",
    "    print(max_digit)"
   ]
  },
  {
   "cell_type": "code",
   "execution_count": 52,
   "metadata": {},
   "outputs": [
    {
     "name": "stdout",
     "output_type": "stream",
     "text": [
      "5\n"
     ]
    },
    {
     "data": {
      "text/plain": [
       "0"
      ]
     },
     "execution_count": 52,
     "metadata": {},
     "output_type": "execute_result"
    }
   ],
   "source": [
    "n = int(input())\n",
    "while n > 9:  #\n",
    "    n //= 10 #\n",
    "print(n)\n",
    "\n",
    "\n",
    "5//10"
   ]
  },
  {
   "cell_type": "code",
   "execution_count": 69,
   "metadata": {},
   "outputs": [
    {
     "name": "stdout",
     "output_type": "stream",
     "text": [
      "18\n"
     ]
    }
   ],
   "source": [
    "# три ошибки\n",
    "\n",
    "n = int(input()) #\n",
    "product = 1\n",
    "while n > 0: #\n",
    "    digit = n % 10\n",
    "    product = product * digit\n",
    "    n //= 10\n",
    "print(product)"
   ]
  }
 ],
 "metadata": {
  "kernelspec": {
   "display_name": "Python 3",
   "language": "python",
   "name": "python3"
  },
  "language_info": {
   "codemirror_mode": {
    "name": "ipython",
    "version": 3
   },
   "file_extension": ".py",
   "mimetype": "text/x-python",
   "name": "python",
   "nbconvert_exporter": "python",
   "pygments_lexer": "ipython3",
   "version": "3.11.4"
  },
  "orig_nbformat": 4
 },
 "nbformat": 4,
 "nbformat_minor": 2
}
