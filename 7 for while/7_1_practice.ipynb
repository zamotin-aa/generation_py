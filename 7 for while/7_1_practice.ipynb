{
 "cells": [
  {
   "cell_type": "code",
   "execution_count": 1,
   "metadata": {},
   "outputs": [
    {
     "name": "stdout",
     "output_type": "stream",
     "text": [
      "Привет\n",
      "Привет\n",
      "Привет\n",
      "Привет\n",
      "Привет\n",
      "Привет\n",
      "Привет\n",
      "Привет\n",
      "Привет\n",
      "Привет\n"
     ]
    }
   ],
   "source": [
    "i = 0\n",
    "while i < 10:\n",
    "    print('Привет')\n",
    "    i += 1"
   ]
  },
  {
   "cell_type": "code",
   "execution_count": 2,
   "metadata": {},
   "outputs": [
    {
     "name": "stdout",
     "output_type": "stream",
     "text": [
      "Квадрат вашего числа равен: 16\n",
      "Квадрат вашего числа равен: 25\n"
     ]
    }
   ],
   "source": [
    "num = int(input())\n",
    "while num != -1:\n",
    "    print('Квадрат вашего числа равен:', num * num)\n",
    "    num = int(input())"
   ]
  },
  {
   "cell_type": "code",
   "execution_count": 3,
   "metadata": {},
   "outputs": [
    {
     "name": "stdout",
     "output_type": "stream",
     "text": [
      "0\n",
      "3\n",
      "6\n",
      "9\n",
      "12\n",
      "15\n",
      "18\n",
      "21\n",
      "24\n",
      "27\n",
      "30\n",
      "33\n",
      "36\n",
      "39\n",
      "42\n",
      "45\n",
      "48\n",
      "51\n",
      "54\n",
      "57\n",
      "60\n",
      "63\n",
      "66\n",
      "69\n",
      "72\n",
      "75\n",
      "78\n",
      "81\n",
      "84\n",
      "87\n",
      "90\n",
      "93\n",
      "96\n",
      "99\n",
      "0\n",
      "3\n",
      "6\n",
      "9\n",
      "12\n",
      "15\n",
      "18\n",
      "21\n",
      "24\n",
      "27\n",
      "30\n",
      "33\n",
      "36\n",
      "39\n",
      "42\n",
      "45\n",
      "48\n",
      "51\n",
      "54\n",
      "57\n",
      "60\n",
      "63\n",
      "66\n",
      "69\n",
      "72\n",
      "75\n",
      "78\n",
      "81\n",
      "84\n",
      "87\n",
      "90\n",
      "93\n",
      "96\n",
      "99\n"
     ]
    }
   ],
   "source": [
    "# используем for\n",
    "for i in range(0, 100, 3):\n",
    "    print(i)\n",
    "\n",
    "# используем while\n",
    "i = 0\n",
    "while i < 100:\n",
    "    print(i)\n",
    "    i += 3"
   ]
  },
  {
   "cell_type": "code",
   "execution_count": 4,
   "metadata": {},
   "outputs": [
    {
     "ename": "ValueError",
     "evalue": "invalid literal for int() with base 10: 'sd'",
     "output_type": "error",
     "traceback": [
      "\u001b[1;31m---------------------------------------------------------------------------\u001b[0m",
      "\u001b[1;31mValueError\u001b[0m                                Traceback (most recent call last)",
      "Cell \u001b[1;32mIn[4], line 4\u001b[0m\n\u001b[0;32m      2\u001b[0m total \u001b[39m=\u001b[39m \u001b[39m0\u001b[39m\n\u001b[0;32m      3\u001b[0m \u001b[39mwhile\u001b[39;00m text \u001b[39m!=\u001b[39m \u001b[39m'\u001b[39m\u001b[39mstop\u001b[39m\u001b[39m'\u001b[39m:\n\u001b[1;32m----> 4\u001b[0m     num \u001b[39m=\u001b[39m \u001b[39mint\u001b[39;49m(text)\n\u001b[0;32m      5\u001b[0m     total \u001b[39m+\u001b[39m\u001b[39m=\u001b[39m num\n\u001b[0;32m      6\u001b[0m     text \u001b[39m=\u001b[39m \u001b[39minput\u001b[39m()\n",
      "\u001b[1;31mValueError\u001b[0m: invalid literal for int() with base 10: 'sd'"
     ]
    }
   ],
   "source": [
    "text = input()\n",
    "total = 0\n",
    "while text != 'stop':\n",
    "    num = int(text)\n",
    "    total += num\n",
    "    text = input()\n",
    "print('Сумма чисел равна', total)"
   ]
  },
  {
   "cell_type": "code",
   "execution_count": 5,
   "metadata": {},
   "outputs": [],
   "source": [
    "count = 10\n",
    "while count < 1:\n",
    "    print('Python awesome!')"
   ]
  },
  {
   "cell_type": "code",
   "execution_count": 6,
   "metadata": {},
   "outputs": [
    {
     "name": "stdout",
     "output_type": "stream",
     "text": [
      "Python awesome!\n",
      "Python awesome!\n",
      "Python awesome!\n",
      "Python awesome!\n",
      "Python awesome!\n",
      "Python awesome!\n",
      "Python awesome!\n",
      "Python awesome!\n",
      "Python awesome!\n"
     ]
    }
   ],
   "source": [
    "count = 1\n",
    "while count < 10:\n",
    "    print('Python awesome!')\n",
    "    count += 1"
   ]
  },
  {
   "cell_type": "code",
   "execution_count": 10,
   "metadata": {},
   "outputs": [
    {
     "name": "stdout",
     "output_type": "stream",
     "text": [
      "Python awesome!\n",
      "Python awesome!\n",
      "Python awesome!\n",
      "Python awesome!\n",
      "Python awesome!\n",
      "Python awesome!\n",
      "Python awesome!\n"
     ]
    }
   ],
   "source": [
    "i = 5\n",
    "while i <= 11:\n",
    "    print('Python awesome!')\n",
    "    i += 1"
   ]
  },
  {
   "cell_type": "code",
   "execution_count": 11,
   "metadata": {},
   "outputs": [
    {
     "name": "stdout",
     "output_type": "stream",
     "text": [
      "21\n"
     ]
    }
   ],
   "source": [
    "i = 7\n",
    "a = 5\n",
    "while i < 11:\n",
    "    a += i\n",
    "    i += 2\n",
    "print(a)"
   ]
  },
  {
   "cell_type": "code",
   "execution_count": 16,
   "metadata": {},
   "outputs": [
    {
     "name": "stdout",
     "output_type": "stream",
     "text": [
      "555\n",
      "655\n"
     ]
    }
   ],
   "source": [
    "s = str(input())\n",
    "while (s != 'Конец'):\n",
    "    print(s)\n",
    "    s = str(input())\n"
   ]
  },
  {
   "cell_type": "code",
   "execution_count": 1,
   "metadata": {},
   "outputs": [
    {
     "name": "stdout",
     "output_type": "stream",
     "text": [
      "554\n",
      "654\n",
      "5434\n"
     ]
    }
   ],
   "source": [
    "s = str(input())\n",
    "while (s != 'КОНЕЦ' and s != 'конец'):\n",
    "    print(s)\n",
    "    s = str(input())"
   ]
  },
  {
   "cell_type": "code",
   "execution_count": 1,
   "metadata": {},
   "outputs": [],
   "source": [
    "count = 0\n",
    "s = str(input())\n",
    "while (s != 'стоп' and s != 'хватит' and s != 'достаточно'):\n",
    "    count += 1\n",
    "    s = str(input())\n",
    "print(count)"
   ]
  },
  {
   "cell_type": "code",
   "execution_count": null,
   "metadata": {},
   "outputs": [],
   "source": [
    "x = int(input())\n",
    "while(x%7==0):\n",
    "    print(x)\n",
    "    x = int(input())"
   ]
  },
  {
   "cell_type": "code",
   "execution_count": 7,
   "metadata": {},
   "outputs": [
    {
     "name": "stdout",
     "output_type": "stream",
     "text": [
      "0\n"
     ]
    }
   ],
   "source": [
    "sum = 0\n",
    "x = int(input())\n",
    "while (x>=0):\n",
    "    sum = sum + x\n",
    "    x = int(input())\n",
    "print(sum)"
   ]
  },
  {
   "cell_type": "code",
   "execution_count": 4,
   "metadata": {},
   "outputs": [
    {
     "name": "stdout",
     "output_type": "stream",
     "text": [
      "3\n"
     ]
    }
   ],
   "source": [
    "count = 0\n",
    "x = int(input())\n",
    "while (x>0 and x<=5):\n",
    "    if(x==5):\n",
    "        count += 1\n",
    "    x = int(input())\n",
    "print(count)"
   ]
  },
  {
   "cell_type": "code",
   "execution_count": 12,
   "metadata": {},
   "outputs": [
    {
     "name": "stdout",
     "output_type": "stream",
     "text": [
      "4\n"
     ]
    }
   ],
   "source": [
    "count = 0\n",
    "n = int(input())\n",
    "\n",
    "while (n>=25):\n",
    "    count += 1\n",
    "    n -= 25\n",
    "\n",
    "while (n>=10):\n",
    "    count += 1\n",
    "    n -= 10\n",
    "    \n",
    "while (n>=5):\n",
    "    count += 1\n",
    "    n -= 5\n",
    "    \n",
    "while (n>=1):\n",
    "    count += 1\n",
    "    n -= 1   \n",
    "\n",
    "   \n",
    "print(count)"
   ]
  },
  {
   "cell_type": "code",
   "execution_count": null,
   "metadata": {},
   "outputs": [],
   "source": [
    "n = int(input())\n",
    "while n != 0:  # пока в числе есть цифры\n",
    "    last_digit = n % 10  # получить последнюю цифру\n",
    "    # код обработки последней цифры\n",
    "    n = n // 10  # удалить последнюю цифру из числа"
   ]
  },
  {
   "cell_type": "code",
   "execution_count": 1,
   "metadata": {},
   "outputs": [
    {
     "name": "stdout",
     "output_type": "stream",
     "text": [
      "YES\n"
     ]
    }
   ],
   "source": [
    "num = int(input())\n",
    "has_seven = False  # сигнальная метка\n",
    "\n",
    "while num != 0:\n",
    "    last_digit = num % 10\n",
    "    if last_digit == 7:\n",
    "        has_seven = True\n",
    "    num = num // 10\n",
    "\n",
    "if has_seven == True:\n",
    "    print('YES')\n",
    "else:\n",
    "    print('NO')\n"
   ]
  },
  {
   "cell_type": "code",
   "execution_count": 2,
   "metadata": {},
   "outputs": [
    {
     "name": "stdout",
     "output_type": "stream",
     "text": [
      "120\n"
     ]
    }
   ],
   "source": [
    "num = 12345\n",
    "product = 1\n",
    "while num != 0:\n",
    "    last_digit = num % 10\n",
    "    product = product * last_digit\n",
    "    num = num // 10\n",
    "print(product)"
   ]
  },
  {
   "cell_type": "code",
   "execution_count": 3,
   "metadata": {},
   "outputs": [
    {
     "name": "stdout",
     "output_type": "stream",
     "text": [
      "5\n"
     ]
    }
   ],
   "source": [
    "num = 123456789\n",
    "total = 0\n",
    "while num != 0:\n",
    "    last_digit = num % 10\n",
    "    if last_digit > 4:\n",
    "        total += 1\n",
    "    num = num // 10\n",
    "print(total)"
   ]
  },
  {
   "cell_type": "code",
   "execution_count": 6,
   "metadata": {},
   "outputs": [
    {
     "name": "stdout",
     "output_type": "stream",
     "text": [
      "6\n",
      "5\n",
      "4\n",
      "3\n",
      "2\n",
      "1\n"
     ]
    }
   ],
   "source": [
    "num = int(input())\n",
    "product = 1\n",
    "while num != 0:\n",
    "    last_digit = num % 10\n",
    "    num = num // 10\n",
    "    print(last_digit)\n"
   ]
  },
  {
   "cell_type": "code",
   "execution_count": 16,
   "metadata": {},
   "outputs": [
    {
     "name": "stdout",
     "output_type": "stream",
     "text": [
      "6 654321\n"
     ]
    }
   ],
   "source": [
    "num = int(input())\n",
    "\n",
    "count = 0\n",
    "result = 0\n",
    "\n",
    "while num != 0:\n",
    "    \n",
    "    last_digit = num % 10\n",
    "    num = num // 10\n",
    "    count += 1\n",
    "    result = result*10 + last_digit\n",
    "\n",
    "   \n",
    "print(result)"
   ]
  },
  {
   "cell_type": "code",
   "execution_count": 26,
   "metadata": {},
   "outputs": [
    {
     "name": "stdout",
     "output_type": "stream",
     "text": [
      "Максимальная цифра равна 5\n",
      "Минимальная цифра равна 1\n"
     ]
    }
   ],
   "source": [
    "\n",
    "num = int(input())\n",
    "min_digit = 9\n",
    "max_digit = 0\n",
    "while num != 0:\n",
    "    \n",
    "    last_digit = num % 10\n",
    "    num = num // 10\n",
    "    min_digit = min(min_digit, last_digit)\n",
    "    max_digit = max(max_digit, last_digit)\n",
    "   \n",
    "  \n",
    "print('Максимальная цифра равна', max_digit)\n",
    "print('Минимальная цифра равна' , min_digit)"
   ]
  },
  {
   "cell_type": "code",
   "execution_count": 31,
   "metadata": {},
   "outputs": [
    {
     "name": "stdout",
     "output_type": "stream",
     "text": [
      "32\n",
      "6\n",
      "13440\n",
      "5.333333333333333\n",
      "2\n",
      "6\n"
     ]
    }
   ],
   "source": [
    "\n",
    "# Дано натуральное число. Напишите программу, которая вычисляет:\n",
    "\n",
    "# сумму его цифр;+\n",
    "# количество цифр в нем;+\n",
    "# произведение его цифр;+\n",
    "# среднее арифметическое его цифр;\n",
    "# его первую цифру; + \n",
    "# сумму его первой и последней цифры. + \n",
    "\n",
    "num = int(input())\n",
    "\n",
    "last_digit = num % 10\n",
    "count = 0\n",
    "countx = 1\n",
    "sum = 0\n",
    "\n",
    "while num != 0:\n",
    "    \n",
    "    first_digit = num % 10\n",
    "    num = num // 10\n",
    "    count += 1\n",
    "    countx = first_digit*countx\n",
    "    sum = sum + first_digit\n",
    "  \n",
    "print(sum, count, countx, sum/count, first_digit, first_digit+last_digit, sep='\\n')\n"
   ]
  },
  {
   "cell_type": "code",
   "execution_count": 34,
   "metadata": {},
   "outputs": [
    {
     "name": "stdout",
     "output_type": "stream",
     "text": [
      "6\n"
     ]
    }
   ],
   "source": [
    "num = int(input())\n",
    "\n",
    "while num != 0:\n",
    "    if(num<99 and num > 9):\n",
    "        result = num % 10\n",
    "    first_digit = num % 10\n",
    "    num = num // 10\n",
    "\n",
    "print(result)\n",
    "    \n",
    "    "
   ]
  },
  {
   "cell_type": "code",
   "execution_count": 40,
   "metadata": {},
   "outputs": [
    {
     "name": "stdout",
     "output_type": "stream",
     "text": [
      "NO\n"
     ]
    }
   ],
   "source": [
    "num = int(input())\n",
    "count = 1\n",
    "first_digit = num % 10\n",
    "\n",
    "while num != 0:\n",
    "    if(first_digit == num % 10):\n",
    "        count = count * 1\n",
    "    else:\n",
    "        count = count * 0\n",
    "    first_digit = num % 10\n",
    "    num = num // 10\n",
    "\n",
    "if count == 1:\n",
    "    print('YES')\n",
    "else:\n",
    "    print('NO')"
   ]
  },
  {
   "cell_type": "code",
   "execution_count": 46,
   "metadata": {},
   "outputs": [
    {
     "name": "stdout",
     "output_type": "stream",
     "text": [
      "YES\n"
     ]
    }
   ],
   "source": [
    "num = int(input())\n",
    "count = 1\n",
    "uni_digit = num % 10\n",
    "\n",
    "while num != 0:\n",
    "\n",
    "    first_digit = num % 10\n",
    "    num = num // 10\n",
    "    if (first_digit >= uni_digit):\n",
    "        count *= 1\n",
    "    else:\n",
    "        count *= 0\n",
    "    uni_digit = first_digit\n",
    "    \n",
    "if count == 1:\n",
    "    print('YES')\n",
    "else:\n",
    "    print('NO')"
   ]
  }
 ],
 "metadata": {
  "kernelspec": {
   "display_name": "Python 3",
   "language": "python",
   "name": "python3"
  },
  "language_info": {
   "codemirror_mode": {
    "name": "ipython",
    "version": 3
   },
   "file_extension": ".py",
   "mimetype": "text/x-python",
   "name": "python",
   "nbconvert_exporter": "python",
   "pygments_lexer": "ipython3",
   "version": "3.11.4"
  },
  "orig_nbformat": 4
 },
 "nbformat": 4,
 "nbformat_minor": 2
}
