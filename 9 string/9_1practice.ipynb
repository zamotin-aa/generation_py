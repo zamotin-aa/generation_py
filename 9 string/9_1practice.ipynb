{
 "cells": [
  {
   "cell_type": "code",
   "execution_count": 1,
   "metadata": {},
   "outputs": [
    {
     "name": "stdout",
     "output_type": "stream",
     "text": [
      "Foo bar baz qux\n"
     ]
    }
   ],
   "source": [
    "# Метод capitalize() возвращает копию строки s, в которой первый символ \n",
    "# имеет верхний регистр, а все остальные символы имеют нижний регистр.\n",
    "\n",
    "s = 'foO BaR BAZ quX'\n",
    "print(s.capitalize())"
   ]
  },
  {
   "cell_type": "code",
   "execution_count": 2,
   "metadata": {},
   "outputs": [
    {
     "name": "stdout",
     "output_type": "stream",
     "text": [
      "foo bAR 123 BAZ Qux\n"
     ]
    }
   ],
   "source": [
    "# Метод swapcase() возвращает копию строки s, в которой все символы, \n",
    "# имеющие верхний регистр, преобразуются в символы нижнего регистра и наоборот.\n",
    "\n",
    "s = 'FOO Bar 123 baz qUX'\n",
    "print(s.swapcase())"
   ]
  },
  {
   "cell_type": "code",
   "execution_count": 3,
   "metadata": {},
   "outputs": [
    {
     "name": "stdout",
     "output_type": "stream",
     "text": [
      "The Sun Also Rises\n"
     ]
    }
   ],
   "source": [
    "# Метод title() возвращает копию строки s, в которой \n",
    "# первый символ каждого слова переводится в верхний регистр.\n",
    "\n",
    "s = 'the sun also rises'\n",
    "print(s.title())"
   ]
  },
  {
   "cell_type": "code",
   "execution_count": 4,
   "metadata": {},
   "outputs": [
    {
     "name": "stdout",
     "output_type": "stream",
     "text": [
      "What'S Happened To Ted'S Ibm Stock?\n"
     ]
    }
   ],
   "source": [
    "s = \"what's happened to ted's IBM stock?\"\n",
    "print(s.title())"
   ]
  },
  {
   "cell_type": "code",
   "execution_count": 5,
   "metadata": {},
   "outputs": [
    {
     "name": "stdout",
     "output_type": "stream",
     "text": [
      "foo bar 123 baz qux\n"
     ]
    }
   ],
   "source": [
    "# Метод lower() возвращает копию строки s, в которой все символы имеют нижний регистр.\n",
    "\n",
    "s = 'FOO Bar 123 baz qUX'\n",
    "print(s.lower())"
   ]
  },
  {
   "cell_type": "code",
   "execution_count": 6,
   "metadata": {},
   "outputs": [
    {
     "name": "stdout",
     "output_type": "stream",
     "text": [
      "FOO BAR 123 BAZ QUX\n"
     ]
    }
   ],
   "source": [
    "# Метод upper() возвращает копию строки s, в которой все символы имеют верхний регистр.\n",
    "\n",
    "s = 'FOO Bar 123 baz qUX'\n",
    "print(s.upper())"
   ]
  },
  {
   "cell_type": "code",
   "execution_count": 7,
   "metadata": {},
   "outputs": [
    {
     "name": "stdout",
     "output_type": "stream",
     "text": [
      "I learn python language\n"
     ]
    }
   ],
   "source": [
    "s = 'i Learn Python language'\n",
    "print(s.capitalize())"
   ]
  },
  {
   "cell_type": "code",
   "execution_count": 8,
   "metadata": {},
   "outputs": [
    {
     "name": "stdout",
     "output_type": "stream",
     "text": [
      "i learn python language\n"
     ]
    }
   ],
   "source": [
    "s = 'i LEARN Python LAnguaGE'\n",
    "print(s.lower())"
   ]
  },
  {
   "cell_type": "code",
   "execution_count": 9,
   "metadata": {},
   "outputs": [
    {
     "name": "stdout",
     "output_type": "stream",
     "text": [
      "$12344%^$#@!\n"
     ]
    }
   ],
   "source": [
    "s = '$12344%^$#@!'\n",
    "print(s.lower())"
   ]
  },
  {
   "cell_type": "code",
   "execution_count": 10,
   "metadata": {},
   "outputs": [
    {
     "name": "stdout",
     "output_type": "stream",
     "text": [
      "a A\n"
     ]
    }
   ],
   "source": [
    "s1 = 'a'\n",
    "s2 = s1.upper()\n",
    "print(s1, s2)"
   ]
  },
  {
   "cell_type": "code",
   "execution_count": 11,
   "metadata": {},
   "outputs": [
    {
     "name": "stdout",
     "output_type": "stream",
     "text": [
      "I LEARN PYTHON LANGUAGE\n"
     ]
    }
   ],
   "source": [
    "s = 'i LEARN Python LAnguaGE'\n",
    "print(s.upper())"
   ]
  },
  {
   "cell_type": "code",
   "execution_count": 12,
   "metadata": {},
   "outputs": [
    {
     "name": "stdout",
     "output_type": "stream",
     "text": [
      "I learn pYTHON laNGUAge\n"
     ]
    }
   ],
   "source": [
    "s = 'i LEARN Python LAnguaGE'\n",
    "print(s.swapcase())"
   ]
  },
  {
   "cell_type": "code",
   "execution_count": 14,
   "metadata": {},
   "outputs": [
    {
     "name": "stdout",
     "output_type": "stream",
     "text": [
      "YES\n"
     ]
    }
   ],
   "source": [
    "# Заглавные буквы\n",
    "# На вход программе подается строка состоящая из имени и фамилии человека, разделенных одним пробелом. \n",
    "# Напишите программу, которая проверяет, что имя и фамилия начинаются с заглавной буквы.\n",
    "\n",
    "s = str(input())\n",
    "\n",
    "if s.title() == s:\n",
    "    print('YES')\n",
    "else:\n",
    "    print('NO')"
   ]
  },
  {
   "cell_type": "code",
   "execution_count": null,
   "metadata": {},
   "outputs": [],
   "source": [
    "# На вход программе подается строка. \n",
    "# Напишите программу, которая меняет регистр символов, \n",
    "# другими словами замените все строчные символы заглавными и наоборот.\n",
    "s = str(input())\n",
    "print(s.swapcase())"
   ]
  },
  {
   "cell_type": "code",
   "execution_count": 16,
   "metadata": {},
   "outputs": [
    {
     "name": "stdout",
     "output_type": "stream",
     "text": [
      "YES\n"
     ]
    }
   ],
   "source": [
    "# На вход программе подается строка текста. \n",
    "# Напишите программу, которая определяет является ли оттенок текста хорошим или нет. \n",
    "# Текст имеет хороший оттенок, если содержит подстроку «хорош» во всевозможных регистрах.\n",
    "\n",
    "s = str(input())\n",
    "if 'хорош' in s.lower():\n",
    "    print('YES')\n",
    "else:\n",
    "    print('NO')"
   ]
  },
  {
   "cell_type": "code",
   "execution_count": 25,
   "metadata": {},
   "outputs": [
    {
     "name": "stdout",
     "output_type": "stream",
     "text": [
      "3\n"
     ]
    }
   ],
   "source": [
    "# На вход программе подается строка. \n",
    "# Напишите программу, которая подсчитывает количество буквенных символов в нижнем регистре.\n",
    "\n",
    "s = str(input())\n",
    "count = 0\n",
    "for i in range(len(s)):\n",
    "    if s[i] != s[i].upper() and s[i] not in '0123456789':\n",
    "        count += 1\n",
    "print(count)\n",
    "    "
   ]
  },
  {
   "cell_type": "code",
   "execution_count": 26,
   "metadata": {},
   "outputs": [
    {
     "name": "stdout",
     "output_type": "stream",
     "text": [
      "3\n",
      "2\n"
     ]
    }
   ],
   "source": [
    "# Метод count(<sub>, <start>, <end>) считает количество непересекающихся вхождений подстроки <sub> в исходную строку s.\n",
    "\n",
    "s = 'foo goo moo'\n",
    "print(s.count('oo'))\n",
    "print(s.count('oo', 0, 8))  # подсчет с 0 по 7 символ"
   ]
  },
  {
   "cell_type": "code",
   "execution_count": 27,
   "metadata": {},
   "outputs": [
    {
     "name": "stdout",
     "output_type": "stream",
     "text": [
      "True\n",
      "False\n"
     ]
    }
   ],
   "source": [
    "# Метод startswith(<suffix>, <start>, <end>) определяет начинается ли исходная строка s подстрокой <suffix>. \n",
    "# Если исходная строка начинается с подстроки <suffix>,метод возвращает значение True, а если нет, то  False.\n",
    "\n",
    "\n",
    "s = 'foobar'\n",
    "print(s.startswith('foo'))\n",
    "print(s.startswith('baz'))"
   ]
  },
  {
   "cell_type": "code",
   "execution_count": 28,
   "metadata": {},
   "outputs": [
    {
     "name": "stdout",
     "output_type": "stream",
     "text": [
      "True\n",
      "False\n"
     ]
    }
   ],
   "source": [
    "# Метод endswith(<suffix>, <start>, <end>) определяет оканчивается ли исходная строка s подстрокой <suffix>. \n",
    "# Метод возвращает значение True если исходная строка оканчивается на подстроку <suffix> и False в противном случае.\n",
    "\n",
    "s = 'foobar'\n",
    "print(s.endswith('bar'))\n",
    "print(s.endswith('baz'))"
   ]
  },
  {
   "cell_type": "code",
   "execution_count": 29,
   "metadata": {},
   "outputs": [
    {
     "name": "stdout",
     "output_type": "stream",
     "text": [
      "0\n",
      "4\n",
      "20\n",
      "-1\n"
     ]
    }
   ],
   "source": [
    "# Метод find(<sub>, <start>, <end>) находит индекс первого вхождения подстроки <sub> в исходной строке s. \n",
    "# Если строка s не содержит подстроки <sub>, то метод возвращает значение -1. \n",
    "# Мы можем использовать данный метод наравне с оператором in для проверки: \n",
    "#     содержит ли заданная строка некоторую подстроку или нет.\n",
    "\n",
    "s = 'foo bar foo baz foo qux'\n",
    "print(s.find('foo'))\n",
    "print(s.find('bar'))\n",
    "print(s.find('qu'))\n",
    "print(s.find('python'))\n",
    "\n",
    "# Метод rfind(<sub>, <start>, <end>) идентичен методу find(<sub>, <start>, <end>), \n",
    "# за тем исключением, что он ищет первое вхождение подстроки <sub> начиная с конца строки s."
   ]
  },
  {
   "cell_type": "code",
   "execution_count": null,
   "metadata": {},
   "outputs": [],
   "source": [
    "# Метод index(<sub>, <start>, <end>) идентичен методу find(<sub>, <start>, <end>), \n",
    "# за тем исключением, что он вызывает ошибку  \n",
    "# ValueError: substring not found во время выполнения программы, если подстрока <sub> не найдена.\n",
    "\n",
    "# Метод rindex(<sub>, <start>, <end>) идентичен методу index(<sub>, <start>, <end>), \n",
    "# за тем исключением, что он ищет первое вхождение подстроки <sub> начиная с конца строки s.\n",
    "\n",
    "# Методы find() и rfind() являются более безопасными чем index() и rindex(), \n",
    "# так как не приводят к возникновению ошибки во время выполнения программы."
   ]
  },
  {
   "cell_type": "code",
   "execution_count": 30,
   "metadata": {},
   "outputs": [
    {
     "name": "stdout",
     "output_type": "stream",
     "text": [
      "foo bar foo baz foo qux\n"
     ]
    }
   ],
   "source": [
    "# Метод strip() возвращает копию строки s у которой удалены все пробелы стоящие в начале и конце строки.\n",
    "\n",
    "s = '     foo bar foo baz foo qux      '\n",
    "print(s.strip())"
   ]
  },
  {
   "cell_type": "code",
   "execution_count": 31,
   "metadata": {},
   "outputs": [
    {
     "name": "stdout",
     "output_type": "stream",
     "text": [
      "foo bar foo baz foo qux      \n"
     ]
    }
   ],
   "source": [
    "# Метод lstrip() возвращает копию строки s у которой удалены все пробелы стоящие в начале строки.\n",
    "\n",
    "s = '     foo bar foo baz foo qux      '\n",
    "print(s.lstrip())"
   ]
  },
  {
   "cell_type": "code",
   "execution_count": 32,
   "metadata": {},
   "outputs": [
    {
     "name": "stdout",
     "output_type": "stream",
     "text": [
      "      foo bar foo baz foo qux\n"
     ]
    }
   ],
   "source": [
    "# Метод rstrip() возвращает копию строки s у которой удалены все пробелы стоящие в конце строки.\n",
    "\n",
    "s = '      foo bar foo baz foo qux      '\n",
    "print(s.rstrip())"
   ]
  },
  {
   "cell_type": "code",
   "execution_count": null,
   "metadata": {},
   "outputs": [],
   "source": [
    "# Методы strip(), lstrip(), rstrip() могут принимать на вход опциональный аргумент<chars>. \n",
    "# Необязательный аргумент <chars>– это строка, которая определяет набор символов для удаления."
   ]
  },
  {
   "cell_type": "code",
   "execution_count": 33,
   "metadata": {},
   "outputs": [
    {
     "name": "stdout",
     "output_type": "stream",
     "text": [
      "grault bar grault baz grault qux\n"
     ]
    }
   ],
   "source": [
    "# Метод replace(<old>, <new>) возвращает копию s со всеми вхождениями подстроки <old>, замененными на <new>.\n",
    "\n",
    "s = 'foo bar foo baz foo qux'\n",
    "print(s.replace('foo', 'grault'))"
   ]
  },
  {
   "cell_type": "code",
   "execution_count": 34,
   "metadata": {},
   "outputs": [
    {
     "name": "stdout",
     "output_type": "stream",
     "text": [
      "grault bar grault baz foo qux\n"
     ]
    }
   ],
   "source": [
    "# Метод replace() может принимать опциональный третий аргумент <count>,  который определяет количество замен.\n",
    "\n",
    "s = 'foo bar foo baz foo qux'\n",
    "print(s.replace('foo', 'grault', 2))"
   ]
  },
  {
   "cell_type": "code",
   "execution_count": 35,
   "metadata": {},
   "outputs": [
    {
     "name": "stdout",
     "output_type": "stream",
     "text": [
      "6\n"
     ]
    }
   ],
   "source": [
    "s = 'aabbAAccDDaa'\n",
    "s = s.lower()\n",
    "print(s.count('a'))"
   ]
  },
  {
   "cell_type": "code",
   "execution_count": 36,
   "metadata": {},
   "outputs": [
    {
     "name": "stdout",
     "output_type": "stream",
     "text": [
      "True\n"
     ]
    }
   ],
   "source": [
    "s = 'www.stepik.org'\n",
    "print(s.startswith('www'))"
   ]
  },
  {
   "cell_type": "code",
   "execution_count": 37,
   "metadata": {},
   "outputs": [
    {
     "name": "stdout",
     "output_type": "stream",
     "text": [
      "False\n"
     ]
    }
   ],
   "source": [
    "s = 'www.stepik.org'\n",
    "print(s.endswith('.ru'))"
   ]
  },
  {
   "cell_type": "code",
   "execution_count": 38,
   "metadata": {},
   "outputs": [
    {
     "name": "stdout",
     "output_type": "stream",
     "text": [
      "8\n"
     ]
    }
   ],
   "source": [
    "s = 'I learn Python language. Python - awesome!'\n",
    "print(s.find('Python'))"
   ]
  },
  {
   "cell_type": "code",
   "execution_count": 39,
   "metadata": {},
   "outputs": [
    {
     "name": "stdout",
     "output_type": "stream",
     "text": [
      "I learn Python language\n"
     ]
    }
   ],
   "source": [
    "s = '     I learn Python language               '\n",
    "print(s.strip())"
   ]
  },
  {
   "cell_type": "code",
   "execution_count": 40,
   "metadata": {},
   "outputs": [
    {
     "name": "stdout",
     "output_type": "stream",
     "text": [
      "123cd123123a\n"
     ]
    }
   ],
   "source": [
    "s = 'abcdababa'\n",
    "print(s.replace('ab', '123'))"
   ]
  },
  {
   "cell_type": "code",
   "execution_count": 42,
   "metadata": {},
   "outputs": [
    {
     "name": "stdout",
     "output_type": "stream",
     "text": [
      "6\n"
     ]
    }
   ],
   "source": [
    "s = str(input())\n",
    "d = s.strip()\n",
    "print(d.count(' ') + 1)"
   ]
  },
  {
   "cell_type": "code",
   "execution_count": 46,
   "metadata": {},
   "outputs": [
    {
     "name": "stdout",
     "output_type": "stream",
     "text": [
      "Аденин: 0\n",
      "Гуанин: 0\n",
      "Цитозин 0\n",
      "Тимин: 0\n"
     ]
    }
   ],
   "source": [
    "# На вход программе подается строка генетического кода, состоящая из букв А (аденин), \n",
    "# Г (гуанин), Ц (цитозин), Т (тимин). Напишите программу, которая подсчитывает сколько аденина, \n",
    "# гуанина, цитозина и тимина входит в данную строку генетического кода.\n",
    "\n",
    "# Аденин: 4\n",
    "# Гуанин: 4\n",
    "# Цитозин: 4\n",
    "# Тимин: 4\n",
    "\n",
    "s = str(input()).lower()\n",
    "\n",
    "print(\"Аденин: \" + str(s.count('а')))\n",
    "print(\"Гуанин: \" + str(s.count('г')))\n",
    "print(\"Цитозин: \" + str(s.count('ц')))\n",
    "print(\"Тимин: \" + str(s.count('т')))\n"
   ]
  },
  {
   "cell_type": "code",
   "execution_count": null,
   "metadata": {},
   "outputs": [],
   "source": [
    "# Формат входных данных\n",
    "# В первой строке подаётся число n – количество сообщений, в последующих \n",
    "# n строках вводятся строки, содержащие латинские строчные буквы и цифры.\n",
    "\n",
    "# Формат выходных данных\n",
    "# Программа должна вывести количество строк в которых содержится число 11 минимум 3 раза.\n",
    "\n",
    "n = int(input())\n",
    "count = 0\n",
    "for i in range(n):\n",
    "    s = str(input())\n",
    "    if s.count('11') >= 3:\n",
    "        count += 1\n",
    "print(count)"
   ]
  },
  {
   "cell_type": "code",
   "execution_count": 47,
   "metadata": {},
   "outputs": [
    {
     "name": "stdout",
     "output_type": "stream",
     "text": [
      "4\n"
     ]
    }
   ],
   "source": [
    "# На вход программе подается строка текста. \n",
    "# Напишите программу, которая подсчитывает количество цифр в данной строке.\n",
    "s = str(input())\n",
    "count = 0\n",
    "for i in range(len(s)):\n",
    "    if s[i] in '0123456789':\n",
    "        count += 1\n",
    "print(count)"
   ]
  },
  {
   "cell_type": "code",
   "execution_count": 54,
   "metadata": {},
   "outputs": [
    {
     "name": "stdout",
     "output_type": "stream",
     "text": [
      "NO\n"
     ]
    }
   ],
   "source": [
    "# На вход программе подается строка текста. \n",
    "# Напишите программу, которая проверяет, что строка заканчивается подстрокой .com или .ru.\n",
    "\n",
    "# Формат входных данных \n",
    "# На вход программе подается строка текста.\n",
    "\n",
    "s = str(input())\n",
    "if s.endswith('.ru')*1 + s.endswith('.com')*1 > 0:\n",
    "    print('YES')\n",
    "else:\n",
    "    print('NO')"
   ]
  },
  {
   "cell_type": "code",
   "execution_count": 55,
   "metadata": {},
   "outputs": [
    {
     "name": "stdout",
     "output_type": "stream",
     "text": [
      "c\n"
     ]
    }
   ],
   "source": [
    "# На вход программе подается строка текста. Напишите программу, \n",
    "# которая выводит на экран символ, который появляется наиболее часто.\n",
    "\n",
    "# Формат входных данных \n",
    "# На вход программе подается строка текста. Текст может содержать \n",
    "# строчные и заглавные буквы английского и русского алфавита, а также цифры.\n",
    "\n",
    "# Формат выходных данных\n",
    "# Программа должна вывести символ, который появляется наиболее часто.\n",
    "\n",
    "s = str(input())\n",
    "count = 0\n",
    "sum = 0\n",
    "abc = \"\"\n",
    "\n",
    "for i in range(len(s)):\n",
    "    count = s.count(s[i])\n",
    "    if count >= sum:\n",
    "        sum = count\n",
    "        abc = s[i]\n",
    "print(abc)"
   ]
  },
  {
   "cell_type": "code",
   "execution_count": 56,
   "metadata": {},
   "outputs": [
    {
     "name": "stdout",
     "output_type": "stream",
     "text": [
      "2 6\n"
     ]
    }
   ],
   "source": [
    "# На вход программе подается строка текста. \n",
    "# Если в этой строке буква «f» встречается только один раз, выведите её индекс. \n",
    "# Если она встречается два и более раз, выведите индекс её первого и последнего вхождения на одной строке, \n",
    "# разделенных символом пробела. Если буква «f» в данной строке не встречается, следует вывести «NO».\n",
    "\n",
    "s = str(input())\n",
    "if s.count('f') == 1:\n",
    "    print(s.find('f'))\n",
    "elif s.count('f') == 0:\n",
    "    print('NO')\n",
    "else:\n",
    "    print(s.find('f'), s.rfind('f'), sep=\" \")"
   ]
  },
  {
   "cell_type": "code",
   "execution_count": 65,
   "metadata": {},
   "outputs": [
    {
     "name": "stdout",
     "output_type": "stream",
     "text": [
      "1230000\n",
      "0000\n"
     ]
    }
   ],
   "source": [
    "# На вход программе подается строка текста, в которой буква «h» встречается минимум два раза. \n",
    "# Напишите программу, которая удаляет из этой строки первое и \n",
    "# последнее вхождение буквы «h», а также все символы, находящиеся между ними.\n",
    "\n",
    "s = str(input())\n",
    "x = s.find('h')\n",
    "y = s.rfind('h')\n",
    "s1 = s[0:x]\n",
    "s2 = s[y+1:]\n",
    "print(s1 + s2)\n"
   ]
  },
  {
   "cell_type": "code",
   "execution_count": 66,
   "metadata": {},
   "outputs": [
    {
     "name": "stdout",
     "output_type": "stream",
     "text": [
      "True\n",
      "False\n",
      "False\n"
     ]
    }
   ],
   "source": [
    "# Метод isalnum() определяет, состоит ли исходная строка из буквенно-цифровых символов. \n",
    "# Метод возвращает значение True если исходная строка является непустой и \n",
    "# состоит только из буквенно-цифровых символов и False в противном случае.\n",
    "\n",
    "s1 = 'abc123'\n",
    "s2 = 'abc$*123'\n",
    "s3 = ''\n",
    "\n",
    "print(s1.isalnum())\n",
    "print(s2.isalnum())\n",
    "print(s3.isalnum())"
   ]
  },
  {
   "cell_type": "code",
   "execution_count": 67,
   "metadata": {},
   "outputs": [
    {
     "name": "stdout",
     "output_type": "stream",
     "text": [
      "True\n",
      "False\n",
      "False\n"
     ]
    }
   ],
   "source": [
    "# Метод isalpha() определяет, состоит ли исходная строка из буквенных символов. \n",
    "# Метод возвращает значение True если исходная строка является непустой и \n",
    "# состоит только из буквенных символов и False в противном случае.\n",
    "\n",
    "s1 = 'ABCabc'\n",
    "s2 = 'abc123'\n",
    "s3 = ''\n",
    "\n",
    "print(s1.isalpha())\n",
    "print(s2.isalpha())\n",
    "print(s3.isalpha())"
   ]
  },
  {
   "cell_type": "code",
   "execution_count": 68,
   "metadata": {},
   "outputs": [
    {
     "name": "stdout",
     "output_type": "stream",
     "text": [
      "True\n",
      "False\n",
      "False\n"
     ]
    }
   ],
   "source": [
    "# Метод isdigit() определяет, состоит ли исходная строка только из цифровых символов. \n",
    "# Метод возвращает значение True если исходная строка является непустой и\n",
    "# состоит только из цифровых символов и False в противном случае.\n",
    "\n",
    "s1 = '1234567'\n",
    "s2 = 'abc123'\n",
    "s3 = ''\n",
    "\n",
    "print(s1.isdigit())\n",
    "print(s2.isdigit())\n",
    "print(s3.isdigit())"
   ]
  },
  {
   "cell_type": "code",
   "execution_count": 69,
   "metadata": {},
   "outputs": [
    {
     "name": "stdout",
     "output_type": "stream",
     "text": [
      "True\n",
      "True\n",
      "False\n"
     ]
    }
   ],
   "source": [
    "# Метод islower() определяет, являются ли все буквенные символы исходной строки строчными \n",
    "# (имеют нижний регистр). Метод возвращает значение True если все буквенные символы \n",
    "# исходной строки являются строчными и False в противном случае. Все неалфавитные символы игнорируются!\n",
    "\n",
    "s1 = 'abc'\n",
    "s2 = 'abc1$d'\n",
    "s3 = 'Abc1$D'\n",
    "\n",
    "print(s1.islower())\n",
    "print(s2.islower())\n",
    "print(s3.islower())"
   ]
  },
  {
   "cell_type": "code",
   "execution_count": 70,
   "metadata": {},
   "outputs": [
    {
     "name": "stdout",
     "output_type": "stream",
     "text": [
      "True\n",
      "True\n",
      "False\n"
     ]
    }
   ],
   "source": [
    "# Метод isupper() определяет, являются ли все буквенные символы исходной строки \n",
    "# заглавными (имеют верхний регистр). Метод возвращает значение True если \n",
    "# все буквенные символы исходной строки являются заглавными и False в противном случае. \n",
    "# Все неалфавитные символы игнорируются!\n",
    "\n",
    "s1 = 'ABC'\n",
    "s2 = 'ABC1$D'\n",
    "s3 = 'Abc1$D'\n",
    "\n",
    "print(s1.isupper())\n",
    "print(s2.isupper())\n",
    "print(s3.isupper())"
   ]
  },
  {
   "cell_type": "code",
   "execution_count": 71,
   "metadata": {},
   "outputs": [
    {
     "name": "stdout",
     "output_type": "stream",
     "text": [
      "True\n",
      "False\n"
     ]
    }
   ],
   "source": [
    "# Метод isspace() определяет, состоит ли исходная строка только из пробельных символов. \n",
    "# Метод возвращает значение True если строка состоит только \n",
    "# из пробельных символов и False в противном случае.\n",
    "\n",
    "s1 = '       '\n",
    "s2 = 'abc1$d'\n",
    "\n",
    "print(s1.isspace())\n",
    "print(s2.isspace())"
   ]
  },
  {
   "cell_type": "code",
   "execution_count": 72,
   "metadata": {},
   "outputs": [
    {
     "name": "stdout",
     "output_type": "stream",
     "text": [
      "True\n",
      "False\n",
      "False\n"
     ]
    }
   ],
   "source": [
    "s = 'aabbAA111ccDDaa'\n",
    "print(s.isalnum())\n",
    "print(s.isalpha())\n",
    "print(s.isdigit())"
   ]
  },
  {
   "cell_type": "code",
   "execution_count": 73,
   "metadata": {},
   "outputs": [
    {
     "name": "stdout",
     "output_type": "stream",
     "text": [
      "True\n"
     ]
    }
   ],
   "source": [
    "s = 'aabb!@#$11cc'\n",
    "print(s.islower())"
   ]
  },
  {
   "cell_type": "code",
   "execution_count": 74,
   "metadata": {},
   "outputs": [
    {
     "name": "stdout",
     "output_type": "stream",
     "text": [
      "False\n"
     ]
    }
   ],
   "source": [
    "s = 'AAb!@#$11CC'\n",
    "print(s.isupper())"
   ]
  },
  {
   "cell_type": "code",
   "execution_count": 75,
   "metadata": {},
   "outputs": [
    {
     "name": "stdout",
     "output_type": "stream",
     "text": [
      "False\n"
     ]
    }
   ],
   "source": [
    "s = '    abbc    '\n",
    "print(s.isspace())"
   ]
  },
  {
   "cell_type": "code",
   "execution_count": 76,
   "metadata": {},
   "outputs": [
    {
     "name": "stdout",
     "output_type": "stream",
     "text": [
      "My name is Timur, I am 27\n"
     ]
    }
   ],
   "source": [
    "age = 27\n",
    "txt = 'My name is Timur, I am {}'.format(age)\n",
    "print(txt)"
   ]
  },
  {
   "cell_type": "code",
   "execution_count": 77,
   "metadata": {},
   "outputs": [
    {
     "name": "stdout",
     "output_type": "stream",
     "text": [
      "My name is Timur, I am 27, I work as a math teacher\n"
     ]
    }
   ],
   "source": [
    "age = 27\n",
    "name = 'Timur'\n",
    "profession = 'math teacher'\n",
    "txt = 'My name is {}, I am {}, I work as a {}'.format(name, age, profession)\n",
    "print(txt)"
   ]
  },
  {
   "cell_type": "code",
   "execution_count": 78,
   "metadata": {},
   "outputs": [
    {
     "name": "stdout",
     "output_type": "stream",
     "text": [
      "My name is Timur, I am 27, I work as a math teacher\n"
     ]
    }
   ],
   "source": [
    "age = 27\n",
    "name = 'Timur'\n",
    "profession = 'math teacher'\n",
    "txt = 'My name is {0}, I am {1}, I work as a {2}'.format(name, age, profession)\n",
    "print(txt)"
   ]
  },
  {
   "cell_type": "code",
   "execution_count": 79,
   "metadata": {},
   "outputs": [
    {
     "name": "stdout",
     "output_type": "stream",
     "text": [
      "My name is Timur-Timur-Timur\n"
     ]
    }
   ],
   "source": [
    "name = 'Timur'\n",
    "txt = 'My name is {0}-{0}-{0}'.format(name)\n",
    "print(txt)"
   ]
  },
  {
   "cell_type": "code",
   "execution_count": 80,
   "metadata": {},
   "outputs": [
    {
     "name": "stdout",
     "output_type": "stream",
     "text": [
      "Hello, Timur Guev. You are 27. You are a math teacher. You were a member of BeeGeek\n"
     ]
    }
   ],
   "source": [
    "first_name = 'Timur'\n",
    "last_name = 'Guev'\n",
    "age = 27\n",
    "profession = 'math teacher'\n",
    "affiliation = 'BeeGeek'\n",
    "print('Hello, {0} {1}. You are {2}. You are a {3}. You were a member of {4}'\n",
    "               .format(first_name, last_name, age, profession, affiliation))"
   ]
  },
  {
   "cell_type": "code",
   "execution_count": 81,
   "metadata": {},
   "outputs": [
    {
     "name": "stdout",
     "output_type": "stream",
     "text": [
      "Hello, Timur Guev. You are 27. You are a math teacher. You were a member of BeeGeek\n"
     ]
    }
   ],
   "source": [
    "first_name = 'Timur'\n",
    "last_name = 'Guev'\n",
    "age = 27\n",
    "profession = 'math teacher'\n",
    "affiliation = 'BeeGeek'\n",
    "print(f'Hello, {first_name} {last_name}. You are {age}. You are a {profession}. You were a member of {affiliation}')"
   ]
  },
  {
   "cell_type": "code",
   "execution_count": 84,
   "metadata": {},
   "outputs": [
    {
     "name": "stdout",
     "output_type": "stream",
     "text": [
      "In 2010, someone paid 10k Bitcoin for two pizzas.\n"
     ]
    }
   ],
   "source": [
    "# In 2010, someone paid 10k Bitcoin for two pizzas\n",
    "\n",
    "year = '2010'\n",
    "num1 = '10k'\n",
    "num2 = 'Bitcoin'\n",
    "\n",
    "s = 'In {0}, someone paid {1} {2} for two pizzas.'.format(year, num1, num2)\n",
    "\n",
    "print(s)"
   ]
  },
  {
   "cell_type": "code",
   "execution_count": 89,
   "metadata": {},
   "outputs": [
    {
     "name": "stdout",
     "output_type": "stream",
     "text": [
      "In 2010, someone paid 10K Bitcoin for two pizzas.\n"
     ]
    }
   ],
   "source": [
    "year = 2010\n",
    "amount = '10K'\n",
    "currency = 'Bitcoin'\n",
    "\n",
    "print('In {0}, someone paid {1} {2} for two pizzas.'.format(year, amount, currency))"
   ]
  },
  {
   "cell_type": "code",
   "execution_count": 90,
   "metadata": {},
   "outputs": [
    {
     "name": "stdout",
     "output_type": "stream",
     "text": [
      "65 66 97\n"
     ]
    }
   ],
   "source": [
    "# Функция ord позволяет определить код некоторого символа в таблице символов Unicode. \n",
    "# Аргументом данной функции является одиночный символ.\n",
    "\n",
    "num1 = ord('A')\n",
    "num2 = ord('B')\n",
    "num3 = ord('a') \n",
    "print(num1, num2, num3)"
   ]
  },
  {
   "cell_type": "code",
   "execution_count": 91,
   "metadata": {},
   "outputs": [
    {
     "name": "stdout",
     "output_type": "stream",
     "text": [
      "A K n\n"
     ]
    }
   ],
   "source": [
    "# Функция chr позволяет определить по коду символа сам символ. \n",
    "# Аргументом данной функции является численный код.\n",
    "\n",
    "chr1 = chr(65)\n",
    "chr2 = chr(75)\n",
    "chr3 = chr(110) \n",
    "print(chr1, chr2, chr3)\n",
    "\n",
    "\n",
    "# chr(ord('A')) = 'A', ord(chr(65)) = 65."
   ]
  },
  {
   "cell_type": "code",
   "execution_count": 92,
   "metadata": {},
   "outputs": [
    {
     "name": "stdout",
     "output_type": "stream",
     "text": [
      "A\n",
      "B\n",
      "C\n",
      "D\n",
      "E\n",
      "F\n",
      "G\n",
      "H\n",
      "I\n",
      "J\n",
      "K\n",
      "L\n",
      "M\n",
      "N\n",
      "O\n",
      "P\n",
      "Q\n",
      "R\n",
      "S\n",
      "T\n",
      "U\n",
      "V\n",
      "W\n",
      "X\n",
      "Y\n",
      "Z\n"
     ]
    }
   ],
   "source": [
    "for i in range(26):\n",
    "    print(chr(ord('A') + i))"
   ]
  },
  {
   "cell_type": "code",
   "execution_count": 93,
   "metadata": {},
   "outputs": [
    {
     "ename": "TypeError",
     "evalue": "ord() expected a character, but string of length 3 found",
     "output_type": "error",
     "traceback": [
      "\u001b[1;31m---------------------------------------------------------------------------\u001b[0m",
      "\u001b[1;31mTypeError\u001b[0m                                 Traceback (most recent call last)",
      "Cell \u001b[1;32mIn[93], line 1\u001b[0m\n\u001b[1;32m----> 1\u001b[0m \u001b[39mprint\u001b[39m(\u001b[39mord\u001b[39;49m(\u001b[39m'\u001b[39;49m\u001b[39mfoo\u001b[39;49m\u001b[39m'\u001b[39;49m))\n",
      "\u001b[1;31mTypeError\u001b[0m: ord() expected a character, but string of length 3 found"
     ]
    }
   ],
   "source": [
    "print(ord('foo'))"
   ]
  },
  {
   "cell_type": "code",
   "execution_count": 96,
   "metadata": {},
   "outputs": [
    {
     "name": "stdout",
     "output_type": "stream",
     "text": [
      "- . / 0 1 2 3 4 5 6 7 8 9 : ; < = > ? @ A B C D E F G H I J K L M N O P Q R S T U V W X Y "
     ]
    }
   ],
   "source": [
    "# На вход программе подаются два числа \n",
    "# Напишите программу, которая для каждого кодового значения в диапазоне от a b, \n",
    "# выводит соответствующий ему символ из таблицы символов Unicode.\n",
    "\n",
    "a = int(input())\n",
    "b = int(input())\n",
    "for i in range (a, b+1):\n",
    "    print(chr(i), end = ' ')"
   ]
  },
  {
   "cell_type": "code",
   "execution_count": 99,
   "metadata": {},
   "outputs": [
    {
     "name": "stdout",
     "output_type": "stream",
     "text": [
      "72 101 108 108 111 32 119 111 114 108 100 33 "
     ]
    }
   ],
   "source": [
    "# На вход программе подается строка текста. \n",
    "# Напишите программу, которая переводит каждый ее символ \n",
    "# в соответствующий ему код из таблицы символов Unicode.\n",
    "\n",
    "s = str(input())\n",
    "for i in range(len(s)):\n",
    "    print(ord(s[i]), end=\" \")"
   ]
  },
  {
   "cell_type": "code",
   "execution_count": 105,
   "metadata": {},
   "outputs": [
    {
     "name": "stdout",
     "output_type": "stream",
     "text": [
      "oqhmsAbgqAnqcArthvBFmBE9dmcV@@B"
     ]
    }
   ],
   "source": [
    "# Легион Цезаря, созданный в 2 веке на основе Римской Империи не изменяет древним традициям и \n",
    "# использует шифр Цезаря. Это их и подвело, ведь данный шифр очень простой. \n",
    "# Однако в постапокалипсисе люди плохо знают все тонкости довоенного мира, \n",
    "# поэтому ученые из НКР не могут понять, как именно нужно декодировать данные сообщения. \n",
    "# Напишите программу для декодирования этого шифра.\n",
    "\n",
    "# В первой строке дается число n от 1 до 25 включительно - сдвиг, во второй строке даётся закодированное \n",
    "# сообщение в виде строки со строчными латинскими буквами.\n",
    "\n",
    "# Программа должна вывести одну строку – декодированное сообщение. \n",
    "# Обратите внимание, что нужно декодировать сообщение, а не закодировать.\n",
    "\n",
    "n = int(input())\n",
    "s = str(input())\n",
    "for i in range(len(s)):\n",
    "    if (ord(s[i])-n < 97):\n",
    "        print(chr(ord(s[i])-n+26), end='')\n",
    "    else:\n",
    "        print(chr(ord(s[i])-n), end='')\n"
   ]
  },
  {
   "cell_type": "code",
   "execution_count": 106,
   "metadata": {},
   "outputs": [
    {
     "name": "stdout",
     "output_type": "stream",
     "text": [
      "джо\n",
      "ДЖО\n",
      "джо\n"
     ]
    }
   ],
   "source": [
    "name = 'джо'\n",
    "print(name.lower())\n",
    "print(name.upper())\n",
    "print(name)"
   ]
  },
  {
   "cell_type": "code",
   "execution_count": 109,
   "metadata": {},
   "outputs": [
    {
     "name": "stdout",
     "output_type": "stream",
     "text": [
      "ytho\n"
     ]
    }
   ],
   "source": [
    "s = 'Python rocks!'\n",
    "print(s[1:5])"
   ]
  },
  {
   "cell_type": "code",
   "execution_count": 112,
   "metadata": {},
   "outputs": [
    {
     "name": "stdout",
     "output_type": "stream",
     "text": [
      "yton"
     ]
    }
   ],
   "source": [
    "s = str(input())\n",
    "for i in range(len(s)):\n",
    "    if (i%3 != 0):\n",
    "        print(s[i], end='')"
   ]
  },
  {
   "cell_type": "code",
   "execution_count": 113,
   "metadata": {},
   "outputs": [
    {
     "name": "stdout",
     "output_type": "stream",
     "text": [
      "one234565one24\n"
     ]
    }
   ],
   "source": [
    "s = str(input())\n",
    "print(s.replace('1', 'one'))"
   ]
  },
  {
   "cell_type": "code",
   "execution_count": 114,
   "metadata": {},
   "outputs": [
    {
     "name": "stdout",
     "output_type": "stream",
     "text": [
      "123134\n"
     ]
    }
   ],
   "source": [
    "s = str(input())\n",
    "print(s.replace('@', ''))"
   ]
  },
  {
   "cell_type": "code",
   "execution_count": 119,
   "metadata": {},
   "outputs": [
    {
     "name": "stdout",
     "output_type": "stream",
     "text": [
      "2\n"
     ]
    }
   ],
   "source": [
    "# На вход программе подается строка текста. Напишите программу, которая выводит \n",
    "# индекс второго вхождения буквы «f». \n",
    "# Если буква «f» встречается только один раз, выведите число 1\n",
    "# −1, а если не встречается ни разу, выведите число 2\n",
    "\n",
    "s = str(input())\n",
    "\n",
    "if s.count('f') == 0:\n",
    "    print(2)\n",
    "elif s.count('f') == 1:\n",
    "    print(1)\n",
    "else:\n",
    "    t = s.find('f')\n",
    "    print(s.find('f', t+1))\n"
   ]
  },
  {
   "cell_type": "code",
   "execution_count": 130,
   "metadata": {},
   "outputs": [
    {
     "name": "stdout",
     "output_type": "stream",
     "text": [
      "abch54321h\n"
     ]
    }
   ],
   "source": [
    "# На вход программе подается строка текста в которой буква «h» встречается как минимум два раза. \n",
    "# Напишите программу, которая возвращает исходную строку и переворачивает последовательность символов, \n",
    "# заключенную между первым и последним вхождением буквы «h».\n",
    "\n",
    "# Sample Input 1:\n",
    "# abch12345h\n",
    "# Sample Output 1:\n",
    "# abch54321h\n",
    "\n",
    "s = str(input())\n",
    "a = s.find('h')\n",
    "b = s.rfind('h')\n",
    "\n",
    "k = (s[a+1:b])\n",
    "\n",
    "print(s[0:a+1], k[::-1], s[b:], sep='')"
   ]
  }
 ],
 "metadata": {
  "kernelspec": {
   "display_name": "Python 3",
   "language": "python",
   "name": "python3"
  },
  "language_info": {
   "codemirror_mode": {
    "name": "ipython",
    "version": 3
   },
   "file_extension": ".py",
   "mimetype": "text/x-python",
   "name": "python",
   "nbconvert_exporter": "python",
   "pygments_lexer": "ipython3",
   "version": "3.11.4"
  },
  "orig_nbformat": 4
 },
 "nbformat": 4,
 "nbformat_minor": 2
}
