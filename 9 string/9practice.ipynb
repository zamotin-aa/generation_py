{
 "cells": [
  {
   "cell_type": "code",
   "execution_count": 1,
   "metadata": {},
   "outputs": [
    {
     "name": "stdout",
     "output_type": "stream",
     "text": [
      "a\n",
      "b\n",
      "c\n",
      "d\n",
      "e\n",
      "f\n"
     ]
    }
   ],
   "source": [
    "s = 'abcdef'\n",
    "for i in range(len(s)):\n",
    "    print(s[i])"
   ]
  },
  {
   "cell_type": "code",
   "execution_count": 2,
   "metadata": {},
   "outputs": [
    {
     "name": "stdout",
     "output_type": "stream",
     "text": [
      "aceg\n"
     ]
    }
   ],
   "source": [
    "s = 'abcdefg'\n",
    "print(s[0] + s[2] + s[4] + s[6])"
   ]
  },
  {
   "cell_type": "code",
   "execution_count": 3,
   "metadata": {},
   "outputs": [
    {
     "name": "stdout",
     "output_type": "stream",
     "text": [
      "aaagggdddd\n"
     ]
    }
   ],
   "source": [
    "s = 'abcdefg'\n",
    "print(s[0]*3 + s[-1]*3 + s[3]*2 + s[3]*2)"
   ]
  },
  {
   "cell_type": "code",
   "execution_count": 4,
   "metadata": {},
   "outputs": [
    {
     "name": "stdout",
     "output_type": "stream",
     "text": [
      "051217"
     ]
    }
   ],
   "source": [
    "s = '01234567891011121314151617'\n",
    "for i in range(0, len(s), 5):\n",
    "    print(s[i], end='')"
   ]
  },
  {
   "cell_type": "code",
   "execution_count": 11,
   "metadata": {},
   "outputs": [
    {
     "name": "stdout",
     "output_type": "stream",
     "text": [
      "w\n"
     ]
    }
   ],
   "source": [
    "s = \"In 2010, someone paid 10k Bitcoin for two pizzas.\"\n",
    "\n",
    "print(s[39])"
   ]
  },
  {
   "cell_type": "code",
   "execution_count": 13,
   "metadata": {},
   "outputs": [
    {
     "name": "stdout",
     "output_type": "stream",
     "text": [
      "a\n",
      "c\n",
      "e\n",
      "g\n",
      "i\n",
      "k\n",
      "m\n",
      "o\n"
     ]
    }
   ],
   "source": [
    "s = str(input())\n",
    "for i in range(0, len(s), 2):\n",
    "    print(s[i])"
   ]
  },
  {
   "cell_type": "code",
   "execution_count": 20,
   "metadata": {},
   "outputs": [
    {
     "name": "stdout",
     "output_type": "stream",
     "text": [
      "6\n",
      "5\n",
      "4\n",
      "3\n",
      "2\n",
      "1\n"
     ]
    }
   ],
   "source": [
    "s = str(input())\n",
    "for i in range(len(s)-1, -1, -1):\n",
    "    print(s[i])"
   ]
  },
  {
   "cell_type": "code",
   "execution_count": 21,
   "metadata": {},
   "outputs": [
    {
     "name": "stdout",
     "output_type": "stream",
     "text": [
      "ЗАЛ\n"
     ]
    }
   ],
   "source": [
    "# На вход программе подаются три строки: имя, фамилия и отчество. Напишите программу, которая выводит инициалы человека.\n",
    "\n",
    "# Формат входных данных\n",
    "# На вход программе подаются три строки, каждая на отдельной строке.\n",
    "\n",
    "# Формат выходных данных\n",
    "# Программа должна вывести ФИО человека.\n",
    "\n",
    "s1 = str(input())\n",
    "s2 = str(input())\n",
    "s3 = str(input())\n",
    "\n",
    "print(s1[0] + s2[0] + s3[0])"
   ]
  },
  {
   "cell_type": "code",
   "execution_count": 26,
   "metadata": {},
   "outputs": [
    {
     "name": "stdout",
     "output_type": "stream",
     "text": [
      "12\n"
     ]
    }
   ],
   "source": [
    "# На вход программе подается одна строка состоящая из цифр. Напишите программу, которая считает сумму цифр данной строки.\n",
    "\n",
    "# Формат входных данных\n",
    "# На вход программе подается одна строка состоящая из цифр.\n",
    "\n",
    "# Формат выходных данных\n",
    "# Программа должна вывести сумму цифр данной строки.\n",
    "\n",
    "s1 = str(input())\n",
    "sum = 0\n",
    "for i in range(len(s1)):\n",
    "    sum = sum + int(s1[i])\n",
    "print(sum)"
   ]
  },
  {
   "cell_type": "code",
   "execution_count": 33,
   "metadata": {},
   "outputs": [
    {
     "name": "stdout",
     "output_type": "stream",
     "text": [
      "Цифр нет\n"
     ]
    }
   ],
   "source": [
    "# На вход программе подается одна строка. Напишите программу, которая выводит сообщение \n",
    "# «Цифра» (без кавычек), если строка содержит цифру. \n",
    "# В противном случае вывести сообщение «Цифр нет» (без кавычек).\n",
    "\n",
    "# Формат входных данных\n",
    "# На вход программе подается одна строка.\n",
    "\n",
    "# Формат выходных данных\n",
    "# Программа должна вывести текст в соответствии с условием задачи.\n",
    "count = 0\n",
    "s = str(input())\n",
    "for i in range(len(s)):\n",
    "    if s[i] in '0123456789':\n",
    "        count += 1\n",
    "if count > 0:\n",
    "    print(\"Цифра\")\n",
    "else:\n",
    "    print(\"Цифр нет\")"
   ]
  },
  {
   "cell_type": "code",
   "execution_count": 39,
   "metadata": {},
   "outputs": [
    {
     "name": "stdout",
     "output_type": "stream",
     "text": [
      "Символ + встречается 5 раз\n",
      "Символ * встречается 2 раз\n"
     ]
    }
   ],
   "source": [
    "# На вход программе подается одна строка. Напишите программу, \n",
    "# которая определяет, сколько раз в строке встречаются символы + и *.\n",
    "# Sample Output:\n",
    "\n",
    "# Символ + встречается 5 раз\n",
    "# Символ * встречается 2 раз\n",
    "\n",
    "count1 = 0\n",
    "count2 = 0\n",
    "s = str(input())\n",
    "for i in range(len(s)):\n",
    "    if s[i] in '+':\n",
    "        count1 += 1\n",
    "    if s[i] in '*':\n",
    "        count2 += 1\n",
    "\n",
    "print(\"Символ + встречается \" + str(count1) + \" раз\")\n",
    "print(\"Символ * встречается \" + str(count2) + \" раз\")"
   ]
  },
  {
   "cell_type": "code",
   "execution_count": 41,
   "metadata": {},
   "outputs": [
    {
     "name": "stdout",
     "output_type": "stream",
     "text": [
      "2\n"
     ]
    }
   ],
   "source": [
    "# На вход программе подается одна строка. Напишите программу, \n",
    "# которая определяет сколько в ней одинаковых соседних символов.\n",
    "\n",
    "# Формат входных данных\n",
    "# На вход программе подается одна строка.\n",
    "\n",
    "# Формат выходных данных\n",
    "# Программа должна вывести количество одинаковых соседних символов.\n",
    "\n",
    "\n",
    "s = str(input())\n",
    "temp = s[0]\n",
    "count = 0\n",
    "for i in range(1, len(s)):\n",
    "    if temp == s[i]:\n",
    "        count += 1\n",
    "    temp = s[i]\n",
    "print(count)"
   ]
  },
  {
   "cell_type": "code",
   "execution_count": 43,
   "metadata": {},
   "outputs": [
    {
     "name": "stdout",
     "output_type": "stream",
     "text": [
      "Количество гласных букв равно 24\n",
      "Количество согласных букв равно 25\n"
     ]
    }
   ],
   "source": [
    "# На вход программе подается одна строка с буквами русского языка. \n",
    "# Напишите программу, которая определяет количество гласных и согласных букв.\n",
    "\n",
    "# Формат входных данных\n",
    "# На вход программе подается одна строка.\n",
    "\n",
    "# Формат выходных данных\n",
    "# Программа должна вывести количество гласных и согласных букв.\n",
    "\n",
    "# Примечание. В русском языке 10 гласных букв (а, у, о, ы, и, э, я, ю, ё, е) и \n",
    "# 21 согласная буква (б, в, г, д, ж, з, й, к, л, м, н, п, р, с, т, ф, х, ц, ч, ш, щ).\n",
    "\n",
    "# Sample Output:\n",
    "\n",
    "# Количество гласных букв равно 25\n",
    "# Количество согласных букв равно 24\n",
    "\n",
    "\n",
    "count1 = 0\n",
    "count2 = 0\n",
    "s = str(input()).lower()\n",
    "for i in range(len(s)):\n",
    "    if s[i] in 'бвгджзйклмнпрстфхцчшщ':\n",
    "        count1 += 1\n",
    "    if s[i] in 'ауоыиэяюёе':\n",
    "        count2 += 1   \n",
    "\n",
    "print(\"Количество гласных букв равно \" + str(count2))\n",
    "print(\"Количество согласных букв равно \" + str(count1))"
   ]
  },
  {
   "cell_type": "code",
   "execution_count": 56,
   "metadata": {},
   "outputs": [
    {
     "name": "stdout",
     "output_type": "stream",
     "text": [
      "1010\n"
     ]
    }
   ],
   "source": [
    "s = int(input())\n",
    "txt1 = \"\"\n",
    "while (s>0):\n",
    "    txt = str(s % 2)\n",
    "    s = s // 2\n",
    "    txt1 = txt1 + txt\n",
    "\n",
    "\n",
    "def reversed1(variable):\n",
    "    res=''\n",
    "    for i in range(len(variable)-1,-1,-1):\n",
    "        res+=variable[i]\n",
    "    return res\n",
    "\n",
    "n = reversed1(txt1)\n",
    "print(n)\n",
    "\n",
    "\n",
    "\n"
   ]
  },
  {
   "cell_type": "code",
   "execution_count": 1,
   "metadata": {},
   "outputs": [
    {
     "name": "stdout",
     "output_type": "stream",
     "text": [
      "cde\n"
     ]
    }
   ],
   "source": [
    "s = 'abcdefg'\n",
    "print(s[2:5])"
   ]
  },
  {
   "cell_type": "code",
   "execution_count": 2,
   "metadata": {},
   "outputs": [
    {
     "name": "stdout",
     "output_type": "stream",
     "text": [
      "defg\n"
     ]
    }
   ],
   "source": [
    "s = 'abcdefg'\n",
    "print(s[3:])"
   ]
  },
  {
   "cell_type": "code",
   "execution_count": 3,
   "metadata": {},
   "outputs": [
    {
     "name": "stdout",
     "output_type": "stream",
     "text": [
      "abc\n"
     ]
    }
   ],
   "source": [
    "s = 'abcdefg'\n",
    "print(s[:3])"
   ]
  },
  {
   "cell_type": "code",
   "execution_count": 4,
   "metadata": {},
   "outputs": [
    {
     "name": "stdout",
     "output_type": "stream",
     "text": [
      "abcdefg\n"
     ]
    }
   ],
   "source": [
    "s = 'abcdefg'\n",
    "print(s[:])"
   ]
  },
  {
   "cell_type": "code",
   "execution_count": 5,
   "metadata": {},
   "outputs": [
    {
     "name": "stdout",
     "output_type": "stream",
     "text": [
      "gda\n"
     ]
    }
   ],
   "source": [
    "s = 'abcdefg'\n",
    "print(s[::-3])"
   ]
  },
  {
   "cell_type": "code",
   "execution_count": 6,
   "metadata": {},
   "outputs": [
    {
     "name": "stdout",
     "output_type": "stream",
     "text": [
      "In 2010, som\n"
     ]
    }
   ],
   "source": [
    "s = \"In 2010, someone paid 10k Bitcoin for two pizzas.\"\n",
    "print(s[:12])"
   ]
  },
  {
   "cell_type": "code",
   "execution_count": 15,
   "metadata": {},
   "outputs": [
    {
     "name": "stdout",
     "output_type": "stream",
     "text": [
      "o pizzas.\n"
     ]
    }
   ],
   "source": [
    "s = \"In 2010, someone paid 10k Bitcoin for two pizzas.\"\n",
    "print(s[-9::])"
   ]
  },
  {
   "cell_type": "code",
   "execution_count": 26,
   "metadata": {},
   "outputs": [
    {
     "name": "stdout",
     "output_type": "stream",
     "text": [
      "0odif .\n"
     ]
    }
   ],
   "source": [
    "s = \"In 2010, someone paid 10k Bitcoin for two pizzas.\"\n",
    "print(s[6::7])\n"
   ]
  },
  {
   "cell_type": "code",
   "execution_count": 27,
   "metadata": {},
   "outputs": [
    {
     "name": "stdout",
     "output_type": "stream",
     "text": [
      ".sazzip owt rof nioctiB k01 diap enoemos ,0102 nI\n"
     ]
    }
   ],
   "source": [
    "s = \"In 2010, someone paid 10k Bitcoin for two pizzas.\"\n",
    "print(s[::-1])"
   ]
  },
  {
   "cell_type": "code",
   "execution_count": 37,
   "metadata": {},
   "outputs": [
    {
     "name": "stdout",
     "output_type": "stream",
     "text": [
      "NO\n"
     ]
    }
   ],
   "source": [
    "s = str(input())\n",
    "if s == s[::-1]:\n",
    "    print('YES')\n",
    "else:\n",
    "    print('NO')\n"
   ]
  },
  {
   "cell_type": "code",
   "execution_count": 43,
   "metadata": {},
   "outputs": [
    {
     "name": "stdout",
     "output_type": "stream",
     "text": [
      "9\n",
      "123456789123456789123456789\n",
      "1\n",
      "123\n",
      "789\n",
      "987654321\n",
      "2345678\n"
     ]
    }
   ],
   "source": [
    "# На вход программе подается одна строка. Напишите программу, которая выводит:\n",
    "\n",
    "# общее количество символов в строке;\n",
    "# исходную строку, повторенную 3 раза;\n",
    "# первый символ строки;\n",
    "# первые три символа строки;\n",
    "# последние три символа строки;\n",
    "# строку в обратном порядке;\n",
    "# строку с удаленным первым и последним символом.\n",
    "\n",
    "s = str(input())\n",
    "print((len(s)))\n",
    "print(s*3)\n",
    "print(s[0])\n",
    "print(s[0:3])\n",
    "print(s[-3::])\n",
    "print(s[::-1])\n",
    "print(s[1:-1])\n"
   ]
  },
  {
   "cell_type": "code",
   "execution_count": 71,
   "metadata": {},
   "outputs": [
    {
     "name": "stdout",
     "output_type": "stream",
     "text": [
      "3\n",
      "8\n",
      "12345\n",
      "1234567\n",
      "13579\n",
      "2468\n",
      "987654321\n",
      "97531\n"
     ]
    }
   ],
   "source": [
    "# На вход программе подается одна строка. Напишите программу, которая выводит:\n",
    "\n",
    "# третий символ этой строки;\n",
    "# предпоследний символ этой строки;\n",
    "# первые пять символов этой строки;\n",
    "# всю строку, кроме последних двух символов;\n",
    "# все символы с четными индексами;\n",
    "# все символы с нечетными индексами;\n",
    "# все символы в обратном порядке;\n",
    "# все символы строки через один в обратном порядке, начиная с последнего.\n",
    "\n",
    "s = str(input())\n",
    "print(s[2]) # третий символ этой строки;\n",
    "print(s[-2:-1]) # предпоследний символ этой строки;\n",
    "print(s[0:5]) # первые пять символов этой строки;\n",
    "print(s[0:-2]) # всю строку, кроме последних двух символов;\n",
    "print(s[0::2]) #все символы с четными индексами;\n",
    "print(s[1::2]) #все символы с нечетными индексами;\n",
    "print(s[::-1]) # все символы в обратном порядке;\n",
    "print(s[::-2]) # все символы строки через один в обратном порядке, начиная с последнего.\n"
   ]
  },
  {
   "cell_type": "code",
   "execution_count": 89,
   "metadata": {},
   "outputs": [
    {
     "name": "stdout",
     "output_type": "stream",
     "text": [
      "5671234\n"
     ]
    }
   ],
   "source": [
    "# На вход программе подается строка текста. Напишите программу, которая разрежет ее на две равные части, переставит их местами и выведет на экран.\n",
    "\n",
    "# Формат входных данных\n",
    "# На вход программе подается строка текста.\n",
    "\n",
    "# Формат выходных данных\n",
    "# Программа должна вывести текст в соответствии с условием задачи.\n",
    "\n",
    "# Примечание. Если длина строки нечетная, то длина первой части должна быть на один символ больше.\n",
    "\n",
    "s = str(input())\n",
    "k = len(s)\n",
    "if (k%2==0):\n",
    "    x = int(k/2)\n",
    "    print(s[x:], s[:x], sep='')\n",
    "    \n",
    "else:\n",
    "    x= int(k/2) + 1\n",
    "    # y= int(k/2)\n",
    "    print(s[x:], s[:x], sep='')\n"
   ]
  }
 ],
 "metadata": {
  "kernelspec": {
   "display_name": "Python 3",
   "language": "python",
   "name": "python3"
  },
  "language_info": {
   "codemirror_mode": {
    "name": "ipython",
    "version": 3
   },
   "file_extension": ".py",
   "mimetype": "text/x-python",
   "name": "python",
   "nbconvert_exporter": "python",
   "pygments_lexer": "ipython3",
   "version": "3.11.4"
  },
  "orig_nbformat": 4
 },
 "nbformat": 4,
 "nbformat_minor": 2
}
